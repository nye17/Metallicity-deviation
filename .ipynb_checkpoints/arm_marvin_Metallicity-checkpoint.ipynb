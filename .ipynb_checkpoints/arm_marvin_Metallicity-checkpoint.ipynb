{
 "cells": [
  {
   "cell_type": "markdown",
   "metadata": {},
   "source": [
    "## use the fits file downloaded"
   ]
  },
  {
   "cell_type": "code",
   "execution_count": 29,
   "metadata": {},
   "outputs": [],
   "source": [
    "import numpy as np\n",
    "import matplotlib.pyplot as plt\n",
    "import os\n",
    "from os.path import join\n",
    "import numpy.matlib \n",
    "path_notebooks = os.path.abspath('.')\n",
    "path_data = join(os.path.split(path_notebooks)[0], '/root/cosmos/galaxies-mzr/data')\n",
    "from marvin.tools import Maps \n",
    "filename = join(path_data, 'manga-8077-6104-MAPS-HYB10-GAU-MILESHC.fits.gz')\n",
    "maps = Maps(filename=filename)\n",
    "nii = maps.emline_gflux_nii_6585\n",
    "ha = maps.emline_gflux_ha_6564\n",
    "#nii_la=nii.value\n",
    "#ha_la=ha.value\n",
    "#n2_la=nii_la(nii_la!=0)/ha_la(ha_la!=0)\n",
    "#print(n2_la)\n",
    "#lala=np.matlib.zeros(ha.shape, dtype =  float)\n"
   ]
  },
  {
   "cell_type": "markdown",
   "metadata": {},
   "source": [
    "## use data from remote server "
   ]
  },
  {
   "cell_type": "code",
   "execution_count": 37,
   "metadata": {},
   "outputs": [],
   "source": [
    "import numpy as np\n",
    "import matplotlib.pyplot as plt\n",
    "from marvin.tools import Maps \n",
    "maps = Maps('8077-6104')\n",
    "nii = maps.emline_gflux_nii_6585\n",
    "ha = maps.emline_gflux_ha_6564"
   ]
  },
  {
   "cell_type": "code",
   "execution_count": 20,
   "metadata": {},
   "outputs": [
    {
     "name": "stderr",
     "output_type": "stream",
     "text": [
      "/root/anaconda3/lib/python3.7/site-packages/marvin/tools/quantities/map.py:424: RuntimeWarning: divide by zero encountered in power\n",
      "  return np.log10(np.e) * ivar**-0.5 / value\n"
     ]
    }
   ],
   "source": [
    "n2 = nii / ha\n",
    "logn2 = np.log10(n2)"
   ]
  },
  {
   "cell_type": "markdown",
   "metadata": {},
   "source": [
    "## test the bug"
   ]
  },
  {
   "cell_type": "code",
   "execution_count": 5,
   "metadata": {},
   "outputs": [
    {
     "name": "stdout",
     "output_type": "stream",
     "text": [
      "<class 'marvin.tools.quantities.map.EnhancedMap'>\n"
     ]
    }
   ],
   "source": [
    "print(type(logn2))"
   ]
  },
  {
   "cell_type": "code",
   "execution_count": 118,
   "metadata": {},
   "outputs": [],
   "source": [
    "y = logn2 * 0.57\n",
    "z=   y+8.9"
   ]
  },
  {
   "cell_type": "code",
   "execution_count": 119,
   "metadata": {},
   "outputs": [
    {
     "name": "stdout",
     "output_type": "stream",
     "text": [
      "<class 'marvin.tools.quantities.map.EnhancedMap'>\n",
      "<class 'marvin.tools.quantities.map.EnhancedMap'>\n"
     ]
    }
   ],
   "source": [
    "print(type(y))\n",
    "print(type(z))"
   ]
  },
  {
   "cell_type": "code",
   "execution_count": 120,
   "metadata": {},
   "outputs": [],
   "source": [
    "marvin.tools.quantities.map.EnhancedMap?"
   ]
  },
  {
   "cell_type": "code",
   "execution_count": null,
   "metadata": {},
   "outputs": [],
   "source": []
  },
  {
   "cell_type": "markdown",
   "metadata": {},
   "source": [
    "## here is the problem"
   ]
  },
  {
   "cell_type": "code",
   "execution_count": 6,
   "metadata": {},
   "outputs": [
    {
     "ename": "NotImplementedError",
     "evalue": "np.add is not implemented for EnhancedMap.",
     "output_type": "error",
     "traceback": [
      "\u001b[0;31m---------------------------------------------------------------------------\u001b[0m",
      "\u001b[0;31mNotImplementedError\u001b[0m                       Traceback (most recent call last)",
      "\u001b[0;32m<ipython-input-6-091fef445533>\u001b[0m in \u001b[0;36m<module>\u001b[0;34m\u001b[0m\n\u001b[1;32m      1\u001b[0m \u001b[0mlala\u001b[0m\u001b[0;34m=\u001b[0m\u001b[0mnp\u001b[0m\u001b[0;34m.\u001b[0m\u001b[0mones\u001b[0m\u001b[0;34m(\u001b[0m\u001b[0mha\u001b[0m\u001b[0;34m.\u001b[0m\u001b[0mshape\u001b[0m\u001b[0;34m,\u001b[0m \u001b[0mdtype\u001b[0m \u001b[0;34m=\u001b[0m  \u001b[0mfloat\u001b[0m\u001b[0;34m)\u001b[0m\u001b[0;34m\u001b[0m\u001b[0;34m\u001b[0m\u001b[0m\n\u001b[1;32m      2\u001b[0m \u001b[0;31m#oh=0.57*logn2+lala*8.90\u001b[0m\u001b[0;34m\u001b[0m\u001b[0;34m\u001b[0m\u001b[0;34m\u001b[0m\u001b[0m\n\u001b[0;32m----> 3\u001b[0;31m \u001b[0moh\u001b[0m\u001b[0;34m=\u001b[0m\u001b[0;34m(\u001b[0m\u001b[0;36m8.90\u001b[0m\u001b[0;34m*\u001b[0m\u001b[0mlala\u001b[0m\u001b[0;34m)\u001b[0m\u001b[0;34m+\u001b[0m\u001b[0;34m(\u001b[0m\u001b[0;36m0.57\u001b[0m\u001b[0;34m*\u001b[0m\u001b[0mlogn2\u001b[0m\u001b[0;34m)\u001b[0m\u001b[0;34m\u001b[0m\u001b[0;34m\u001b[0m\u001b[0m\n\u001b[0m",
      "\u001b[0;32m~/anaconda3/lib/python3.7/site-packages/marvin/tools/quantities/map.py\u001b[0m in \u001b[0;36m__array_ufunc__\u001b[0;34m(self, ufunc, method, *inputs, **kwargs)\u001b[0m\n\u001b[1;32m    161\u001b[0m     \u001b[0;32mdef\u001b[0m \u001b[0m__array_ufunc__\u001b[0m\u001b[0;34m(\u001b[0m\u001b[0mself\u001b[0m\u001b[0;34m,\u001b[0m \u001b[0mufunc\u001b[0m\u001b[0;34m,\u001b[0m \u001b[0mmethod\u001b[0m\u001b[0;34m,\u001b[0m \u001b[0;34m*\u001b[0m\u001b[0minputs\u001b[0m\u001b[0;34m,\u001b[0m \u001b[0;34m**\u001b[0m\u001b[0mkwargs\u001b[0m\u001b[0;34m)\u001b[0m\u001b[0;34m:\u001b[0m\u001b[0;34m\u001b[0m\u001b[0;34m\u001b[0m\u001b[0m\n\u001b[1;32m    162\u001b[0m \u001b[0;34m\u001b[0m\u001b[0m\n\u001b[0;32m--> 163\u001b[0;31m         \u001b[0mivar\u001b[0m \u001b[0;34m=\u001b[0m \u001b[0mself\u001b[0m\u001b[0;34m.\u001b[0m\u001b[0m_ivar_ufunc\u001b[0m\u001b[0;34m(\u001b[0m\u001b[0mufunc\u001b[0m\u001b[0;34m,\u001b[0m \u001b[0;34m*\u001b[0m\u001b[0minputs\u001b[0m\u001b[0;34m,\u001b[0m \u001b[0;34m**\u001b[0m\u001b[0mkwargs\u001b[0m\u001b[0;34m)\u001b[0m\u001b[0;34m\u001b[0m\u001b[0;34m\u001b[0m\u001b[0m\n\u001b[0m\u001b[1;32m    164\u001b[0m \u001b[0;34m\u001b[0m\u001b[0m\n\u001b[1;32m    165\u001b[0m         return EnhancedMap(\n",
      "\u001b[0;32m~/anaconda3/lib/python3.7/site-packages/marvin/tools/quantities/map.py\u001b[0m in \u001b[0;36m_ivar_ufunc\u001b[0;34m(self, ufunc, *inputs, **kwargs)\u001b[0m\n\u001b[1;32m    181\u001b[0m         \u001b[0;32melse\u001b[0m\u001b[0;34m:\u001b[0m\u001b[0;34m\u001b[0m\u001b[0;34m\u001b[0m\u001b[0m\n\u001b[1;32m    182\u001b[0m             raise NotImplementedError('np.{0} is not implemented for {1}.'\n\u001b[0;32m--> 183\u001b[0;31m                                       .format(ufunc.__name__, self.__class__.__name__))\n\u001b[0m\u001b[1;32m    184\u001b[0m \u001b[0;34m\u001b[0m\u001b[0m\n\u001b[1;32m    185\u001b[0m         \u001b[0;32mreturn\u001b[0m \u001b[0mivar\u001b[0m\u001b[0;34m\u001b[0m\u001b[0;34m\u001b[0m\u001b[0m\n",
      "\u001b[0;31mNotImplementedError\u001b[0m: np.add is not implemented for EnhancedMap."
     ]
    }
   ],
   "source": [
    "lala=np.ones(ha.shape, dtype =  float)\n",
    "#oh=0.57*logn2+lala*8.90\n",
    "oh=(8.90*lala)+(0.57*logn2)"
   ]
  },
  {
   "cell_type": "markdown",
   "metadata": {},
   "source": [
    "## if switch the two parts, it will success"
   ]
  },
  {
   "cell_type": "code",
   "execution_count": 7,
   "metadata": {},
   "outputs": [],
   "source": [
    "lala=np.ones(ha.value.shape, dtype =  float)\n",
    "oh =  (0.57*logn2)+(8.90*lala)"
   ]
  },
  {
   "cell_type": "code",
   "execution_count": 8,
   "metadata": {},
   "outputs": [],
   "source": [
    "oh=(8.90*lala)+(0.57*logn2.value)"
   ]
  },
  {
   "cell_type": "code",
   "execution_count": 13,
   "metadata": {},
   "outputs": [
    {
     "name": "stderr",
     "output_type": "stream",
     "text": [
      "/root/anaconda3/lib/python3.7/site-packages/ipykernel_launcher.py:1: RuntimeWarning: invalid value encountered in greater\n",
      "  \"\"\"Entry point for launching an IPython kernel.\n"
     ]
    },
    {
     "data": {
      "text/plain": [
       "11295.004199765563"
      ]
     },
     "execution_count": 13,
     "metadata": {},
     "output_type": "execute_result"
    }
   ],
   "source": [
    "np.sum(oh[np.where(oh>0)])"
   ]
  },
  {
   "cell_type": "code",
   "execution_count": 21,
   "metadata": {},
   "outputs": [],
   "source": [
    "oh =  (0.57*logn2)+8.90"
   ]
  },
  {
   "cell_type": "code",
   "execution_count": 22,
   "metadata": {},
   "outputs": [
    {
     "data": {
      "image/png": "[encoded data removed]",
      "text/plain": [
       "<Figure size 612x720 with 8 Axes>"
      ]
     },
     "metadata": {},
     "output_type": "display_data"
    }
   ],
   "source": [
    "masks_bpt, __, __ = maps.get_bpt()"
   ]
  },
  {
   "cell_type": "code",
   "execution_count": 37,
   "metadata": {},
   "outputs": [
    {
     "data": {
      "text/plain": [
       "array([[False, False, False, ..., False, False, False],\n",
       "       [False, False, False, ..., False, False, False],\n",
       "       [False, False, False, ..., False, False, False],\n",
       "       ...,\n",
       "       [False, False, False, ..., False, False, False],\n",
       "       [False, False, False, ..., False, False, False],\n",
       "       [False, False, False, ..., False, False, False]])"
      ]
     },
     "execution_count": 37,
     "metadata": {},
     "output_type": "execute_result"
    }
   ],
   "source": [
    "masks_bpt['sf']['global']"
   ]
  },
  {
   "cell_type": "code",
   "execution_count": 38,
   "metadata": {},
   "outputs": [
    {
     "data": {
      "text/html": [
       "<div>\n",
       "<style scoped>\n",
       "    .dataframe tbody tr th:only-of-type {\n",
       "        vertical-align: middle;\n",
       "    }\n",
       "\n",
       "    .dataframe tbody tr th {\n",
       "        vertical-align: top;\n",
       "    }\n",
       "\n",
       "    .dataframe thead th {\n",
       "        text-align: right;\n",
       "    }\n",
       "</style>\n",
       "<table border=\"1\" class=\"dataframe\">\n",
       "  <thead>\n",
       "    <tr style=\"text-align: right;\">\n",
       "      <th></th>\n",
       "      <th>bit</th>\n",
       "      <th>label</th>\n",
       "      <th>description</th>\n",
       "    </tr>\n",
       "  </thead>\n",
       "  <tbody>\n",
       "    <tr>\n",
       "      <th>0</th>\n",
       "      <td>0</td>\n",
       "      <td>NOCOV</td>\n",
       "      <td>No coverage in this spaxel</td>\n",
       "    </tr>\n",
       "    <tr>\n",
       "      <th>1</th>\n",
       "      <td>1</td>\n",
       "      <td>LOWCOV</td>\n",
       "      <td>Low coverage in this spaxel</td>\n",
       "    </tr>\n",
       "    <tr>\n",
       "      <th>2</th>\n",
       "      <td>2</td>\n",
       "      <td>DEADFIBER</td>\n",
       "      <td>Major contributing fiber is dead</td>\n",
       "    </tr>\n",
       "    <tr>\n",
       "      <th>3</th>\n",
       "      <td>3</td>\n",
       "      <td>FORESTAR</td>\n",
       "      <td>Foreground star</td>\n",
       "    </tr>\n",
       "    <tr>\n",
       "      <th>4</th>\n",
       "      <td>4</td>\n",
       "      <td>NOVALUE</td>\n",
       "      <td>Spaxel was not fit because it did not meet sel...</td>\n",
       "    </tr>\n",
       "    <tr>\n",
       "      <th>5</th>\n",
       "      <td>5</td>\n",
       "      <td>UNRELIABLE</td>\n",
       "      <td>Value is deemed unreliable; see TRM for defini...</td>\n",
       "    </tr>\n",
       "    <tr>\n",
       "      <th>6</th>\n",
       "      <td>6</td>\n",
       "      <td>MATHERROR</td>\n",
       "      <td>Mathematical error in computing value</td>\n",
       "    </tr>\n",
       "    <tr>\n",
       "      <th>7</th>\n",
       "      <td>7</td>\n",
       "      <td>FITFAILED</td>\n",
       "      <td>Attempted fit for property failed</td>\n",
       "    </tr>\n",
       "    <tr>\n",
       "      <th>8</th>\n",
       "      <td>8</td>\n",
       "      <td>NEARBOUND</td>\n",
       "      <td>Fitted value is too near an imposed boundary; ...</td>\n",
       "    </tr>\n",
       "    <tr>\n",
       "      <th>9</th>\n",
       "      <td>9</td>\n",
       "      <td>NOCORRECTION</td>\n",
       "      <td>Appropriate correction not available</td>\n",
       "    </tr>\n",
       "    <tr>\n",
       "      <th>10</th>\n",
       "      <td>10</td>\n",
       "      <td>MULTICOMP</td>\n",
       "      <td>Multi-component velocity features present</td>\n",
       "    </tr>\n",
       "    <tr>\n",
       "      <th>11</th>\n",
       "      <td>30</td>\n",
       "      <td>DONOTUSE</td>\n",
       "      <td>Do not use this spaxel for science</td>\n",
       "    </tr>\n",
       "  </tbody>\n",
       "</table>\n",
       "</div>"
      ],
      "text/plain": [
       "    bit         label                                        description\n",
       "0     0         NOCOV                         No coverage in this spaxel\n",
       "1     1        LOWCOV                        Low coverage in this spaxel\n",
       "2     2     DEADFIBER                   Major contributing fiber is dead\n",
       "3     3      FORESTAR                                    Foreground star\n",
       "4     4       NOVALUE  Spaxel was not fit because it did not meet sel...\n",
       "5     5    UNRELIABLE  Value is deemed unreliable; see TRM for defini...\n",
       "6     6     MATHERROR              Mathematical error in computing value\n",
       "7     7     FITFAILED                  Attempted fit for property failed\n",
       "8     8     NEARBOUND  Fitted value is too near an imposed boundary; ...\n",
       "9     9  NOCORRECTION               Appropriate correction not available\n",
       "10   10     MULTICOMP          Multi-component velocity features present\n",
       "11   30      DONOTUSE                 Do not use this spaxel for science"
      ]
     },
     "execution_count": 38,
     "metadata": {},
     "output_type": "execute_result"
    }
   ],
   "source": [
    "n2.pixmask.schema"
   ]
  },
  {
   "cell_type": "code",
   "execution_count": 23,
   "metadata": {},
   "outputs": [],
   "source": [
    "mask_non_sf = ~masks_bpt['sf']['global'] * n2.pixmask.labels_to_value('DONOTUSE')"
   ]
  },
  {
   "cell_type": "code",
   "execution_count": 24,
   "metadata": {},
   "outputs": [],
   "source": [
    "mask_bad_data = n2.pixmask.get_mask(['NOCOV', 'UNRELIABLE', 'DONOTUSE'])"
   ]
  },
  {
   "cell_type": "code",
   "execution_count": 25,
   "metadata": {},
   "outputs": [],
   "source": [
    "min_snr = 3.\n",
    "mask_nii_low_snr = (np.abs(nii.value * np.sqrt(nii.ivar)) < min_snr)\n",
    "mask_ha_low_snr = (np.abs(ha.value * np.sqrt(ha.ivar)) < min_snr)"
   ]
  },
  {
   "cell_type": "code",
   "execution_count": 26,
   "metadata": {},
   "outputs": [],
   "source": [
    "mask = mask_non_sf | mask_bad_data | mask_nii_low_snr | mask_ha_low_snr"
   ]
  },
  {
   "cell_type": "code",
   "execution_count": 27,
   "metadata": {},
   "outputs": [
    {
     "name": "stderr",
     "output_type": "stream",
     "text": [
      "/root/anaconda3/lib/python3.7/site-packages/marvin/utils/plot/map.py:111: RuntimeWarning: invalid value encountered in less\n",
      "  low_snr[np.abs(value * np.sqrt(ivar)) < snr_min] = True\n"
     ]
    },
    {
     "data": {
      "image/png": "[encoded data removed]",
      "text/plain": [
       "<Figure size 432x288 with 2 Axes>"
      ]
     },
     "metadata": {},
     "output_type": "display_data"
    }
   ],
   "source": [
    "fig, ax = oh.plot(mask=mask, cblabel='12+log(O/H)')"
   ]
  },
  {
   "cell_type": "code",
   "execution_count": 31,
   "metadata": {},
   "outputs": [],
   "source": [
    "import pandas as pd\n",
    "mstar = pd.read_csv(join(path_data, 'manga-{}_mstar.csv'.format(maps.plateifu)))"
   ]
  },
  {
   "cell_type": "code",
   "execution_count": 32,
   "metadata": {},
   "outputs": [
    {
     "data": {
      "image/png": "[encoded data removed]",
      "text/plain": [
       "<Figure size 432x288 with 2 Axes>"
      ]
     },
     "metadata": {
      "needs_background": "light"
     },
     "output_type": "display_data"
    }
   ],
   "source": [
    "fig, ax = plt.subplots()\n",
    "p = ax.imshow(mstar, origin='lower')\n",
    "ax.set_xlabel('spaxel')\n",
    "ax.set_ylabel('spaxel')\n",
    "cb = fig.colorbar(p)\n",
    "cb.set_label('log(Mstar) [M$_\\odot$]')"
   ]
  },
  {
   "cell_type": "code",
   "execution_count": 34,
   "metadata": {},
   "outputs": [],
   "source": [
    "spaxel_size = 0.5  # [arcsec]\n",
    "\n",
    "# or programmatically:\n",
    "# spaxel_size = float(maps.getCube().header['CD2_2']) * 3600"
   ]
  },
  {
   "cell_type": "code",
   "execution_count": 39,
   "metadata": {},
   "outputs": [
    {
     "ename": "TypeError",
     "evalue": "'NoneType' object is not subscriptable",
     "output_type": "error",
     "traceback": [
      "\u001b[0;31m---------------------------------------------------------------------------\u001b[0m",
      "\u001b[0;31mTypeError\u001b[0m                                 Traceback (most recent call last)",
      "\u001b[0;32m<ipython-input-39-cf51d1415a59>\u001b[0m in \u001b[0;36m<module>\u001b[0;34m\u001b[0m\n\u001b[0;32m----> 1\u001b[0;31m \u001b[0mredshift\u001b[0m \u001b[0;34m=\u001b[0m \u001b[0mmaps\u001b[0m\u001b[0;34m.\u001b[0m\u001b[0mnsa\u001b[0m\u001b[0;34m[\u001b[0m\u001b[0;34m'z'\u001b[0m\u001b[0;34m]\u001b[0m\u001b[0;34m\u001b[0m\u001b[0;34m\u001b[0m\u001b[0m\n\u001b[0m",
      "\u001b[0;31mTypeError\u001b[0m: 'NoneType' object is not subscriptable"
     ]
    }
   ],
   "source": [
    "redshift = maps.nsa['z']"
   ]
  },
  {
   "cell_type": "code",
   "execution_count": 36,
   "metadata": {},
   "outputs": [
    {
     "ename": "NameError",
     "evalue": "name 'redshift' is not defined",
     "output_type": "error",
     "traceback": [
      "\u001b[0;31m---------------------------------------------------------------------------\u001b[0m",
      "\u001b[0;31mNameError\u001b[0m                                 Traceback (most recent call last)",
      "\u001b[0;32m<ipython-input-36-bdbe6bef4a4a>\u001b[0m in \u001b[0;36m<module>\u001b[0;34m\u001b[0m\n\u001b[1;32m      1\u001b[0m \u001b[0mc\u001b[0m \u001b[0;34m=\u001b[0m \u001b[0;36m299792\u001b[0m  \u001b[0;31m# speed of light [km/s]\u001b[0m\u001b[0;34m\u001b[0m\u001b[0;34m\u001b[0m\u001b[0m\n\u001b[1;32m      2\u001b[0m \u001b[0mH0\u001b[0m \u001b[0;34m=\u001b[0m \u001b[0;36m70\u001b[0m  \u001b[0;31m# [km s^-1 Mpc^-1]\u001b[0m\u001b[0;34m\u001b[0m\u001b[0;34m\u001b[0m\u001b[0m\n\u001b[0;32m----> 3\u001b[0;31m \u001b[0mD\u001b[0m \u001b[0;34m=\u001b[0m \u001b[0mc\u001b[0m \u001b[0;34m*\u001b[0m \u001b[0mredshift\u001b[0m \u001b[0;34m/\u001b[0m \u001b[0mH0\u001b[0m  \u001b[0;31m# approx. distance to galaxy [Mpc]\u001b[0m\u001b[0;34m\u001b[0m\u001b[0;34m\u001b[0m\u001b[0m\n\u001b[0m",
      "\u001b[0;31mNameError\u001b[0m: name 'redshift' is not defined"
     ]
    }
   ],
   "source": [
    "c = 299792  # speed of light [km/s]\n",
    "H0 = 70  # [km s^-1 Mpc^-1]\n",
    "D = c * redshift / H0  # approx. distance to galaxy [Mpc]"
   ]
  },
  {
   "cell_type": "code",
   "execution_count": 50,
   "metadata": {},
   "outputs": [],
   "source": [
    "scale = 1 / 206265 * D * 1e6  # 1 radian = 206265 arcsec [pc / arcsec]"
   ]
  },
  {
   "cell_type": "code",
   "execution_count": 51,
   "metadata": {},
   "outputs": [],
   "source": [
    "spaxel_area = (scale * spaxel_size)**2  # [pc^2]"
   ]
  },
  {
   "cell_type": "code",
   "execution_count": 52,
   "metadata": {},
   "outputs": [],
   "source": [
    "sigma_star = np.log10(10**mstar / spaxel_area)  # [Msun / pc^2]"
   ]
  },
  {
   "cell_type": "code",
   "execution_count": 33,
   "metadata": {},
   "outputs": [
    {
     "ename": "NameError",
     "evalue": "name 'sigma_star' is not defined",
     "output_type": "error",
     "traceback": [
      "\u001b[0;31m---------------------------------------------------------------------------\u001b[0m",
      "\u001b[0;31mNameError\u001b[0m                                 Traceback (most recent call last)",
      "\u001b[0;32m<ipython-input-33-79e179874acc>\u001b[0m in \u001b[0;36m<module>\u001b[0;34m\u001b[0m\n\u001b[1;32m      1\u001b[0m \u001b[0mfig\u001b[0m\u001b[0;34m,\u001b[0m \u001b[0max\u001b[0m \u001b[0;34m=\u001b[0m \u001b[0mplt\u001b[0m\u001b[0;34m.\u001b[0m\u001b[0msubplots\u001b[0m\u001b[0;34m(\u001b[0m\u001b[0mfigsize\u001b[0m\u001b[0;34m=\u001b[0m\u001b[0;34m(\u001b[0m\u001b[0;36m6\u001b[0m\u001b[0;34m,\u001b[0m \u001b[0;36m6\u001b[0m\u001b[0;34m)\u001b[0m\u001b[0;34m)\u001b[0m\u001b[0;34m\u001b[0m\u001b[0;34m\u001b[0m\u001b[0m\n\u001b[0;32m----> 2\u001b[0;31m \u001b[0max\u001b[0m\u001b[0;34m.\u001b[0m\u001b[0mscatter\u001b[0m\u001b[0;34m(\u001b[0m\u001b[0msigma_star\u001b[0m\u001b[0;34m.\u001b[0m\u001b[0mvalues\u001b[0m\u001b[0;34m[\u001b[0m\u001b[0mmask\u001b[0m \u001b[0;34m==\u001b[0m \u001b[0;36m0\u001b[0m\u001b[0;34m]\u001b[0m\u001b[0;34m,\u001b[0m \u001b[0moh\u001b[0m\u001b[0;34m.\u001b[0m\u001b[0mvalue\u001b[0m\u001b[0;34m[\u001b[0m\u001b[0mmask\u001b[0m \u001b[0;34m==\u001b[0m \u001b[0;36m0\u001b[0m\u001b[0;34m]\u001b[0m\u001b[0;34m,\u001b[0m \u001b[0malpha\u001b[0m\u001b[0;34m=\u001b[0m\u001b[0;36m0.15\u001b[0m\u001b[0;34m)\u001b[0m\u001b[0;34m\u001b[0m\u001b[0;34m\u001b[0m\u001b[0m\n\u001b[0m\u001b[1;32m      3\u001b[0m \u001b[0max\u001b[0m\u001b[0;34m.\u001b[0m\u001b[0mset_xlabel\u001b[0m\u001b[0;34m(\u001b[0m\u001b[0;34m'log(Mstar) [M$_\\odot$]'\u001b[0m\u001b[0;34m)\u001b[0m\u001b[0;34m\u001b[0m\u001b[0;34m\u001b[0m\u001b[0m\n\u001b[1;32m      4\u001b[0m \u001b[0max\u001b[0m\u001b[0;34m.\u001b[0m\u001b[0mset_ylabel\u001b[0m\u001b[0;34m(\u001b[0m\u001b[0;34m'12+log(O/H)'\u001b[0m\u001b[0;34m)\u001b[0m\u001b[0;34m\u001b[0m\u001b[0;34m\u001b[0m\u001b[0m\n\u001b[1;32m      5\u001b[0m \u001b[0max\u001b[0m\u001b[0;34m.\u001b[0m\u001b[0maxis\u001b[0m\u001b[0;34m(\u001b[0m\u001b[0;34m[\u001b[0m\u001b[0;36m0\u001b[0m\u001b[0;34m,\u001b[0m \u001b[0;36m4\u001b[0m\u001b[0;34m,\u001b[0m \u001b[0;36m8.0\u001b[0m\u001b[0;34m,\u001b[0m \u001b[0;36m8.8\u001b[0m\u001b[0;34m]\u001b[0m\u001b[0;34m)\u001b[0m\u001b[0;34m\u001b[0m\u001b[0;34m\u001b[0m\u001b[0m\n",
      "\u001b[0;31mNameError\u001b[0m: name 'sigma_star' is not defined"
     ]
    },
    {
     "data": {
      "image/png": "[encoded data removed]",
      "text/plain": [
       "<Figure size 432x432 with 1 Axes>"
      ]
     },
     "metadata": {
      "needs_background": "light"
     },
     "output_type": "display_data"
    }
   ],
   "source": [
    "fig, ax = plt.subplots(figsize=(6, 6))\n",
    "ax.scatter(sigma_star.values[mask == 0], oh.value[mask == 0], alpha=0.15)\n",
    "ax.set_xlabel('log(Mstar) [M$_\\odot$]')\n",
    "ax.set_ylabel('12+log(O/H)')\n",
    "ax.axis([0, 4, 8.0, 8.8])"
   ]
  },
  {
   "cell_type": "code",
   "execution_count": 54,
   "metadata": {},
   "outputs": [],
   "source": [
    "# fitting formula\n",
    "aa = 8.55\n",
    "bb = 0.014\n",
    "cc = 3.14\n",
    "xx = np.linspace(1, 3, 1000)\n",
    "yy = aa + bb * (xx - cc) * np.exp(-(xx - cc))"
   ]
  },
  {
   "cell_type": "code",
   "execution_count": 55,
   "metadata": {},
   "outputs": [
    {
     "data": {
      "text/plain": [
       "[0, 4, 8.0, 8.8]"
      ]
     },
     "execution_count": 55,
     "metadata": {},
     "output_type": "execute_result"
    },
    {
     "data": {
      "image/png": "[encoded data removed]",
      "text/plain": [
       "<Figure size 432x432 with 1 Axes>"
      ]
     },
     "metadata": {
      "needs_background": "light"
     },
     "output_type": "display_data"
    }
   ],
   "source": [
    "fig, ax = plt.subplots(figsize=(6, 6))\n",
    "ax.scatter(sigma_star.values[mask == 0], oh.value[mask == 0], alpha=0.15)\n",
    "ax.plot(xx, yy)\n",
    "ax.set_xlabel('log(Mstar) [M$_\\odot$]')\n",
    "ax.set_ylabel('12+log(O/H)')\n",
    "ax.axis([0, 4, 8.0, 8.8])"
   ]
  },
  {
   "cell_type": "markdown",
   "metadata": {},
   "source": [
    "### 使用论文中的 [O II]/[N II] ratio."
   ]
  },
  {
   "cell_type": "code",
   "execution_count": 40,
   "metadata": {},
   "outputs": [],
   "source": [
    "import numpy as np\n",
    "import matplotlib.pyplot as plt\n",
    "%matplotlib inline\n",
    "import os\n",
    "from os.path import join\n",
    "path_notebooks = os.path.abspath('.')\n",
    "path_data = join(os.path.split(path_notebooks)[0], '/root/cosmos/galaxies-mzr/data')"
   ]
  },
  {
   "cell_type": "code",
   "execution_count": 41,
   "metadata": {},
   "outputs": [],
   "source": [
    "from marvin.tools.maps import Maps\n",
    "filename = join(path_data, 'manga-8077-6104-MAPS-HYB10-GAU-MILESHC.fits.gz')\n",
    "maps = Maps(filename=filename)\n",
    "#maps = Maps('8252-9102')"
   ]
  },
  {
   "cell_type": "code",
   "execution_count": 3,
   "metadata": {},
   "outputs": [
    {
     "name": "stdout",
     "output_type": "stream",
     "text": [
      "INFO: No release version set. Setting default to DR15\n"
     ]
    },
    {
     "ename": "KeyError",
     "evalue": "\"Keyword 'MANGAID' not found.\"",
     "output_type": "error",
     "traceback": [
      "\u001b[0;31m---------------------------------------------------------------------------\u001b[0m",
      "\u001b[0;31mKeyError\u001b[0m                                  Traceback (most recent call last)",
      "\u001b[0;32m<ipython-input-3-fb120662ccae>\u001b[0m in \u001b[0;36m<module>\u001b[0;34m\u001b[0m\n\u001b[1;32m      2\u001b[0m \u001b[0;32mfrom\u001b[0m \u001b[0mmarvin\u001b[0m\u001b[0;34m.\u001b[0m\u001b[0mtools\u001b[0m\u001b[0;34m.\u001b[0m\u001b[0mmaps\u001b[0m \u001b[0;32mimport\u001b[0m \u001b[0mMaps\u001b[0m\u001b[0;34m\u001b[0m\u001b[0;34m\u001b[0m\u001b[0m\n\u001b[1;32m      3\u001b[0m \u001b[0mfilename\u001b[0m \u001b[0;34m=\u001b[0m \u001b[0mjoin\u001b[0m\u001b[0;34m(\u001b[0m\u001b[0mpath_data\u001b[0m\u001b[0;34m,\u001b[0m \u001b[0;34m'manga_firefly-v2_4_3-STELLARPOP.fits'\u001b[0m\u001b[0;34m)\u001b[0m\u001b[0;34m\u001b[0m\u001b[0;34m\u001b[0m\u001b[0m\n\u001b[0;32m----> 4\u001b[0;31m \u001b[0mmaps\u001b[0m \u001b[0;34m=\u001b[0m \u001b[0mMaps\u001b[0m\u001b[0;34m(\u001b[0m\u001b[0mfilename\u001b[0m\u001b[0;34m=\u001b[0m\u001b[0mfilename\u001b[0m\u001b[0;34m)\u001b[0m\u001b[0;34m\u001b[0m\u001b[0;34m\u001b[0m\u001b[0m\n\u001b[0m\u001b[1;32m      5\u001b[0m \u001b[0;31m#maps = Maps('8252-9102')\u001b[0m\u001b[0;34m\u001b[0m\u001b[0;34m\u001b[0m\u001b[0;34m\u001b[0m\u001b[0m\n",
      "\u001b[0;32m~/anaconda3/lib/python3.7/site-packages/marvin/tools/maps.py\u001b[0m in \u001b[0;36m__init__\u001b[0;34m(self, input, filename, mangaid, plateifu, mode, data, release, drpall, download, nsa_source, bintype, template, template_kin)\u001b[0m\n\u001b[1;32m    106\u001b[0m \u001b[0;34m\u001b[0m\u001b[0m\n\u001b[1;32m    107\u001b[0m         \u001b[0;32mif\u001b[0m \u001b[0mself\u001b[0m\u001b[0;34m.\u001b[0m\u001b[0mdata_origin\u001b[0m \u001b[0;34m==\u001b[0m \u001b[0;34m'file'\u001b[0m\u001b[0;34m:\u001b[0m\u001b[0;34m\u001b[0m\u001b[0;34m\u001b[0m\u001b[0m\n\u001b[0;32m--> 108\u001b[0;31m             \u001b[0mself\u001b[0m\u001b[0;34m.\u001b[0m\u001b[0m_load_maps_from_file\u001b[0m\u001b[0;34m(\u001b[0m\u001b[0mdata\u001b[0m\u001b[0;34m=\u001b[0m\u001b[0mself\u001b[0m\u001b[0;34m.\u001b[0m\u001b[0mdata\u001b[0m\u001b[0;34m)\u001b[0m\u001b[0;34m\u001b[0m\u001b[0;34m\u001b[0m\u001b[0m\n\u001b[0m\u001b[1;32m    109\u001b[0m         \u001b[0;32melif\u001b[0m \u001b[0mself\u001b[0m\u001b[0;34m.\u001b[0m\u001b[0mdata_origin\u001b[0m \u001b[0;34m==\u001b[0m \u001b[0;34m'db'\u001b[0m\u001b[0;34m:\u001b[0m\u001b[0;34m\u001b[0m\u001b[0;34m\u001b[0m\u001b[0m\n\u001b[1;32m    110\u001b[0m             \u001b[0mself\u001b[0m\u001b[0;34m.\u001b[0m\u001b[0m_load_maps_from_db\u001b[0m\u001b[0;34m(\u001b[0m\u001b[0mdata\u001b[0m\u001b[0;34m=\u001b[0m\u001b[0mself\u001b[0m\u001b[0;34m.\u001b[0m\u001b[0mdata\u001b[0m\u001b[0;34m)\u001b[0m\u001b[0;34m\u001b[0m\u001b[0;34m\u001b[0m\u001b[0m\n",
      "\u001b[0;32m~/anaconda3/lib/python3.7/site-packages/marvin/tools/maps.py\u001b[0m in \u001b[0;36m_load_maps_from_file\u001b[0;34m(self, data)\u001b[0m\n\u001b[1;32m    245\u001b[0m         \u001b[0mself\u001b[0m\u001b[0;34m.\u001b[0m\u001b[0mheader\u001b[0m \u001b[0;34m=\u001b[0m \u001b[0mself\u001b[0m\u001b[0;34m.\u001b[0m\u001b[0mdata\u001b[0m\u001b[0;34m[\u001b[0m\u001b[0;36m0\u001b[0m\u001b[0;34m]\u001b[0m\u001b[0;34m.\u001b[0m\u001b[0mheader\u001b[0m\u001b[0;34m\u001b[0m\u001b[0;34m\u001b[0m\u001b[0m\n\u001b[1;32m    246\u001b[0m \u001b[0;34m\u001b[0m\u001b[0m\n\u001b[0;32m--> 247\u001b[0;31m         \u001b[0mself\u001b[0m\u001b[0;34m.\u001b[0m\u001b[0mmangaid\u001b[0m \u001b[0;34m=\u001b[0m \u001b[0mself\u001b[0m\u001b[0;34m.\u001b[0m\u001b[0mheader\u001b[0m\u001b[0;34m[\u001b[0m\u001b[0;34m'MANGAID'\u001b[0m\u001b[0;34m]\u001b[0m\u001b[0;34m.\u001b[0m\u001b[0mstrip\u001b[0m\u001b[0;34m(\u001b[0m\u001b[0;34m)\u001b[0m\u001b[0;34m\u001b[0m\u001b[0;34m\u001b[0m\u001b[0m\n\u001b[0m\u001b[1;32m    248\u001b[0m         \u001b[0mself\u001b[0m\u001b[0;34m.\u001b[0m\u001b[0mplateifu\u001b[0m \u001b[0;34m=\u001b[0m \u001b[0mself\u001b[0m\u001b[0;34m.\u001b[0m\u001b[0mheader\u001b[0m\u001b[0;34m[\u001b[0m\u001b[0;34m'PLATEIFU'\u001b[0m\u001b[0;34m]\u001b[0m\u001b[0;34m.\u001b[0m\u001b[0mstrip\u001b[0m\u001b[0;34m(\u001b[0m\u001b[0;34m)\u001b[0m\u001b[0;34m\u001b[0m\u001b[0;34m\u001b[0m\u001b[0m\n\u001b[1;32m    249\u001b[0m \u001b[0;34m\u001b[0m\u001b[0m\n",
      "\u001b[0;32m~/anaconda3/lib/python3.7/site-packages/astropy/io/fits/header.py\u001b[0m in \u001b[0;36m__getitem__\u001b[0;34m(self, key)\u001b[0m\n\u001b[1;32m    143\u001b[0m         \u001b[0;32melse\u001b[0m\u001b[0;34m:\u001b[0m\u001b[0;34m\u001b[0m\u001b[0;34m\u001b[0m\u001b[0m\n\u001b[1;32m    144\u001b[0m             \u001b[0mkeyword\u001b[0m \u001b[0;34m=\u001b[0m \u001b[0mkey\u001b[0m\u001b[0;34m\u001b[0m\u001b[0;34m\u001b[0m\u001b[0m\n\u001b[0;32m--> 145\u001b[0;31m         \u001b[0mcard\u001b[0m \u001b[0;34m=\u001b[0m \u001b[0mself\u001b[0m\u001b[0;34m.\u001b[0m\u001b[0m_cards\u001b[0m\u001b[0;34m[\u001b[0m\u001b[0mself\u001b[0m\u001b[0;34m.\u001b[0m\u001b[0m_cardindex\u001b[0m\u001b[0;34m(\u001b[0m\u001b[0mkey\u001b[0m\u001b[0;34m)\u001b[0m\u001b[0;34m]\u001b[0m\u001b[0;34m\u001b[0m\u001b[0;34m\u001b[0m\u001b[0m\n\u001b[0m\u001b[1;32m    146\u001b[0m         \u001b[0;32mif\u001b[0m \u001b[0mcard\u001b[0m\u001b[0;34m.\u001b[0m\u001b[0mfield_specifier\u001b[0m \u001b[0;32mis\u001b[0m \u001b[0;32mnot\u001b[0m \u001b[0;32mNone\u001b[0m \u001b[0;32mand\u001b[0m \u001b[0mkeyword\u001b[0m \u001b[0;34m==\u001b[0m \u001b[0mcard\u001b[0m\u001b[0;34m.\u001b[0m\u001b[0mrawkeyword\u001b[0m\u001b[0;34m:\u001b[0m\u001b[0;34m\u001b[0m\u001b[0;34m\u001b[0m\u001b[0m\n\u001b[1;32m    147\u001b[0m             \u001b[0;31m# This is RVKC; if only the top-level keyword was specified return\u001b[0m\u001b[0;34m\u001b[0m\u001b[0;34m\u001b[0m\u001b[0;34m\u001b[0m\u001b[0m\n",
      "\u001b[0;32m~/anaconda3/lib/python3.7/site-packages/astropy/io/fits/header.py\u001b[0m in \u001b[0;36m_cardindex\u001b[0;34m(self, key)\u001b[0m\n\u001b[1;32m   1652\u001b[0m \u001b[0;34m\u001b[0m\u001b[0m\n\u001b[1;32m   1653\u001b[0m         \u001b[0;32mif\u001b[0m \u001b[0;32mnot\u001b[0m \u001b[0mindices\u001b[0m\u001b[0;34m:\u001b[0m\u001b[0;34m\u001b[0m\u001b[0;34m\u001b[0m\u001b[0m\n\u001b[0;32m-> 1654\u001b[0;31m             \u001b[0;32mraise\u001b[0m \u001b[0mKeyError\u001b[0m\u001b[0;34m(\u001b[0m\u001b[0;34m\"Keyword {!r} not found.\"\u001b[0m\u001b[0;34m.\u001b[0m\u001b[0mformat\u001b[0m\u001b[0;34m(\u001b[0m\u001b[0mkeyword\u001b[0m\u001b[0;34m)\u001b[0m\u001b[0;34m)\u001b[0m\u001b[0;34m\u001b[0m\u001b[0;34m\u001b[0m\u001b[0m\n\u001b[0m\u001b[1;32m   1655\u001b[0m \u001b[0;34m\u001b[0m\u001b[0m\n\u001b[1;32m   1656\u001b[0m         \u001b[0;32mtry\u001b[0m\u001b[0;34m:\u001b[0m\u001b[0;34m\u001b[0m\u001b[0;34m\u001b[0m\u001b[0m\n",
      "\u001b[0;31mKeyError\u001b[0m: \"Keyword 'MANGAID' not found.\""
     ]
    }
   ],
   "source": [
    "#失败失败失败\n",
    "#直接使用Marvin读取fits文件\n",
    "#测试导入fits格式文件，提取各个元素的flux\n",
    "from marvin.tools.maps import Maps\n",
    "filename = join(path_data, 'manga_firefly-v2_4_3-STELLARPOP.fits')\n",
    "maps = Maps(filename=filename)\n",
    "#maps = Maps('8252-9102')"
   ]
  },
  {
   "cell_type": "code",
   "execution_count": null,
   "metadata": {},
   "outputs": [],
   "source": [
    "maps.emline"
   ]
  },
  {
   "cell_type": "code",
   "execution_count": 76,
   "metadata": {},
   "outputs": [],
   "source": [
    "nii = maps.emline_gflux_nii_6585\n",
    "ha = maps.emline_gflux_ha_6564\n",
    "oii7=maps.emline_gflux_oii_3727\n",
    "oii9=maps.emline_gflux_oii_3729"
   ]
  },
  {
   "cell_type": "code",
   "execution_count": 4,
   "metadata": {},
   "outputs": [
    {
     "name": "stderr",
     "output_type": "stream",
     "text": [
      "/root/anaconda3/lib/python3.7/site-packages/marvin/tools/quantities/map.py:400: RuntimeWarning: divide by zero encountered in true_divide\n",
      "  return 1. / ((1. / ivar1 + 1. / ivar2))\n",
      "/root/anaconda3/lib/python3.7/site-packages/marvin/tools/quantities/map.py:424: RuntimeWarning: divide by zero encountered in power\n",
      "  return np.log10(np.e) * ivar**-0.5 / value\n",
      "/root/anaconda3/lib/python3.7/site-packages/marvin/tools/quantities/map.py:166: RuntimeWarning: invalid value encountered in log10\n",
      "  value=ufunc(self.value),\n"
     ]
    }
   ],
   "source": [
    "n2 = (oii7+oii9) / (2*ha)\n",
    "logn2 = np.log10(n2)"
   ]
  },
  {
   "cell_type": "code",
   "execution_count": 5,
   "metadata": {},
   "outputs": [],
   "source": [
    "oh = 0.57 * logn2 + 8.90"
   ]
  },
  {
   "cell_type": "code",
   "execution_count": 42,
   "metadata": {},
   "outputs": [
    {
     "data": {
      "image/png": "[encoded data removed]",
      "text/plain": [
       "<Figure size 612x720 with 8 Axes>"
      ]
     },
     "metadata": {},
     "output_type": "display_data"
    },
    {
     "data": {
      "text/html": [
       "<div>\n",
       "<style scoped>\n",
       "    .dataframe tbody tr th:only-of-type {\n",
       "        vertical-align: middle;\n",
       "    }\n",
       "\n",
       "    .dataframe tbody tr th {\n",
       "        vertical-align: top;\n",
       "    }\n",
       "\n",
       "    .dataframe thead th {\n",
       "        text-align: right;\n",
       "    }\n",
       "</style>\n",
       "<table border=\"1\" class=\"dataframe\">\n",
       "  <thead>\n",
       "    <tr style=\"text-align: right;\">\n",
       "      <th></th>\n",
       "      <th>bit</th>\n",
       "      <th>label</th>\n",
       "      <th>description</th>\n",
       "    </tr>\n",
       "  </thead>\n",
       "  <tbody>\n",
       "    <tr>\n",
       "      <th>0</th>\n",
       "      <td>0</td>\n",
       "      <td>NOCOV</td>\n",
       "      <td>No coverage in this spaxel</td>\n",
       "    </tr>\n",
       "    <tr>\n",
       "      <th>1</th>\n",
       "      <td>1</td>\n",
       "      <td>LOWCOV</td>\n",
       "      <td>Low coverage in this spaxel</td>\n",
       "    </tr>\n",
       "    <tr>\n",
       "      <th>2</th>\n",
       "      <td>2</td>\n",
       "      <td>DEADFIBER</td>\n",
       "      <td>Major contributing fiber is dead</td>\n",
       "    </tr>\n",
       "    <tr>\n",
       "      <th>3</th>\n",
       "      <td>3</td>\n",
       "      <td>FORESTAR</td>\n",
       "      <td>Foreground star</td>\n",
       "    </tr>\n",
       "    <tr>\n",
       "      <th>4</th>\n",
       "      <td>4</td>\n",
       "      <td>NOVALUE</td>\n",
       "      <td>Spaxel was not fit because it did not meet sel...</td>\n",
       "    </tr>\n",
       "    <tr>\n",
       "      <th>5</th>\n",
       "      <td>5</td>\n",
       "      <td>UNRELIABLE</td>\n",
       "      <td>Value is deemed unreliable; see TRM for defini...</td>\n",
       "    </tr>\n",
       "    <tr>\n",
       "      <th>6</th>\n",
       "      <td>6</td>\n",
       "      <td>MATHERROR</td>\n",
       "      <td>Mathematical error in computing value</td>\n",
       "    </tr>\n",
       "    <tr>\n",
       "      <th>7</th>\n",
       "      <td>7</td>\n",
       "      <td>FITFAILED</td>\n",
       "      <td>Attempted fit for property failed</td>\n",
       "    </tr>\n",
       "    <tr>\n",
       "      <th>8</th>\n",
       "      <td>8</td>\n",
       "      <td>NEARBOUND</td>\n",
       "      <td>Fitted value is too near an imposed boundary; ...</td>\n",
       "    </tr>\n",
       "    <tr>\n",
       "      <th>9</th>\n",
       "      <td>9</td>\n",
       "      <td>NOCORRECTION</td>\n",
       "      <td>Appropriate correction not available</td>\n",
       "    </tr>\n",
       "    <tr>\n",
       "      <th>10</th>\n",
       "      <td>10</td>\n",
       "      <td>MULTICOMP</td>\n",
       "      <td>Multi-component velocity features present</td>\n",
       "    </tr>\n",
       "    <tr>\n",
       "      <th>11</th>\n",
       "      <td>30</td>\n",
       "      <td>DONOTUSE</td>\n",
       "      <td>Do not use this spaxel for science</td>\n",
       "    </tr>\n",
       "  </tbody>\n",
       "</table>\n",
       "</div>"
      ],
      "text/plain": [
       "    bit         label                                        description\n",
       "0     0         NOCOV                         No coverage in this spaxel\n",
       "1     1        LOWCOV                        Low coverage in this spaxel\n",
       "2     2     DEADFIBER                   Major contributing fiber is dead\n",
       "3     3      FORESTAR                                    Foreground star\n",
       "4     4       NOVALUE  Spaxel was not fit because it did not meet sel...\n",
       "5     5    UNRELIABLE  Value is deemed unreliable; see TRM for defini...\n",
       "6     6     MATHERROR              Mathematical error in computing value\n",
       "7     7     FITFAILED                  Attempted fit for property failed\n",
       "8     8     NEARBOUND  Fitted value is too near an imposed boundary; ...\n",
       "9     9  NOCORRECTION               Appropriate correction not available\n",
       "10   10     MULTICOMP          Multi-component velocity features present\n",
       "11   30      DONOTUSE                 Do not use this spaxel for science"
      ]
     },
     "execution_count": 42,
     "metadata": {},
     "output_type": "execute_result"
    }
   ],
   "source": [
    "masks_bpt, __, __ = maps.get_bpt()\n",
    "masks_bpt['sf']['global']\n",
    "n2.pixmask.schema"
   ]
  },
  {
   "cell_type": "code",
   "execution_count": 43,
   "metadata": {},
   "outputs": [],
   "source": [
    "mask_non_sf = ~masks_bpt['sf']['global'] * n2.pixmask.labels_to_value('DONOTUSE')\n",
    "mask_bad_data = n2.pixmask.get_mask(['NOCOV', 'UNRELIABLE', 'DONOTUSE'])\n",
    "mask = mask_non_sf | mask_bad_data"
   ]
  },
  {
   "cell_type": "code",
   "execution_count": 52,
   "metadata": {},
   "outputs": [
    {
     "name": "stdout",
     "output_type": "stream",
     "text": [
      "1073741825\n",
      "0\n",
      "(1, 35)\n"
     ]
    }
   ],
   "source": [
    "print(np.max(mask))\n",
    "print(np.min(mask))\n",
    "print(mask[np.where(mask[:,30]<10),0].shape)"
   ]
  },
  {
   "cell_type": "code",
   "execution_count": 53,
   "metadata": {},
   "outputs": [
    {
     "data": {
      "text/plain": [
       "array([[1073741825, 1073741824, 1073741824, 1073741824, 1073741824],\n",
       "       [1073741824, 1073741824, 1073741824, 1073741824, 1073741824],\n",
       "       [1073741824, 1073741824, 1073741824, 1073741824, 1073741824]])"
      ]
     },
     "execution_count": 53,
     "metadata": {},
     "output_type": "execute_result"
    }
   ],
   "source": [
    "mask[22:25,3:8]"
   ]
  },
  {
   "cell_type": "code",
   "execution_count": 18,
   "metadata": {},
   "outputs": [
    {
     "name": "stderr",
     "output_type": "stream",
     "text": [
      "/root/anaconda3/lib/python3.7/site-packages/marvin/utils/plot/map.py:111: RuntimeWarning: invalid value encountered in less\n",
      "  low_snr[np.abs(value * np.sqrt(ivar)) < snr_min] = True\n"
     ]
    },
    {
     "data": {
      "image/png": "[encoded data removed]",
      "text/plain": [
       "<Figure size 432x288 with 2 Axes>"
      ]
     },
     "metadata": {},
     "output_type": "display_data"
    }
   ],
   "source": [
    "fig, ax = oh.plot(cmap='jet',mask=mask, cblabel='12+log(O/H)')"
   ]
  },
  {
   "cell_type": "code",
   "execution_count": 9,
   "metadata": {},
   "outputs": [
    {
     "data": {
      "image/png": "[encoded data removed]",
      "text/plain": [
       "<Figure size 432x288 with 2 Axes>"
      ]
     },
     "metadata": {},
     "output_type": "display_data"
    }
   ],
   "source": [
    "fig, ax, cb=ha.plot(cmap='jet',cblabel='Flux( $10^{-17}$ erg s$^{-1}$) spaxel$^{-1}$ cm$^{-2}$',log_cb=True,cbrange=(0.1,100),return_cb=True)\n",
    "cb.set_ticks([0., 0.1, 1, 10, 100])\n",
    "cb.set_ticklabels(['$10^{-2}$','$10^{-1}$', '$10^{0}$', '$10^{1}$', '$10^{2}$'])"
   ]
  },
  {
   "cell_type": "markdown",
   "metadata": {},
   "source": [
    "### 金属丰度和表面质量密度关系"
   ]
  },
  {
   "cell_type": "code",
   "execution_count": 101,
   "metadata": {},
   "outputs": [],
   "source": [
    "import pandas as pd"
   ]
  },
  {
   "cell_type": "code",
   "execution_count": 102,
   "metadata": {},
   "outputs": [
    {
     "name": "stdout",
     "output_type": "stream",
     "text": [
      "INFO: No release version set. Setting default to DR15\n"
     ]
    }
   ],
   "source": [
    "import marvin"
   ]
  },
  {
   "cell_type": "code",
   "execution_count": 21,
   "metadata": {},
   "outputs": [],
   "source": [
    "marvin.tools?"
   ]
  },
  {
   "cell_type": "code",
   "execution_count": 11,
   "metadata": {},
   "outputs": [
    {
     "data": {
      "text/plain": [
       "'/root/cosmos/galaxies-mzr/data'"
      ]
     },
     "execution_count": 11,
     "metadata": {},
     "output_type": "execute_result"
    }
   ],
   "source": [
    "path_data"
   ]
  },
  {
   "cell_type": "code",
   "execution_count": 106,
   "metadata": {},
   "outputs": [
    {
     "ename": "AttributeError",
     "evalue": "'numpy.ndarray' object has no attribute 'plateifu'",
     "output_type": "error",
     "traceback": [
      "\u001b[0;31m---------------------------------------------------------------------------\u001b[0m",
      "\u001b[0;31mAttributeError\u001b[0m                            Traceback (most recent call last)",
      "\u001b[0;32m<ipython-input-106-385cce353e7c>\u001b[0m in \u001b[0;36m<module>\u001b[0;34m\u001b[0m\n\u001b[1;32m      1\u001b[0m \u001b[0;31m#使用pandas读取csv文件中的质量\u001b[0m\u001b[0;34m\u001b[0m\u001b[0;34m\u001b[0m\u001b[0;34m\u001b[0m\u001b[0m\n\u001b[1;32m      2\u001b[0m \u001b[0;32mimport\u001b[0m \u001b[0mpandas\u001b[0m \u001b[0;32mas\u001b[0m \u001b[0mpd\u001b[0m\u001b[0;34m\u001b[0m\u001b[0;34m\u001b[0m\u001b[0m\n\u001b[0;32m----> 3\u001b[0;31m \u001b[0mmstar\u001b[0m \u001b[0;34m=\u001b[0m \u001b[0mpd\u001b[0m\u001b[0;34m.\u001b[0m\u001b[0mread_csv\u001b[0m\u001b[0;34m(\u001b[0m\u001b[0mjoin\u001b[0m\u001b[0;34m(\u001b[0m\u001b[0mpath_data\u001b[0m\u001b[0;34m,\u001b[0m \u001b[0;34m'manga-{}_mstar.csv'\u001b[0m\u001b[0;34m.\u001b[0m\u001b[0mformat\u001b[0m\u001b[0;34m(\u001b[0m\u001b[0mmaps\u001b[0m\u001b[0;34m.\u001b[0m\u001b[0mplateifu\u001b[0m\u001b[0;34m)\u001b[0m\u001b[0;34m)\u001b[0m\u001b[0;34m)\u001b[0m\u001b[0;34m\u001b[0m\u001b[0;34m\u001b[0m\u001b[0m\n\u001b[0m\u001b[1;32m      4\u001b[0m \u001b[0;34m\u001b[0m\u001b[0m\n\u001b[1;32m      5\u001b[0m \u001b[0;31m#mstar = pd.read_csv(join(path_data, 'sqlMastar-goodstars-v2_4_3.csv'))\u001b[0m\u001b[0;34m\u001b[0m\u001b[0;34m\u001b[0m\u001b[0;34m\u001b[0m\u001b[0m\n",
      "\u001b[0;31mAttributeError\u001b[0m: 'numpy.ndarray' object has no attribute 'plateifu'"
     ]
    }
   ],
   "source": [
    "#使用pandas读取csv文件中的质量\n",
    "import pandas as pd\n",
    "mstar = pd.read_csv(join(path_data, 'manga-{}_mstar.csv'.format(maps.plateifu)))\n",
    "\n",
    "#mstar = pd.read_csv(join(path_data, 'sqlMastar-goodstars-v2_4_3.csv'))\n"
   ]
  },
  {
   "cell_type": "code",
   "execution_count": 100,
   "metadata": {},
   "outputs": [
    {
     "ename": "NameError",
     "evalue": "name 'mstar' is not defined",
     "output_type": "error",
     "traceback": [
      "\u001b[0;31m---------------------------------------------------------------------------\u001b[0m",
      "\u001b[0;31mNameError\u001b[0m                                 Traceback (most recent call last)",
      "\u001b[0;32m<ipython-input-100-9661f2868955>\u001b[0m in \u001b[0;36m<module>\u001b[0;34m\u001b[0m\n\u001b[1;32m      1\u001b[0m \u001b[0;31m#计算画出表面质量密度\u001b[0m\u001b[0;34m\u001b[0m\u001b[0;34m\u001b[0m\u001b[0;34m\u001b[0m\u001b[0m\n\u001b[1;32m      2\u001b[0m \u001b[0mfig\u001b[0m\u001b[0;34m,\u001b[0m \u001b[0max\u001b[0m \u001b[0;34m=\u001b[0m \u001b[0mplt\u001b[0m\u001b[0;34m.\u001b[0m\u001b[0msubplots\u001b[0m\u001b[0;34m(\u001b[0m\u001b[0;34m)\u001b[0m\u001b[0;34m\u001b[0m\u001b[0;34m\u001b[0m\u001b[0m\n\u001b[0;32m----> 3\u001b[0;31m \u001b[0mp\u001b[0m \u001b[0;34m=\u001b[0m \u001b[0max\u001b[0m\u001b[0;34m.\u001b[0m\u001b[0mimshow\u001b[0m\u001b[0;34m(\u001b[0m\u001b[0mmstar\u001b[0m\u001b[0;34m,\u001b[0m \u001b[0morigin\u001b[0m\u001b[0;34m=\u001b[0m\u001b[0;34m'lower'\u001b[0m\u001b[0;34m)\u001b[0m\u001b[0;34m\u001b[0m\u001b[0;34m\u001b[0m\u001b[0m\n\u001b[0m\u001b[1;32m      4\u001b[0m \u001b[0max\u001b[0m\u001b[0;34m.\u001b[0m\u001b[0mset_xlabel\u001b[0m\u001b[0;34m(\u001b[0m\u001b[0;34m'spaxel'\u001b[0m\u001b[0;34m)\u001b[0m\u001b[0;34m\u001b[0m\u001b[0;34m\u001b[0m\u001b[0m\n\u001b[1;32m      5\u001b[0m \u001b[0max\u001b[0m\u001b[0;34m.\u001b[0m\u001b[0mset_ylabel\u001b[0m\u001b[0;34m(\u001b[0m\u001b[0;34m'spaxel'\u001b[0m\u001b[0;34m)\u001b[0m\u001b[0;34m\u001b[0m\u001b[0;34m\u001b[0m\u001b[0m\n",
      "\u001b[0;31mNameError\u001b[0m: name 'mstar' is not defined"
     ]
    },
    {
     "data": {
      "image/png": "[encoded data removed]",
      "text/plain": [
       "<Figure size 432x288 with 1 Axes>"
      ]
     },
     "metadata": {
      "needs_background": "light"
     },
     "output_type": "display_data"
    }
   ],
   "source": [
    "#计算画出表面质量密度\n",
    "fig, ax = plt.subplots()\n",
    "p = ax.imshow(mstar, origin='lower')\n",
    "ax.set_xlabel('spaxel')\n",
    "ax.set_ylabel('spaxel')\n",
    "cb = fig.colorbar(p)\n",
    "cb.set_label('log(Mstar) [M$_\\odot$]')"
   ]
  },
  {
   "cell_type": "code",
   "execution_count": 15,
   "metadata": {},
   "outputs": [],
   "source": [
    "#计算像素实际大小\n",
    "spaxel_size = 0.5  # [arcsec]\n",
    "redshift = maps.nsa['z']\n",
    "c = 299792  # speed of light [km/s]\n",
    "H0 = 70  # [km s^-1 Mpc^-1]\n",
    "D = c * redshift / H0  # approx. distance to galaxy [Mpc]\n",
    "scale = 1 / 206265 * D * 1e6  # 1 radian = 206265 arcsec [pc / arcsec]\n",
    "spaxel_area = (scale * spaxel_size)**2  # [pc^2]"
   ]
  },
  {
   "cell_type": "code",
   "execution_count": 16,
   "metadata": {},
   "outputs": [
    {
     "data": {
      "text/plain": [
       "[0, 4, 8.0, 8.8]"
      ]
     },
     "execution_count": 16,
     "metadata": {},
     "output_type": "execute_result"
    },
    {
     "data": {
      "image/png": "[encoded data removed]",
      "text/plain": [
       "<Figure size 432x432 with 1 Axes>"
      ]
     },
     "metadata": {
      "needs_background": "light"
     },
     "output_type": "display_data"
    }
   ],
   "source": [
    "#计算质量密度\n",
    "sigma_star = np.log10(10**mstar / spaxel_area)  # [Msun / pc^2]\n",
    "fig, ax = plt.subplots(figsize=(6, 6))\n",
    "ax.scatter(sigma_star.values[mask == 0], oh.value[mask == 0], alpha=0.15)\n",
    "ax.set_xlabel('log(Mstar) [M$_\\odot$]')\n",
    "ax.set_ylabel('12+log(O/H)')\n",
    "ax.axis([0, 4, 8.0, 8.8])"
   ]
  },
  {
   "cell_type": "code",
   "execution_count": 17,
   "metadata": {},
   "outputs": [
    {
     "data": {
      "text/plain": [
       "'8077-6104'"
      ]
     },
     "execution_count": 17,
     "metadata": {},
     "output_type": "execute_result"
    }
   ],
   "source": [
    "maps.plateifu"
   ]
  },
  {
   "cell_type": "markdown",
   "metadata": {},
   "source": [
    "### 使用一般方式导入读取fits文件数据"
   ]
  },
  {
   "cell_type": "code",
   "execution_count": 1,
   "metadata": {},
   "outputs": [
    {
     "name": "stderr",
     "output_type": "stream",
     "text": [
      "WARNING: Could not memory map array with mode='readonly', falling back to mode='denywrite', which means that the array will be read-only [astropy.io.fits.file]\n"
     ]
    }
   ],
   "source": [
    "from astropy.io import fits\n",
    "data1 = fits.getdata('/root/cosmos/galaxies-mzr/data/manga_firefly-v2_4_3-STELLARPOP.fits',header=True)\n",
    "data2 = fits.getdata('/root/cosmos/galaxies-mzr/data/manga_firefly-v2_1_2-STELLARPOP.fits',header=True)"
   ]
  },
  {
   "cell_type": "code",
   "execution_count": 4,
   "metadata": {},
   "outputs": [
    {
     "data": {
      "text/plain": [
       "XTENSION= 'BINTABLE'           / binary table extension                         \n",
       "BITPIX  =                    8 / array data type                                \n",
       "NAXIS   =                    2 / number of array dimensions                     \n",
       "NAXIS1  =                  138 / length of dimension 1                          \n",
       "NAXIS2  =                 4675 / length of dimension 2                          \n",
       "PCOUNT  =                    0 / number of group parameters                     \n",
       "GCOUNT  =                    1 / number of groups                               \n",
       "TFIELDS =                   11 / number of table fields                         \n",
       "TTYPE1  = 'MANGAID '                                                            \n",
       "TFORM1  = '20A     '                                                            \n",
       "TTYPE2  = 'PLATEIFU'                                                            \n",
       "TFORM2  = '20A     '                                                            \n",
       "TTYPE3  = 'PLATE   '                                                            \n",
       "TFORM3  = 'I       '                                                            \n",
       "TTYPE4  = 'IFUDSGN '                                                            \n",
       "TFORM4  = '20A     '                                                            \n",
       "TTYPE5  = 'OBJRA   '                                                            \n",
       "TFORM5  = 'E       '                                                            \n",
       "TTYPE6  = 'OBJDEC  '                                                            \n",
       "TFORM6  = 'E       '                                                            \n",
       "TTYPE7  = 'REDSHIFT'                                                            \n",
       "TFORM7  = 'E       '                                                            \n",
       "TTYPE8  = 'PHOTOMETRIC_MASS'                                                    \n",
       "TFORM8  = 'E       '                                                            \n",
       "TTYPE9  = 'MANGADRP_ver'                                                        \n",
       "TFORM9  = '20A     '                                                            \n",
       "TTYPE10 = 'MANGADAP_ver'                                                        \n",
       "TFORM10 = '20A     '                                                            \n",
       "TTYPE11 = 'FIREFLY_ver'                                                         \n",
       "TFORM11 = '20A     '                                                            \n",
       "EXTNAME = 'GALAXY_INFO'        / extension name                                 "
      ]
     },
     "execution_count": 4,
     "metadata": {},
     "output_type": "execute_result"
    }
   ],
   "source": [
    "data1[1]\n"
   ]
  },
  {
   "cell_type": "code",
   "execution_count": 5,
   "metadata": {},
   "outputs": [
    {
     "data": {
      "text/plain": [
       "XTENSION= 'BINTABLE'           / binary table extension                         \n",
       "BITPIX  =                    8 / array data type                                \n",
       "NAXIS   =                    2 / number of array dimensions                     \n",
       "NAXIS1  =                  138 / length of dimension 1                          \n",
       "NAXIS2  =                 2777 / length of dimension 2                          \n",
       "PCOUNT  =                    0 / number of group parameters                     \n",
       "GCOUNT  =                    1 / number of groups                               \n",
       "TFIELDS =                   11 / number of table fields                         \n",
       "TTYPE1  = 'MANGAID '                                                            \n",
       "TFORM1  = '20A     '                                                            \n",
       "TTYPE2  = 'PLATEIFU'                                                            \n",
       "TFORM2  = '20A     '                                                            \n",
       "TTYPE3  = 'PLATE   '                                                            \n",
       "TFORM3  = 'INT16   '                                                            \n",
       "TTYPE4  = 'IFUDSGN '                                                            \n",
       "TFORM4  = '20A     '                                                            \n",
       "TTYPE5  = 'OBJRA   '                                                            \n",
       "TFORM5  = 'E       '                                                            \n",
       "TTYPE6  = 'OBJDEC  '                                                            \n",
       "TFORM6  = 'E       '                                                            \n",
       "TTYPE7  = 'REDSHIFT'                                                            \n",
       "TFORM7  = 'E       '                                                            \n",
       "TTYPE8  = 'PHOTOMETRIC_MASS'                                                    \n",
       "TFORM8  = 'E       '                                                            \n",
       "TTYPE9  = 'MANGADRP_ver'                                                        \n",
       "TFORM9  = '20A     '                                                            \n",
       "TTYPE10 = 'MANGADAP_ver'                                                        \n",
       "TFORM10 = '20A     '                                                            \n",
       "TTYPE11 = 'FIREFLY_ver'                                                         \n",
       "TFORM11 = '20A     '                                                            \n",
       "EXTNAME = 'GALAXY_INFO'        / extension name                                 "
      ]
     },
     "execution_count": 5,
     "metadata": {},
     "output_type": "execute_result"
    }
   ],
   "source": [
    "data2[1]"
   ]
  },
  {
   "cell_type": "code",
   "execution_count": 21,
   "metadata": {},
   "outputs": [
    {
     "name": "stdout",
     "output_type": "stream",
     "text": [
      "Object `choose` not found.\n"
     ]
    }
   ],
   "source": [
    "data1[0].choose?"
   ]
  },
  {
   "cell_type": "code",
   "execution_count": 5,
   "metadata": {},
   "outputs": [
    {
     "ename": "NameError",
     "evalue": "name 'data1' is not defined",
     "output_type": "error",
     "traceback": [
      "\u001b[0;31m---------------------------------------------------------------------------\u001b[0m",
      "\u001b[0;31mNameError\u001b[0m                                 Traceback (most recent call last)",
      "\u001b[0;32m<ipython-input-5-6d146e74e956>\u001b[0m in \u001b[0;36m<module>\u001b[0;34m\u001b[0m\n\u001b[0;32m----> 1\u001b[0;31m \u001b[0mdata1\u001b[0m\u001b[0;34m[\u001b[0m\u001b[0;36m0\u001b[0m\u001b[0;34m]\u001b[0m\u001b[0;34m.\u001b[0m\u001b[0mchoose\u001b[0m\u001b[0;34m\u001b[0m\u001b[0;34m\u001b[0m\u001b[0m\n\u001b[0m",
      "\u001b[0;31mNameError\u001b[0m: name 'data1' is not defined"
     ]
    }
   ],
   "source": [
    "data1[0].choose"
   ]
  },
  {
   "cell_type": "code",
   "execution_count": 3,
   "metadata": {},
   "outputs": [],
   "source": [
    "import matplotlib.pyplot as plt\n",
    "import numpy as np\n",
    "from astropy.io import fits\n",
    "lalala = fits.open('/root/cosmos/galaxies-mzr/data/manga_firefly-v2_4_3-STELLARPOP.fits')\n",
    "lala=fits.getdata('/root/cosmos/galaxies-mzr/data/manga_firefly-v2_4_3-STELLARPOP.fits',header=True)\n",
    "data2 = fits.open('/root/cosmos/galaxies-mzr/data/manga_firefly-v2_1_2-STELLARPOP.fits')"
   ]
  },
  {
   "cell_type": "code",
   "execution_count": 4,
   "metadata": {},
   "outputs": [
    {
     "name": "stdout",
     "output_type": "stream",
     "text": [
      "Filename: /root/cosmos/galaxies-mzr/data/manga_firefly-v2_1_2-STELLARPOP.fits\n",
      "No.    Name      Ver    Type      Cards   Dimensions   Format\n",
      "  0  PRIMARY       1 PrimaryHDU       4   ()      \n",
      "  1  GALAXY_INFO    1 BinTableHDU     31   2777R x 11C   [20A, 20A, INT16, 20A, E, E, E, E, 20A, 20A, 20A]   \n",
      "  2  GLOBAL_PARAMETERS    1 BinTableHDU     41   2777R x 16C   [E, E, E, E, E, E, E, E, E, E, E, E, E, E, E, E]   \n",
      "  3  GRADIENT_PARAMETERS    1 BinTableHDU     41   2777R x 16C   [E, E, E, E, E, E, E, E, E, E, E, E, E, E, E, E]   \n",
      "  4  SPATIAL_INFO    1 ImageHDU         9   (4, 2800, 2777)   float32   \n",
      "  5  SPAXEL_BINID    1 ImageHDU        10   (6, 100, 100, 2777)   float64   \n",
      "  6  LW_AGE_VORONOI    1 ImageHDU         9   (2, 2800, 2777)   float32   \n",
      "  7  MW_AGE_VORONOI    1 ImageHDU         9   (2, 2800, 2777)   float32   \n",
      "  8  LW_Z_VORONOI    1 ImageHDU         9   (2, 2800, 2777)   float32   \n",
      "  9  MW_Z_VORONOI    1 ImageHDU         9   (2, 2800, 2777)   float32   \n",
      " 10  E(B_V)_VORONOI    1 ImageHDU         8   (2800, 2777)   float32   \n",
      " 11  STELLAR_MASS_VORONOI    1 ImageHDU         9   (2, 2800, 2777)   float32   \n",
      " 12  SURFACE_MASS_DENSITY_VORONOI    1 ImageHDU         9   (2, 2800, 2777)   float32   \n",
      " 13  SIGNAL_NOISE_VORONOI    1 ImageHDU         8   (2800, 2777)   float32   \n"
     ]
    }
   ],
   "source": [
    "data2.info()"
   ]
  },
  {
   "cell_type": "code",
   "execution_count": 8,
   "metadata": {},
   "outputs": [
    {
     "name": "stdout",
     "output_type": "stream",
     "text": [
      "[1.40308e+09 4.32497e+10 6.19020e+09 ... 4.59672e+09 1.08103e+11\n",
      " 1.60425e+09]\n"
     ]
    }
   ],
   "source": [
    "sm = lalala[1].data['PHOTOMETRIC_MASS']\n",
    "print(sm)"
   ]
  },
  {
   "cell_type": "code",
   "execution_count": 126,
   "metadata": {},
   "outputs": [
    {
     "data": {
      "text/plain": [
       "(4675,)"
      ]
     },
     "execution_count": 126,
     "metadata": {},
     "output_type": "execute_result"
    }
   ],
   "source": [
    "sm.shape"
   ]
  },
  {
   "cell_type": "code",
   "execution_count": 122,
   "metadata": {},
   "outputs": [
    {
     "data": {
      "text/plain": [
       "XTENSION= 'BINTABLE'           / binary table extension                         \n",
       "BITPIX  =                    8 / array data type                                \n",
       "NAXIS   =                    2 / number of array dimensions                     \n",
       "NAXIS1  =                  138 / length of dimension 1                          \n",
       "NAXIS2  =                 4675 / length of dimension 2                          \n",
       "PCOUNT  =                    0 / number of group parameters                     \n",
       "GCOUNT  =                    1 / number of groups                               \n",
       "TFIELDS =                   11 / number of table fields                         \n",
       "TTYPE1  = 'MANGAID '                                                            \n",
       "TFORM1  = '20A     '                                                            \n",
       "TTYPE2  = 'PLATEIFU'                                                            \n",
       "TFORM2  = '20A     '                                                            \n",
       "TTYPE3  = 'PLATE   '                                                            \n",
       "TFORM3  = 'I       '                                                            \n",
       "TTYPE4  = 'IFUDSGN '                                                            \n",
       "TFORM4  = '20A     '                                                            \n",
       "TTYPE5  = 'OBJRA   '                                                            \n",
       "TFORM5  = 'E       '                                                            \n",
       "TTYPE6  = 'OBJDEC  '                                                            \n",
       "TFORM6  = 'E       '                                                            \n",
       "TTYPE7  = 'REDSHIFT'                                                            \n",
       "TFORM7  = 'E       '                                                            \n",
       "TTYPE8  = 'PHOTOMETRIC_MASS'                                                    \n",
       "TFORM8  = 'E       '                                                            \n",
       "TTYPE9  = 'MANGADRP_ver'                                                        \n",
       "TFORM9  = '20A     '                                                            \n",
       "TTYPE10 = 'MANGADAP_ver'                                                        \n",
       "TFORM10 = '20A     '                                                            \n",
       "TTYPE11 = 'FIREFLY_ver'                                                         \n",
       "TFORM11 = '20A     '                                                            \n",
       "EXTNAME = 'GALAXY_INFO'        / extension name                                 "
      ]
     },
     "execution_count": 122,
     "metadata": {},
     "output_type": "execute_result"
    }
   ],
   "source": [
    "lalala[1].header"
   ]
  },
  {
   "cell_type": "code",
   "execution_count": 52,
   "metadata": {},
   "outputs": [
    {
     "data": {
      "text/plain": [
       "XTENSION= 'BINTABLE'           / binary table extension                         \n",
       "BITPIX  =                    8 / array data type                                \n",
       "NAXIS   =                    2 / number of array dimensions                     \n",
       "NAXIS1  =                  138 / length of dimension 1                          \n",
       "NAXIS2  =                 4675 / length of dimension 2                          \n",
       "PCOUNT  =                    0 / number of group parameters                     \n",
       "GCOUNT  =                    1 / number of groups                               \n",
       "TFIELDS =                   11 / number of table fields                         \n",
       "TTYPE1  = 'MANGAID '                                                            \n",
       "TFORM1  = '20A     '                                                            \n",
       "TTYPE2  = 'PLATEIFU'                                                            \n",
       "TFORM2  = '20A     '                                                            \n",
       "TTYPE3  = 'PLATE   '                                                            \n",
       "TFORM3  = 'I       '                                                            \n",
       "TTYPE4  = 'IFUDSGN '                                                            \n",
       "TFORM4  = '20A     '                                                            \n",
       "TTYPE5  = 'OBJRA   '                                                            \n",
       "TFORM5  = 'E       '                                                            \n",
       "TTYPE6  = 'OBJDEC  '                                                            \n",
       "TFORM6  = 'E       '                                                            \n",
       "TTYPE7  = 'REDSHIFT'                                                            \n",
       "TFORM7  = 'E       '                                                            \n",
       "TTYPE8  = 'PHOTOMETRIC_MASS'                                                    \n",
       "TFORM8  = 'E       '                                                            \n",
       "TTYPE9  = 'MANGADRP_ver'                                                        \n",
       "TFORM9  = '20A     '                                                            \n",
       "TTYPE10 = 'MANGADAP_ver'                                                        \n",
       "TFORM10 = '20A     '                                                            \n",
       "TTYPE11 = 'FIREFLY_ver'                                                         \n",
       "TFORM11 = '20A     '                                                            \n",
       "EXTNAME = 'GALAXY_INFO'        / extension name                                 "
      ]
     },
     "execution_count": 52,
     "metadata": {},
     "output_type": "execute_result"
    }
   ],
   "source": [
    "lala[1]"
   ]
  },
  {
   "cell_type": "code",
   "execution_count": 67,
   "metadata": {},
   "outputs": [
    {
     "name": "stdout",
     "output_type": "stream",
     "text": [
      "Filename: /root/cosmos/galaxies-mzr/data/manga_firefly-v2_4_3-STELLARPOP.fits\n",
      "No.    Name      Ver    Type      Cards   Dimensions   Format\n",
      "  0  PRIMARY       1 PrimaryHDU       4   ()      \n",
      "  1  GALAXY_INFO    1 BinTableHDU     31   4675R x 11C   [20A, 20A, I, 20A, E, E, E, E, 20A, 20A, 20A]   \n",
      "  2  GLOBAL_PARAMETERS    1 BinTableHDU     41   4675R x 16C   [E, E, E, E, E, E, E, E, E, E, E, E, E, E, E, E]   \n",
      "  3  GRADIENT_PARAMETERS    1 BinTableHDU     41   4675R x 16C   [E, E, E, E, E, E, E, E, E, E, E, E, E, E, E, E]   \n",
      "  4  SPATIAL_INFO    1 ImageHDU         9   (4, 2800, 4675)   float32   \n",
      "  5  SPATIAL_BINID    1 ImageHDU         9   (76, 76, 4675)   int16   \n",
      "  6  LW_AGE_VORONOI    1 ImageHDU         9   (2, 2800, 4675)   float32   \n",
      "  7  MW_AGE_VORONOI    1 ImageHDU         9   (2, 2800, 4675)   float32   \n",
      "  8  LW_Z_VORONOI    1 ImageHDU         9   (2, 2800, 4675)   float32   \n",
      "  9  MW_Z_VORONOI    1 ImageHDU         9   (2, 2800, 4675)   float32   \n",
      " 10  E(B_V)_VORONOI    1 ImageHDU         8   (2800, 4675)   float32   \n",
      " 11  STELLAR_MASS_VORONOI    1 ImageHDU         9   (2, 2800, 4675)   float32   \n",
      " 12  STELLAR_MASS_REMNANT    1 ImageHDU         9   (4, 2800, 4675)   float32   \n",
      " 13  SURFACE_MASS_DENSITY_VORONOI    1 ImageHDU         9   (2, 2800, 4675)   float32   \n",
      " 14  STAR_FORMATION_HISTORY    1 ImageHDU        10   (3, 8, 2800, 4675)   float32   \n",
      " 15  SIGNAL_NOISE_VORONOI    1 ImageHDU         8   (2800, 4675)   float32   \n"
     ]
    }
   ],
   "source": [
    "lalala.info()"
   ]
  },
  {
   "cell_type": "code",
   "execution_count": null,
   "metadata": {},
   "outputs": [],
   "source": []
  },
  {
   "cell_type": "code",
   "execution_count": 79,
   "metadata": {},
   "outputs": [],
   "source": [
    "plot1=lalala[11].data[1]\n",
    "plot2=lalala[11].data[2]"
   ]
  },
  {
   "cell_type": "code",
   "execution_count": 116,
   "metadata": {},
   "outputs": [
    {
     "data": {
      "text/plain": [
       "numpy.ndarray"
      ]
     },
     "execution_count": 116,
     "metadata": {},
     "output_type": "execute_result"
    }
   ],
   "source": [
    "type(lalala[11].data[2])"
   ]
  },
  {
   "cell_type": "code",
   "execution_count": 117,
   "metadata": {},
   "outputs": [
    {
     "data": {
      "text/plain": [
       "(2800, 2)"
      ]
     },
     "execution_count": 117,
     "metadata": {},
     "output_type": "execute_result"
    }
   ],
   "source": [
    "np.shape(plot1)"
   ]
  },
  {
   "cell_type": "code",
   "execution_count": 118,
   "metadata": {},
   "outputs": [
    {
     "data": {
      "text/plain": [
       "array([[ 8.8200140e+00,  6.5209389e-02],\n",
       "       [ 8.6450930e+00,  1.9699287e-01],\n",
       "       [ 8.7641287e+00,  7.0210457e-02],\n",
       "       ...,\n",
       "       [-9.9990000e+03, -9.9990000e+03],\n",
       "       [-9.9990000e+03, -9.9990000e+03],\n",
       "       [-9.9990000e+03, -9.9990000e+03]], dtype=float32)"
      ]
     },
     "execution_count": 118,
     "metadata": {},
     "output_type": "execute_result"
    }
   ],
   "source": [
    "plot1"
   ]
  },
  {
   "cell_type": "code",
   "execution_count": 77,
   "metadata": {},
   "outputs": [
    {
     "data": {
      "text/latex": [
       "$[[0,~0,~0,~\\dots,~0,~0,~0],~\n",
       " [0,~0,~0,~\\dots,~0,~0,~0],~\n",
       " [0,~0,~0,~\\dots,~0,~0,~0],~\n",
       " \\dots,~\n",
       " [0,~0,~0,~\\dots,~0,~0,~0],~\n",
       " [0,~0,~0,~\\dots,~0,~0,~0],~\n",
       " [0,~0,~0,~\\dots,~0,~0,~0]] \\; \\mathrm{1 \\times 10^{-17}\\,\\frac{erg}{s\\,spaxel\\,cm^{2}}}$"
      ],
      "text/plain": [
       "<Marvin Map (property='emline_gflux_nii_6585')>\n",
       "[[0. 0. 0. ... 0. 0. 0.]\n",
       " [0. 0. 0. ... 0. 0. 0.]\n",
       " [0. 0. 0. ... 0. 0. 0.]\n",
       " ...\n",
       " [0. 0. 0. ... 0. 0. 0.]\n",
       " [0. 0. 0. ... 0. 0. 0.]\n",
       " [0. 0. 0. ... 0. 0. 0.]] 1e-17 erg / (cm2 s spaxel)"
      ]
     },
     "execution_count": 77,
     "metadata": {},
     "output_type": "execute_result"
    }
   ],
   "source": [
    "nii"
   ]
  },
  {
   "cell_type": "code",
   "execution_count": 81,
   "metadata": {},
   "outputs": [],
   "source": [
    "plt.imshow?"
   ]
  },
  {
   "cell_type": "code",
   "execution_count": 72,
   "metadata": {},
   "outputs": [
    {
     "data": {
      "image/png": "[encoded data removed]",
      "text/plain": [
       "<Figure size 432x288 with 1 Axes>"
      ]
     },
     "metadata": {
      "needs_background": "light"
     },
     "output_type": "display_data"
    }
   ],
   "source": [
    "plt.imshow(plot1, cmap= 'gray');\n",
    "#plt.colorbar();\n",
    "plt.show();"
   ]
  },
  {
   "cell_type": "markdown",
   "metadata": {},
   "source": [
    "### 从Marvin获取stellar mass数据及surface mass density"
   ]
  },
  {
   "cell_type": "code",
   "execution_count": 83,
   "metadata": {},
   "outputs": [],
   "source": [
    "from __future__ import print_function, division, absolute_import"
   ]
  },
  {
   "cell_type": "code",
   "execution_count": 86,
   "metadata": {},
   "outputs": [],
   "source": [
    "from marvin import config\n",
    "config.setRelease('DR15')"
   ]
  },
  {
   "cell_type": "code",
   "execution_count": 1,
   "metadata": {},
   "outputs": [
    {
     "name": "stdout",
     "output_type": "stream",
     "text": [
      "INFO: No release version set. Setting default to DR15\n"
     ]
    }
   ],
   "source": [
    "from marvin.tools.query import Query"
   ]
  },
  {
   "cell_type": "code",
   "execution_count": 2,
   "metadata": {},
   "outputs": [
    {
     "name": "stderr",
     "output_type": "stream",
     "text": [
      "/root/anaconda3/lib/python3.7/site-packages/marvin/tools/query.py:236: MarvinUserWarning: No local database found. Cannot perform queries.\n",
      "  warnings.warn('No local database found. Cannot perform queries.', MarvinUserWarning)\n"
     ]
    },
    {
     "data": {
      "text/plain": [
       "<ResultSet(set=1.0/1, index=0:22, count_in_set=22, total=22)>\n",
       "[ResultRow(mangaid='1-134760', plateifu='8555-12701', sersic_mass=561190000000.0),\n",
       " ResultRow(mangaid='1-134760', plateifu='8600-9102', sersic_mass=561190000000.0),\n",
       " ResultRow(mangaid='1-146420', plateifu='8938-3704', sersic_mass=440193000000.0),\n",
       " ResultRow(mangaid='1-176803', plateifu='8613-12705', sersic_mass=498718000000.0),\n",
       " ResultRow(mangaid='1-177135', plateifu='8613-6102', sersic_mass=339921000000.0),\n",
       " ResultRow(mangaid='1-180153', plateifu='8616-12703', sersic_mass=366874000000.0),\n",
       " ResultRow(mangaid='1-217041', plateifu='8247-9102', sersic_mass=328593000000.0),\n",
       " ResultRow(mangaid='1-254532', plateifu='8454-1902', sersic_mass=1355340000000.0),\n",
       " ResultRow(mangaid='1-256301', plateifu='8258-9102', sersic_mass=7116800000000.0),\n",
       " ResultRow(mangaid='1-265907', plateifu='8333-12702', sersic_mass=711371000000.0),\n",
       " ResultRow(mangaid='1-278075', plateifu='8257-6104', sersic_mass=369127000000.0),\n",
       " ResultRow(mangaid='1-283711', plateifu='8317-1901', sersic_mass=2579810000000.0),\n",
       " ResultRow(mangaid='1-295303', plateifu='9048-3703', sersic_mass=314463000000.0),\n",
       " ResultRow(mangaid='1-314409', plateifu='9024-12705', sersic_mass=506441000000.0),\n",
       " ResultRow(mangaid='1-317388', plateifu='9888-6104', sersic_mass=349033000000.0),\n",
       " ResultRow(mangaid='1-338090', plateifu='8131-3701', sersic_mass=1150580000000.0),\n",
       " ResultRow(mangaid='1-374107', plateifu='9045-12705', sersic_mass=326909000000.0),\n",
       " ResultRow(mangaid='1-377378', plateifu='8132-6102', sersic_mass=513575000000.0),\n",
       " ResultRow(mangaid='1-377841', plateifu='8133-12705', sersic_mass=317071000000.0),\n",
       " ResultRow(mangaid='1-45787', plateifu='8725-12704', sersic_mass=915778000000.0),\n",
       " ResultRow(mangaid='1-550913', plateifu='8615-12704', sersic_mass=452247000000.0),\n",
       " ResultRow(mangaid='1-71481', plateifu='8717-1901', sersic_mass=321271000000.0)]"
      ]
     },
     "execution_count": 2,
     "metadata": {},
     "output_type": "execute_result"
    }
   ],
   "source": [
    "# 最简单的查询\n",
    "myquery1 = 'nsa.sersic_mass > 3e11'\n",
    "q1 = Query(search_filter=myquery1)\n",
    "r1 = q1.run()\n",
    "r1.results"
   ]
  },
  {
   "cell_type": "code",
   "execution_count": 93,
   "metadata": {},
   "outputs": [
    {
     "data": {
      "text/plain": [
       "<ResultSet(set=1.0/1, index=0:7, count_in_set=7, total=7)>\n",
       "[ResultRow(mangaid='1-176803', plateifu='8613-12705', sersic_mass=498718000000.0, z=0.0992977),\n",
       " ResultRow(mangaid='1-177135', plateifu='8613-6102', sersic_mass=339921000000.0, z=0.0863756),\n",
       " ResultRow(mangaid='1-256301', plateifu='8258-9102', sersic_mass=7116800000000.0, z=0.0961407),\n",
       " ResultRow(mangaid='1-283711', plateifu='8317-1901', sersic_mass=2579810000000.0, z=0.094444),\n",
       " ResultRow(mangaid='1-314409', plateifu='9024-12705', sersic_mass=506441000000.0, z=0.0601609),\n",
       " ResultRow(mangaid='1-338090', plateifu='8131-3701', sersic_mass=1150580000000.0, z=0.0806724),\n",
       " ResultRow(mangaid='1-377378', plateifu='8132-6102', sersic_mass=513575000000.0, z=0.0265521)]"
      ]
     },
     "execution_count": 93,
     "metadata": {},
     "output_type": "execute_result"
    }
   ],
   "source": [
    "# 两个条件限定查询\n",
    "myquery2 = 'nsa.sersic_mass > 3e11 AND nsa.z < 0.1'\n",
    "q2 = Query(search_filter=myquery2)\n",
    "r2 = q2.run()\n",
    "r2.results"
   ]
  },
  {
   "cell_type": "code",
   "execution_count": 94,
   "metadata": {
    "collapsed": true
   },
   "outputs": [
    {
     "data": {
      "text/plain": [
       "<ResultSet(set=1.0/1, index=0:36, count_in_set=36, total=36)>\n",
       "[ResultRow(mangaid='1-145922', plateifu='8149-12704', sersic_mass=42171500000.0, elpetro_ba=0.986297, ifudesign_name='12704', z=0.026607),\n",
       " ResultRow(mangaid='1-149507', plateifu='8997-12705', sersic_mass=28400300000.0, elpetro_ba=0.953317, ifudesign_name='12705', z=0.0322763),\n",
       " ResultRow(mangaid='1-176803', plateifu='8613-12705', sersic_mass=498718000000.0, elpetro_ba=0.789834, ifudesign_name='12705', z=0.0992977),\n",
       " ResultRow(mangaid='1-177135', plateifu='8613-6102', sersic_mass=339921000000.0, elpetro_ba=0.94393, ifudesign_name='6102', z=0.0863756),\n",
       " ResultRow(mangaid='1-197186', plateifu='9864-12701', sersic_mass=119911000000.0, elpetro_ba=0.970726, ifudesign_name='12701', z=0.074555),\n",
       " ResultRow(mangaid='1-198212', plateifu='9034-12704', sersic_mass=87799700000.0, elpetro_ba=0.976644, ifudesign_name='12704', z=0.037839),\n",
       " ResultRow(mangaid='1-210881', plateifu='8604-12701', sersic_mass=113843000000.0, elpetro_ba=0.980852, ifudesign_name='12701', z=0.0350385),\n",
       " ResultRow(mangaid='1-211017', plateifu='8312-12703', sersic_mass=25590900000.0, elpetro_ba=0.961728, ifudesign_name='12703', z=0.0358501),\n",
       " ResultRow(mangaid='1-218295', plateifu='8942-12704', sersic_mass=2184700000.0, elpetro_ba=0.955902, ifudesign_name='12704', z=0.0376719),\n",
       " ResultRow(mangaid='1-251764', plateifu='8335-12702', sersic_mass=1883260000.0, elpetro_ba=0.956245, ifudesign_name='12702', z=0.0188389),\n",
       " ResultRow(mangaid='1-256301', plateifu='8258-9102', sersic_mass=7116800000000.0, elpetro_ba=0.969656, ifudesign_name='9102', z=0.0961407),\n",
       " ResultRow(mangaid='1-258425', plateifu='8261-12702', sersic_mass=84189200000.0, elpetro_ba=0.989192, ifudesign_name='12702', z=0.112247),\n",
       " ResultRow(mangaid='1-260733', plateifu='8447-12701', sersic_mass=15064300000.0, elpetro_ba=0.950636, ifudesign_name='12701', z=0.0507247),\n",
       " ResultRow(mangaid='1-265863', plateifu='8333-12705', sersic_mass=8705150000.0, elpetro_ba=0.950169, ifudesign_name='12705', z=0.0259548),\n",
       " ResultRow(mangaid='1-272361', plateifu='9027-12703', sersic_mass=38981600000.0, elpetro_ba=0.953689, ifudesign_name='12703', z=0.0460632),\n",
       " ResultRow(mangaid='1-283711', plateifu='8317-1901', sersic_mass=2579810000000.0, elpetro_ba=0.60888, ifudesign_name='1901', z=0.094444),\n",
       " ResultRow(mangaid='12-84674', plateifu='7443-12702', sersic_mass=25869000000.0, elpetro_ba=0.96167, ifudesign_name='12702', z=0.0575241),\n",
       " ResultRow(mangaid='1-285095', plateifu='8319-12701', sersic_mass=132829000000.0, elpetro_ba=0.961789, ifudesign_name='12701', z=0.0571118),\n",
       " ResultRow(mangaid='1-314013', plateifu='9024-12703', sersic_mass=86073400000.0, elpetro_ba=0.96122, ifudesign_name='12703', z=0.086961),\n",
       " ResultRow(mangaid='1-314409', plateifu='9024-12705', sersic_mass=506441000000.0, elpetro_ba=0.826747, ifudesign_name='12705', z=0.0601609),\n",
       " ResultRow(mangaid='1-322277', plateifu='9871-12704', sersic_mass=2458230000.0, elpetro_ba=0.973166, ifudesign_name='12704', z=0.0180004),\n",
       " ResultRow(mangaid='1-338090', plateifu='8131-3701', sersic_mass=1150580000000.0, elpetro_ba=0.744847, ifudesign_name='3701', z=0.0806724),\n",
       " ResultRow(mangaid='1-338629', plateifu='8132-12703', sersic_mass=157488000000.0, elpetro_ba=0.959828, ifudesign_name='12703', z=0.116056),\n",
       " ResultRow(mangaid='1-37695', plateifu='8080-12705', sersic_mass=12024000000.0, elpetro_ba=0.962273, ifudesign_name='12705', z=0.0282305),\n",
       " ResultRow(mangaid='1-377378', plateifu='8132-6102', sersic_mass=513575000000.0, elpetro_ba=0.674425, ifudesign_name='6102', z=0.0265521),\n",
       " ResultRow(mangaid='1-385222', plateifu='9501-12703', sersic_mass=38873200000.0, elpetro_ba=0.993161, ifudesign_name='12703', z=0.0579295),\n",
       " ResultRow(mangaid='1-386272', plateifu='8987-12701', sersic_mass=202142000000.0, elpetro_ba=0.975283, ifudesign_name='12701', z=0.143701),\n",
       " ResultRow(mangaid='1-38894', plateifu='8156-12703', sersic_mass=3576410000.0, elpetro_ba=0.975828, ifudesign_name='12703', z=0.0417053),\n",
       " ResultRow(mangaid='1-402409', plateifu='8330-12705', sersic_mass=148245000000.0, elpetro_ba=0.959511, ifudesign_name='12705', z=0.117655),\n",
       " ResultRow(mangaid='1-45151', plateifu='9487-12702', sersic_mass=2684040000.0, elpetro_ba=0.973668, ifudesign_name='12702', z=0.0229193),\n",
       " ResultRow(mangaid='1-456894', plateifu='9863-12703', sersic_mass=4969600000.0, elpetro_ba=0.953238, ifudesign_name='12703', z=0.0248898),\n",
       " ResultRow(mangaid='1-586585', plateifu='8454-12705', sersic_mass=51579100000.0, elpetro_ba=0.968421, ifudesign_name='12705', z=0.0234362),\n",
       " ResultRow(mangaid='1-593748', plateifu='9891-12703', sersic_mass=931687000.0, elpetro_ba=0.968276, ifudesign_name='12703', z=0.0175355),\n",
       " ResultRow(mangaid='1-633196', plateifu='8485-12703', sersic_mass=84212200000.0, elpetro_ba=0.95488, ifudesign_name='12703', z=0.0380864),\n",
       " ResultRow(mangaid='1-90849', plateifu='8481-12703', sersic_mass=49861900000.0, elpetro_ba=0.973022, ifudesign_name='12703', z=0.0661473),\n",
       " ResultRow(mangaid='1-95112', plateifu='8588-12703', sersic_mass=26217600000.0, elpetro_ba=0.965881, ifudesign_name='12703', z=0.0327634)]"
      ]
     },
     "execution_count": 94,
     "metadata": {},
     "output_type": "execute_result"
    }
   ],
   "source": [
    "# 复合搜索\n",
    "myquery3 = '(nsa.sersic_mass > 3e11 AND nsa.z < 0.1) OR (ifu.name=127* AND nsa.elpetro_ba >= 0.95)'\n",
    "q3 = Query(search_filter=myquery3)\n",
    "r3 = q3.run()\n",
    "r3.results"
   ]
  },
  {
   "cell_type": "code",
   "execution_count": 100,
   "metadata": {},
   "outputs": [
    {
     "data": {
      "text/plain": [
       "[<ParameterGroup name=Metadata, n_parameters=7>,\n",
       " <ParameterGroup name=NSA Catalog, n_parameters=11>]"
      ]
     },
     "execution_count": 100,
     "metadata": {},
     "output_type": "execute_result"
    }
   ],
   "source": [
    "# 查询可以用的参数有哪些\n",
    "q = Query()\n",
    "q.get_available_params()"
   ]
  },
  {
   "cell_type": "code",
   "execution_count": 107,
   "metadata": {},
   "outputs": [],
   "source": [
    "# 好像是？？？输出csv文件\n",
    "q.datamodel.write_csv?"
   ]
  },
  {
   "cell_type": "code",
   "execution_count": 113,
   "metadata": {},
   "outputs": [],
   "source": [
    "Query?"
   ]
  },
  {
   "cell_type": "code",
   "execution_count": 96,
   "metadata": {},
   "outputs": [],
   "source": [
    "# 通过一定条件限定，返回相应的其他参数的值\n",
    "myquery5 = 'nsa.z > 0.1'\n",
    "bonusparams5 = ['cube.ra', 'cube.dec']\n",
    "# bonusparams5 = 'cube.ra'  # This works too\n",
    "\n",
    "q5 = Query(search_filter=myquery5, return_params=bonusparams5)\n",
    "r5 = q5.run()"
   ]
  },
  {
   "cell_type": "code",
   "execution_count": 98,
   "metadata": {},
   "outputs": [
    {
     "data": {
      "text/plain": [
       "<ResultSet(set=1.0/1, index=0:332, count_in_set=332, total=332)>\n",
       "[ResultRow(mangaid='1-109308', plateifu='8082-12704', ra=49.9495621925, dec=-0.22114540619, z=0.131681),\n",
       " ResultRow(mangaid='1-109419', plateifu='8085-3702', ra=51.22895826, dec=0.605956492656, z=0.103253),\n",
       " ResultRow(mangaid='1-109493', plateifu='8156-9101', ra=56.4251416467, dec=-0.378460418812, z=0.10932),\n",
       " ResultRow(mangaid='1-113292', plateifu='7972-9101', ra=316.043643235, dec=8.99511499267, z=0.102271),\n",
       " ResultRow(mangaid='1-113468', plateifu='7815-3701', ra=317.918280237, dec=9.34565198917, z=0.136342),\n",
       " ResultRow(mangaid='1-113476', plateifu='8618-12705', ra=317.568825378, dec=10.4088108392, z=0.118158),\n",
       " ResultRow(mangaid='1-113521', plateifu='7815-6103', ra=317.388736588, dec=11.5029226993, z=0.135043),\n",
       " ResultRow(mangaid='1-113668', plateifu='7815-6102', ra=318.827736002, dec=10.4968107833, z=0.129233),\n",
       " ResultRow(mangaid='1-113675', plateifu='8618-3702', ra=318.775640877, dec=10.0984558649, z=0.129881),\n",
       " ResultRow(mangaid='1-114973', plateifu='7977-12702', ra=332.238573881, dec=11.8776065621, z=0.12046),\n",
       " ResultRow(mangaid='1-121532', plateifu='8717-1902', ra=118.09111, dec=34.32657, z=0.139965),\n",
       " ResultRow(mangaid='1-121717', plateifu='8717-6102', ra=118.803430825, dec=35.5967997097, z=0.109778),\n",
       " ResultRow(mangaid='1-121737', plateifu='8717-6103', ra=118.291306687, dec=35.9325202653, z=0.113369),\n",
       " ResultRow(mangaid='1-121747', plateifu='8717-12702', ra=118.173710436, dec=35.3209421817, z=0.130424),\n",
       " ResultRow(mangaid='1-133652', plateifu='8156-6103', ra=54.5266330298, dec=0.824510054102, z=0.13901),\n",
       " ResultRow(mangaid='1-134760', plateifu='8600-9102', ra=245.362216361, dec=42.76129006, z=0.138175),\n",
       " ResultRow(mangaid='1-134760', plateifu='8555-12701', ra=245.362216361, dec=42.76129006, z=0.138175),\n",
       " ResultRow(mangaid='1-134884', plateifu='8555-12704', ra=245.194377712, dec=43.1532077493, z=0.13407),\n",
       " ResultRow(mangaid='1-134978', plateifu='8555-3702', ra=246.42636598, dec=43.9317741891, z=0.133139),\n",
       " ResultRow(mangaid='1-134994', plateifu='8555-6102', ra=246.881870865, dec=43.4062635412, z=0.129686),\n",
       " ResultRow(mangaid='1-136292', plateifu='8606-6102', ra=255.350049437, dec=37.3828022848, z=0.121731),\n",
       " ResultRow(mangaid='1-137548', plateifu='8440-6101', ra=134.674576789, dec=41.2364198815, z=0.147354),\n",
       " ResultRow(mangaid='1-146420', plateifu='8938-3704', ra=120.712914963, dec=29.9644325153, z=0.14372),\n",
       " ResultRow(mangaid='1-148086', plateifu='8452-3703', ra=156.699612286, dec=48.1290396768, z=0.133195),\n",
       " ResultRow(mangaid='1-149270', plateifu='8948-6104', ra=168.300903481, dec=50.2645926072, z=0.115761),\n",
       " ResultRow(mangaid='1-150013', plateifu='8991-12702', ra=176.13182454, dec=52.6850796771, z=0.122456),\n",
       " ResultRow(mangaid='1-150232', plateifu='8991-6102', ra=177.217977736, dec=51.5521761435, z=0.132561),\n",
       " ResultRow(mangaid='1-152618', plateifu='8145-12702', ra=115.963601541, dec=28.3577842123, z=0.106332),\n",
       " ResultRow(mangaid='1-152936', plateifu='8936-6103', ra=117.672311798, dec=31.6424041483, z=0.119624),\n",
       " ResultRow(mangaid='1-156039', plateifu='8439-3704', ra=143.940659163, dec=49.0232113878, z=0.114699),\n",
       " ResultRow(mangaid='1-156158', plateifu='8439-3703', ra=144.475988638, dec=50.9890991486, z=0.138619),\n",
       " ResultRow(mangaid='1-166691', plateifu='8461-9101', ra=146.04735274, dec=42.9000410408, z=0.105154),\n",
       " ResultRow(mangaid='1-167342', plateifu='8456-6103', ra=152.130067521, dec=46.0515501715, z=0.101413),\n",
       " ResultRow(mangaid='1-167356', plateifu='8456-6104', ra=152.458553899, dec=45.8509105794, z=0.102771),\n",
       " ResultRow(mangaid='1-167356', plateifu='8454-6103', ra=152.458553899, dec=45.8509105794, z=0.102771),\n",
       " ResultRow(mangaid='1-167403', plateifu='8454-9101', ra=153.92384006, dec=45.367076756, z=0.137721),\n",
       " ResultRow(mangaid='1-167519', plateifu='8454-12704', ra=153.914679727, dec=44.6568673627, z=0.112397),\n",
       " ResultRow(mangaid='1-173903', plateifu='8948-1902', ra=166.311935076, dec=49.6589085644, z=0.116572),\n",
       " ResultRow(mangaid='1-173904', plateifu='8948-9102', ra=166.157979231, dec=49.6757871692, z=0.114195),\n",
       " ResultRow(mangaid='1-174036', plateifu='8947-6101', ra=171.30052685, dec=48.7357893472, z=0.110067),\n",
       " ResultRow(mangaid='1-174074', plateifu='8946-6104', ra=170.288543252, dec=48.0416546994, z=0.12623),\n",
       " ResultRow(mangaid='1-174952', plateifu='8989-12701', ra=176.326906753, dec=49.649766383, z=0.1138),\n",
       " ResultRow(mangaid='1-176538', plateifu='8613-12704', ra=255.44265051, dec=35.0448192561, z=0.106531),\n",
       " ResultRow(mangaid='1-177027', plateifu='9883-6104', ra=256.531782404, dec=33.4828436152, z=0.100701),\n",
       " ResultRow(mangaid='1-177049', plateifu='9185-3703', ra=256.84004912, dec=33.9705863637, z=0.105788),\n",
       " ResultRow(mangaid='1-177493', plateifu='7960-3701', ra=257.085762619, dec=31.7469152793, z=0.108119),\n",
       " ResultRow(mangaid='1-177685', plateifu='9185-12702', ra=256.84043641, dec=33.388215607, z=0.101144),\n",
       " ResultRow(mangaid='1-177735', plateifu='7958-3701', ra=257.533852961, dec=33.5989044347, z=0.110113),\n",
       " ResultRow(mangaid='1-177796', plateifu='7962-3702', ra=259.063747798, dec=28.0140058716, z=0.107199),\n",
       " ResultRow(mangaid='1-178442', plateifu='9085-3703', ra=260.464506436, dec=27.264680666, z=0.104525),\n",
       " ResultRow(mangaid='1-178442', plateifu='7962-6101', ra=260.464506436, dec=27.264680666, z=0.104525),\n",
       " ResultRow(mangaid='1-178482', plateifu='7962-9101', ra=259.168654353, dec=27.9765101547, z=0.10547),\n",
       " ResultRow(mangaid='1-178485', plateifu='9085-6102', ra=259.148694972, dec=27.7789835344, z=0.119544),\n",
       " ResultRow(mangaid='1-178578', plateifu='9085-12704', ra=260.763780217, dec=28.1178055011, z=0.10403),\n",
       " ResultRow(mangaid='1-180153', plateifu='8616-12703', ra=322.612307729, dec=-0.006758194, z=0.1375),\n",
       " ResultRow(mangaid='1-180298', plateifu='8616-12701', ra=322.253154429, dec=0.182613494027, z=0.133437),\n",
       " ResultRow(mangaid='1-180299', plateifu='8616-3702', ra=322.115240126, dec=0.182055076662, z=0.138235),\n",
       " ResultRow(mangaid='1-180308', plateifu='8616-3703', ra=322.510226454, dec=0.464198663396, z=0.135063),\n",
       " ResultRow(mangaid='1-180381', plateifu='7968-6103', ra=323.680144813, dec=0.385500647446, z=0.120822),\n",
       " ResultRow(mangaid='1-180537', plateifu='7968-6102', ra=323.178626083, dec=0.771349187347, z=0.119631),\n",
       " ResultRow(mangaid='1-180576', plateifu='7968-3703', ra=323.624686553, dec=0.466014347153, z=0.11881),\n",
       " ResultRow(mangaid='1-187034', plateifu='9000-12701', ra=170.182495688, dec=53.7270639975, z=0.106866),\n",
       " ResultRow(mangaid='1-187505', plateifu='9000-9102', ra=169.831581113, dec=53.6882024614, z=0.101894),\n",
       " ResultRow(mangaid='1-187554', plateifu='9000-9101', ra=168.743747542, dec=53.6249599457, z=0.104849),\n",
       " ResultRow(mangaid='1-188545', plateifu='8995-6103', ra=175.544688446, dec=55.4582523542, z=0.13339),\n",
       " ResultRow(mangaid='1-188548', plateifu='8995-3702', ra=175.53406029, dec=55.4236012526, z=0.13492),\n",
       " ResultRow(mangaid='1-196580', plateifu='8309-6102', ra=208.507979635, dec=51.904985679, z=0.143571),\n",
       " ResultRow(mangaid='1-196737', plateifu='8309-12702', ra=207.368445258, dec=53.2460453414, z=0.142054),\n",
       " ResultRow(mangaid='1-197718', plateifu='8595-6101', ra=219.031216217, dec=49.7203386644, z=0.125351),\n",
       " ResultRow(mangaid='1-197867', plateifu='8597-3701', ra=224.835531726, dec=47.5670512067, z=0.124553),\n",
       " ResultRow(mangaid='1-197946', plateifu='9033-6103', ra=223.583758778, dec=47.0061875972, z=0.126002),\n",
       " ResultRow(mangaid='1-198718', plateifu='9034-12702', ra=226.934003529, dec=46.6784437629, z=0.149588),\n",
       " ResultRow(mangaid='1-198879', plateifu='9870-3704', ra=231.274360604, dec=44.053413608, z=0.142629),\n",
       " ResultRow(mangaid='1-199224', plateifu='9870-9102', ra=233.165628887, dec=43.0578073386, z=0.142737),\n",
       " ResultRow(mangaid='1-201464', plateifu='8146-6104', ra=118.307046564, dec=28.8282978926, z=0.142805),\n",
       " ResultRow(mangaid='1-201479', plateifu='8937-3703', ra=118.496192035, dec=29.5793914158, z=0.102483),\n",
       " ResultRow(mangaid='1-201742', plateifu='8938-6103', ra=119.791504213, dec=29.7810667294, z=0.105226),\n",
       " ResultRow(mangaid='1-202100', plateifu='8155-12705', ra=53.5649118233, dec=-1.18229114429, z=0.139812),\n",
       " ResultRow(mangaid='1-205522', plateifu='8623-3703', ra=310.757046339, dec=1.13351382359, z=0.123344),\n",
       " ResultRow(mangaid='1-207943', plateifu='8592-12703', ra=222.500765253, dec=54.084510913, z=0.141382),\n",
       " ResultRow(mangaid='1-209049', plateifu='8486-3701', ra=236.092836031, dec=47.8535814068, z=0.128998),\n",
       " ResultRow(mangaid='1-209607', plateifu='8486-3704', ra=236.299300223, dec=47.0497223315, z=0.115634),\n",
       " ResultRow(mangaid='1-210547', plateifu='8979-9102', ra=243.830304469, dec=42.0376366038, z=0.138583),\n",
       " ResultRow(mangaid='1-210578', plateifu='8979-12702', ra=243.623211686, dec=41.580727492, z=0.137504),\n",
       " ResultRow(mangaid='1-210700', plateifu='8588-3701', ra=248.140561423, dec=39.1310206842, z=0.130272),\n",
       " ResultRow(mangaid='1-210700', plateifu='8603-12701', ra=248.140561423, dec=39.1310206842, z=0.130272),\n",
       " ResultRow(mangaid='1-216984', plateifu='8440-12702', ra=135.065441378, dec=40.9179727701, z=0.147426),\n",
       " ResultRow(mangaid='1-217041', plateifu='8247-9102', ra=137.441277003, dec=41.9558696113, z=0.140035),\n",
       " ResultRow(mangaid='1-217376', plateifu='8458-9101', ra=146.091834548, dec=44.710759598, z=0.129503),\n",
       " ResultRow(mangaid='1-217499', plateifu='8458-6103', ra=146.2936, dec=46.0367, z=0.142731),\n",
       " ResultRow(mangaid='1-217854', plateifu='8726-1902', ra=117.57765587, dec=23.1782300044, z=0.10178),\n",
       " ResultRow(mangaid='1-218306', plateifu='9509-9101', ra=123.07142398, dec=26.3070124946, z=0.110021),\n",
       " ResultRow(mangaid='1-218427', plateifu='8942-3702', ra=124.34231312, dec=27.7962046205, z=0.149571),\n",
       " ResultRow(mangaid='1-221789', plateifu='8454-6102', ra=153.53547927, dec=44.175746477, z=0.113595),\n",
       " ResultRow(mangaid='1-22301', plateifu='7992-6101', ra=253.40555905, dec=63.0312699156, z=0.105153),\n",
       " ResultRow(mangaid='1-229078', plateifu='8086-6101', ra=57.4904158242, dec=0.0743329651936, z=0.131564),\n",
       " ResultRow(mangaid='1-22942', plateifu='7992-12705', ra=254.39542133, dec=62.8724834807, z=0.104958),\n",
       " ResultRow(mangaid='1-22948', plateifu='7992-9102', ra=254.542083999, dec=62.4156479613, z=0.119399),\n",
       " ResultRow(mangaid='1-230021', plateifu='9509-12705', ra=124.032229661, dec=25.0064130669, z=0.104371),\n",
       " ResultRow(mangaid='1-232720', plateifu='8462-3702', ra=144.400982963, dec=38.2772954639, z=0.122993),\n",
       " ResultRow(mangaid='1-23372', plateifu='8624-12701', ra=259.163918329, dec=59.2537114887, z=0.128108),\n",
       " ResultRow(mangaid='1-236081', plateifu='8980-6101', ra=226.319207522, dec=41.7414499636, z=0.104776),\n",
       " ResultRow(mangaid='1-236303', plateifu='9871-9102', ra=228.982653056, dec=41.4311258774, z=0.138959),\n",
       " ResultRow(mangaid='1-24519', plateifu='9196-12705', ra=261.601970595, dec=53.0145154646, z=0.119993),\n",
       " ResultRow(mangaid='1-245940', plateifu='8595-9101', ra=220.126815592, dec=50.9986458484, z=0.131465),\n",
       " ResultRow(mangaid='1-246177', plateifu='8547-1902', ra=219.477235278, dec=52.9785224378, z=0.133934),\n",
       " ResultRow(mangaid='1-246216', plateifu='8592-6103', ra=221.226039662, dec=52.4468152862, z=0.14584),\n",
       " ResultRow(mangaid='1-246270', plateifu='9865-12703', ra=223.139811668, dec=50.9228368723, z=0.131037),\n",
       " ResultRow(mangaid='1-247669', plateifu='9035-6101', ra=236.848238911, dec=43.4813880657, z=0.103284),\n",
       " ResultRow(mangaid='1-247674', plateifu='9035-6102', ra=236.654443702, dec=43.6836515891, z=0.101173),\n",
       " ResultRow(mangaid='1-251269', plateifu='8332-12704', ra=209.163574437, dec=43.585640819, z=0.103091),\n",
       " ResultRow(mangaid='1-251278', plateifu='8332-6102', ra=209.234177154, dec=43.3134779654, z=0.149511),\n",
       " ResultRow(mangaid='1-251871', plateifu='8333-6102', ra=214.506766167, dec=41.8276427183, z=0.102656),\n",
       " ResultRow(mangaid='1-254532', plateifu='8454-1902', ra=154.763420682, dec=44.0330341929, z=0.14498),\n",
       " ResultRow(mangaid='1-254642', plateifu='8253-6103', ra=156.988511384, dec=43.3182682084, z=0.105768),\n",
       " ResultRow(mangaid='1-254717', plateifu='8455-6103', ra=156.356094112, dec=40.3483200486, z=0.11615),\n",
       " ResultRow(mangaid='1-255890', plateifu='8254-6101', ra=163.249900532, dec=43.0486136514, z=0.147919),\n",
       " ResultRow(mangaid='1-256832', plateifu='8466-3704', ra=169.513447059, dec=45.1130288476, z=0.107238),\n",
       " ResultRow(mangaid='1-25771', plateifu='9196-12702', ra=260.555540079, dec=54.3180746625, z=0.111539),\n",
       " ResultRow(mangaid='1-258425', plateifu='8261-12702', ra=182.983754904, dec=45.7899295636, z=0.112247),\n",
       " ResultRow(mangaid='1-258599', plateifu='8464-6101', ra=186.180996627, dec=44.4107711556, z=0.125582),\n",
       " ResultRow(mangaid='1-25911', plateifu='7991-9102', ra=260.346989853, dec=55.876526099, z=0.139784),\n",
       " ResultRow(mangaid='1-259368', plateifu='8317-6103', ra=193.270198644, dec=44.9603482345, z=0.105905),\n",
       " ResultRow(mangaid='1-25937', plateifu='7991-12705', ra=261.115608768, dec=56.2960102323, z=0.113153),\n",
       " ResultRow(mangaid='1-260377', plateifu='8447-6102', ra=207.569449754, dec=39.6364270051, z=0.122408),\n",
       " ResultRow(mangaid='1-260743', plateifu='8447-6104', ra=208.392613685, dec=38.9965989403, z=0.146998),\n",
       " ResultRow(mangaid='1-262830', plateifu='9039-9101', ra=229.000344555, dec=34.356850419, z=0.1253),\n",
       " ResultRow(mangaid='1-262831', plateifu='9039-1901', ra=228.619440347, dec=34.2498112951, z=0.113919),\n",
       " ResultRow(mangaid='1-263083', plateifu='9039-3702', ra=228.47670258, dec=34.5300920808, z=0.114259),\n",
       " ResultRow(mangaid='1-263104', plateifu='9039-12703', ra=228.978664559, dec=34.7295583451, z=0.110895),\n",
       " ResultRow(mangaid='1-265849', plateifu='8333-6104', ra=214.825638862, dec=42.6742310975, z=0.130282),\n",
       " ResultRow(mangaid='1-265883', plateifu='8333-6103', ra=214.464654219, dec=43.418240452, z=0.106992),\n",
       " ResultRow(mangaid='1-265907', plateifu='8333-12702', ra=214.328094382, dec=43.5203795212, z=0.137158),\n",
       " ResultRow(mangaid='1-266074', plateifu='8333-12704', ra=214.060210955, dec=43.9229334765, z=0.13772),\n",
       " ResultRow(mangaid='1-266074', plateifu='8329-3703', ra=214.060210955, dec=43.9229334765, z=0.13772),\n",
       " ResultRow(mangaid='1-266106', plateifu='8329-12705', ra=214.547722959, dec=44.4742758113, z=0.141613),\n",
       " ResultRow(mangaid='1-266288', plateifu='8333-3703', ra=215.449747404, dec=42.327856382, z=0.135462),\n",
       " ResultRow(mangaid='1-266328', plateifu='8333-9102', ra=215.072632347, dec=43.0627986743, z=0.136102),\n",
       " ResultRow(mangaid='1-266817', plateifu='8980-12702', ra=223.485811547, dec=41.357060863, z=0.129146),\n",
       " ResultRow(mangaid='1-269331', plateifu='9028-6104', ra=243.766572607, dec=30.079626171, z=0.138746),\n",
       " ResultRow(mangaid='1-269401', plateifu='9025-6102', ra=245.437898238, dec=28.4302841191, z=0.115912),\n",
       " ResultRow(mangaid='1-269632', plateifu='9049-1901', ra=247.560972961, dec=26.2064735616, z=0.131457),\n",
       " ResultRow(mangaid='1-270072', plateifu='9047-6103', ra=247.512498077, dec=25.7941338461, z=0.132226),\n",
       " ResultRow(mangaid='1-276590', plateifu='8254-6103', ra=162.989174052, dec=44.7601317834, z=0.140498),\n",
       " ResultRow(mangaid='1-277992', plateifu='8466-6101', ra=168.094030871, dec=44.8160370649, z=0.122333),\n",
       " ResultRow(mangaid='1-278075', plateifu='8257-6104', ra=166.106858433, dec=45.7817118443, z=0.142857),\n",
       " ResultRow(mangaid='1-278079', plateifu='8993-3704', ra=166.086573291, dec=46.0560974689, z=0.142683),\n",
       " ResultRow(mangaid='1-279120', plateifu='8466-3703', ra=169.539016286, dec=45.6186388631, z=0.111133),\n",
       " ResultRow(mangaid='1-279123', plateifu='8466-6104', ra=169.669552898, dec=45.5527255595, z=0.112604),\n",
       " ResultRow(mangaid='1-279314', plateifu='8946-12703', ra=171.013323097, dec=47.9707615331, z=0.140497),\n",
       " ResultRow(mangaid='1-281234', plateifu='8259-12705', ra=180.172706776, dec=43.3546289934, z=0.112711),\n",
       " ResultRow(mangaid='1-282114', plateifu='8263-3702', ra=185.037670436, dec=47.1335214433, z=0.112681),\n",
       " ResultRow(mangaid='1-282600', plateifu='8464-9101', ra=186.67567367, dec=43.7833156939, z=0.11154),\n",
       " ResultRow(mangaid='1-284031', plateifu='8465-6101', ra=195.522963799, dec=47.4969532797, z=0.143485),\n",
       " ResultRow(mangaid='1-284293', plateifu='8318-6102', ra=197.239319048, dec=45.9054469821, z=0.12908),\n",
       " ResultRow(mangaid='12-84670', plateifu='7443-3702', ra=230.598339798, dec=43.3677764021, z=0.110451),\n",
       " ResultRow(mangaid='1-285916', plateifu='8331-12702', ra=204.99108268, dec=41.3380714808, z=0.132899),\n",
       " ResultRow(mangaid='1-286795', plateifu='8329-9101', ra=211.25307421, dec=44.7524445135, z=0.108075),\n",
       " ResultRow(mangaid='1-286804', plateifu='8329-6102', ra=211.904865423, dec=44.4822692358, z=0.142887),\n",
       " ResultRow(mangaid='1-294992', plateifu='9050-12703', ra=246.329622049, dec=23.99029996, z=0.104957),\n",
       " ResultRow(mangaid='1-295303', plateifu='9048-3703', ra=246.172236769, dec=25.3282352307, z=0.128491),\n",
       " ResultRow(mangaid='1-295355', plateifu='9047-12704', ra=246.710983251, dec=25.891197099, z=0.110115),\n",
       " ResultRow(mangaid='1-295525', plateifu='9048-12705', ra=246.361870034, dec=24.2477520587, z=0.108401),\n",
       " ResultRow(mangaid='1-295839', plateifu='9047-3703', ra=247.07224692, dec=25.7037608471, z=0.130661),\n",
       " ResultRow(mangaid='1-297860', plateifu='9492-12702', ra=117.42263, dec=18.8618, z=0.11571),\n",
       " ResultRow(mangaid='1-298111', plateifu='9497-12705', ra=118.074345115, dec=19.5950803976, z=0.117007),\n",
       " ResultRow(mangaid='1-298114', plateifu='9497-6101', ra=118.113655409, dec=19.5401626458, z=0.115516),\n",
       " ResultRow(mangaid='1-298228', plateifu='9497-6103', ra=118.474514028, dec=20.7827704892, z=0.141057),\n",
       " ResultRow(mangaid='1-299166', plateifu='9507-12703', ra=128.622022349, dec=27.4298486443, z=0.129637),\n",
       " ResultRow(mangaid='1-299204', plateifu='9507-3702', ra=128.217219469, dec=27.0250925663, z=0.130735),\n",
       " ResultRow(mangaid='1-314386', plateifu='9024-9102', ra=224.007695632, dec=33.0413565224, z=0.133084),\n",
       " ResultRow(mangaid='1-314447', plateifu='9024-3704', ra=222.69172747, dec=33.1369855845, z=0.144172),\n",
       " ResultRow(mangaid='1-314449', plateifu='9024-12704', ra=222.961188028, dec=33.1829811841, z=0.102298),\n",
       " ResultRow(mangaid='1-315063', plateifu='9044-3702', ra=229.437391969, dec=31.0043844974, z=0.135897),\n",
       " ResultRow(mangaid='1-315276', plateifu='9045-6104', ra=228.723857449, dec=31.6566748302, z=0.116042),\n",
       " ResultRow(mangaid='1-315770', plateifu='9044-9102', ra=230.812461084, dec=30.9928422723, z=0.111024),\n",
       " ResultRow(mangaid='1-316296', plateifu='9042-6104', ra=233.969521776, dec=28.0552269095, z=0.118093),\n",
       " ResultRow(mangaid='1-316865', plateifu='9042-12705', ra=235.023897879, dec=28.0804506595, z=0.135443),\n",
       " ResultRow(mangaid='1-316933', plateifu='9041-3701', ra=235.540149707, dec=28.2569582583, z=0.115776),\n",
       " ResultRow(mangaid='1-317388', plateifu='9888-6104', ra=238.299759729, dec=27.555750278, z=0.147435),\n",
       " ResultRow(mangaid='1-318330', plateifu='9095-12703', ra=242.436748937, dec=23.3828630127, z=0.131488),\n",
       " ResultRow(mangaid='1-318364', plateifu='9095-6103', ra=242.89438708, dec=24.3921381308, z=0.123913),\n",
       " ResultRow(mangaid='1-318518', plateifu='9048-6102', ra=244.659301293, dec=23.9425782742, z=0.103707),\n",
       " ResultRow(mangaid='1-318519', plateifu='9050-6103', ra=244.694521845, dec=23.9152327734, z=0.104402),\n",
       " ResultRow(mangaid='1-320324', plateifu='8325-12704', ra=211.991755192, dec=47.9064008103, z=0.144287),\n",
       " ResultRow(mangaid='1-320677', plateifu='8326-9101', ra=213.809361648, dec=47.7499574049, z=0.130442),\n",
       " ResultRow(mangaid='1-321409', plateifu='9868-6104', ra=220.498722704, dec=47.0111632402, z=0.125559),\n",
       " ResultRow(mangaid='1-321823', plateifu='9033-1902', ra=223.218540019, dec=45.2348005077, z=0.132655),\n",
       " ResultRow(mangaid='1-322096', plateifu='8552-6103', ra=229.493083453, dec=44.0795834625, z=0.116315),\n",
       " ResultRow(mangaid='1-322113', plateifu='8552-9102', ra=229.308914218, dec=44.0180313812, z=0.12226),\n",
       " ResultRow(mangaid='1-322336', plateifu='9870-1901', ra=230.357634111, dec=43.454386976, z=0.134989),\n",
       " ResultRow(mangaid='1-338044', plateifu='8131-3704', ra=111.975292022, dec=40.0919903613, z=0.120859),\n",
       " ResultRow(mangaid='1-338117', plateifu='8131-12705', ra=112.559910339, dec=39.533459057, z=0.141544),\n",
       " ResultRow(mangaid='1-338250', plateifu='8566-6101', ra=113.248257619, dec=40.0073013252, z=0.129115),\n",
       " ResultRow(mangaid='1-338279', plateifu='8131-1902', ra=112.603684034, dec=39.8968449502, z=0.117849),\n",
       " ResultRow(mangaid='1-338283', plateifu='8131-6103', ra=112.670687362, dec=40.1917896363, z=0.120054),\n",
       " ResultRow(mangaid='1-338359', plateifu='8131-6104', ra=112.416704157, dec=41.072316326, z=0.101025),\n",
       " ResultRow(mangaid='1-338629', plateifu='8132-12703', ra=113.266875521, dec=42.4724616081, z=0.116056),\n",
       " ResultRow(mangaid='1-338822', plateifu='8137-9101', ra=115.632320465, dec=43.935522553, z=0.118865),\n",
       " ResultRow(mangaid='1-338922', plateifu='8133-12704', ra=114.775746822, dec=44.4027654465, z=0.134471),\n",
       " ResultRow(mangaid='1-339120', plateifu='8714-3701', ra=117.364038937, dec=45.5329185307, z=0.129417),\n",
       " ResultRow(mangaid='1-351716', plateifu='8720-12705', ra=122.077051466, dec=49.6334822775, z=0.134602),\n",
       " ResultRow(mangaid='1-351719', plateifu='8720-12702', ra=122.240261573, dec=50.0162986148, z=0.134953),\n",
       " ResultRow(mangaid='1-36644', plateifu='8153-6101', ra=41.0966482687, dec=-0.178547761451, z=0.133429),\n",
       " ResultRow(mangaid='1-36877', plateifu='8078-6101', ra=42.3180767201, dec=-0.774108962905, z=0.137576),\n",
       " ResultRow(mangaid='1-373784', plateifu='9045-6102', ra=227.313878498, dec=30.2610540964, z=0.110806),\n",
       " ResultRow(mangaid='1-373870', plateifu='9891-3701', ra=228.451852792, dec=28.032958699, z=0.114432),\n",
       " ResultRow(mangaid='1-374007', plateifu='9891-9101', ra=227.041406706, dec=29.2221919157, z=0.11098),\n",
       " ResultRow(mangaid='1-374107', plateifu='9045-12705', ra=228.237054485, dec=30.3045226966, z=0.110159),\n",
       " ResultRow(mangaid='1-374333', plateifu='9891-12701', ra=229.429446689, dec=27.8953327529, z=0.119506),\n",
       " ResultRow(mangaid='1-374377', plateifu='9891-12702', ra=228.575262608, dec=28.060528851, z=0.117252),\n",
       " ResultRow(mangaid='1-374423', plateifu='9891-3703', ra=229.811607205, dec=29.340022935, z=0.117624),\n",
       " ResultRow(mangaid='1-374561', plateifu='9043-6103', ra=230.638587506, dec=29.036486121, z=0.11097),\n",
       " ResultRow(mangaid='1-374773', plateifu='9891-12705', ra=229.847987632, dec=28.3182107199, z=0.118915),\n",
       " ResultRow(mangaid='1-37679', plateifu='8081-3701', ra=48.5733342944, dec=-0.609696334691, z=0.115262),\n",
       " ResultRow(mangaid='1-377439', plateifu='8131-3703', ra=112.169426691, dec=41.4730240551, z=0.119084),\n",
       " ResultRow(mangaid='1-377471', plateifu='8132-3701', ra=112.644838061, dec=42.3290588306, z=0.119678),\n",
       " ResultRow(mangaid='1-377617', plateifu='8132-1901', ra=110.865858864, dec=43.0516356107, z=0.10725),\n",
       " ResultRow(mangaid='1-377720', plateifu='8133-9102', ra=112.721756162, dec=43.5007438516, z=0.143514),\n",
       " ResultRow(mangaid='1-377841', plateifu='8133-12705', ra=113.747217977, dec=43.4725190638, z=0.130943),\n",
       " ResultRow(mangaid='1-378168', plateifu='8134-3702', ra=114.309703748, dec=46.9375039058, z=0.147765),\n",
       " ResultRow(mangaid='1-37818', plateifu='9194-9101', ra=46.4972859801, dec=-0.166472479946, z=0.107053),\n",
       " ResultRow(mangaid='1-378237', plateifu='8134-3701', ra=113.326608857, dec=46.3481928774, z=0.127436),\n",
       " ResultRow(mangaid='1-378360', plateifu='8239-12701', ra=115.387477093, dec=47.8710058847, z=0.127488),\n",
       " ResultRow(mangaid='1-37846', plateifu='9194-3703', ra=47.189315197, dec=0.674819334787, z=0.134632),\n",
       " ResultRow(mangaid='1-37863', plateifu='9193-12704', ra=46.6649126989, dec=0.0619768826479, z=0.107438),\n",
       " ResultRow(mangaid='1-378770', plateifu='8715-3701', ra=119.120000702, dec=50.2878655047, z=0.133623),\n",
       " ResultRow(mangaid='1-378901', plateifu='8711-12701', ra=116.943082242, dec=51.6460199117, z=0.100892),\n",
       " ResultRow(mangaid='1-378957', plateifu='8711-6101', ra=117.511088812, dec=51.6598396027, z=0.10138),\n",
       " ResultRow(mangaid='1-37904', plateifu='9194-9102', ra=47.5812703826, dec=0.0441144790254, z=0.138695),\n",
       " ResultRow(mangaid='1-379545', plateifu='8712-3704', ra=122.245088364, dec=53.5098777398, z=0.100618),\n",
       " ResultRow(mangaid='1-38269', plateifu='8155-12702', ra=52.4277678708, dec=-0.30884261668, z=0.148684),\n",
       " ResultRow(mangaid='1-382748', plateifu='9491-12705', ra=120.796457799, dec=19.2597352811, z=0.141611),\n",
       " ResultRow(mangaid='1-382839', plateifu='9491-6104', ra=118.961999759, dec=19.3072160399, z=0.126691),\n",
       " ResultRow(mangaid='1-383319', plateifu='9490-9102', ra=122.560990601, dec=20.2072662101, z=0.12471),\n",
       " ResultRow(mangaid='1-384507', plateifu='9502-12701', ra=127.363994711, dec=23.5070618068, z=0.136683),\n",
       " ResultRow(mangaid='1-384945', plateifu='9493-6102', ra=129.14741123, dec=23.119557282, z=0.125222),\n",
       " ResultRow(mangaid='1-385935', plateifu='9506-6103', ra=132.787320153, dec=27.3559029707, z=0.119807),\n",
       " ResultRow(mangaid='1-38617', plateifu='8155-9101', ra=52.6508391076, dec=-0.548766477429, z=0.148557),\n",
       " ResultRow(mangaid='1-386272', plateifu='8987-12701', ra=135.411717453, dec=27.6674530335, z=0.143701),\n",
       " ResultRow(mangaid='1-38663', plateifu='8155-6103', ra=52.0504984222, dec=0.124749266576, z=0.139508),\n",
       " ResultRow(mangaid='1-38777', plateifu='8156-3704', ra=56.2841865512, dec=-0.947098601846, z=0.109955),\n",
       " ResultRow(mangaid='1-38802', plateifu='8086-12704', ra=56.1316453178, dec=0.00664665180817, z=0.108529),\n",
       " ResultRow(mangaid='1-389285', plateifu='8150-1901', ra=146.914572936, dec=33.1244039261, z=0.133692),\n",
       " ResultRow(mangaid='1-394326', plateifu='8943-3703', ra=158.131804307, dec=36.3670696179, z=0.126537),\n",
       " ResultRow(mangaid='1-394382', plateifu='8943-3704', ra=157.650666274, dec=35.9166082542, z=0.123521),\n",
       " ResultRow(mangaid='1-402409', plateifu='8330-12705', ra=205.386024339, dec=38.7879976571, z=0.117655),\n",
       " ResultRow(mangaid='1-405213', plateifu='8447-3702', ra=207.390012752, dec=38.7144657524, z=0.108592),\n",
       " ResultRow(mangaid='1-412880', plateifu='9488-3704', ra=126.842934842, dec=20.3114772595, z=0.10834),\n",
       " ResultRow(mangaid='1-413061', plateifu='9493-6101', ra=130.187087142, dec=22.2944558414, z=0.109091),\n",
       " ResultRow(mangaid='1-414400', plateifu='8554-6102', ra=182.784465836, dec=35.3330069871, z=0.136377),\n",
       " ResultRow(mangaid='1-419288', plateifu='8554-6103', ra=183.997377433, dec=35.7173746013, z=0.133345),\n",
       " ResultRow(mangaid='1-419607', plateifu='8554-9102', ra=183.789114229, dec=36.3366201557, z=0.148181),\n",
       " ResultRow(mangaid='1-42813', plateifu='9195-12702', ra=28.3757033338, dec=14.57094903, z=0.134997),\n",
       " ResultRow(mangaid='1-43214', plateifu='8135-1902', ra=114.096383278, dec=39.4382798053, z=0.117997),\n",
       " ResultRow(mangaid='1-43721', plateifu='8137-6104', ra=116.967569128, dec=43.3835000413, z=0.111394),\n",
       " ResultRow(mangaid='1-44091', plateifu='8718-3704', ra=120.211471966, dec=44.7522627586, z=0.100312),\n",
       " ResultRow(mangaid='1-44113', plateifu='8718-3701', ra=120.206409426, dec=44.6911704889, z=0.102312),\n",
       " ResultRow(mangaid='1-44549', plateifu='8141-6104', ra=120.440525845, dec=44.1100506919, z=0.131696),\n",
       " ResultRow(mangaid='1-45291', plateifu='8720-12701', ra=122.298944914, dec=49.0170431431, z=0.116703),\n",
       " ResultRow(mangaid='1-45370', plateifu='8720-9101', ra=122.640238394, dec=49.2202259168, z=0.1206),\n",
       " ResultRow(mangaid='1-457781', plateifu='8982-6103', ra=201.334580598, dec=27.4747973226, z=0.126241),\n",
       " ResultRow(mangaid='1-457816', plateifu='8984-6102', ra=201.900563003, dec=27.1380130247, z=0.143482),\n",
       " ResultRow(mangaid='1-45787', plateifu='8725-12704', ra=126.371085873, dec=47.133569098, z=0.129045),\n",
       " ResultRow(mangaid='1-460963', plateifu='8241-6103', ra=126.137169417, dec=19.2649662192, z=0.100375),\n",
       " ResultRow(mangaid='1-47511', plateifu='8721-3701', ra=132.116344602, dec=54.9529050508, z=0.118101),\n",
       " ResultRow(mangaid='1-47705', plateifu='8244-6103', ra=130.996444722, dec=51.0902636663, z=0.126344),\n",
       " ResultRow(mangaid='1-48410', plateifu='8244-9102', ra=132.977743439, dec=52.9008813541, z=0.114568),\n",
       " ResultRow(mangaid='1-487379', plateifu='8448-3703', ra=167.089811867, dec=22.6614709807, z=0.138746),\n",
       " ResultRow(mangaid='1-48805', plateifu='8721-12703', ra=135.420700689, dec=56.1050201185, z=0.140985),\n",
       " ResultRow(mangaid='1-489644', plateifu='8450-3701', ra=171.725450104, dec=21.2952520296, z=0.13552),\n",
       " ResultRow(mangaid='1-491045', plateifu='8338-12705', ra=172.833530941, dec=21.424677921, z=0.133262),\n",
       " ResultRow(mangaid='1-52169', plateifu='8728-6102', ra=58.16605547, dec=-5.67800955981, z=0.12013),\n",
       " ResultRow(mangaid='1-523239', plateifu='9881-3701', ra=205.981208731, dec=24.6800128911, z=0.13725),\n",
       " ResultRow(mangaid='1-52494', plateifu='8728-3703', ra=60.0838039859, dec=-5.58524415766, z=0.130857),\n",
       " ResultRow(mangaid='1-546894', plateifu='8606-12704', ra=255.979555141, dec=37.3248749067, z=0.122719),\n",
       " ResultRow(mangaid='1-547210', plateifu='7957-12703', ra=258.190223742, dec=36.2788557572, z=0.11708),\n",
       " ResultRow(mangaid='1-547290', plateifu='7960-9102', ra=259.246928781, dec=32.2458860679, z=0.110685),\n",
       " ResultRow(mangaid='1-547999', plateifu='8132-12701', ra=110.517196768, dec=42.4213792365, z=0.135844),\n",
       " ResultRow(mangaid='1-548001', plateifu='8132-6103', ra=111.037340537, dec=42.9193141439, z=0.122465),\n",
       " ResultRow(mangaid='1-548024', plateifu='8132-6101', ra=111.733682055, dec=41.0266910782, z=0.129403),\n",
       " ResultRow(mangaid='1-548074', plateifu='8134-9101', ra=114.394019718, dec=47.4639579264, z=0.127591),\n",
       " ResultRow(mangaid='1-548135', plateifu='8714-12701', ra=117.953854063, dec=46.1928605658, z=0.130201),\n",
       " ResultRow(mangaid='1-548172', plateifu='8715-12702', ra=118.62324853, dec=51.4676576627, z=0.129513),\n",
       " ResultRow(mangaid='1-548609', plateifu='9181-3704', ra=120.190844156, dec=37.7404339524, z=0.127336),\n",
       " ResultRow(mangaid='1-548622', plateifu='8717-6104', ra=119.279384699, dec=35.9796796497, z=0.132961),\n",
       " ResultRow(mangaid='1-550913', plateifu='8615-12704', ra=321.443159095, dec=0.93108017, z=0.135009),\n",
       " ResultRow(mangaid='1-55683', plateifu='10001-6101', ra=137.041133755, dec=57.4236117812, z=0.119001),\n",
       " ResultRow(mangaid='1-556855', plateifu='9490-9101', ra=121.955914895, dec=20.061749843, z=0.122662),\n",
       " ResultRow(mangaid='1-558115', plateifu='8943-6104', ra=157.915763497, dec=35.0928896362, z=0.119252),\n",
       " ResultRow(mangaid='1-558912', plateifu='8451-12701', ra=166.129407835, dec=42.6245544187, z=0.12611),\n",
       " ResultRow(mangaid='1-558912', plateifu='8256-12704', ra=166.129407835, dec=42.6245544187, z=0.12611),\n",
       " ResultRow(mangaid='1-558912', plateifu='8274-12704', ra=166.129407835, dec=42.6245544187, z=0.12611),\n",
       " ResultRow(mangaid='1-561016', plateifu='7960-1901', ra=258.386122445, dec=33.1530376938, z=0.109289),\n",
       " ResultRow(mangaid='1-564239', plateifu='8721-3704', ra=133.79826156, dec=53.8283216245, z=0.147635),\n",
       " ResultRow(mangaid='1-564477', plateifu='8606-12703', ra=253.887902479, dec=38.0648443937, z=0.116163),\n",
       " ResultRow(mangaid='1-567284', plateifu='9505-6103', ra=138.101689671, dec=29.0034030132, z=0.10311),\n",
       " ResultRow(mangaid='1-567948', plateifu='8133-6103', ra=113.284972917, dec=44.5509699475, z=0.131113),\n",
       " ResultRow(mangaid='1-569042', plateifu='8484-12701', ra=246.561043903, dec=46.3708377365, z=0.113262),\n",
       " ResultRow(mangaid='1-569077', plateifu='8979-6103', ra=242.034014667, dec=42.9905995551, z=0.13825),\n",
       " ResultRow(mangaid='1-569114', plateifu='8601-12704', ra=249.079028876, dec=40.4226964568, z=0.102694),\n",
       " ResultRow(mangaid='1-569162', plateifu='8600-9101', ra=244.15763746, dec=42.4488084008, z=0.13676),\n",
       " ResultRow(mangaid='1-569204', plateifu='9038-12701', ra=235.787455704, dec=42.1665491253, z=0.10129),\n",
       " ResultRow(mangaid='1-574402', plateifu='8137-3702', ra=115.368719754, dec=44.4087940076, z=0.131997),\n",
       " ResultRow(mangaid='1-575845', plateifu='8261-3702', ra=181.827576407, dec=46.7275255533, z=0.101657),\n",
       " ResultRow(mangaid='1-576146', plateifu='8946-12705', ra=170.461723946, dec=48.0792542418, z=0.128965),\n",
       " ResultRow(mangaid='1-576172', plateifu='8989-6103', ra=174.993504966, dec=51.1513445994, z=0.128867),\n",
       " ResultRow(mangaid='1-576188', plateifu='8947-3704', ra=169.475782191, dec=49.5933752164, z=0.128062),\n",
       " ResultRow(mangaid='1-576235', plateifu='8999-3702', ra=163.433876181, dec=49.4988684961, z=0.140443),\n",
       " ResultRow(mangaid='1-576269', plateifu='8481-6104', ra=240.367914805, dec=53.9364085499, z=0.106607),\n",
       " ResultRow(mangaid='1-576333', plateifu='8592-12705', ra=222.146717119, dec=51.3855754913, z=0.131503),\n",
       " ResultRow(mangaid='1-609414', plateifu='8943-12705', ra=157.93471, dec=35.04137, z=0.119496),\n",
       " ResultRow(mangaid='1-631872', plateifu='9891-3702', ra=226.943577224, dec=28.8199794804, z=0.110593),\n",
       " ResultRow(mangaid='1-632641', plateifu='9043-12703', ra=231.27392, dec=29.67017, z=0.111541),\n",
       " ResultRow(mangaid='1-634093', plateifu='8978-12702', ra=249.587768862, dec=40.8172085562, z=0.133016),\n",
       " ResultRow(mangaid='1-639152', plateifu='8728-1902', ra=58.2919930394, dec=-5.49709736449, z=0.120884),\n",
       " ResultRow(mangaid='1-71481', plateifu='8717-1901', ra=117.456001215, dec=34.8839120986, z=0.131157),\n",
       " ResultRow(mangaid='1-71736', plateifu='9181-3702', ra=118.449505659, dec=37.7025165735, z=0.107061),\n",
       " ResultRow(mangaid='1-71811', plateifu='9485-6103', ra=120.132625014, dec=37.8628713704, z=0.149622),\n",
       " ResultRow(mangaid='1-71820', plateifu='9182-1902', ra=120.647559412, dec=38.7411877612, z=0.116392),\n",
       " ResultRow(mangaid='1-71950', plateifu='9181-12701', ra=118.5709466, dec=38.220893904, z=0.117955),\n",
       " ResultRow(mangaid='1-72322', plateifu='8143-6101', ra=121.014200537, dec=40.8026129505, z=0.126168),\n",
       " ResultRow(mangaid='1-72928', plateifu='8725-6101', ra=127.256488342, dec=45.0167725695, z=0.127041),\n",
       " ResultRow(mangaid='1-73184', plateifu='8725-6104', ra=127.528168009, dec=45.3517505123, z=0.148244),\n",
       " ResultRow(mangaid='1-73584', plateifu='8244-3704', ra=132.627858985, dec=50.2789266122, z=0.12215),\n",
       " ResultRow(mangaid='1-73638', plateifu='8244-12704', ra=133.035323408, dec=51.3127390765, z=0.115137),\n",
       " ResultRow(mangaid='1-73667', plateifu='8244-12701', ra=133.06809411, dec=50.627237501, z=0.112362),\n",
       " ResultRow(mangaid='1-91550', plateifu='8481-3704', ra=240.186697059, dec=53.7755312455, z=0.110132),\n",
       " ResultRow(mangaid='1-93471', plateifu='8483-6104', ra=247.694974246, dec=47.7947656349, z=0.127959),\n",
       " ResultRow(mangaid='1-93872', plateifu='8555-6103', ra=247.097142285, dec=43.9576126147, z=0.139743),\n",
       " ResultRow(mangaid='1-93876', plateifu='8484-9101', ra=246.942944115, dec=44.177521384, z=0.139404),\n",
       " ResultRow(mangaid='1-93876', plateifu='8555-3704', ra=246.942944115, dec=44.177521384, z=0.139404)]"
      ]
     },
     "execution_count": 98,
     "metadata": {},
     "output_type": "execute_result"
    }
   ],
   "source": [
    "r5.results"
   ]
  },
  {
   "cell_type": "code",
   "execution_count": 127,
   "metadata": {},
   "outputs": [
    {
     "name": "stderr",
     "output_type": "stream",
     "text": [
      "/root/anaconda3/lib/python3.7/site-packages/marvin/tools/query.py:236: MarvinUserWarning: No local database found. Cannot perform queries.\n",
      "  warnings.warn('No local database found. Cannot perform queries.', MarvinUserWarning)\n"
     ]
    },
    {
     "data": {
      "text/plain": [
       "4275"
      ]
     },
     "execution_count": 127,
     "metadata": {},
     "output_type": "execute_result"
    }
   ],
   "source": [
    "# 使用Marvin中的convertToTool. convertToTool来转换数据为fits格式或者csv格式等\n",
    "from marvin.tools.query import Query\n",
    "q = Query(search_filter='nsa.z < 0.1', return_params=['absmag_g_r'])\n",
    "r = q.run()\n",
    "\n",
    "# number of results\n",
    "r.totalcount"
   ]
  },
  {
   "cell_type": "code",
   "execution_count": 136,
   "metadata": {
    "collapsed": true
   },
   "outputs": [
    {
     "data": {
      "text/plain": [
       "<ResultSet(set=1.0/43, index=0:100, count_in_set=100, total=4275)>\n",
       "[ResultRow(mangaid='1-109056', plateifu='8077-6103', elpetro_absmag_g_r=1.11703872680664, z=0.0473019),\n",
       " ResultRow(mangaid='1-109073', plateifu='8078-12704', elpetro_absmag_g_r=1.05978775024414, z=0.0435882),\n",
       " ResultRow(mangaid='1-109081', plateifu='8077-12705', elpetro_absmag_g_r=1.23031806945801, z=0.0438592),\n",
       " ResultRow(mangaid='1-109112', plateifu='8078-1901', elpetro_absmag_g_r=1.5319881439209, z=0.0249702),\n",
       " ResultRow(mangaid='1-109152', plateifu='8154-12702', elpetro_absmag_g_r=1.5439453125, z=0.0281736),\n",
       " ResultRow(mangaid='1-109167', plateifu='8078-1902', elpetro_absmag_g_r=1.65657424926758, z=0.0246344),\n",
       " ResultRow(mangaid='1-109234', plateifu='9193-1901', elpetro_absmag_g_r=1.52570343017578, z=0.0409309),\n",
       " ResultRow(mangaid='1-109244', plateifu='8080-12702', elpetro_absmag_g_r=1.52271270751953, z=0.0267911),\n",
       " ResultRow(mangaid='1-109250', plateifu='8080-1902', elpetro_absmag_g_r=0.780342102050781, z=0.0383731),\n",
       " ResultRow(mangaid='1-109270', plateifu='9193-12703', elpetro_absmag_g_r=1.28193092346191, z=0.0252266),\n",
       " ResultRow(mangaid='1-109284', plateifu='8080-6103', elpetro_absmag_g_r=1.13128662109375, z=0.0686101),\n",
       " ResultRow(mangaid='1-109356', plateifu='8081-3703', elpetro_absmag_g_r=1.01610565185547, z=0.0241782),\n",
       " ResultRow(mangaid='1-109378', plateifu='8084-12703', elpetro_absmag_g_r=1.15368461608887, z=0.0391104),\n",
       " ResultRow(mangaid='1-109392', plateifu='8085-6101', elpetro_absmag_g_r=1.57899284362793, z=0.0514803),\n",
       " ResultRow(mangaid='1-109394', plateifu='8082-9102', elpetro_absmag_g_r=1.26038932800293, z=0.0361073),\n",
       " ResultRow(mangaid='1-109428', plateifu='8155-3704', elpetro_absmag_g_r=1.65565872192383, z=0.0476594),\n",
       " ResultRow(mangaid='1-109521', plateifu='8156-6101', elpetro_absmag_g_r=1.79952621459961, z=0.0490484),\n",
       " ResultRow(mangaid='1-113208', plateifu='8618-3701', elpetro_absmag_g_r=1.48788070678711, z=0.0699044),\n",
       " ResultRow(mangaid='1-113219', plateifu='7815-9102', elpetro_absmag_g_r=0.543312072753906, z=0.0408897),\n",
       " ResultRow(mangaid='1-113242', plateifu='7972-6101', elpetro_absmag_g_r=1.90381813049316, z=0.0437197),\n",
       " ResultRow(mangaid='1-113265', plateifu='7972-12703', elpetro_absmag_g_r=1.04117393493652, z=0.0437398),\n",
       " ResultRow(mangaid='1-113315', plateifu='7972-3702', elpetro_absmag_g_r=1.66540908813477, z=0.0622162),\n",
       " ResultRow(mangaid='1-113322', plateifu='7972-12701', elpetro_absmag_g_r=2.22256088256836, z=0.0431628),\n",
       " ResultRow(mangaid='1-113343', plateifu='7972-1901', elpetro_absmag_g_r=1.6228084564209, z=0.0433949),\n",
       " ResultRow(mangaid='1-113346', plateifu='7972-12702', elpetro_absmag_g_r=0.943971633911133, z=0.0431389),\n",
       " ResultRow(mangaid='1-113368', plateifu='7972-6103', elpetro_absmag_g_r=1.61076927185059, z=0.0431534),\n",
       " ResultRow(mangaid='1-113375', plateifu='7972-12704', elpetro_absmag_g_r=0.757579803466797, z=0.028215),\n",
       " ResultRow(mangaid='1-113375', plateifu='7815-9101', elpetro_absmag_g_r=0.757579803466797, z=0.028215),\n",
       " ResultRow(mangaid='1-113379', plateifu='7972-3701', elpetro_absmag_g_r=1.09770011901855, z=0.0171611),\n",
       " ResultRow(mangaid='1-113379', plateifu='7815-6101', elpetro_absmag_g_r=1.09770011901855, z=0.0171611),\n",
       " ResultRow(mangaid='1-113403', plateifu='7815-12703', elpetro_absmag_g_r=0.745466232299805, z=0.0715126),\n",
       " ResultRow(mangaid='1-113404', plateifu='7972-6104', elpetro_absmag_g_r=1.0419807434082, z=0.0422713),\n",
       " ResultRow(mangaid='1-113405', plateifu='7972-3704', elpetro_absmag_g_r=1.27382469177246, z=0.0424723),\n",
       " ResultRow(mangaid='1-113418', plateifu='7815-12704', elpetro_absmag_g_r=1.44098854064941, z=0.0430806),\n",
       " ResultRow(mangaid='1-113469', plateifu='7972-12705', elpetro_absmag_g_r=0.847789764404297, z=0.0394617),\n",
       " ResultRow(mangaid='1-113469', plateifu='7815-12702', elpetro_absmag_g_r=0.847789764404297, z=0.0394617),\n",
       " ResultRow(mangaid='1-113518', plateifu='7972-6102', elpetro_absmag_g_r=0.380338668823242, z=0.0299975),\n",
       " ResultRow(mangaid='1-113520', plateifu='7815-1901', elpetro_absmag_g_r=1.7510347366333, z=0.0167652),\n",
       " ResultRow(mangaid='1-113525', plateifu='8618-6103', elpetro_absmag_g_r=1.57906627655029, z=0.0169457),\n",
       " ResultRow(mangaid='1-113525', plateifu='7815-1902', elpetro_absmag_g_r=1.57906627655029, z=0.0169457),\n",
       " ResultRow(mangaid='1-113525', plateifu='7972-9102', elpetro_absmag_g_r=1.57906627655029, z=0.0169457),\n",
       " ResultRow(mangaid='1-113539', plateifu='8618-12701', elpetro_absmag_g_r=1.26716613769531, z=0.0177002),\n",
       " ResultRow(mangaid='1-113540', plateifu='7815-3702', elpetro_absmag_g_r=0.952407836914062, z=0.0293823),\n",
       " ResultRow(mangaid='1-113551', plateifu='7972-3703', elpetro_absmag_g_r=1.46421432495117, z=0.0588507),\n",
       " ResultRow(mangaid='1-113567', plateifu='7815-12701', elpetro_absmag_g_r=1.41732978820801, z=0.0167432),\n",
       " ResultRow(mangaid='1-113567', plateifu='8618-1902', elpetro_absmag_g_r=1.41732978820801, z=0.0167432),\n",
       " ResultRow(mangaid='1-113585', plateifu='7815-3703', elpetro_absmag_g_r=1.68158912658691, z=0.070276),\n",
       " ResultRow(mangaid='1-113587', plateifu='8618-12704', elpetro_absmag_g_r=1.02355575561523, z=0.0704926),\n",
       " ResultRow(mangaid='1-113647', plateifu='8618-6104', elpetro_absmag_g_r=1.78754997253418, z=0.0738563),\n",
       " ResultRow(mangaid='1-113651', plateifu='7815-3704', elpetro_absmag_g_r=1.4986743927002, z=0.0708847),\n",
       " ResultRow(mangaid='1-113654', plateifu='8618-9102', elpetro_absmag_g_r=1.10831832885742, z=0.0430694),\n",
       " ResultRow(mangaid='1-113663', plateifu='8618-3703', elpetro_absmag_g_r=2.80322933197021, z=0.0316328),\n",
       " ResultRow(mangaid='1-113672', plateifu='8618-3704', elpetro_absmag_g_r=1.25676536560059, z=0.0702278),\n",
       " ResultRow(mangaid='1-113698', plateifu='8618-1901', elpetro_absmag_g_r=0.995195388793945, z=0.0167445),\n",
       " ResultRow(mangaid='1-113700', plateifu='8618-12703', elpetro_absmag_g_r=0.61408805847168, z=0.0378372),\n",
       " ResultRow(mangaid='1-113712', plateifu='7815-6104', elpetro_absmag_g_r=0.69244384765625, z=0.0806967),\n",
       " ResultRow(mangaid='1-114073', plateifu='7975-12705', elpetro_absmag_g_r=0.751516342163086, z=0.0402895),\n",
       " ResultRow(mangaid='1-114082', plateifu='7975-3701', elpetro_absmag_g_r=1.44381332397461, z=0.0402683),\n",
       " ResultRow(mangaid='1-114121', plateifu='7975-12701', elpetro_absmag_g_r=1.43171119689941, z=0.0879313),\n",
       " ResultRow(mangaid='1-114128', plateifu='7975-6101', elpetro_absmag_g_r=1.86342239379883, z=0.077875),\n",
       " ResultRow(mangaid='1-114129', plateifu='7975-12702', elpetro_absmag_g_r=2.19032287597656, z=0.0774097),\n",
       " ResultRow(mangaid='1-114145', plateifu='7975-6102', elpetro_absmag_g_r=1.41496467590332, z=0.0341885),\n",
       " ResultRow(mangaid='1-114171', plateifu='7975-3702', elpetro_absmag_g_r=1.70641708374023, z=0.0881405),\n",
       " ResultRow(mangaid='1-114303', plateifu='7975-1901', elpetro_absmag_g_r=0.658689498901367, z=0.0220107),\n",
       " ResultRow(mangaid='1-114306', plateifu='7975-9101', elpetro_absmag_g_r=0.99525260925293, z=0.0636505),\n",
       " ResultRow(mangaid='1-114325', plateifu='7975-12703', elpetro_absmag_g_r=1.34337997436523, z=0.0288791),\n",
       " ResultRow(mangaid='1-114334', plateifu='7975-1902', elpetro_absmag_g_r=1.43183898925781, z=0.0222473),\n",
       " ResultRow(mangaid='1-114454', plateifu='7975-12704', elpetro_absmag_g_r=1.29723358154297, z=0.0888606),\n",
       " ResultRow(mangaid='1-114465', plateifu='7975-6104', elpetro_absmag_g_r=1.21394157409668, z=0.0788547),\n",
       " ResultRow(mangaid='1-114500', plateifu='7975-9102', elpetro_absmag_g_r=1.14164924621582, z=0.0220849),\n",
       " ResultRow(mangaid='1-114502', plateifu='7975-6103', elpetro_absmag_g_r=1.4673023223877, z=0.0798058),\n",
       " ResultRow(mangaid='1-114532', plateifu='7975-3703', elpetro_absmag_g_r=1.73165702819824, z=0.0902261),\n",
       " ResultRow(mangaid='1-114928', plateifu='7977-3702', elpetro_absmag_g_r=1.65719413757324, z=0.0273478),\n",
       " ResultRow(mangaid='1-114955', plateifu='7977-12701', elpetro_absmag_g_r=1.01249313354492, z=0.0922799),\n",
       " ResultRow(mangaid='1-114956', plateifu='7977-3704', elpetro_absmag_g_r=1.3456974029541, z=0.0270248),\n",
       " ResultRow(mangaid='1-114980', plateifu='7977-9102', elpetro_absmag_g_r=1.14808464050293, z=0.0630915),\n",
       " ResultRow(mangaid='1-114998', plateifu='7977-6102', elpetro_absmag_g_r=2.77035713195801, z=0.0614042),\n",
       " ResultRow(mangaid='1-115062', plateifu='7977-1901', elpetro_absmag_g_r=1.65952682495117, z=0.0260569),\n",
       " ResultRow(mangaid='1-115085', plateifu='7977-6103', elpetro_absmag_g_r=0.912630081176758, z=0.0349304),\n",
       " ResultRow(mangaid='1-115097', plateifu='7977-3701', elpetro_absmag_g_r=1.49947357177734, z=0.0274473),\n",
       " ResultRow(mangaid='1-115128', plateifu='7977-1902', elpetro_absmag_g_r=1.1044979095459, z=0.0358116),\n",
       " ResultRow(mangaid='1-115162', plateifu='7977-12703', elpetro_absmag_g_r=1.13131713867188, z=0.0738627),\n",
       " ResultRow(mangaid='1-115320', plateifu='7977-3703', elpetro_absmag_g_r=0.99519157409668, z=0.0275274),\n",
       " ResultRow(mangaid='1-120935', plateifu='8144-12703', elpetro_absmag_g_r=1.19215965270996, z=0.0389089),\n",
       " ResultRow(mangaid='1-120941', plateifu='8144-9101', elpetro_absmag_g_r=1.37554359436035, z=0.0157875),\n",
       " ResultRow(mangaid='1-120943', plateifu='8144-6102', elpetro_absmag_g_r=1.49009323120117, z=0.0393096),\n",
       " ResultRow(mangaid='1-120955', plateifu='8144-12702', elpetro_absmag_g_r=1.05715751647949, z=0.0512278),\n",
       " ResultRow(mangaid='1-120967', plateifu='8144-12704', elpetro_absmag_g_r=1.39360427856445, z=0.0889617),\n",
       " ResultRow(mangaid='1-121023', plateifu='8144-6103', elpetro_absmag_g_r=1.77910804748535, z=0.0617402),\n",
       " ResultRow(mangaid='1-121035', plateifu='8144-1901', elpetro_absmag_g_r=1.74846458435059, z=0.0268051),\n",
       " ResultRow(mangaid='1-121075', plateifu='8144-3702', elpetro_absmag_g_r=1.42728805541992, z=0.0978535),\n",
       " ResultRow(mangaid='1-121151', plateifu='8139-12701', elpetro_absmag_g_r=0.917177200317383, z=0.0155876),\n",
       " ResultRow(mangaid='1-121202', plateifu='8139-1902', elpetro_absmag_g_r=1.09575843811035, z=0.0406385),\n",
       " ResultRow(mangaid='1-121206', plateifu='8139-9101', elpetro_absmag_g_r=0.632560729980469, z=0.0191816),\n",
       " ResultRow(mangaid='1-121209', plateifu='8139-6101', elpetro_absmag_g_r=1.92057991027832, z=0.027711),\n",
       " ResultRow(mangaid='1-121218', plateifu='8139-3703', elpetro_absmag_g_r=0.984956741333008, z=0.0440361),\n",
       " ResultRow(mangaid='1-121235', plateifu='8936-3702', elpetro_absmag_g_r=1.61528015136719, z=0.0609332),\n",
       " ResultRow(mangaid='1-121236', plateifu='8139-6104', elpetro_absmag_g_r=1.68639945983887, z=0.0607858),\n",
       " ResultRow(mangaid='1-121277', plateifu='8977-6101', elpetro_absmag_g_r=2.23527336120605, z=0.0541615),\n",
       " ResultRow(mangaid='1-121330', plateifu='8977-12702', elpetro_absmag_g_r=0.697284698486328, z=0.0174976)]"
      ]
     },
     "execution_count": 136,
     "metadata": {},
     "output_type": "execute_result"
    }
   ],
   "source": [
    "q.run().results"
   ]
  },
  {
   "cell_type": "code",
   "execution_count": null,
   "metadata": {},
   "outputs": [],
   "source": [
    "# view the results\n",
    "r.results"
   ]
  },
  {
   "cell_type": "code",
   "execution_count": null,
   "metadata": {},
   "outputs": [],
   "source": [
    "r.datamodel\n",
    "<QueryDataModel release='MPL-4', n_groups=7, n_parameters=565, n_total=0>"
   ]
  },
  {
   "cell_type": "code",
   "execution_count": null,
   "metadata": {},
   "outputs": [],
   "source": [
    "r = q.run()\n",
    "r.results"
   ]
  },
  {
   "cell_type": "code",
   "execution_count": null,
   "metadata": {},
   "outputs": [],
   "source": [
    "# convert results to Marvin Cube tools\n",
    "r.convertToTool('cube')\n",
    "r.objects"
   ]
  },
  {
   "cell_type": "code",
   "execution_count": null,
   "metadata": {},
   "outputs": [],
   "source": [
    "To Pandas Dataframe\n",
    "r.toDF()  # r.toDataFrame()"
   ]
  },
  {
   "cell_type": "code",
   "execution_count": null,
   "metadata": {},
   "outputs": [],
   "source": [
    "To Astropy Tables\n",
    "r.toTable()"
   ]
  },
  {
   "cell_type": "code",
   "execution_count": null,
   "metadata": {},
   "outputs": [],
   "source": [
    "To FITS\n",
    "r.toFits(filename='myresults.fits')"
   ]
  },
  {
   "cell_type": "code",
   "execution_count": 137,
   "metadata": {},
   "outputs": [
    {
     "name": "stdout",
     "output_type": "stream",
     "text": [
      "Writing new CSV file myresults.csv\n"
     ]
    }
   ],
   "source": [
    "#To CSV\n",
    "r.toCSV(filename='myresults.csv')"
   ]
  },
  {
   "cell_type": "code",
   "execution_count": 2,
   "metadata": {},
   "outputs": [],
   "source": [
    "from pyds9 import *\n",
    "import matplotlib.pyplot as plt\n",
    "import numpy as np\n",
    "from astropy.io import fits\n",
    "import copy as copy\n",
    "lalala0 = fits.open('/root/cosmos/galaxies-mzr/data/manga_firefly-v2_4_3-STELLARPOP.fits')\n",
    "lalala=copy.copy(lalala0)\n",
    "lala=fits.getdata('/root/cosmos/galaxies-mzr/data/manga_firefly-v2_4_3-STELLARPOP.fits',header=True)\n",
    "# 调用pyds9.DS9\n",
    "d=pyds9.DS9"
   ]
  },
  {
   "cell_type": "code",
   "execution_count": 12,
   "metadata": {},
   "outputs": [
    {
     "name": "stdout",
     "output_type": "stream",
     "text": [
      "Filename: /root/cosmos/galaxies-mzr/data/manga_firefly-v2_4_3-STELLARPOP.fits\n",
      "No.    Name      Ver    Type      Cards   Dimensions   Format\n",
      "  0  PRIMARY       1 PrimaryHDU       4   ()      \n",
      "  1  GALAXY_INFO    1 BinTableHDU     31   4675R x 11C   [20A, 20A, I, 20A, E, E, E, E, 20A, 20A, 20A]   \n",
      "  2  GLOBAL_PARAMETERS    1 BinTableHDU     41   4675R x 16C   [E, E, E, E, E, E, E, E, E, E, E, E, E, E, E, E]   \n",
      "  3  GRADIENT_PARAMETERS    1 BinTableHDU     41   4675R x 16C   [E, E, E, E, E, E, E, E, E, E, E, E, E, E, E, E]   \n",
      "  4  SPATIAL_INFO    1 ImageHDU         9   (4, 2800, 4675)   float32   \n",
      "  5  SPATIAL_BINID    1 ImageHDU         9   (76, 76, 4675)   int16   \n",
      "  6  LW_AGE_VORONOI    1 ImageHDU         9   (2, 2800, 4675)   float32   \n",
      "  7  MW_AGE_VORONOI    1 ImageHDU         9   (2, 2800, 4675)   float32   \n",
      "  8  LW_Z_VORONOI    1 ImageHDU         9   (2, 2800, 4675)   float32   \n",
      "  9  MW_Z_VORONOI    1 ImageHDU         9   (2, 2800, 4675)   float32   \n",
      " 10  E(B_V)_VORONOI    1 ImageHDU         8   (2800, 4675)   float32   \n",
      " 11  STELLAR_MASS_VORONOI    1 ImageHDU         9   (2, 2800, 4675)   float32   \n",
      " 12  STELLAR_MASS_REMNANT    1 ImageHDU         9   (4, 2800, 4675)   float32   \n",
      " 13  SURFACE_MASS_DENSITY_VORONOI    1 ImageHDU         9   (2, 2800, 4675)   float32   \n",
      " 14  STAR_FORMATION_HISTORY    1 ImageHDU        10   (3, 8, 2800, 4675)   float32   \n",
      " 15  SIGNAL_NOISE_VORONOI    1 ImageHDU         8   (2800, 4675)   float32   \n"
     ]
    },
    {
     "data": {
      "text/plain": [
       "array([[ 8.8200140e+00,  6.5209389e-02],\n",
       "       [ 8.6450930e+00,  1.9699287e-01],\n",
       "       [ 8.7641287e+00,  7.0210457e-02],\n",
       "       ...,\n",
       "       [-9.9990000e+03, -9.9990000e+03],\n",
       "       [-9.9990000e+03, -9.9990000e+03],\n",
       "       [-9.9990000e+03, -9.9990000e+03]], dtype=float32)"
      ]
     },
     "execution_count": 12,
     "metadata": {},
     "output_type": "execute_result"
    }
   ],
   "source": [
    "lalala[1].header\n",
    "lalala.info()\n",
    "lalala[11].data[1]"
   ]
  },
  {
   "cell_type": "code",
   "execution_count": 11,
   "metadata": {},
   "outputs": [],
   "source": [
    "lalala = fits.open('/root/cosmos/galaxies-mzr/data/manga_firefly-v2_4_3-STELLARPOP.fits')"
   ]
  },
  {
   "cell_type": "code",
   "execution_count": 10,
   "metadata": {},
   "outputs": [
    {
     "name": "stdout",
     "output_type": "stream",
     "text": [
      "Filename: /root/cosmos/galaxies-mzr/data/manga_firefly-v2_4_3-STELLARPOP.fits\n",
      "No.    Name      Ver    Type      Cards   Dimensions   Format\n",
      "  0  PRIMARY       1 PrimaryHDU       4   ()      \n",
      "  1  GALAXY_INFO    1 BinTableHDU     31   4675R x 11C   [20A, 20A, I, 20A, E, E, E, E, 20A, 20A, 20A]   \n",
      "  2  GLOBAL_PARAMETERS    1 BinTableHDU     41   4675R x 16C   [E, E, E, E, E, E, E, E, E, E, E, E, E, E, E, E]   \n",
      "  3  GRADIENT_PARAMETERS    1 BinTableHDU     41   4675R x 16C   [E, E, E, E, E, E, E, E, E, E, E, E, E, E, E, E]   \n",
      "  4  SPATIAL_INFO    1 ImageHDU         9   (4, 2800, 4675)   float32   \n",
      "  5  SPATIAL_BINID    1 ImageHDU         9   (76, 76, 4675)   int16   \n",
      "  6  LW_AGE_VORONOI    1 ImageHDU         9   (2, 2800, 4675)   float32   \n",
      "  7  MW_AGE_VORONOI    1 ImageHDU         9   (2, 2800, 4675)   float32   \n",
      "  8  LW_Z_VORONOI    1 ImageHDU         9   (2, 2800, 4675)   float32   \n",
      "  9  MW_Z_VORONOI    1 ImageHDU         9   (2, 2800, 4675)   float32   \n",
      " 10  E(B_V)_VORONOI    1 ImageHDU         8   (2800, 4675)   float32   \n",
      " 11  STELLAR_MASS_VORONOI    1 ImageHDU         9   (2, 2800, 4675)   float32   \n",
      " 12  STELLAR_MASS_REMNANT    1 ImageHDU         9   (4, 2800, 4675)   float32   \n",
      " 13  SURFACE_MASS_DENSITY_VORONOI    1 ImageHDU         9   (2, 2800, 4675)   float32   \n",
      " 14  STAR_FORMATION_HISTORY    1 ImageHDU        10   (3, 8, 2800, 4675)   float32   \n",
      " 15  SIGNAL_NOISE_VORONOI    1 ImageHDU         8   (2800, 4675)   float32   \n"
     ]
    }
   ],
   "source": [
    "lalala.info()"
   ]
  },
  {
   "cell_type": "code",
   "execution_count": 28,
   "metadata": {},
   "outputs": [
    {
     "name": "stdout",
     "output_type": "stream",
     "text": [
      "质量信息:\n",
      " [7.0619     0.16655016] \n",
      "\n",
      "\n",
      " 坐标信息:\n",
      " -0.0067892107\n"
     ]
    }
   ],
   "source": [
    "la_mass=lalala[11].data[785][0]\n",
    "la_space=lalala[4].data[5][0][1]\n",
    "print('质量信息:\\n',la_mass,'\\n\\n\\n','坐标信息:\\n',la_space)"
   ]
  },
  {
   "cell_type": "code",
   "execution_count": 6,
   "metadata": {},
   "outputs": [
    {
     "data": {
      "text/plain": [
       "numpy.ndarray"
      ]
     },
     "execution_count": 6,
     "metadata": {},
     "output_type": "execute_result"
    }
   ],
   "source": [
    "type(lalala[11].data[1])"
   ]
  },
  {
   "cell_type": "code",
   "execution_count": 4,
   "metadata": {},
   "outputs": [
    {
     "data": {
      "text/plain": [
       "numpy.ndarray"
      ]
     },
     "execution_count": 4,
     "metadata": {},
     "output_type": "execute_result"
    }
   ],
   "source": [
    "type(lalala[4].data[4674,:,1])"
   ]
  },
  {
   "cell_type": "code",
   "execution_count": 36,
   "metadata": {},
   "outputs": [
    {
     "name": "stdout",
     "output_type": "stream",
     "text": [
      "(2,)\n",
      "[8.249257   0.17722225]\n"
     ]
    }
   ],
   "source": [
    "la_test_mass=lalala[13].data[4674,1,:]\n",
    "print(np.shape(la_test_mass))\n",
    "print(la_test_mass)"
   ]
  },
  {
   "cell_type": "code",
   "execution_count": 26,
   "metadata": {},
   "outputs": [
    {
     "data": {
      "text/plain": [
       "array([ 3.0000000e+00, -4.9445590e-01,  1.5865494e-03,  7.4015744e-02],\n",
       "      dtype=float32)"
      ]
     },
     "execution_count": 26,
     "metadata": {},
     "output_type": "execute_result"
    }
   ],
   "source": [
    "lalala7=lalala[4].data[4674,1,:]\n",
    "lalala7\n"
   ]
  },
  {
   "cell_type": "code",
   "execution_count": 7,
   "metadata": {},
   "outputs": [],
   "source": [
    "from scipy import stats\n",
    "la1=lalala[11].data[1]\n",
    "xx, yy = np.meshgrid(la1, la1)\n"
   ]
  },
  {
   "cell_type": "code",
   "execution_count": 15,
   "metadata": {},
   "outputs": [
    {
     "data": {
      "text/plain": [
       "array([[nan, nan, nan, nan, nan]])"
      ]
     },
     "execution_count": 15,
     "metadata": {},
     "output_type": "execute_result"
    }
   ],
   "source": [
    "# 使用numpy生成一个nan的数组\n",
    "np.full([1,5], np.nan)"
   ]
  },
  {
   "cell_type": "code",
   "execution_count": 31,
   "metadata": {},
   "outputs": [],
   "source": [
    "import copy\n",
    "la2=copy.copy(la1)\n",
    "la2 += 0.01"
   ]
  },
  {
   "cell_type": "markdown",
   "metadata": {},
   "source": [
    "### 尝试用一个星系画出其质量分布图"
   ]
  },
  {
   "cell_type": "code",
   "execution_count": 62,
   "metadata": {},
   "outputs": [
    {
     "name": "stdout",
     "output_type": "stream",
     "text": [
      "-9999.0\n"
     ]
    }
   ],
   "source": [
    "#lalala_mass=np.zeros([2800,2],dtype=float)\n",
    "print(lalala_mass)"
   ]
  },
  {
   "cell_type": "code",
   "execution_count": 2,
   "metadata": {},
   "outputs": [
    {
     "data": {
      "image/png": "[encoded data removed]",
      "text/plain": [
       "<Figure size 432x288 with 2 Axes>"
      ]
     },
     "metadata": {
      "needs_background": "light"
     },
     "output_type": "display_data"
    }
   ],
   "source": [
    "################################################\n",
    "# 画出编号为'8077-6104'，数组位置为249的星系的surface mass density\n",
    "# 使用粗略的四舍五入进行分bin操作画图\n",
    "################################################\n",
    "\n",
    "import matplotlib.pyplot as plt\n",
    "import numpy as np\n",
    "from astropy.io import fits\n",
    "import copy as copy\n",
    "\n",
    "# 读取fits文件\n",
    "lalala0 = fits.open('/root/cosmos/galaxies-mzr/data/manga_firefly-v2_4_3-STELLARPOP.fits')\n",
    "lala=fits.getdata('/root/cosmos/galaxies-mzr/data/manga_firefly-v2_4_3-STELLARPOP.fits',header=True)\n",
    "lalala=copy.copy(lalala0)    # copy一下，去除只读属性\n",
    "# plate_ifu 星系编号\n",
    "plate_ifu_num = '8077-6104'\n",
    "\n",
    "# 星系的数组位置【共4675个星系】\n",
    "galaxy_arr_num = 249\n",
    "\n",
    "# 表面质量密度\n",
    "lalala_mass=np.zeros([2800,1],dtype=float)\n",
    "lalala_mass[:,0]=lalala[13].data[galaxy_arr_num,:,0]\n",
    "\n",
    "# 坐标信息\n",
    "lalala_x_y=np.zeros([2800,2],dtype=float)\n",
    "lalala_x_y[:,0]=lalala[4].data[galaxy_arr_num,:,1]\n",
    "lalala_x_y[:,1]=lalala[4].data[galaxy_arr_num,:,2]\n",
    "\n",
    "# 异常数据重置为0\n",
    "# 异常数据 == -9999,且所有的异常数据在数组位置中都为-9999\n",
    "lalala_mass[np.where(lalala_mass==-9999)]=0\n",
    "lalala_x_y[np.where(lalala_x_y==-9999)]=0\n",
    "\n",
    "# 平移缩放坐标\n",
    "lalala_x_y+=15\n",
    "lalala_x_y*=1\n",
    "\n",
    "# 四舍五入\n",
    "lalala_x_y=np.around(lalala_x_y)\n",
    "\n",
    "# 生成目标画图数组\n",
    "lalala_plot_mass_density=np.zeros([300,300],dtype=float)\n",
    "for i in range(0,2800):\n",
    "    ii=int(lalala_x_y[i,0])-1\n",
    "    jj=int(lalala_x_y[i,1])-1\n",
    "    lalala_plot_mass_density[ii,jj]+=lalala_mass[i]\n",
    "\n",
    "# 画图\n",
    "lalala_plot_mass_density[np.where(lalala_plot_mass_density==-0)]=np.nan\n",
    "fig, ax = plt.subplots()\n",
    "p = ax.imshow(lalala_plot_mass_density)\n",
    "ax.set_xlabel('spaxel')\n",
    "ax.set_ylabel('spaxel')\n",
    "plt.xlim((0,25))    # x轴坐标范围\n",
    "plt.ylim((0,25))    # y轴坐标范围\n",
    "cb = fig.colorbar(p)\n",
    "cb.set_label('log(Mstar) [M$_\\odot$]')\n",
    "cb.range=(5.5,8.5)\n"
   ]
  },
  {
   "cell_type": "code",
   "execution_count": 58,
   "metadata": {},
   "outputs": [
    {
     "data": {
      "text/plain": [
       "0.0"
      ]
     },
     "execution_count": 58,
     "metadata": {},
     "output_type": "execute_result"
    }
   ],
   "source": [
    "np.min(lalala_mass)"
   ]
  },
  {
   "cell_type": "code",
   "execution_count": 14,
   "metadata": {},
   "outputs": [
    {
     "data": {
      "text/plain": [
       "array([[ -1,  -1,  -1,  -1,  -1, 756, 756, 756, 756, 751, 751, 758, 757,\n",
       "        753, 752, 739, 750, 750, 717, 717],\n",
       "       [ -1,  -1,  -1, 716, 716, 727, 727, 756, 756, 743, 751, 747, 746,\n",
       "        741, 739, 739, 738, 714, 717, 717],\n",
       "       [ -1,  -1,  -1, 716, 716, 716, 727, 727, 743, 743, 730, 724, 718,\n",
       "        715, 711, 708, 710, 714, 693, 696],\n",
       "       [ -1,  -1,  -1, 716, 716, 700, 712, 712, 692, 692, 702, 697, 695,\n",
       "        691, 688, 685, 687, 690, 693, 696],\n",
       "       [ -1,  -1, 694, 716, 716, 700, 712, 712, 692, 692, 684, 680, 674,\n",
       "        668, 665, 663, 661, 664, 667, 672],\n",
       "       [ -1,  -1, 694, 694, 694, 681, 675, 675, 682, 673, 662, 657, 648,\n",
       "        644, 636, 633, 632, 634, 638, 643],\n",
       "       [694, 694, 694, 694, 681, 681, 675, 675, 659, 651, 637, 627, 618,\n",
       "        601, 596, 593, 594, 599, 603, 616],\n",
       "       [ -1, 694, 694, 694, 681, 681, 666, 655, 635, 619, 592, 585, 575,\n",
       "        569, 564, 562, 563, 566, 573, 579],\n",
       "       [646, 646, 646, 646, 660, 660, 647, 626, 590, 574, 554, 545, 541,\n",
       "        536, 531, 528, 529, 534, 540, 544],\n",
       "       [646, 646, 646, 646, 591, 591, 595, 576, 547, 539, 525, 501, 491,\n",
       "        482, 480, 481, 490, 495, 502, 518],\n",
       "       [646, 646, 646, 646, 591, 591, 567, 543, 522, 479, 471, 465, 458,\n",
       "        455, 453, 454, 457, 462, 473, 478],\n",
       "       [469, 535, 535, 535, 553, 553, 537, 474, 466, 451, 446, 442, 438,\n",
       "        432, 431, 430, 437, 440, 445, 450],\n",
       "       [469, 535, 535, 535, 468, 468, 470, 452, 443, 436, 429, 417, 408,\n",
       "        402, 398, 396, 400, 404, 410, 419],\n",
       "       [469, 469, 535, 467, 467, 468, 448, 439, 428, 411, 395, 384, 375,\n",
       "        369, 367, 366, 368, 373, 380, 389],\n",
       "       [469, 469, 467, 467, 467, 447, 433, 421, 399, 378, 341, 329, 324,\n",
       "        319, 318, 323, 328, 335, 349, 363],\n",
       "       [469, 469, 435, 435, 435, 420, 418, 390, 331, 317, 306, 291, 287,\n",
       "        285, 286, 290, 301, 308, 316, 330],\n",
       "       [434, 427, 427, 435, 435, 420, 388, 325, 304, 249, 244, 240, 238,\n",
       "        239, 241, 246, 272, 281, 289, 305],\n",
       "       [434, 427, 427, 427, 391, 391, 314, 248, 237, 230, 224, 202, 179,\n",
       "        150, 146, 149, 154, 245, 269, 282],\n",
       "       [434, 425, 425, 425, 407, 315, 243, 234, 223, 201, 178, 129,  77,\n",
       "         35,  15,   5,   0,   1, 152, 264],\n",
       "       [434, 425, 425, 425, 327, 242, 231, 220, 198, 175, 101,  76,  37,\n",
       "         17,   9,   4,   3,   2,  25, 123]], dtype=int16)"
      ]
     },
     "execution_count": 14,
     "metadata": {},
     "output_type": "execute_result"
    }
   ],
   "source": [
    "test=lalala[5].data\n",
    "test[249,10:30,10:30]"
   ]
  },
  {
   "cell_type": "code",
   "execution_count": null,
   "metadata": {},
   "outputs": [],
   "source": []
  },
  {
   "cell_type": "code",
   "execution_count": 37,
   "metadata": {},
   "outputs": [
    {
     "data": {
      "image/png": "[encoded data removed]",
      "text/plain": [
       "<Figure size 432x288 with 1 Axes>"
      ]
     },
     "metadata": {
      "needs_background": "light"
     },
     "output_type": "display_data"
    }
   ],
   "source": [
    "test=lalala[4].data\n",
    "plt.hist2d(test[2,1,:],test[2,1,:])\n",
    "plt.show()"
   ]
  },
  {
   "cell_type": "code",
   "execution_count": null,
   "metadata": {},
   "outputs": [],
   "source": []
  },
  {
   "cell_type": "code",
   "execution_count": null,
   "metadata": {},
   "outputs": [],
   "source": []
  },
  {
   "cell_type": "code",
   "execution_count": 23,
   "metadata": {},
   "outputs": [],
   "source": [
    "# ################################################\n",
    "# 画出编号为'8077-6104'，数组位置为249的星系的surface mass density\n",
    "# 使用分bin操作重现Marvin网站示例图\n",
    "################################################\n",
    "\n",
    "import matplotlib.pyplot as plt\n",
    "import numpy as np\n",
    "from astropy.io import fits\n",
    "import copy as copy\n",
    "\n",
    "# 读取fits文件\n",
    "lalala0 = fits.open('/root/cosmos/galaxies-mzr/data/manga_firefly-v2_4_3-STELLARPOP.fits')\n",
    "lala=fits.getdata('/root/cosmos/galaxies-mzr/data/manga_firefly-v2_4_3-STELLARPOP.fits',header=True)\n",
    "lalala=copy.copy(lalala0)    # copy一下，去除只读属性\n",
    "# plate_ifu 星系编号\n",
    "plate_ifu_num = '8077-6104'\n",
    "\n",
    "# 星系的数组位置【共4675个星系】\n",
    "galaxy_arr_num = 249\n",
    "\n",
    "# 表面质量密度\n",
    "lalala_mass=np.zeros([2800,1],dtype=float)\n",
    "lalala_mass[:,0]=lalala[11].data[galaxy_arr_num,:,0]\n",
    "\n",
    "# 坐标信息\n",
    "lalala_x_y=np.zeros([2800,2],dtype=float)\n",
    "lalala_x_y[:,0]=lalala[4].data[galaxy_arr_num,:,1]\n",
    "lalala_x_y[:,1]=lalala[4].data[galaxy_arr_num,:,2]\n",
    "\n",
    "# 异常数据重置为0\n",
    "# 异常数据 == -9999,且所有的异常数据在数组位置中都为-9999\n",
    "lalala_mass[np.where(lalala_mass==-9999)]=0\n",
    "lalala_x_y[np.where(lalala_x_y==-9999)]=0\n",
    "\n",
    "# 平移缩放坐标\n",
    "lalala_x_y[np.where(lalala_x_y!=0)]+=15\n",
    "lalala_x_y[np.where(lalala_x_y!=0)]*=1\n"
   ]
  },
  {
   "cell_type": "code",
   "execution_count": 24,
   "metadata": {},
   "outputs": [
    {
     "data": {
      "text/plain": [
       "0.0"
      ]
     },
     "execution_count": 24,
     "metadata": {},
     "output_type": "execute_result"
    }
   ],
   "source": [
    "np.min(lalala_x_y[:,0])"
   ]
  },
  {
   "cell_type": "code",
   "execution_count": null,
   "metadata": {},
   "outputs": [],
   "source": []
  },
  {
   "cell_type": "code",
   "execution_count": 27,
   "metadata": {},
   "outputs": [
    {
     "name": "stdout",
     "output_type": "stream",
     "text": [
      "[ 0.          2.6000514   5.20010281  7.80015421 10.40020561 13.00025702\n",
      " 15.60030842 18.20035982 20.80041122 23.40046263 26.00051403]\n",
      "[ 0.          2.40000734  4.80001469  7.20002203  9.60002937 12.00003672\n",
      " 14.40004406 16.8000514  19.20005875 21.60006609 24.00007343]\n"
     ]
    },
    {
     "data": {
      "text/plain": [
       "2.6000514030456543"
      ]
     },
     "execution_count": 27,
     "metadata": {},
     "output_type": "execute_result"
    },
    {
     "data": {
      "image/png": "[encoded data removed]",
      "text/plain": [
       "<Figure size 504x504 with 1 Axes>"
      ]
     },
     "metadata": {
      "needs_background": "light"
     },
     "output_type": "display_data"
    }
   ],
   "source": [
    "plt.figure(figsize=(7,7))\n",
    "hist, xbins, ybins, cax = plt.hist2d(lalala_x_y[:,0],lalala_x_y[:,1],bins=(10,10));\n",
    "print(xbins)\n",
    "print(ybins)\n",
    "xbins[1]"
   ]
  },
  {
   "cell_type": "code",
   "execution_count": 34,
   "metadata": {},
   "outputs": [],
   "source": [
    "# 生成目标画图数组\n",
    "plot_size = 30\n",
    "plot_delta = 0.1    # 一就是默认分辨率\n",
    "plot_mesh_size = int(plot_size/plot_delta)\n",
    "lalala_plot_mass_density=np.zeros([plot_mesh_size,plot_mesh_size],dtype=float)\n",
    "xx = lalala_x_y[:,0]\n",
    "yy = lalala_x_y[:,1]\n",
    "for ii in range(0,2800):\n",
    "    for i in range(0,ybins.size-1):    # 先检索y方向\n",
    "        if (lalala_x_y[ii,1]>=ybins[i]) & (lalala_x_y[ii,1]<ybins[i+1]):\n",
    "            for j in range(0,xbins.size-1):    # 再检索x方向\n",
    "                if (lalala_x_y[ii,0]>=xbins[j]) & (lalala_x_y[ii,0]<xbins[j+1]):\n",
    "                    plot_x = int(i / (ybins.size) * (plot_size/plot_delta))\n",
    "                    plot_y = int(j / (xbins.size) * (plot_size/plot_delta))\n",
    "                    lalala_plot_mass_density[plot_x,plot_y] += lalala_mass[ii,0]\n",
    "                \n",
    "\n",
    "        "
   ]
  },
  {
   "cell_type": "code",
   "execution_count": 39,
   "metadata": {},
   "outputs": [
    {
     "data": {
      "text/plain": [
       "array([  6.95756292,  13.02053738,  48.44445896,  92.69807816,\n",
       "        35.32560301,  20.20006704,  13.78909588,  93.61393166,\n",
       "       185.31004286, 182.11585665,  86.24430799,  20.52170753,\n",
       "        36.16880274,  49.42043829, 147.69694996, 182.05509567,\n",
       "       150.49332905, 147.01146603,  14.37503242,  13.59425592,\n",
       "         6.05439186, 113.18422508, 144.13497639, 190.56240129,\n",
       "       233.84904194, 192.66244316, 185.24033451,  50.56703043,\n",
       "        49.49606562, 176.35332537, 191.35286045, 237.5599637 ,\n",
       "       195.21956348, 186.09197283,  78.99895287,  14.28400946,\n",
       "       100.93209934, 188.83206511, 230.61180401, 192.06030941,\n",
       "       185.89467049,  77.91014242,   6.86451387,  48.43406153,\n",
       "       145.2576232 , 222.55284929, 177.65558243, 128.60310793,\n",
       "        34.28562832,  13.65456438,  56.51612282,  84.42494726,\n",
       "        70.84806681,  20.36647892])"
      ]
     },
     "execution_count": 39,
     "metadata": {},
     "output_type": "execute_result"
    }
   ],
   "source": [
    "lalala_plot_mass_density[np.where(lalala_plot_mass_density!=0)]"
   ]
  },
  {
   "cell_type": "code",
   "execution_count": null,
   "metadata": {},
   "outputs": [],
   "source": []
  },
  {
   "cell_type": "code",
   "execution_count": 2,
   "metadata": {},
   "outputs": [],
   "source": [
    "import matplotlib.pyplot as plt\n",
    "import numpy as np\n",
    "from astropy.io import fits\n",
    "import copy as copy\n",
    "\n",
    "# 读取fits文件\n",
    "lalala0 = fits.open('/root/cosmos/galaxies-mzr/data/manga_firefly-v2_4_3-STELLARPOP.fits')\n",
    "lala=fits.getdata('/root/cosmos/galaxies-mzr/data/manga_firefly-v2_4_3-STELLARPOP.fits',header=True)\n",
    "lalala=copy.copy(lalala0)    # copy一下，去除只读属性\n",
    "# plate_ifu 星系编号\n",
    "\n",
    "\n",
    "# 星系的数组位置【共4675个星系】\n",
    "galaxy_arr_num = 249\n",
    "\n",
    "# 表面质量密度\n",
    "lalala_mass=np.zeros([2800,1],dtype=float)\n",
    "lalala_mass[:,0]=lalala[11].data[galaxy_arr_num,:,0]\n",
    "\n",
    "# 坐标信息\n",
    "lalala_x_y=np.zeros([2800,2],dtype=float)\n",
    "lalala_x_y[:,0]=lalala[4].data[galaxy_arr_num,:,1]\n",
    "lalala_x_y[:,1]=lalala[4].data[galaxy_arr_num,:,2]\n",
    "\n",
    "# 异常数据重置为0\n",
    "# 异常数据 == -9999,且所有的异常数据在数组位置中都为-9999\n",
    "lalala_mass[np.where(lalala_mass==-9999)]=-2333\n",
    "lalala_x_y[np.where(lalala_x_y==-9999)]=-2333\n",
    "\n",
    "# 平移缩放坐标\n",
    "lalala_x_y+=15\n",
    "lalala_x_y*=10\n",
    "\n",
    "# 四舍五入\n",
    "#lalala_x_y=np.around(lalala_x_y)\n",
    "\n",
    "# 生成目标画图数组\n",
    "#lalala_plot_mass_density=np.zeros([300,300],dtype=float)\n",
    "#for i in range(0,2800):\n",
    "#    ii=int(lalala_x_y[i,0])-1\n",
    "#    jj=int(lalala_x_y[i,1])-1\n",
    "#    lalala_plot_mass_density[ii,jj]+=lalala_mass[i]\n",
    "\n"
   ]
  },
  {
   "cell_type": "code",
   "execution_count": 40,
   "metadata": {},
   "outputs": [
    {
     "name": "stdout",
     "output_type": "stream",
     "text": [
      "[['8252-12701']\n",
      " ['8979-12701']\n",
      " ['8933-6102']\n",
      " ...\n",
      " ['8084-3702']\n",
      " ['8082-12704']\n",
      " ['8485-12704']]\n",
      "249\n"
     ]
    }
   ],
   "source": [
    "# 读取星系编号\n",
    "plate_ifu0=lalala[1].data\n",
    "plate_ifu=np.zeros((plate_ifu0.size,1))\n",
    "plate_ifu=plate_ifu.astype(np.str)\n",
    "#plate_ifu=plate_ifu0[0][1]\n",
    "for i in range(0,plate_ifu0.size):\n",
    "    plate_ifu[i,0]=plate_ifu0[i][1]\n",
    "    #plate_ifu = np.char.add( plate_ifu, plate_ifu0[i][1] )\n",
    "print( plate_ifu)\n",
    "\n",
    "# 根据plateifu编号来寻找数组中的位置\n",
    "plate_ifu_search = '8077-6104'\n",
    "num_array = np.where(plate_ifu==plate_ifu_search)\n",
    "print(num_array[0][0])"
   ]
  },
  {
   "cell_type": "code",
   "execution_count": 41,
   "metadata": {},
   "outputs": [
    {
     "name": "stdout",
     "output_type": "stream",
     "text": [
      "249\n"
     ]
    }
   ],
   "source": [
    "# 根据plateifu编号来寻找数组中的位置\n",
    "plate_ifu_search = '8077-6104'\n",
    "num_array = np.where(plate_ifu==plate_ifu_search)\n",
    "print(num_array[0][0])"
   ]
  },
  {
   "cell_type": "code",
   "execution_count": null,
   "metadata": {},
   "outputs": [],
   "source": []
  },
  {
   "cell_type": "code",
   "execution_count": 9,
   "metadata": {
    "scrolled": false
   },
   "outputs": [
    {
     "data": {
      "image/png": "[encoded data removed]",
      "text/plain": [
       "<Figure size 432x432 with 1 Axes>"
      ]
     },
     "metadata": {
      "needs_background": "light"
     },
     "output_type": "display_data"
    }
   ],
   "source": [
    "plt.figure(figsize=(6,6))\n",
    "hist, xbins, ybins, cax = plt.hist2d(lalala_x_y[:,0],lalala_x_y[:,1],bins=(50,50));"
   ]
  },
  {
   "cell_type": "code",
   "execution_count": 10,
   "metadata": {},
   "outputs": [
    {
     "data": {
      "text/plain": [
       "array([-2318.        , -2271.11998972, -2224.23997944, -2177.35996916,\n",
       "       -2130.47995888, -2083.5999486 , -2036.71993832, -1989.83992804,\n",
       "       -1942.95991776, -1896.07990747, -1849.19989719, -1802.31988691,\n",
       "       -1755.43987663, -1708.55986635, -1661.67985607, -1614.79984579,\n",
       "       -1567.91983551, -1521.03982523, -1474.15981495, -1427.27980467,\n",
       "       -1380.39979439, -1333.51978411, -1286.63977383, -1239.75976355,\n",
       "       -1192.87975327, -1145.99974298, -1099.1197327 , -1052.23972242,\n",
       "       -1005.35971214,  -958.47970186,  -911.59969158,  -864.7196813 ,\n",
       "        -817.83967102,  -770.95966074,  -724.07965046,  -677.19964018,\n",
       "        -630.3196299 ,  -583.43961962,  -536.55960934,  -489.67959906,\n",
       "        -442.79958878,  -395.9195785 ,  -349.03956821,  -302.15955793,\n",
       "        -255.27954765,  -208.39953737,  -161.51952709,  -114.63951681,\n",
       "         -67.75950653,   -20.87949625,    26.00051403])"
      ]
     },
     "execution_count": 10,
     "metadata": {},
     "output_type": "execute_result"
    }
   ],
   "source": [
    "xbins"
   ]
  },
  {
   "cell_type": "code",
   "execution_count": 162,
   "metadata": {},
   "outputs": [
    {
     "ename": "TypeError",
     "evalue": "Invalid dimensions for image data",
     "output_type": "error",
     "traceback": [
      "\u001b[0;31m---------------------------------------------------------------------------\u001b[0m",
      "\u001b[0;31mTypeError\u001b[0m                                 Traceback (most recent call last)",
      "\u001b[0;32m<ipython-input-162-b448df265754>\u001b[0m in \u001b[0;36m<module>\u001b[0;34m\u001b[0m\n\u001b[1;32m      8\u001b[0m \u001b[0mz\u001b[0m \u001b[0;34m=\u001b[0m \u001b[0mlalala_plot_mass_density\u001b[0m\u001b[0;34m[\u001b[0m\u001b[0;34m:\u001b[0m\u001b[0;34m,\u001b[0m\u001b[0;36m2\u001b[0m\u001b[0;34m]\u001b[0m\u001b[0;34m\u001b[0m\u001b[0;34m\u001b[0m\u001b[0m\n\u001b[1;32m      9\u001b[0m \u001b[0mx\u001b[0m\u001b[0;34m,\u001b[0m \u001b[0my\u001b[0m \u001b[0;34m=\u001b[0m \u001b[0mnp\u001b[0m\u001b[0;34m.\u001b[0m\u001b[0mmeshgrid\u001b[0m\u001b[0;34m(\u001b[0m\u001b[0mxx\u001b[0m\u001b[0;34m,\u001b[0m \u001b[0myy\u001b[0m\u001b[0;34m)\u001b[0m\u001b[0;34m\u001b[0m\u001b[0;34m\u001b[0m\u001b[0m\n\u001b[0;32m---> 10\u001b[0;31m \u001b[0mplt\u001b[0m\u001b[0;34m.\u001b[0m\u001b[0mimshow\u001b[0m\u001b[0;34m(\u001b[0m\u001b[0mz\u001b[0m\u001b[0;34m,\u001b[0m \u001b[0mcmap\u001b[0m\u001b[0;34m=\u001b[0m\u001b[0;34m'jet'\u001b[0m\u001b[0;34m,\u001b[0m \u001b[0morigin\u001b[0m\u001b[0;34m=\u001b[0m\u001b[0;34m'low'\u001b[0m\u001b[0;34m)\u001b[0m\u001b[0;34m\u001b[0m\u001b[0;34m\u001b[0m\u001b[0m\n\u001b[0m",
      "\u001b[0;32m~/anaconda3/lib/python3.7/site-packages/matplotlib/pyplot.py\u001b[0m in \u001b[0;36mimshow\u001b[0;34m(X, cmap, norm, aspect, interpolation, alpha, vmin, vmax, origin, extent, shape, filternorm, filterrad, imlim, resample, url, data, **kwargs)\u001b[0m\n\u001b[1;32m   2699\u001b[0m         \u001b[0mfilternorm\u001b[0m\u001b[0;34m=\u001b[0m\u001b[0mfilternorm\u001b[0m\u001b[0;34m,\u001b[0m \u001b[0mfilterrad\u001b[0m\u001b[0;34m=\u001b[0m\u001b[0mfilterrad\u001b[0m\u001b[0;34m,\u001b[0m \u001b[0mimlim\u001b[0m\u001b[0;34m=\u001b[0m\u001b[0mimlim\u001b[0m\u001b[0;34m,\u001b[0m\u001b[0;34m\u001b[0m\u001b[0;34m\u001b[0m\u001b[0m\n\u001b[1;32m   2700\u001b[0m         resample=resample, url=url, **({\"data\": data} if data is not\n\u001b[0;32m-> 2701\u001b[0;31m         None else {}), **kwargs)\n\u001b[0m\u001b[1;32m   2702\u001b[0m     \u001b[0msci\u001b[0m\u001b[0;34m(\u001b[0m\u001b[0m__ret\u001b[0m\u001b[0;34m)\u001b[0m\u001b[0;34m\u001b[0m\u001b[0;34m\u001b[0m\u001b[0m\n\u001b[1;32m   2703\u001b[0m     \u001b[0;32mreturn\u001b[0m \u001b[0m__ret\u001b[0m\u001b[0;34m\u001b[0m\u001b[0;34m\u001b[0m\u001b[0m\n",
      "\u001b[0;32m~/anaconda3/lib/python3.7/site-packages/matplotlib/__init__.py\u001b[0m in \u001b[0;36minner\u001b[0;34m(ax, data, *args, **kwargs)\u001b[0m\n\u001b[1;32m   1808\u001b[0m                         \u001b[0;34m\"the Matplotlib list!)\"\u001b[0m \u001b[0;34m%\u001b[0m \u001b[0;34m(\u001b[0m\u001b[0mlabel_namer\u001b[0m\u001b[0;34m,\u001b[0m \u001b[0mfunc\u001b[0m\u001b[0;34m.\u001b[0m\u001b[0m__name__\u001b[0m\u001b[0;34m)\u001b[0m\u001b[0;34m,\u001b[0m\u001b[0;34m\u001b[0m\u001b[0;34m\u001b[0m\u001b[0m\n\u001b[1;32m   1809\u001b[0m                         RuntimeWarning, stacklevel=2)\n\u001b[0;32m-> 1810\u001b[0;31m             \u001b[0;32mreturn\u001b[0m \u001b[0mfunc\u001b[0m\u001b[0;34m(\u001b[0m\u001b[0max\u001b[0m\u001b[0;34m,\u001b[0m \u001b[0;34m*\u001b[0m\u001b[0margs\u001b[0m\u001b[0;34m,\u001b[0m \u001b[0;34m**\u001b[0m\u001b[0mkwargs\u001b[0m\u001b[0;34m)\u001b[0m\u001b[0;34m\u001b[0m\u001b[0;34m\u001b[0m\u001b[0m\n\u001b[0m\u001b[1;32m   1811\u001b[0m \u001b[0;34m\u001b[0m\u001b[0m\n\u001b[1;32m   1812\u001b[0m         inner.__doc__ = _add_data_doc(inner.__doc__,\n",
      "\u001b[0;32m~/anaconda3/lib/python3.7/site-packages/matplotlib/axes/_axes.py\u001b[0m in \u001b[0;36mimshow\u001b[0;34m(self, X, cmap, norm, aspect, interpolation, alpha, vmin, vmax, origin, extent, shape, filternorm, filterrad, imlim, resample, url, **kwargs)\u001b[0m\n\u001b[1;32m   5492\u001b[0m                               resample=resample, **kwargs)\n\u001b[1;32m   5493\u001b[0m \u001b[0;34m\u001b[0m\u001b[0m\n\u001b[0;32m-> 5494\u001b[0;31m         \u001b[0mim\u001b[0m\u001b[0;34m.\u001b[0m\u001b[0mset_data\u001b[0m\u001b[0;34m(\u001b[0m\u001b[0mX\u001b[0m\u001b[0;34m)\u001b[0m\u001b[0;34m\u001b[0m\u001b[0;34m\u001b[0m\u001b[0m\n\u001b[0m\u001b[1;32m   5495\u001b[0m         \u001b[0mim\u001b[0m\u001b[0;34m.\u001b[0m\u001b[0mset_alpha\u001b[0m\u001b[0;34m(\u001b[0m\u001b[0malpha\u001b[0m\u001b[0;34m)\u001b[0m\u001b[0;34m\u001b[0m\u001b[0;34m\u001b[0m\u001b[0m\n\u001b[1;32m   5496\u001b[0m         \u001b[0;32mif\u001b[0m \u001b[0mim\u001b[0m\u001b[0;34m.\u001b[0m\u001b[0mget_clip_path\u001b[0m\u001b[0;34m(\u001b[0m\u001b[0;34m)\u001b[0m \u001b[0;32mis\u001b[0m \u001b[0;32mNone\u001b[0m\u001b[0;34m:\u001b[0m\u001b[0;34m\u001b[0m\u001b[0;34m\u001b[0m\u001b[0m\n",
      "\u001b[0;32m~/anaconda3/lib/python3.7/site-packages/matplotlib/image.py\u001b[0m in \u001b[0;36mset_data\u001b[0;34m(self, A)\u001b[0m\n\u001b[1;32m    644\u001b[0m         if not (self._A.ndim == 2\n\u001b[1;32m    645\u001b[0m                 or self._A.ndim == 3 and self._A.shape[-1] in [3, 4]):\n\u001b[0;32m--> 646\u001b[0;31m             \u001b[0;32mraise\u001b[0m \u001b[0mTypeError\u001b[0m\u001b[0;34m(\u001b[0m\u001b[0;34m\"Invalid dimensions for image data\"\u001b[0m\u001b[0;34m)\u001b[0m\u001b[0;34m\u001b[0m\u001b[0;34m\u001b[0m\u001b[0m\n\u001b[0m\u001b[1;32m    647\u001b[0m \u001b[0;34m\u001b[0m\u001b[0m\n\u001b[1;32m    648\u001b[0m         \u001b[0;32mif\u001b[0m \u001b[0mself\u001b[0m\u001b[0;34m.\u001b[0m\u001b[0m_A\u001b[0m\u001b[0;34m.\u001b[0m\u001b[0mndim\u001b[0m \u001b[0;34m==\u001b[0m \u001b[0;36m3\u001b[0m\u001b[0;34m:\u001b[0m\u001b[0;34m\u001b[0m\u001b[0;34m\u001b[0m\u001b[0m\n",
      "\u001b[0;31mTypeError\u001b[0m: Invalid dimensions for image data"
     ]
    },
    {
     "data": {
      "image/png": "[encoded data removed]",
      "text/plain": [
       "<Figure size 432x288 with 1 Axes>"
      ]
     },
     "metadata": {
      "needs_background": "light"
     },
     "output_type": "display_data"
    }
   ],
   "source": [
    "# 直接利用坐标数组和密度数组画图，不使用四舍五入\n",
    "lalala_plot_mass_density=np.zeros([2800,3],dtype=float)\n",
    "lalala_plot_mass_density[:,0] = lalala_x_y[:,0]\n",
    "lalala_plot_mass_density[:,1] = lalala_x_y[:,1]\n",
    "lalala_plot_mass_density[:,2] = lalala_mass[:,0]\n",
    "xx = lalala_plot_mass_density[:,0]\n",
    "yy = lalala_plot_mass_density[:,1]\n",
    "z = lalala_plot_mass_density[:,2]\n",
    "x, y = np.meshgrid(xx, yy)\n",
    "plt.imshow(z, cmap='jet', origin='low')"
   ]
  },
  {
   "cell_type": "code",
   "execution_count": 155,
   "metadata": {},
   "outputs": [
    {
     "name": "stderr",
     "output_type": "stream",
     "text": [
      "/root/anaconda3/lib/python3.7/site-packages/ipykernel_launcher.py:6: RuntimeWarning: covariance is not symmetric positive-semidefinite.\n",
      "  \n"
     ]
    },
    {
     "data": {
      "image/png": "[encoded data removed]",
      "text/plain": [
       "<Figure size 432x288 with 2 Axes>"
      ]
     },
     "metadata": {
      "needs_background": "light"
     },
     "output_type": "display_data"
    }
   ],
   "source": [
    "import numpy as np\n",
    "from matplotlib import pyplot as plt \n",
    "# 高斯分布\n",
    "mean = [0,0]\n",
    "cov = [[0,1],[1,0]]\n",
    "x, y = np.random.multivariate_normal(mean, cov, 100).T\n",
    "\n",
    " \n",
    "hist, xedges, yedges = np.histogram2d(x,y)\n",
    "X,Y = np.meshgrid(xedges,yedges)\n",
    "\n",
    "plt.imshow(hist, interpolation='nearest')\n",
    "plt.grid(True)\n",
    "plt.colorbar()\n",
    "plt.show()"
   ]
  },
  {
   "cell_type": "code",
   "execution_count": 154,
   "metadata": {},
   "outputs": [
    {
     "data": {
      "text/plain": [
       "10000"
      ]
     },
     "execution_count": 154,
     "metadata": {},
     "output_type": "execute_result"
    }
   ],
   "source": [
    "x.size"
   ]
  },
  {
   "cell_type": "code",
   "execution_count": 152,
   "metadata": {},
   "outputs": [
    {
     "data": {
      "text/plain": [
       "array([-0.55229954,  2.0505071 , -0.84151593, ..., -0.73836633,\n",
       "       -0.36120048, -0.0985296 ])"
      ]
     },
     "execution_count": 152,
     "metadata": {},
     "output_type": "execute_result"
    }
   ],
   "source": [
    "y"
   ]
  },
  {
   "cell_type": "code",
   "execution_count": null,
   "metadata": {},
   "outputs": [],
   "source": []
  },
  {
   "cell_type": "code",
   "execution_count": 11,
   "metadata": {},
   "outputs": [
    {
     "ename": "NameError",
     "evalue": "name 'lalala_plot_mass_density' is not defined",
     "output_type": "error",
     "traceback": [
      "\u001b[0;31m---------------------------------------------------------------------------\u001b[0m",
      "\u001b[0;31mNameError\u001b[0m                                 Traceback (most recent call last)",
      "\u001b[0;32m<ipython-input-11-cf18e53422b0>\u001b[0m in \u001b[0;36m<module>\u001b[0;34m\u001b[0m\n\u001b[0;32m----> 1\u001b[0;31m \u001b[0mlalala_plot_mass_density\u001b[0m\u001b[0;34m[\u001b[0m\u001b[0mnp\u001b[0m\u001b[0;34m.\u001b[0m\u001b[0mwhere\u001b[0m\u001b[0;34m(\u001b[0m\u001b[0mlalala_plot_mass_density\u001b[0m\u001b[0;34m==\u001b[0m\u001b[0;34m-\u001b[0m\u001b[0;36m233\u001b[0m\u001b[0;34m)\u001b[0m\u001b[0;34m]\u001b[0m\u001b[0;34m=\u001b[0m\u001b[0mnp\u001b[0m\u001b[0;34m.\u001b[0m\u001b[0mnan\u001b[0m\u001b[0;34m\u001b[0m\u001b[0;34m\u001b[0m\u001b[0m\n\u001b[0m\u001b[1;32m      2\u001b[0m \u001b[0mfig\u001b[0m\u001b[0;34m,\u001b[0m \u001b[0max\u001b[0m \u001b[0;34m=\u001b[0m \u001b[0mplt\u001b[0m\u001b[0;34m.\u001b[0m\u001b[0msubplots\u001b[0m\u001b[0;34m(\u001b[0m\u001b[0;34m)\u001b[0m\u001b[0;34m\u001b[0m\u001b[0;34m\u001b[0m\u001b[0m\n\u001b[1;32m      3\u001b[0m \u001b[0mp\u001b[0m \u001b[0;34m=\u001b[0m \u001b[0max\u001b[0m\u001b[0;34m.\u001b[0m\u001b[0mimshow\u001b[0m\u001b[0;34m(\u001b[0m\u001b[0mlalala_plot_mass_density\u001b[0m\u001b[0;34m)\u001b[0m\u001b[0;34m\u001b[0m\u001b[0;34m\u001b[0m\u001b[0m\n\u001b[1;32m      4\u001b[0m \u001b[0max\u001b[0m\u001b[0;34m.\u001b[0m\u001b[0mset_xlabel\u001b[0m\u001b[0;34m(\u001b[0m\u001b[0;34m'spaxel'\u001b[0m\u001b[0;34m)\u001b[0m\u001b[0;34m\u001b[0m\u001b[0;34m\u001b[0m\u001b[0m\n\u001b[1;32m      5\u001b[0m \u001b[0max\u001b[0m\u001b[0;34m.\u001b[0m\u001b[0mset_ylabel\u001b[0m\u001b[0;34m(\u001b[0m\u001b[0;34m'spaxel'\u001b[0m\u001b[0;34m)\u001b[0m\u001b[0;34m\u001b[0m\u001b[0;34m\u001b[0m\u001b[0m\n",
      "\u001b[0;31mNameError\u001b[0m: name 'lalala_plot_mass_density' is not defined"
     ]
    }
   ],
   "source": [
    "lalala_plot_mass_density[np.where(lalala_plot_mass_density==-233)]=np.nan\n",
    "fig, ax = plt.subplots()\n",
    "p = ax.imshow(lalala_plot_mass_density)\n",
    "ax.set_xlabel('spaxel')\n",
    "ax.set_ylabel('spaxel')\n",
    "plt.xlim((-500,250))\n",
    "plt.ylim((-500,250))\n",
    "cb = fig.colorbar(p)\n",
    "#cb.set_label('log(Mstar) [M$_\\odot$]')\n",
    "cb.set_label('log(Mstar) [M$_\\odot$]')"
   ]
  },
  {
   "cell_type": "code",
   "execution_count": null,
   "metadata": {},
   "outputs": [],
   "source": []
  },
  {
   "cell_type": "code",
   "execution_count": 48,
   "metadata": {},
   "outputs": [
    {
     "name": "stdout",
     "output_type": "stream",
     "text": [
      "60.0\n",
      "0.0\n"
     ]
    }
   ],
   "source": [
    "print(np.max(lalala_x_y))\n",
    "print(np.min(lalala_x_y))"
   ]
  },
  {
   "cell_type": "code",
   "execution_count": 47,
   "metadata": {},
   "outputs": [
    {
     "name": "stdout",
     "output_type": "stream",
     "text": [
      "(array([ 102,  103,  104, ..., 2797, 2798, 2799]),)\n",
      "(array([ 102,  103,  104, ..., 2797, 2798, 2799]),)\n",
      "(array([ 102,  103,  104, ..., 2797, 2798, 2799]),)\n",
      "(array([ 102,  103,  104, ..., 2797, 2798, 2799]),)\n"
     ]
    }
   ],
   "source": [
    "# 确认异常数据中，坐标x，y，质量密度是否一致-----> 已确认一致\n",
    "te1_x=lalala[4].data[4674,:,1]\n",
    "te1_y=lalala[4].data[4674,:,2]\n",
    "te2=lalala[11].data[4674,:,0]\n",
    "print(np.where(te1_x==-9999))\n",
    "print(np.where(te1_y==-9999))\n",
    "print(np.where(te2==-9999))\n",
    "print(np.where(te1_x==te2))"
   ]
  },
  {
   "cell_type": "code",
   "execution_count": 49,
   "metadata": {},
   "outputs": [
    {
     "name": "stdout",
     "output_type": "stream",
     "text": [
      "(array([  0,   1,   2,   3,   4,   5,   6,   7,   8,   9,  10,  11,  12,\n",
      "        13,  14,  15,  16,  17,  18,  19,  20,  21,  22,  23,  24,  25,\n",
      "        26,  27,  28,  29,  30,  31,  32,  33,  34,  35,  36,  37,  38,\n",
      "        39,  40,  41,  42,  43,  44,  45,  46,  47,  48,  49,  50,  51,\n",
      "        52,  53,  54,  55,  56,  57,  58,  59,  60,  61,  62,  63,  64,\n",
      "        65,  66,  67,  68,  69,  70,  71,  72,  73,  74,  75,  76,  77,\n",
      "        78,  79,  80,  81,  82,  83,  84,  85,  86,  87,  88,  89,  90,\n",
      "        91,  92,  93,  94,  95,  96,  97,  98,  99, 100, 101]),)\n",
      "[ 5.5444990e-03 -4.9445590e-01  5.5444990e-03  5.5444990e-03\n",
      "  5.0554490e-01 -4.9445453e-01 -4.9445727e-01  5.0554353e-01\n",
      "  5.0554627e-01 -9.9445629e-01  5.5444990e-03  5.5444990e-03\n",
      "  1.0055453e+00 -9.9445355e-01 -9.9445909e-01 -4.9445313e-01\n",
      " -4.9445868e-01  5.0554216e-01  5.0554764e-01  1.0055425e+00\n",
      "  1.0055481e+00 -9.9445081e-01 -9.9446183e-01  1.0055398e+00\n",
      "  1.0055509e+00 -1.4944568e+00  5.5444990e-03  5.5444990e-03\n",
      " -1.4944526e+00 -1.4944608e+00 -4.9445176e-01 -4.9446005e-01\n",
      "  5.0554079e-01  5.0554907e-01 -1.4944484e+00 -9.9444801e-01\n",
      " -1.4944650e+00 -9.9446458e-01  1.0055536e+00  5.5444990e-03\n",
      "  5.5444990e-03  2.0055461e+00 -1.9944516e+00 -4.9445039e-01\n",
      " -4.9446142e-01  5.0555044e-01  2.0055406e+00  2.0055516e+00\n",
      " -1.4944443e+00 -1.9944460e+00 -9.9444526e-01  1.0055563e+00\n",
      "  2.0055571e+00 -1.4944402e+00 -1.4944733e+00  5.5444990e-03\n",
      "  1.5055292e+00  2.0055628e+00 -4.9444899e-01  5.0555182e-01\n",
      " -9.9444252e-01  1.0055315e+00  1.0055591e+00 -1.9944351e+00\n",
      " -1.9944792e+00  2.0055683e+00 -1.4944360e+00  1.5055665e+00\n",
      "  5.5444990e-03 -2.9944496e+00  5.0553662e-01 -4.9446419e-01\n",
      "  5.0555319e-01 -2.4944298e+00 -1.9944295e+00  2.5055189e+00\n",
      " -1.4944319e+00  1.5055705e+00 -4.9444625e-01  5.0555456e-01\n",
      "  3.5055377e+00 -3.9944477e+00  2.0055075e+00  3.5055859e+00\n",
      "  1.0055702e+00 -2.4944022e+00  3.0056133e+00  5.0553107e-01\n",
      " -9.9442869e-01 -3.9943705e+00  3.5056536e+00 -2.9943502e+00\n",
      "  7.0054150e+00  4.0053821e+00  8.5055752e+00  1.5054669e+00\n",
      "  9.0057259e+00  9.0058498e+00 -1.4943656e+00 -2.9942756e+00\n",
      " -7.9940419e+00 -1.1994101e+01]\n",
      "\n",
      "最大值为  9.00585 \n",
      " \n",
      "最小值为  -11.994101 \n",
      "个数为  (102,)\n"
     ]
    }
   ],
   "source": [
    "# 找出数组中某一范围中的最大值最小值\n",
    "te=lalala[4].data[4674,:,1]\n",
    "num_max=1000\n",
    "num_min=-9999\n",
    "print(np.where((te<num_max)&(te>num_min)))\n",
    "print(te[np.where((te<num_max)&(te>num_min))])\n",
    "te_temp=te[np.where((te<num_max)&(te>num_min))]\n",
    "te_min=np.min(te_temp)\n",
    "te_max=np.max(te_temp)\n",
    "print('\\n最大值为 ',te_max,'\\n','\\n最小值为 ',te_min,'\\n个数为 ',te_temp.shape)\n"
   ]
  },
  {
   "cell_type": "code",
   "execution_count": 40,
   "metadata": {},
   "outputs": [
    {
     "data": {
      "text/plain": [
       "(2800,)"
      ]
     },
     "execution_count": 40,
     "metadata": {},
     "output_type": "execute_result"
    }
   ],
   "source": [
    "np.shape(te)"
   ]
  },
  {
   "cell_type": "code",
   "execution_count": 3,
   "metadata": {},
   "outputs": [],
   "source": [
    "plot1 = stats.norm.pdf(xx) * stats.norm.pdf(yy)"
   ]
  },
  {
   "cell_type": "code",
   "execution_count": 4,
   "metadata": {
    "scrolled": true
   },
   "outputs": [
    {
     "ename": "AttributeError",
     "evalue": "'numpy.ndarray' object has no attribute '_selftest'",
     "output_type": "error",
     "traceback": [
      "\u001b[0;31m---------------------------------------------------------------------------\u001b[0m",
      "\u001b[0;31mAttributeError\u001b[0m                            Traceback (most recent call last)",
      "\u001b[0;32m<ipython-input-4-ea0135f40cc0>\u001b[0m in \u001b[0;36m<module>\u001b[0;34m\u001b[0m\n\u001b[0;32m----> 1\u001b[0;31m \u001b[0md\u001b[0m\u001b[0;34m.\u001b[0m\u001b[0mget_arr2np\u001b[0m\u001b[0;34m(\u001b[0m\u001b[0mplot1\u001b[0m\u001b[0;34m)\u001b[0m\u001b[0;34m\u001b[0m\u001b[0;34m\u001b[0m\u001b[0m\n\u001b[0m\u001b[1;32m      2\u001b[0m \u001b[0;31m# Zoom to fit\u001b[0m\u001b[0;34m\u001b[0m\u001b[0;34m\u001b[0m\u001b[0;34m\u001b[0m\u001b[0m\n\u001b[1;32m      3\u001b[0m \u001b[0md\u001b[0m\u001b[0;34m.\u001b[0m\u001b[0mset\u001b[0m\u001b[0;34m(\u001b[0m\u001b[0;34m'zoom to fit'\u001b[0m\u001b[0;34m)\u001b[0m\u001b[0;34m\u001b[0m\u001b[0;34m\u001b[0m\u001b[0m\n\u001b[1;32m      4\u001b[0m \u001b[0;34m\u001b[0m\u001b[0m\n\u001b[1;32m      5\u001b[0m \u001b[0;31m# Change the colormap and scaling\u001b[0m\u001b[0;34m\u001b[0m\u001b[0;34m\u001b[0m\u001b[0;34m\u001b[0m\u001b[0m\n",
      "\u001b[0;32m~/anaconda3/lib/python3.7/site-packages/pyds9-1.9.dev211-py3.7-linux-x86_64.egg/pyds9/pyds9.py\u001b[0m in \u001b[0;36mget_arr2np\u001b[0;34m(self)\u001b[0m\n\u001b[1;32m    861\u001b[0m \u001b[0;34m\u001b[0m\u001b[0m\n\u001b[1;32m    862\u001b[0m         \"\"\"\n\u001b[0;32m--> 863\u001b[0;31m         \u001b[0mself\u001b[0m\u001b[0;34m.\u001b[0m\u001b[0m_selftest\u001b[0m\u001b[0;34m(\u001b[0m\u001b[0;34m)\u001b[0m\u001b[0;34m\u001b[0m\u001b[0;34m\u001b[0m\u001b[0m\n\u001b[0m\u001b[1;32m    864\u001b[0m         \u001b[0mw\u001b[0m \u001b[0;34m=\u001b[0m \u001b[0mint\u001b[0m\u001b[0;34m(\u001b[0m\u001b[0mself\u001b[0m\u001b[0;34m.\u001b[0m\u001b[0mget\u001b[0m\u001b[0;34m(\u001b[0m\u001b[0;34m'fits width'\u001b[0m\u001b[0;34m)\u001b[0m\u001b[0;34m)\u001b[0m\u001b[0;34m\u001b[0m\u001b[0;34m\u001b[0m\u001b[0m\n\u001b[1;32m    865\u001b[0m         \u001b[0mh\u001b[0m \u001b[0;34m=\u001b[0m \u001b[0mint\u001b[0m\u001b[0;34m(\u001b[0m\u001b[0mself\u001b[0m\u001b[0;34m.\u001b[0m\u001b[0mget\u001b[0m\u001b[0;34m(\u001b[0m\u001b[0;34m'fits height'\u001b[0m\u001b[0;34m)\u001b[0m\u001b[0;34m)\u001b[0m\u001b[0;34m\u001b[0m\u001b[0;34m\u001b[0m\u001b[0m\n",
      "\u001b[0;31mAttributeError\u001b[0m: 'numpy.ndarray' object has no attribute '_selftest'"
     ]
    }
   ],
   "source": [
    "d.get_arr2np(plot1)\n",
    "# Zoom to fit\n",
    "d.set('zoom to fit')\n",
    " \n",
    "# Change the colormap and scaling\n",
    "d.set('cmap bb')\n",
    "d.set('scale log')\n",
    " \n",
    "# Add a label\n",
    "d.set('regions command {text 30 20 #text=\"Fun with pyds9\" font=\"times 18 bold\"}')"
   ]
  },
  {
   "cell_type": "code",
   "execution_count": 16,
   "metadata": {
    "scrolled": true
   },
   "outputs": [
    {
     "ename": "AttributeError",
     "evalue": "'numpy.ndarray' object has no attribute '_selftest'",
     "output_type": "error",
     "traceback": [
      "\u001b[0;31m---------------------------------------------------------------------------\u001b[0m",
      "\u001b[0;31mAttributeError\u001b[0m                            Traceback (most recent call last)",
      "\u001b[0;32m<ipython-input-16-3d0f0cded87a>\u001b[0m in \u001b[0;36m<module>\u001b[0;34m\u001b[0m\n\u001b[1;32m      1\u001b[0m \u001b[0mla1\u001b[0m\u001b[0;34m=\u001b[0m\u001b[0mlalala\u001b[0m\u001b[0;34m[\u001b[0m\u001b[0;36m11\u001b[0m\u001b[0;34m]\u001b[0m\u001b[0;34m.\u001b[0m\u001b[0mdata\u001b[0m\u001b[0;34m[\u001b[0m\u001b[0;36m1\u001b[0m\u001b[0;34m]\u001b[0m\u001b[0;34m\u001b[0m\u001b[0;34m\u001b[0m\u001b[0m\n\u001b[0;32m----> 2\u001b[0;31m \u001b[0md\u001b[0m\u001b[0;34m.\u001b[0m\u001b[0mget_arr2np\u001b[0m\u001b[0;34m(\u001b[0m\u001b[0mla1\u001b[0m\u001b[0;34m)\u001b[0m\u001b[0;34m\u001b[0m\u001b[0;34m\u001b[0m\u001b[0m\n\u001b[0m",
      "\u001b[0;32m~/anaconda3/lib/python3.7/site-packages/pyds9-1.9.dev211-py3.7-linux-x86_64.egg/pyds9/pyds9.py\u001b[0m in \u001b[0;36mget_arr2np\u001b[0;34m(self)\u001b[0m\n\u001b[1;32m    861\u001b[0m \u001b[0;34m\u001b[0m\u001b[0m\n\u001b[1;32m    862\u001b[0m         \"\"\"\n\u001b[0;32m--> 863\u001b[0;31m         \u001b[0mself\u001b[0m\u001b[0;34m.\u001b[0m\u001b[0m_selftest\u001b[0m\u001b[0;34m(\u001b[0m\u001b[0;34m)\u001b[0m\u001b[0;34m\u001b[0m\u001b[0;34m\u001b[0m\u001b[0m\n\u001b[0m\u001b[1;32m    864\u001b[0m         \u001b[0mw\u001b[0m \u001b[0;34m=\u001b[0m \u001b[0mint\u001b[0m\u001b[0;34m(\u001b[0m\u001b[0mself\u001b[0m\u001b[0;34m.\u001b[0m\u001b[0mget\u001b[0m\u001b[0;34m(\u001b[0m\u001b[0;34m'fits width'\u001b[0m\u001b[0;34m)\u001b[0m\u001b[0;34m)\u001b[0m\u001b[0;34m\u001b[0m\u001b[0;34m\u001b[0m\u001b[0m\n\u001b[1;32m    865\u001b[0m         \u001b[0mh\u001b[0m \u001b[0;34m=\u001b[0m \u001b[0mint\u001b[0m\u001b[0;34m(\u001b[0m\u001b[0mself\u001b[0m\u001b[0;34m.\u001b[0m\u001b[0mget\u001b[0m\u001b[0;34m(\u001b[0m\u001b[0;34m'fits height'\u001b[0m\u001b[0;34m)\u001b[0m\u001b[0;34m)\u001b[0m\u001b[0;34m\u001b[0m\u001b[0;34m\u001b[0m\u001b[0m\n",
      "\u001b[0;31mAttributeError\u001b[0m: 'numpy.ndarray' object has no attribute '_selftest'"
     ]
    }
   ],
   "source": [
    "la1=lalala[11].data[1]\n",
    "d.get_arr2np(la1)"
   ]
  },
  {
   "cell_type": "markdown",
   "metadata": {},
   "source": [
    "### 使用提供的脚本"
   ]
  },
  {
   "cell_type": "code",
   "execution_count": 99,
   "metadata": {},
   "outputs": [
    {
     "data": {
      "image/png": "[encoded data removed]",
      "text/plain": [
       "<Figure size 432x288 with 2 Axes>"
      ]
     },
     "metadata": {
      "needs_background": "light"
     },
     "output_type": "display_data"
    }
   ],
   "source": [
    "import numpy as np\n",
    "import matplotlib\n",
    "import matplotlib.pyplot as plt\n",
    "from astropy.io import fits\n",
    "\n",
    "#read in the vac file\n",
    "vac = fits.open('/root/cosmos/galaxies-mzr/data/manga_firefly-v2_4_3-STELLARPOP.fits') \n",
    "\n",
    "#plate and ifu ID of the galaxy\n",
    "plate = 8077\n",
    "ifu = 6104\n",
    "\n",
    "#choose the quantity to make the map, could be changed to other properties for which the extension names are listed in the data model  \n",
    "prop = 'STELLAR_MASS_VORONOI'    # property 特性\n",
    "#SURFACE_MASS_DENSITY_VORONOI\n",
    "\n",
    "binid = vac[5].data\n",
    "basic = vac[1].data\n",
    "galid = (basic['plate']==plate)&(basic['ifudsgn']==str(ifu))    # 星系编号 galaxy ID\n",
    "mass = vac[prop].data[galid,:,0][0]    # 获取质量密度数据\n",
    "bin1d = vac[4].data[galid,:,0][0]    # 获取一维的bin数据\n",
    "image_sz = 76\n",
    "maps = np.zeros((image_sz,image_sz))-99    # 初始化画图数组\n",
    "for i in range(image_sz):\n",
    "    for j in range(image_sz):\n",
    "        idbin = (bin1d==binid[galid,i,j])    # 搜索二维bin的值在一维bin数组中的 位置\n",
    "        if len(bin1d[idbin])==1:    # 挑选出 一维2800的bin和二维76*76的bin相同的数值\n",
    "            maps[i,j] = mass[idbin]\n",
    "\n",
    "#only show the spaxels with non-empty values\n",
    "masked_array = np.ma.array(maps,mask=(maps<-10))\n",
    "\n",
    "#colour scheme for the colour bar\n",
    "cmap = matplotlib.cm.jet\n",
    "#cmap.set_bad('white',1.)\n",
    "\n",
    "#plot the map \n",
    "f = plt.imshow(masked_array,interpolation='nearest',cmap='YlGnBu_r',origin='lower')\n",
    "\n",
    "plt.minorticks_on()\n",
    "plt.tick_params(length=10, width=1, which='major')\n",
    "plt.tick_params(length=5, width=1, which='minor')\n",
    "#plt.xlabel(r\"X-offset $('')$\",fontsize=24)\n",
    "#plt.ylabel(r\"Y-offset $('')$\",fontsize=24)\n",
    "plt.xlabel(r\"spaxel\",fontsize=16)\n",
    "plt.ylabel(r\"spaxel\",fontsize=16)\n",
    "#plot the colour bar\n",
    "cbar = plt.colorbar(f,fraction=0.15,shrink=1.0)\n",
    "cbar.set_label('log(Mstar) [M$_\\odot$]',fontsize=18, rotation=90, labelpad=20)\n",
    "cbar.ax.tick_params(labelsize=16)\n",
    "\n",
    "#plt.tight_layout()\n",
    "plt.show()\n",
    "\n"
   ]
  },
  {
   "cell_type": "code",
   "execution_count": 4,
   "metadata": {},
   "outputs": [
    {
     "name": "stderr",
     "output_type": "stream",
     "text": [
      "/root/anaconda3/lib/python3.7/site-packages/ipykernel_launcher.py:7: ResourceWarning: unclosed file <_io.FileIO name='/root/cosmos/galaxies-mzr/data/manga_firefly-v2_4_3-STELLARPOP.fits' mode='rb' closefd=True>\n",
      "  import sys\n",
      "WARNING: Could not memory map array with mode='readonly', falling back to mode='denywrite', which means that the array will be read-only [astropy.io.fits.file]\n",
      "/root/anaconda3/lib/python3.7/site-packages/marvin/tools/quantities/map.py:424: RuntimeWarning: divide by zero encountered in power\n",
      "  return np.log10(np.e) * ivar**-0.5 / value\n",
      "/root/anaconda3/lib/python3.7/site-packages/marvin/tools/quantities/map.py:166: RuntimeWarning: divide by zero encountered in log10\n",
      "  value=ufunc(self.value),\n"
     ]
    },
    {
     "data": {
      "image/png": "[encoded data removed]",
      "text/plain": [
       "<Figure size 612x720 with 8 Axes>"
      ]
     },
     "metadata": {},
     "output_type": "display_data"
    },
    {
     "ename": "MaskError",
     "evalue": "Mask and data not compatible: data size is 2916, mask size is 4096.",
     "output_type": "error",
     "traceback": [
      "\u001b[0;31m---------------------------------------------------------------------------\u001b[0m",
      "\u001b[0;31mMaskError\u001b[0m                                 Traceback (most recent call last)",
      "\u001b[0;32m<ipython-input-4-43249e42c836>\u001b[0m in \u001b[0;36m<module>\u001b[0;34m\u001b[0m\n\u001b[1;32m     54\u001b[0m \u001b[0;31m#only show the spaxels with non-empty values\u001b[0m\u001b[0;34m\u001b[0m\u001b[0;34m\u001b[0m\u001b[0;34m\u001b[0m\u001b[0m\n\u001b[1;32m     55\u001b[0m \u001b[0mmaps\u001b[0m \u001b[0;34m=\u001b[0m \u001b[0mmaps\u001b[0m\u001b[0;34m[\u001b[0m\u001b[0;36m0\u001b[0m\u001b[0;34m:\u001b[0m\u001b[0;36m54\u001b[0m\u001b[0;34m,\u001b[0m\u001b[0;36m0\u001b[0m\u001b[0;34m:\u001b[0m\u001b[0;36m54\u001b[0m\u001b[0;34m]\u001b[0m\u001b[0;34m\u001b[0m\u001b[0;34m\u001b[0m\u001b[0m\n\u001b[0;32m---> 56\u001b[0;31m \u001b[0mmasked_array\u001b[0m \u001b[0;34m=\u001b[0m \u001b[0mnp\u001b[0m\u001b[0;34m.\u001b[0m\u001b[0mma\u001b[0m\u001b[0;34m.\u001b[0m\u001b[0marray\u001b[0m\u001b[0;34m(\u001b[0m\u001b[0mmaps\u001b[0m\u001b[0;34m,\u001b[0m\u001b[0mmask\u001b[0m\u001b[0;34m=\u001b[0m\u001b[0mnew_mask\u001b[0m\u001b[0;34m)\u001b[0m\u001b[0;34m\u001b[0m\u001b[0;34m\u001b[0m\u001b[0m\n\u001b[0m\u001b[1;32m     57\u001b[0m \u001b[0;34m\u001b[0m\u001b[0m\n\u001b[1;32m     58\u001b[0m \u001b[0mfig\u001b[0m\u001b[0;34m,\u001b[0m \u001b[0max\u001b[0m \u001b[0;34m=\u001b[0m \u001b[0mplt\u001b[0m\u001b[0;34m.\u001b[0m\u001b[0msubplots\u001b[0m\u001b[0;34m(\u001b[0m\u001b[0;34m)\u001b[0m\u001b[0;34m\u001b[0m\u001b[0;34m\u001b[0m\u001b[0m\n",
      "\u001b[0;32m~/anaconda3/lib/python3.7/site-packages/numpy/ma/core.py\u001b[0m in \u001b[0;36marray\u001b[0;34m(data, dtype, copy, order, mask, fill_value, keep_mask, hard_mask, shrink, subok, ndmin)\u001b[0m\n\u001b[1;32m   6376\u001b[0m                        \u001b[0msubok\u001b[0m\u001b[0;34m=\u001b[0m\u001b[0msubok\u001b[0m\u001b[0;34m,\u001b[0m \u001b[0mkeep_mask\u001b[0m\u001b[0;34m=\u001b[0m\u001b[0mkeep_mask\u001b[0m\u001b[0;34m,\u001b[0m\u001b[0;34m\u001b[0m\u001b[0;34m\u001b[0m\u001b[0m\n\u001b[1;32m   6377\u001b[0m                        \u001b[0mhard_mask\u001b[0m\u001b[0;34m=\u001b[0m\u001b[0mhard_mask\u001b[0m\u001b[0;34m,\u001b[0m \u001b[0mfill_value\u001b[0m\u001b[0;34m=\u001b[0m\u001b[0mfill_value\u001b[0m\u001b[0;34m,\u001b[0m\u001b[0;34m\u001b[0m\u001b[0;34m\u001b[0m\u001b[0m\n\u001b[0;32m-> 6378\u001b[0;31m                        ndmin=ndmin, shrink=shrink, order=order)\n\u001b[0m\u001b[1;32m   6379\u001b[0m \u001b[0marray\u001b[0m\u001b[0;34m.\u001b[0m\u001b[0m__doc__\u001b[0m \u001b[0;34m=\u001b[0m \u001b[0mmasked_array\u001b[0m\u001b[0;34m.\u001b[0m\u001b[0m__doc__\u001b[0m\u001b[0;34m\u001b[0m\u001b[0;34m\u001b[0m\u001b[0m\n\u001b[1;32m   6380\u001b[0m \u001b[0;34m\u001b[0m\u001b[0m\n",
      "\u001b[0;32m~/anaconda3/lib/python3.7/site-packages/numpy/ma/core.py\u001b[0m in \u001b[0;36m__new__\u001b[0;34m(cls, data, mask, dtype, copy, subok, ndmin, fill_value, keep_mask, hard_mask, shrink, order, **options)\u001b[0m\n\u001b[1;32m   2863\u001b[0m                     \u001b[0mmsg\u001b[0m \u001b[0;34m=\u001b[0m \u001b[0;34m\"Mask and data not compatible: data size is %i, \"\u001b[0m \u001b[0;34m+\u001b[0m\u001b[0;31m \u001b[0m\u001b[0;31m\\\u001b[0m\u001b[0;34m\u001b[0m\u001b[0;34m\u001b[0m\u001b[0m\n\u001b[1;32m   2864\u001b[0m                           \u001b[0;34m\"mask size is %i.\"\u001b[0m\u001b[0;34m\u001b[0m\u001b[0;34m\u001b[0m\u001b[0m\n\u001b[0;32m-> 2865\u001b[0;31m                     \u001b[0;32mraise\u001b[0m \u001b[0mMaskError\u001b[0m\u001b[0;34m(\u001b[0m\u001b[0mmsg\u001b[0m \u001b[0;34m%\u001b[0m \u001b[0;34m(\u001b[0m\u001b[0mnd\u001b[0m\u001b[0;34m,\u001b[0m \u001b[0mnm\u001b[0m\u001b[0;34m)\u001b[0m\u001b[0;34m)\u001b[0m\u001b[0;34m\u001b[0m\u001b[0;34m\u001b[0m\u001b[0m\n\u001b[0m\u001b[1;32m   2866\u001b[0m                 \u001b[0mcopy\u001b[0m \u001b[0;34m=\u001b[0m \u001b[0;32mTrue\u001b[0m\u001b[0;34m\u001b[0m\u001b[0;34m\u001b[0m\u001b[0m\n\u001b[1;32m   2867\u001b[0m             \u001b[0;31m# Set the mask to the new value\u001b[0m\u001b[0;34m\u001b[0m\u001b[0;34m\u001b[0m\u001b[0;34m\u001b[0m\u001b[0m\n",
      "\u001b[0;31mMaskError\u001b[0m: Mask and data not compatible: data size is 2916, mask size is 4096."
     ]
    }
   ],
   "source": [
    "import numpy as np\n",
    "import matplotlib as mpl\n",
    "import matplotlib.pyplot as plt\n",
    "from astropy.io import fits\n",
    "\n",
    "#read in the vac file\n",
    "vac = fits.open('/root/cosmos/galaxies-mzr/data/manga_firefly-v2_4_3-STELLARPOP.fits') \n",
    "\n",
    "#plate and ifu ID of the galaxy\n",
    "plate = 8252\n",
    "ifu = 9102\n",
    "\n",
    "#choose the quantity to make the map, could be changed to other properties for which the extension names are listed in the data model  \n",
    "prop = 'STELLAR_MASS_VORONOI'    # property 特性\n",
    "#SURFACE_MASS_DENSITY_VORONOI\n",
    "\n",
    "binid = vac[5].data\n",
    "basic = vac[1].data\n",
    "galid = (basic['plate']==plate)&(basic['ifudsgn']==str(ifu))    # 星系编号 galaxy ID\n",
    "mass = vac[prop].data[galid,:,0][0]    # 获取质量密度数据\n",
    "bin1d = vac[4].data[galid,:,0][0]    # 获取一维的bin数据\n",
    "\n",
    "# 导入Marvin的mask\n",
    "import numpy as np\n",
    "from matplotlib.colors import ListedColormap\n",
    "from marvin.tools import Maps\n",
    "import marvin.utils.plot.map as mapplot\n",
    "\n",
    "new_maps = Maps('8252-9102')\n",
    "nii = new_maps.emline_gflux_nii_6585\n",
    "ha = new_maps.emline_gflux_ha_6564\n",
    "n2 = nii / ha\n",
    "logn2 = np.log10(n2)\n",
    "oh =  0.57 * logn2+8.90 \n",
    "masks_bpt, __, __ = new_maps.get_bpt()\n",
    "masks_bpt['sf']['global']\n",
    "n2.pixmask.schema\n",
    "mask_non_sf = ~masks_bpt['sf']['global'] * n2.pixmask.labels_to_value('DONOTUSE')\n",
    "mask_bad_data = n2.pixmask.get_mask(['NOCOV', 'UNRELIABLE', 'DONOTUSE'])\n",
    "min_snr = 3.\n",
    "mask_nii_low_snr = (np.abs(nii.value * np.sqrt(nii.ivar)) < min_snr)\n",
    "mask_ha_low_snr = (np.abs(ha.value * np.sqrt(ha.ivar)) < min_snr)\n",
    "new_mask = mask_non_sf | mask_bad_data | mask_nii_low_snr | mask_ha_low_snr\n",
    "\n",
    "# 画图\n",
    "image_sz = 76    # 图像边长\n",
    "maps = np.zeros((image_sz,image_sz))-99    # 初始化画图数组\n",
    "for i in range(image_sz):\n",
    "    for j in range(image_sz):\n",
    "        idbin = (bin1d==binid[galid,i,j])    # 搜索二维bin的值在一维bin数组中的 位置\n",
    "        if len(bin1d[idbin])==1:    # 挑选出 一维2800的bin和二维76*76的bin相同的数值\n",
    "            maps[i,j] = mass[idbin]\n",
    "\n",
    "#only show the spaxels with non-empty values\n",
    "maps = maps[0:54,0:54]\n",
    "masked_array = np.ma.array(maps,mask=new_mask)\n",
    "\n",
    "fig, ax = plt.subplots()\n",
    "p = ax.imshow(masked_array , origin='lower',vmin=5.5,vmax=8.5)\n",
    "ax.set_xlabel('spaxel',fontsize=16)\n",
    "ax.set_ylabel('spaxel',fontsize=16)\n",
    "cb = fig.colorbar(p)\n",
    "cb.set_label('surface mass density ',fontsize=18,labelpad=10)\n",
    "plt.xlim((0,53))    # x轴坐标范围\n",
    "plt.ylim((0,53))    # y轴坐标范围\n",
    "\n",
    "cb.range=(10,30)"
   ]
  },
  {
   "cell_type": "code",
   "execution_count": 6,
   "metadata": {},
   "outputs": [
    {
     "data": {
      "image/png": "[encoded data removed]",
      "text/plain": [
       "<Figure size 432x288 with 2 Axes>"
      ]
     },
     "metadata": {
      "needs_background": "light"
     },
     "output_type": "display_data"
    }
   ],
   "source": [
    "# 画图\n",
    "image_sz = 76    # 图像边长\n",
    "maps = np.zeros((image_sz,image_sz))-99    # 初始化画图数组\n",
    "for i in range(image_sz):\n",
    "    for j in range(image_sz):\n",
    "        idbin = (bin1d==binid[galid,i,j])    # 搜索二维bin的值在一维bin数组中的 位置\n",
    "        if len(bin1d[idbin])==1:    # 挑选出 一维2800的bin和二维76*76的bin相同的数值\n",
    "            maps[i,j] = mass[idbin]\n",
    "\n",
    "#only show the spaxels with non-empty values\n",
    "masked_array = np.ma.array(maps,mask=(maps<-10))\n",
    "\n",
    "fig, ax = plt.subplots()\n",
    "#p = ax.imshow(masked_array , origin='lower',vmin=6.0,vmax=8.9,norm=mpl.colors.LogNorm())\n",
    "p = ax.imshow(masked_array , origin='lower',vmin=5.5,vmax=8.5)\n",
    "ax.set_xlabel('spaxel',fontsize=16)\n",
    "ax.set_ylabel('spaxel',fontsize=16)\n",
    "cb = fig.colorbar(p)\n",
    "cb.set_label('surface mass density ',fontsize=18,labelpad=10)\n",
    "plt.xlim((0,60))    # x轴坐标范围\n",
    "plt.ylim((0,60))    # y轴坐标范围\n",
    "\n",
    "cb.range=(10,30)\n",
    "#cb.set_ticks([5.5, 6.0, 6.5, 7.0, 7.5,8.0,8.5])\n",
    "#cb.set_ticklabels(['5.5','6.0', '6.5', '7.0', '7.5', '8.0', '8.5'])"
   ]
  },
  {
   "cell_type": "code",
   "execution_count": 29,
   "metadata": {},
   "outputs": [
    {
     "data": {
      "text/plain": [
       "(76, 76)"
      ]
     },
     "execution_count": 29,
     "metadata": {},
     "output_type": "execute_result"
    }
   ],
   "source": [
    "np.shape(maps<-10)"
   ]
  },
  {
   "cell_type": "code",
   "execution_count": 36,
   "metadata": {},
   "outputs": [
    {
     "name": "stderr",
     "output_type": "stream",
     "text": [
      "/root/anaconda3/lib/python3.7/site-packages/marvin/tools/quantities/map.py:424: RuntimeWarning: divide by zero encountered in power\n",
      "  return np.log10(np.e) * ivar**-0.5 / value\n"
     ]
    }
   ],
   "source": [
    "import numpy as np\n",
    "from matplotlib import pyplot as plt\n",
    "from matplotlib.colors import ListedColormap\n",
    "from marvin.tools import Maps\n",
    "import marvin.utils.plot.map as mapplot\n",
    "\n",
    "new_maps = Maps('8077-6104')\n",
    "nii = new_maps.emline_gflux_nii_6585\n",
    "ha = new_maps.emline_gflux_ha_6564\n",
    "n2 = nii / ha\n",
    "logn2 = np.log10(n2)\n",
    "oh =  0.57 * logn2+8.90 \n",
    "masks_bpt, __, __ = new_maps.get_bpt()\n",
    "masks_bpt['sf']['global']\n",
    "n2.pixmask.schema\n",
    "mask_non_sf = ~masks_bpt['sf']['global'] * n2.pixmask.labels_to_value('DONOTUSE')\n",
    "mask_bad_data = n2.pixmask.get_mask(['NOCOV', 'UNRELIABLE', 'DONOTUSE'])\n",
    "min_snr = 3.\n",
    "mask_nii_low_snr = (np.abs(nii.value * np.sqrt(nii.ivar)) < min_snr)\n",
    "mask_ha_low_snr = (np.abs(ha.value * np.sqrt(ha.ivar)) < min_snr)\n",
    "new_mask = mask_non_sf | mask_bad_data | mask_nii_low_snr | mask_ha_low_snr"
   ]
  },
  {
   "cell_type": "code",
   "execution_count": 38,
   "metadata": {},
   "outputs": [],
   "source": [
    "maps.get_bpt?"
   ]
  },
  {
   "cell_type": "code",
   "execution_count": null,
   "metadata": {},
   "outputs": [],
   "source": []
  },
  {
   "cell_type": "code",
   "execution_count": 43,
   "metadata": {},
   "outputs": [
    {
     "data": {
      "image/png": "[encoded data removed]",
      "text/plain": [
       "<Figure size 612x720 with 8 Axes>"
      ]
     },
     "metadata": {},
     "output_type": "display_data"
    }
   ],
   "source": [
    "masks_bpt, __, __ = maps.get_bpt()\n",
    "masks_bpt['sf']['global']\n",
    "n2.pixmask.schema\n",
    "mask_non_sf = ~masks_bpt['sf']['global'] * n2.pixmask.labels_to_value('DONOTUSE')\n",
    "mask_bad_data = n2.pixmask.get_mask(['NOCOV', 'UNRELIABLE', 'DONOTUSE'])\n",
    "min_snr = 3.\n",
    "mask_nii_low_snr = (np.abs(nii.value * np.sqrt(nii.ivar)) < min_snr)\n",
    "mask_ha_low_snr = (np.abs(ha.value * np.sqrt(ha.ivar)) < min_snr)\n",
    "new_mask = mask_non_sf | mask_bad_data | mask_nii_low_snr | mask_ha_low_snr"
   ]
  },
  {
   "cell_type": "code",
   "execution_count": 44,
   "metadata": {},
   "outputs": [
    {
     "data": {
      "text/plain": [
       "(54, 54)"
      ]
     },
     "execution_count": 44,
     "metadata": {},
     "output_type": "execute_result"
    }
   ],
   "source": [
    "np.shape(new_mask)"
   ]
  },
  {
   "cell_type": "code",
   "execution_count": 74,
   "metadata": {},
   "outputs": [
    {
     "data": {
      "text/plain": [
       "1"
      ]
     },
     "execution_count": 74,
     "metadata": {},
     "output_type": "execute_result"
    }
   ],
   "source": [
    "len(test[test1])"
   ]
  },
  {
   "cell_type": "markdown",
   "metadata": {},
   "source": [
    "> - ###  做出一个星系的 metallicity and stellar surface mass density\n",
    "> - ###  筛选星系\n",
    ">> - ###  做出筛选出的星系的所有的 metallicity and stellar surface mass density\n",
    "> - ###  根据stellar mass 分组，分别作出 每一组的 metallicity 分布\n",
    ">> - ###  找出每个的peak，然后重叠在原图中，即可完全复原论文的图"
   ]
  },
  {
   "cell_type": "code",
   "execution_count": 1,
   "metadata": {},
   "outputs": [
    {
     "data": {
      "text/plain": [
       "3.141592653589793"
      ]
     },
     "execution_count": 1,
     "metadata": {},
     "output_type": "execute_result"
    }
   ],
   "source": [
    "import math\n",
    "math.pi"
   ]
  }
 ],
 "metadata": {
  "kernelspec": {
   "display_name": "Python 3",
   "language": "python",
   "name": "python3"
  },
  "language_info": {
   "codemirror_mode": {
    "name": "ipython",
    "version": 3
   },
   "file_extension": ".py",
   "mimetype": "text/x-python",
   "name": "python",
   "nbconvert_exporter": "python",
   "pygments_lexer": "ipython3",
   "version": "3.7.3"
  },
  "latex_envs": {
   "LaTeX_envs_menu_present": true,
   "autoclose": false,
   "autocomplete": true,
   "bibliofile": "biblio.bib",
   "cite_by": "apalike",
   "current_citInitial": 1,
   "eqLabelWithNumbers": true,
   "eqNumInitial": 1,
   "hotkeys": {
    "equation": "Ctrl-E",
    "itemize": "Ctrl-I"
   },
   "labels_anchors": false,
   "latex_user_defs": false,
   "report_style_numbering": false,
   "user_envs_cfg": false
  },
  "toc": {
   "base_numbering": 1,
   "nav_menu": {},
   "number_sections": true,
   "sideBar": true,
   "skip_h1_title": false,
   "title_cell": "Table of Contents",
   "title_sidebar": "Contents",
   "toc_cell": false,
   "toc_position": {},
   "toc_section_display": true,
   "toc_window_display": true
  }
 },
 "nbformat": 4,
 "nbformat_minor": 2
}
