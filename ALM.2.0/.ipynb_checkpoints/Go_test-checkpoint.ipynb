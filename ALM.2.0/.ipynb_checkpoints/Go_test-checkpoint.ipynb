{
 "cells": [
  {
   "cell_type": "code",
   "execution_count": 2,
   "metadata": {
    "ExecuteTime": {
     "end_time": "2020-04-12T11:36:14Z",
     "start_time": "2020-04-12T11:36:13.102Z"
    }
   },
   "outputs": [],
   "source": [
    "package main\n",
    "\n",
    "import \"fmt\"\n",
    "\n",
    "func main() {\n",
    "    fmt.Println(\"Hello, World!\")\n",
    "}"
   ]
  },
  {
   "cell_type": "code",
   "execution_count": 3,
   "metadata": {
    "ExecuteTime": {
     "end_time": "2020-04-12T11:36:53Z",
     "start_time": "2020-04-12T11:36:52.042Z"
    }
   },
   "outputs": [
    {
     "name": "stdout",
     "output_type": "stream",
     "text": [
      "Hello, World!\n"
     ]
    }
   ],
   "source": [
    "main()"
   ]
  },
  {
   "cell_type": "code",
   "execution_count": 7,
   "metadata": {
    "ExecuteTime": {
     "end_time": "2020-04-12T11:43:38Z",
     "start_time": "2020-04-12T11:43:37.199Z"
    }
   },
   "outputs": [
    {
     "name": "stdout",
     "output_type": "stream",
     "text": [
      "Element[0] = 100\n",
      "Element[1] = 101\n",
      "Element[2] = 102\n",
      "Element[3] = 103\n",
      "Element[4] = 104\n",
      "Element[5] = 105\n",
      "Element[6] = 106\n",
      "Element[7] = 107\n",
      "Element[8] = 108\n",
      "Element[9] = 109\n"
     ]
    }
   ],
   "source": [
    "package main\n",
    "\n",
    "import \"fmt\"\n",
    "\n",
    "func main() {\n",
    "   var n [10]int /* n 是一个长度为 10 的数组 */\n",
    "   var i,j int\n",
    "\n",
    "   /* 为数组 n 初始化元素 */        \n",
    "   for i = 0; i < 10; i++ {\n",
    "      n[i] = i + 100 /* 设置元素为 i + 100 */\n",
    "   }\n",
    "\n",
    "   /* 输出每个数组元素的值 */\n",
    "   for j = 0; j < 10; j++ {\n",
    "      fmt.Printf(\"Element[%d] = %d\\n\", j, n[j] )\n",
    "   }\n",
    "}\n",
    "main()"
   ]
  }
 ],
 "metadata": {
  "kernelspec": {
   "display_name": "Go",
   "language": "go",
   "name": "gophernotes"
  },
  "language_info": {
   "codemirror_mode": "",
   "file_extension": ".go",
   "mimetype": "",
   "name": "go",
   "nbconvert_exporter": "",
   "pygments_lexer": "",
   "version": "go1.14.1"
  },
  "toc": {
   "base_numbering": 1,
   "nav_menu": {},
   "number_sections": true,
   "sideBar": true,
   "skip_h1_title": true,
   "title_cell": "Table of Contents",
   "title_sidebar": "Contents",
   "toc_cell": false,
   "toc_position": {},
   "toc_section_display": true,
   "toc_window_display": false
  }
 },
 "nbformat": 4,
 "nbformat_minor": 4
}
