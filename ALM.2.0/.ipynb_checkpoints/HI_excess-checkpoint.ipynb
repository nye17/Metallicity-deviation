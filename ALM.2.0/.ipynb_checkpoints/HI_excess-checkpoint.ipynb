{
 "cells": [
  {
   "cell_type": "code",
   "execution_count": 63,
   "metadata": {
    "ExecuteTime": {
     "end_time": "2020-06-02T04:16:20.786128Z",
     "start_time": "2020-06-02T04:16:20.773887Z"
    }
   },
   "outputs": [],
   "source": [
    "import matplotlib.pyplot as plt\n",
    "from matplotlib import ticker\n",
    "from scipy import integrate\n",
    "import numpy as np\n",
    "import math\n",
    "import warnings  # shut down the annoying messages\n",
    "warnings.filterwarnings('ignore')  # ignore Warnings\n",
    "\n",
    "from astroquery.sdss import SDSS\n",
    "from astropy import units as u\n",
    "from astropy.coordinates import SkyCoord\n",
    "\n",
    "from jupyterthemes import jtplot\n",
    "# onedork | grade3 | oceans16 | chesterish | monokai | solarizedl | solarizedd\n",
    "jtplot.style('onedork')#('grade3')"
   ]
  },
  {
   "cell_type": "code",
   "execution_count": 6,
   "metadata": {
    "ExecuteTime": {
     "end_time": "2020-06-02T00:46:58.175073Z",
     "start_time": "2020-06-02T00:46:57.586711Z"
    }
   },
   "outputs": [
    {
     "name": "stdout",
     "output_type": "stream",
     "text": [
      "None\n"
     ]
    }
   ],
   "source": [
    "pos = SkyCoord(ra=10.625, dec=41.2, frame='icrs', unit='deg')\n",
    "xid = SDSS.query_region(pos)#, data_release=7)\n",
    "print(xid)"
   ]
  },
  {
   "cell_type": "code",
   "execution_count": 134,
   "metadata": {
    "ExecuteTime": {
     "end_time": "2020-06-03T07:27:56.668378Z",
     "start_time": "2020-06-03T07:27:56.649513Z"
    }
   },
   "outputs": [],
   "source": [
    "from astropy.io import fits    # read fits file\n",
    "from copy import copy as copy  # avoid to change the value of pointer\n",
    "\n",
    "# read data\n",
    "nyu_fits0 = copy(fits.open('../../../download/vagc/kcorrect.nearest.petro.z0.00.fits'))\n",
    "nyu_fits1 = copy(fits.open('../../../download/vagc/kcorrect.nearest.petro.z0.10.fits'))\n",
    "mpa_fits = copy(fits.open('../../../download/vagc/totlgm_dr7_v5_2b.fit'))\n"
   ]
  },
  {
   "cell_type": "code",
   "execution_count": 137,
   "metadata": {
    "ExecuteTime": {
     "end_time": "2020-06-03T07:28:41.859319Z",
     "start_time": "2020-06-03T07:28:41.849288Z"
    }
   },
   "outputs": [
    {
     "data": {
      "text/plain": [
       "XTENSION= 'BINTABLE'           /Binary table written by MWRFITS v1.10           \n",
       "BITPIX  =                    8 /Required value                                  \n",
       "NAXIS   =                    2 /Required value                                  \n",
       "NAXIS1  =                   28 /Number of bytes per row                         \n",
       "NAXIS2  =               927552 /Number of rows                                  \n",
       "PCOUNT  =                    0 /Normally 0 (no varying arrays)                  \n",
       "GCOUNT  =                    1 /Required value                                  \n",
       "TFIELDS =                    7 /Number of columns in table                      \n",
       "COMMENT                                                                         \n",
       "COMMENT  *** End of mandatory fields ***                                        \n",
       "COMMENT                                                                         \n",
       "COMMENT                                                                         \n",
       "COMMENT  *** Column names ***                                                   \n",
       "COMMENT                                                                         \n",
       "TTYPE1  = 'MEDIAN  '           /                                                \n",
       "TTYPE2  = 'P16     '           /                                                \n",
       "TTYPE3  = 'P84     '           /                                                \n",
       "TTYPE4  = 'P2P5    '           /                                                \n",
       "TTYPE5  = 'P97P5   '           /                                                \n",
       "TTYPE6  = 'MODE    '           /                                                \n",
       "TTYPE7  = 'AVG     '           /                                                \n",
       "COMMENT                                                                         \n",
       "COMMENT  *** Column formats ***                                                 \n",
       "COMMENT                                                                         \n",
       "TFORM1  = 'E       '           /                                                \n",
       "TFORM2  = 'E       '           /                                                \n",
       "TFORM3  = 'E       '           /                                                \n",
       "TFORM4  = 'E       '           /                                                \n",
       "TFORM5  = 'E       '           /                                                \n",
       "TFORM6  = 'E       '           /                                                \n",
       "TFORM7  = 'E       '           /                                                "
      ]
     },
     "execution_count": 137,
     "metadata": {},
     "output_type": "execute_result"
    }
   ],
   "source": [
    "mpa_fits[1].header"
   ]
  },
  {
   "cell_type": "code",
   "execution_count": 102,
   "metadata": {
    "ExecuteTime": {
     "end_time": "2020-06-03T05:30:38.582114Z",
     "start_time": "2020-06-03T05:30:38.545273Z"
    }
   },
   "outputs": [
    {
     "name": "stdout",
     "output_type": "stream",
     "text": [
      "(2506754,)\n",
      "(2506754,)\n"
     ]
    }
   ],
   "source": [
    "print(nyu_fits0[1].data.shape)\n",
    "print(nyu_fits1[1].data.shape)"
   ]
  },
  {
   "cell_type": "code",
   "execution_count": 110,
   "metadata": {
    "ExecuteTime": {
     "end_time": "2020-06-03T05:40:40.165862Z",
     "start_time": "2020-06-03T05:40:39.023112Z"
    }
   },
   "outputs": [
    {
     "data": {
      "image/png": "[encoded data removed]",
      "text/plain": [
       "<Figure size 460.8x403.2 with 1 Axes>"
      ]
     },
     "metadata": {},
     "output_type": "display_data"
    }
   ],
   "source": [
    "ra0 = nyu_fits0[1].data[\"RA\"]\n",
    "dec0 = nyu_fits0[1].data[\"DEC\"]\n",
    "ra1 = nyu_fits1[1].data[\"RA\"]\n",
    "dec1 = nyu_fits1[1].data[\"DEC\"]\n",
    "z0 = nyu_fits0[1].data[\"Z\"]\n",
    "z1 = nyu_fits1[1].data[\"Z\"]\n",
    "g0 = mag = nyu_fits0[1].data['ABSMAG'][:,1]\n",
    "g1 = mag = nyu_fits1[1].data['ABSMAG'][:,1]\n",
    "tmp_id = np.isinf(g0) & np.isinf(g1)\n",
    "g0 = g0[~tmp_id]\n",
    "g1 = g1[~tmp_id]\n",
    "tmp_id = (g0>0) & (g1>0)\n",
    "g0 = g0[tmp_id]\n",
    "g1 = g1[tmp_id]\n",
    "mass0 = nyu_fits0[1].data[\"mass\"]\n",
    "mass1 = nyu_fits1[1].data[\"mass\"]\n",
    "\n",
    "x = mass0\n",
    "y = mass1\n",
    "plt.hist2d(x,y,bins=50)\n",
    "xmin,xmax = plt.xlim()\n",
    "x = np.linspace(xmin,xmax,100)\n",
    "plt.plot(x,x,'r*-',markersize=10)\n",
    "plt.show()"
   ]
  },
  {
   "cell_type": "code",
   "execution_count": 21,
   "metadata": {
    "ExecuteTime": {
     "end_time": "2020-06-02T01:56:31.051770Z",
     "start_time": "2020-06-02T01:56:31.040313Z"
    }
   },
   "outputs": [
    {
     "data": {
      "text/plain": [
       "XTENSION= 'BINTABLE'           /Binary table written by MWRFITS v1.4a           \n",
       "BITPIX  =                    8 /Required value                                  \n",
       "NAXIS   =                    2 /Required value                                  \n",
       "NAXIS1  =                  252 /Number of bytes per row                         \n",
       "NAXIS2  =              2506754 /Number of rows                                  \n",
       "PCOUNT  =                    0 /Normally 0 (no varying arrays)                  \n",
       "GCOUNT  =                    1 /Required value                                  \n",
       "TFIELDS =                   15 /Number of columns in table                      \n",
       "COMMENT                                                                         \n",
       "COMMENT  *** End of mandatory fields ***                                        \n",
       "COMMENT                                                                         \n",
       "COMMENT                                                                         \n",
       "COMMENT  *** Column names ***                                                   \n",
       "COMMENT                                                                         \n",
       "TTYPE1  = 'RA      '           /                                                \n",
       "TTYPE2  = 'DEC     '           /                                                \n",
       "TTYPE3  = 'ABMAGGIES '         /                                                \n",
       "TTYPE4  = 'ABMAGGIES_IVAR '    /                                                \n",
       "TTYPE5  = 'Z       '           /                                                \n",
       "TTYPE6  = 'ABSMAG  '           /                                                \n",
       "TTYPE7  = 'ABSMAG_IVAR '       /                                                \n",
       "TTYPE8  = 'KCORRECT '          /                                                \n",
       "TTYPE9  = 'MTOL    '           /                                                \n",
       "TTYPE10 = 'MASS    '           /                                                \n",
       "TTYPE11 = 'INTSFH  '           /                                                \n",
       "TTYPE12 = 'METS    '           /                                                \n",
       "TTYPE13 = 'B300    '           /                                                \n",
       "TTYPE14 = 'B1000   '           /                                                \n",
       "TTYPE15 = 'COEFFS  '           /                                                \n",
       "COMMENT                                                                         \n",
       "COMMENT  *** Column formats ***                                                 \n",
       "COMMENT                                                                         \n",
       "TFORM1  = 'D       '           /                                                \n",
       "TFORM2  = 'D       '           /                                                \n",
       "TFORM3  = '8E      '           /                                                \n",
       "TFORM4  = '8E      '           /                                                \n",
       "TFORM5  = 'E       '           /                                                \n",
       "TFORM6  = '8E      '           /                                                \n",
       "TFORM7  = '8E      '           /                                                \n",
       "TFORM8  = '8E      '           /                                                \n",
       "TFORM9  = '8E      '           /                                                \n",
       "TFORM10 = 'E       '           /                                                \n",
       "TFORM11 = 'E       '           /                                                \n",
       "TFORM12 = 'E       '           /                                                \n",
       "TFORM13 = 'E       '           /                                                \n",
       "TFORM14 = 'E       '           /                                                \n",
       "TFORM15 = '5E      '           /                                                "
      ]
     },
     "execution_count": 21,
     "metadata": {},
     "output_type": "execute_result"
    }
   ],
   "source": [
    "nyu_fits0[1].header"
   ]
  },
  {
   "cell_type": "code",
   "execution_count": 29,
   "metadata": {
    "ExecuteTime": {
     "end_time": "2020-06-02T01:58:54.685835Z",
     "start_time": "2020-06-02T01:58:54.419979Z"
    }
   },
   "outputs": [
    {
     "data": {
      "text/plain": [
       "(array([2., 1., 1., 1., 1., 0., 1., 1.]),\n",
       " array([26501.646, 26502.03 , 26502.41 , 26502.793, 26503.176, 26503.557,\n",
       "        26503.94 , 26504.32 , 26504.703], dtype=float32),\n",
       " <a list of 8 Patch objects>)"
      ]
     },
     "execution_count": 29,
     "metadata": {},
     "output_type": "execute_result"
    },
    {
     "data": {
      "image/png": "[encoded data removed]",
      "text/plain": [
       "<Figure size 460.8x403.2 with 1 Axes>"
      ]
     },
     "metadata": {},
     "output_type": "display_data"
    }
   ],
   "source": [
    "a = nyu_fits0[1].data['ABSMAG  '][666]\n",
    "plt.hist(a,bins=8)"
   ]
  },
  {
   "cell_type": "code",
   "execution_count": null,
   "metadata": {},
   "outputs": [],
   "source": [
    "def _stellar_mass(plateifu):\n",
    "    tmp_id = (plateifu==drp_fits[1].data[\"PLATEIFU\"])\n",
    "    \n",
    "    ste_mass = drp_fits[1].data[\"NSA_ELPETRO_MASS\"][tmp_id][0]\n",
    "    #ste_mass = drp_fits[1].data[\"NSA_SERSIC_MASS\"][tmp_id]\n",
    "    return math.log10(ste_mass)  # change unit mass of sun to log10() mass of sun\n",
    "\n",
    "def _mgal_mass(plateifu):\n",
    "    tmp_id = (plateifu==mg_alfa_fits[1].data['plateifu'])\n",
    "    if len(mg_alfa_fits[1].data['plateifu'][tmp_id])==0:\n",
    "        return -999\n",
    "    HI_mass = mg_alfa_fits[1].data['LOGMHI'][tmp_id][0]\n",
    "    if HI_mass==-999:\n",
    "        HI_mass_non = mg_alfa_fits[1].data['LOGHILIM200KMS'][tmp_id][0]\n",
    "        return HI_mass_non\n",
    "    else:\n",
    "        return HI_mass\n",
    "    pass\n",
    "\n"
   ]
  },
  {
   "cell_type": "code",
   "execution_count": 31,
   "metadata": {
    "ExecuteTime": {
     "end_time": "2020-06-02T02:49:50.078828Z",
     "start_time": "2020-06-02T02:49:50.062552Z"
    }
   },
   "outputs": [],
   "source": [
    "import time  # estimate running time\n",
    "from copy import copy as copy  # avoid to change the value of pointer\n",
    "import warnings  # shut down the annoying messages\n",
    "from os.path import join  # stick different variables together\n",
    "from multiprocessing import Pool  # multi-running!!!\n",
    "from functools import partial  # convert to single parameter function\n",
    "\n",
    "import math  # just for some specific calculate\n",
    "import numpy as np  # array\n",
    "import pandas as pd  # more powerful array\n",
    "import matplotlib as mpl\n",
    "import matplotlib.pyplot as plt  # plot\n",
    "\n",
    "from astropy.io import fits    # read fits file\n",
    "\n",
    "from marvin.tools import Maps  # use Marvin to get BPT, flux, image etc.\n",
    "\n",
    "warnings.filterwarnings('ignore')  # ignore Warnings\n",
    "from jupyterthemes import jtplot\n",
    "# onedork | grade3 | oceans16 | chesterish | monokai | solarizedl | solarizedd\n",
    "jtplot.style('onedork')#('grade3')\n",
    "\n",
    "from astropy.cosmology import FlatLambdaCDM\n",
    "cosmo = FlatLambdaCDM(H0=70, Om0=0.3)"
   ]
  },
  {
   "cell_type": "code",
   "execution_count": 32,
   "metadata": {
    "ExecuteTime": {
     "end_time": "2020-06-02T02:50:06.898244Z",
     "start_time": "2020-06-02T02:50:04.692617Z"
    }
   },
   "outputs": [
    {
     "name": "stdout",
     "output_type": "stream",
     "text": [
      "4675个MaNGA星系中，有 1547 个star-forming & late-type 星系\n"
     ]
    }
   ],
   "source": [
    "# read data\n",
    "# MaNGA-HI\n",
    "mgHI_fits = copy(fits.open('../../../bak_la/root/cosmos/data/mangaHIall.fits'))\n",
    "# 获取 MaNGA-ALFALFA 匹配数据，源于 MaNGA-HI 论文，无效数据为-999\n",
    "mg_alfa_fits = copy(fits.open('../../../bak_la/root/cosmos/data/manga_dr15_alfalfa.fits'))\n",
    "# ALFALFA\n",
    "alfalfa_data = pd.read_csv('../tmp_storage/alfalfa.csv')\n",
    "# match bridge\n",
    "drp_fits = copy(fits.open('../../../bak_la/root/sas/dr15/manga/spectro/redux/v2_4_3/drpall-v2_4_3.fits'))\n",
    "manga_Z = pd.read_pickle(\"../tmp_storage/MaNGA_exp_metal_spaxel.v3.0.pd.pkl\")\n",
    "# 取出MaNGA中的 star-forming 星系\n",
    "sf_gal_plifu, sel_id = np.unique(manga_Z['plate-ifu'].values,return_index=True)\n",
    "# sf_gal_plifu = manga_Z['plate-ifu'].values[sel_id]\n",
    "print(\"4675个MaNGA星系中，有 %d 个star-forming & late-type 星系\" % sf_gal_plifu.shape[0])"
   ]
  },
  {
   "cell_type": "code",
   "execution_count": 33,
   "metadata": {
    "ExecuteTime": {
     "end_time": "2020-06-02T02:51:53.964472Z",
     "start_time": "2020-06-02T02:51:53.904356Z"
    }
   },
   "outputs": [
    {
     "data": {
      "text/html": [
       "<div>\n",
       "<style scoped>\n",
       "    .dataframe tbody tr th:only-of-type {\n",
       "        vertical-align: middle;\n",
       "    }\n",
       "\n",
       "    .dataframe tbody tr th {\n",
       "        vertical-align: top;\n",
       "    }\n",
       "\n",
       "    .dataframe thead th {\n",
       "        text-align: right;\n",
       "    }\n",
       "</style>\n",
       "<table border=\"1\" class=\"dataframe\">\n",
       "  <thead>\n",
       "    <tr style=\"text-align: right;\">\n",
       "      <th></th>\n",
       "      <th>plate-ifu</th>\n",
       "      <th>array_id</th>\n",
       "      <th>bin_id_2800</th>\n",
       "      <th>spaxel_x</th>\n",
       "      <th>spaxel_y</th>\n",
       "      <th>metallicity_pyqz</th>\n",
       "      <th>metallicity_expected</th>\n",
       "      <th>metallicity_deviation</th>\n",
       "      <th>surface_mass_density_VOR</th>\n",
       "      <th>dep_surface_mass_density</th>\n",
       "      <th>stellar_mass_global</th>\n",
       "      <th>flux_ha</th>\n",
       "      <th>flux_hb</th>\n",
       "      <th>flux_nii</th>\n",
       "      <th>flux_oii7</th>\n",
       "      <th>flux_oii9</th>\n",
       "      <th>flux_oiii</th>\n",
       "    </tr>\n",
       "  </thead>\n",
       "  <tbody>\n",
       "    <tr>\n",
       "      <th>0</th>\n",
       "      <td>8252-12701</td>\n",
       "      <td>0.0</td>\n",
       "      <td>17.0</td>\n",
       "      <td>32.0</td>\n",
       "      <td>29.0</td>\n",
       "      <td>7.943745</td>\n",
       "      <td>8.436760</td>\n",
       "      <td>-0.493015</td>\n",
       "      <td>7.137067</td>\n",
       "      <td>6.945394</td>\n",
       "      <td>9.147082</td>\n",
       "      <td>4.421169</td>\n",
       "      <td>1.475151</td>\n",
       "      <td>0.215213</td>\n",
       "      <td>1.951784</td>\n",
       "      <td>2.705518</td>\n",
       "      <td>3.946412</td>\n",
       "    </tr>\n",
       "    <tr>\n",
       "      <th>1</th>\n",
       "      <td>8252-12701</td>\n",
       "      <td>0.0</td>\n",
       "      <td>17.0</td>\n",
       "      <td>33.0</td>\n",
       "      <td>29.0</td>\n",
       "      <td>7.925531</td>\n",
       "      <td>8.436760</td>\n",
       "      <td>-0.511229</td>\n",
       "      <td>7.137067</td>\n",
       "      <td>6.945394</td>\n",
       "      <td>9.147082</td>\n",
       "      <td>4.447966</td>\n",
       "      <td>1.522223</td>\n",
       "      <td>0.209741</td>\n",
       "      <td>2.077339</td>\n",
       "      <td>2.874850</td>\n",
       "      <td>4.018373</td>\n",
       "    </tr>\n",
       "    <tr>\n",
       "      <th>2</th>\n",
       "      <td>8252-12701</td>\n",
       "      <td>0.0</td>\n",
       "      <td>17.0</td>\n",
       "      <td>31.0</td>\n",
       "      <td>30.0</td>\n",
       "      <td>7.938321</td>\n",
       "      <td>8.436760</td>\n",
       "      <td>-0.498439</td>\n",
       "      <td>7.137067</td>\n",
       "      <td>6.945394</td>\n",
       "      <td>9.147082</td>\n",
       "      <td>4.457551</td>\n",
       "      <td>1.505723</td>\n",
       "      <td>0.212344</td>\n",
       "      <td>1.967339</td>\n",
       "      <td>2.832227</td>\n",
       "      <td>4.239756</td>\n",
       "    </tr>\n",
       "    <tr>\n",
       "      <th>3</th>\n",
       "      <td>8252-12701</td>\n",
       "      <td>0.0</td>\n",
       "      <td>17.0</td>\n",
       "      <td>32.0</td>\n",
       "      <td>30.0</td>\n",
       "      <td>7.910884</td>\n",
       "      <td>8.436760</td>\n",
       "      <td>-0.525877</td>\n",
       "      <td>7.137067</td>\n",
       "      <td>6.945394</td>\n",
       "      <td>9.147082</td>\n",
       "      <td>5.285740</td>\n",
       "      <td>1.776861</td>\n",
       "      <td>0.236909</td>\n",
       "      <td>2.322743</td>\n",
       "      <td>3.304671</td>\n",
       "      <td>5.032100</td>\n",
       "    </tr>\n",
       "    <tr>\n",
       "      <th>4</th>\n",
       "      <td>8252-12701</td>\n",
       "      <td>0.0</td>\n",
       "      <td>17.0</td>\n",
       "      <td>33.0</td>\n",
       "      <td>30.0</td>\n",
       "      <td>7.912759</td>\n",
       "      <td>8.436760</td>\n",
       "      <td>-0.524001</td>\n",
       "      <td>7.137067</td>\n",
       "      <td>6.945394</td>\n",
       "      <td>9.147082</td>\n",
       "      <td>5.489225</td>\n",
       "      <td>1.854484</td>\n",
       "      <td>0.245488</td>\n",
       "      <td>2.450284</td>\n",
       "      <td>3.412807</td>\n",
       "      <td>5.194313</td>\n",
       "    </tr>\n",
       "    <tr>\n",
       "      <th>...</th>\n",
       "      <td>...</td>\n",
       "      <td>...</td>\n",
       "      <td>...</td>\n",
       "      <td>...</td>\n",
       "      <td>...</td>\n",
       "      <td>...</td>\n",
       "      <td>...</td>\n",
       "      <td>...</td>\n",
       "      <td>...</td>\n",
       "      <td>...</td>\n",
       "      <td>...</td>\n",
       "      <td>...</td>\n",
       "      <td>...</td>\n",
       "      <td>...</td>\n",
       "      <td>...</td>\n",
       "      <td>...</td>\n",
       "      <td>...</td>\n",
       "    </tr>\n",
       "    <tr>\n",
       "      <th>13087397</th>\n",
       "      <td>8485-12704</td>\n",
       "      <td>4674.0</td>\n",
       "      <td>90.0</td>\n",
       "      <td>28.0</td>\n",
       "      <td>51.0</td>\n",
       "      <td>8.167562</td>\n",
       "      <td>8.379252</td>\n",
       "      <td>-0.211690</td>\n",
       "      <td>6.204077</td>\n",
       "      <td>5.945773</td>\n",
       "      <td>9.205272</td>\n",
       "      <td>3.132370</td>\n",
       "      <td>1.012403</td>\n",
       "      <td>0.359456</td>\n",
       "      <td>1.585167</td>\n",
       "      <td>2.556303</td>\n",
       "      <td>1.525136</td>\n",
       "    </tr>\n",
       "    <tr>\n",
       "      <th>13087398</th>\n",
       "      <td>8485-12704</td>\n",
       "      <td>4674.0</td>\n",
       "      <td>90.0</td>\n",
       "      <td>29.0</td>\n",
       "      <td>51.0</td>\n",
       "      <td>8.196554</td>\n",
       "      <td>8.379252</td>\n",
       "      <td>-0.182698</td>\n",
       "      <td>6.204077</td>\n",
       "      <td>5.945773</td>\n",
       "      <td>9.205272</td>\n",
       "      <td>2.875501</td>\n",
       "      <td>0.939855</td>\n",
       "      <td>0.331178</td>\n",
       "      <td>1.477553</td>\n",
       "      <td>2.200194</td>\n",
       "      <td>1.346209</td>\n",
       "    </tr>\n",
       "    <tr>\n",
       "      <th>13087399</th>\n",
       "      <td>8485-12704</td>\n",
       "      <td>4674.0</td>\n",
       "      <td>97.0</td>\n",
       "      <td>27.0</td>\n",
       "      <td>52.0</td>\n",
       "      <td>8.166965</td>\n",
       "      <td>8.397926</td>\n",
       "      <td>-0.230961</td>\n",
       "      <td>6.528677</td>\n",
       "      <td>6.270373</td>\n",
       "      <td>9.205272</td>\n",
       "      <td>2.257227</td>\n",
       "      <td>0.725440</td>\n",
       "      <td>0.266446</td>\n",
       "      <td>1.118737</td>\n",
       "      <td>1.876500</td>\n",
       "      <td>1.000097</td>\n",
       "    </tr>\n",
       "    <tr>\n",
       "      <th>13087400</th>\n",
       "      <td>8485-12704</td>\n",
       "      <td>4674.0</td>\n",
       "      <td>90.0</td>\n",
       "      <td>28.0</td>\n",
       "      <td>52.0</td>\n",
       "      <td>8.167792</td>\n",
       "      <td>8.379252</td>\n",
       "      <td>-0.211460</td>\n",
       "      <td>6.204077</td>\n",
       "      <td>5.945773</td>\n",
       "      <td>9.205272</td>\n",
       "      <td>2.309076</td>\n",
       "      <td>0.752262</td>\n",
       "      <td>0.270009</td>\n",
       "      <td>1.206980</td>\n",
       "      <td>1.902872</td>\n",
       "      <td>1.014256</td>\n",
       "    </tr>\n",
       "    <tr>\n",
       "      <th>13087401</th>\n",
       "      <td>8485-12704</td>\n",
       "      <td>4674.0</td>\n",
       "      <td>90.0</td>\n",
       "      <td>29.0</td>\n",
       "      <td>52.0</td>\n",
       "      <td>8.194477</td>\n",
       "      <td>8.379252</td>\n",
       "      <td>-0.184775</td>\n",
       "      <td>6.204077</td>\n",
       "      <td>5.945773</td>\n",
       "      <td>9.205272</td>\n",
       "      <td>2.206004</td>\n",
       "      <td>0.739607</td>\n",
       "      <td>0.248581</td>\n",
       "      <td>1.183812</td>\n",
       "      <td>1.702782</td>\n",
       "      <td>0.951324</td>\n",
       "    </tr>\n",
       "  </tbody>\n",
       "</table>\n",
       "<p>641500 rows × 17 columns</p>\n",
       "</div>"
      ],
      "text/plain": [
       "           plate-ifu  array_id  bin_id_2800  spaxel_x  spaxel_y  \\\n",
       "0         8252-12701       0.0         17.0      32.0      29.0   \n",
       "1         8252-12701       0.0         17.0      33.0      29.0   \n",
       "2         8252-12701       0.0         17.0      31.0      30.0   \n",
       "3         8252-12701       0.0         17.0      32.0      30.0   \n",
       "4         8252-12701       0.0         17.0      33.0      30.0   \n",
       "...              ...       ...          ...       ...       ...   \n",
       "13087397  8485-12704    4674.0         90.0      28.0      51.0   \n",
       "13087398  8485-12704    4674.0         90.0      29.0      51.0   \n",
       "13087399  8485-12704    4674.0         97.0      27.0      52.0   \n",
       "13087400  8485-12704    4674.0         90.0      28.0      52.0   \n",
       "13087401  8485-12704    4674.0         90.0      29.0      52.0   \n",
       "\n",
       "          metallicity_pyqz  metallicity_expected  metallicity_deviation  \\\n",
       "0                 7.943745              8.436760              -0.493015   \n",
       "1                 7.925531              8.436760              -0.511229   \n",
       "2                 7.938321              8.436760              -0.498439   \n",
       "3                 7.910884              8.436760              -0.525877   \n",
       "4                 7.912759              8.436760              -0.524001   \n",
       "...                    ...                   ...                    ...   \n",
       "13087397          8.167562              8.379252              -0.211690   \n",
       "13087398          8.196554              8.379252              -0.182698   \n",
       "13087399          8.166965              8.397926              -0.230961   \n",
       "13087400          8.167792              8.379252              -0.211460   \n",
       "13087401          8.194477              8.379252              -0.184775   \n",
       "\n",
       "          surface_mass_density_VOR  dep_surface_mass_density  \\\n",
       "0                         7.137067                  6.945394   \n",
       "1                         7.137067                  6.945394   \n",
       "2                         7.137067                  6.945394   \n",
       "3                         7.137067                  6.945394   \n",
       "4                         7.137067                  6.945394   \n",
       "...                            ...                       ...   \n",
       "13087397                  6.204077                  5.945773   \n",
       "13087398                  6.204077                  5.945773   \n",
       "13087399                  6.528677                  6.270373   \n",
       "13087400                  6.204077                  5.945773   \n",
       "13087401                  6.204077                  5.945773   \n",
       "\n",
       "          stellar_mass_global   flux_ha   flux_hb  flux_nii  flux_oii7  \\\n",
       "0                    9.147082  4.421169  1.475151  0.215213   1.951784   \n",
       "1                    9.147082  4.447966  1.522223  0.209741   2.077339   \n",
       "2                    9.147082  4.457551  1.505723  0.212344   1.967339   \n",
       "3                    9.147082  5.285740  1.776861  0.236909   2.322743   \n",
       "4                    9.147082  5.489225  1.854484  0.245488   2.450284   \n",
       "...                       ...       ...       ...       ...        ...   \n",
       "13087397             9.205272  3.132370  1.012403  0.359456   1.585167   \n",
       "13087398             9.205272  2.875501  0.939855  0.331178   1.477553   \n",
       "13087399             9.205272  2.257227  0.725440  0.266446   1.118737   \n",
       "13087400             9.205272  2.309076  0.752262  0.270009   1.206980   \n",
       "13087401             9.205272  2.206004  0.739607  0.248581   1.183812   \n",
       "\n",
       "          flux_oii9  flux_oiii  \n",
       "0          2.705518   3.946412  \n",
       "1          2.874850   4.018373  \n",
       "2          2.832227   4.239756  \n",
       "3          3.304671   5.032100  \n",
       "4          3.412807   5.194313  \n",
       "...             ...        ...  \n",
       "13087397   2.556303   1.525136  \n",
       "13087398   2.200194   1.346209  \n",
       "13087399   1.876500   1.000097  \n",
       "13087400   1.902872   1.014256  \n",
       "13087401   1.702782   0.951324  \n",
       "\n",
       "[641500 rows x 17 columns]"
      ]
     },
     "execution_count": 33,
     "metadata": {},
     "output_type": "execute_result"
    }
   ],
   "source": [
    "manga_Z"
   ]
  },
  {
   "cell_type": "code",
   "execution_count": 37,
   "metadata": {
    "ExecuteTime": {
     "end_time": "2020-06-02T02:56:52.725901Z",
     "start_time": "2020-06-02T02:56:52.712766Z"
    }
   },
   "outputs": [
    {
     "data": {
      "text/plain": [
       "(233.685217665, 48.7315215591)"
      ]
     },
     "execution_count": 37,
     "metadata": {},
     "output_type": "execute_result"
    }
   ],
   "source": [
    "plateifu = '8485-12704'\n",
    "def _gal_ra_dec(plateifu):\n",
    "    tmp_id = (drp_fits[1].data['plateifu']==plateifu)\n",
    "    ra = drp_fits[1].data['objra'][tmp_id][0]\n",
    "    dec = drp_fits[1].data['objdec'][tmp_id][0]\n",
    "    return ra,dec\n",
    "_gal_ra_dec(plateifu)"
   ]
  },
  {
   "cell_type": "code",
   "execution_count": 34,
   "metadata": {
    "ExecuteTime": {
     "end_time": "2020-06-02T02:53:45.742859Z",
     "start_time": "2020-06-02T02:53:45.723959Z"
    }
   },
   "outputs": [
    {
     "data": {
      "text/plain": [
       "XTENSION= 'BINTABLE'           / binary table extension                         \n",
       "BITPIX  =                    8 / array data type                                \n",
       "NAXIS   =                    2 / number of array dimensions                     \n",
       "NAXIS1  =                 1340 / length of dimension 1                          \n",
       "NAXIS2  =                11465 / length of dimension 2                          \n",
       "PCOUNT  =                    0 / number of group parameters                     \n",
       "GCOUNT  =                    1 / number of groups                               \n",
       "TFIELDS =                   99 / number of table fields                         \n",
       "TTYPE1  = 'plate   '                                                            \n",
       "TFORM1  = 'K       '                                                            \n",
       "TTYPE2  = 'ifudsgn '                                                            \n",
       "TFORM2  = '21A     '                                                            \n",
       "TTYPE3  = 'plateifu'                                                            \n",
       "TFORM3  = '11A     '                                                            \n",
       "TTYPE4  = 'mangaid '                                                            \n",
       "TFORM4  = '11A     '                                                            \n",
       "TTYPE5  = 'versdrp2'                                                            \n",
       "TFORM5  = '6A      '                                                            \n",
       "TTYPE6  = 'versdrp3'                                                            \n",
       "TFORM6  = '6A      '                                                            \n",
       "TTYPE7  = 'verscore'                                                            \n",
       "TFORM7  = '6A      '                                                            \n",
       "TTYPE8  = 'versutil'                                                            \n",
       "TFORM8  = '7A      '                                                            \n",
       "TTYPE9  = 'versprim'                                                            \n",
       "TFORM9  = '4A      '                                                            \n",
       "TTYPE10 = 'platetyp'                                                            \n",
       "TFORM10 = '14A     '                                                            \n",
       "TTYPE11 = 'srvymode'                                                            \n",
       "TFORM11 = '12A     '                                                            \n",
       "TTYPE12 = 'objra   '                                                            \n",
       "TFORM12 = 'D       '                                                            \n",
       "TTYPE13 = 'objdec  '                                                            \n",
       "TFORM13 = 'D       '                                                            \n",
       "TTYPE14 = 'ifuglon '                                                            \n",
       "TFORM14 = 'D       '                                                            \n",
       "TTYPE15 = 'ifuglat '                                                            \n",
       "TFORM15 = 'D       '                                                            \n",
       "TTYPE16 = 'ifura   '                                                            \n",
       "TFORM16 = 'D       '                                                            \n",
       "TTYPE17 = 'ifudec  '                                                            \n",
       "TFORM17 = 'D       '                                                            \n",
       "TTYPE18 = 'ebvgal  '                                                            \n",
       "TFORM18 = 'D       '                                                            \n",
       "TTYPE19 = 'nexp    '                                                            \n",
       "TFORM19 = 'K       '                                                            \n",
       "TTYPE20 = 'exptime '                                                            \n",
       "TFORM20 = 'D       '                                                            \n",
       "TTYPE21 = 'drp3qual'                                                            \n",
       "TFORM21 = 'K       '                                                            \n",
       "TTYPE22 = 'bluesn2 '                                                            \n",
       "TFORM22 = 'D       '                                                            \n",
       "TTYPE23 = 'redsn2  '                                                            \n",
       "TFORM23 = 'D       '                                                            \n",
       "TTYPE24 = 'harname '                                                            \n",
       "TFORM24 = '35A     '                                                            \n",
       "TTYPE25 = 'frlplug '                                                            \n",
       "TFORM25 = 'K       '                                                            \n",
       "TTYPE26 = 'cartid  '                                                            \n",
       "TFORM26 = '11A     '                                                            \n",
       "TTYPE27 = 'designid'                                                            \n",
       "TFORM27 = 'K       '                                                            \n",
       "TTYPE28 = 'cenra   '                                                            \n",
       "TFORM28 = 'D       '                                                            \n",
       "TTYPE29 = 'cendec  '                                                            \n",
       "TFORM29 = 'D       '                                                            \n",
       "TTYPE30 = 'airmsmin'                                                            \n",
       "TFORM30 = 'D       '                                                            \n",
       "TTYPE31 = 'airmsmed'                                                            \n",
       "TFORM31 = 'D       '                                                            \n",
       "TTYPE32 = 'airmsmax'                                                            \n",
       "TFORM32 = 'D       '                                                            \n",
       "TTYPE33 = 'seemin  '                                                            \n",
       "TFORM33 = 'D       '                                                            \n",
       "TTYPE34 = 'seemed  '                                                            \n",
       "TFORM34 = 'D       '                                                            \n",
       "TTYPE35 = 'seemax  '                                                            \n",
       "TFORM35 = 'D       '                                                            \n",
       "TTYPE36 = 'transmin'                                                            \n",
       "TFORM36 = 'D       '                                                            \n",
       "TTYPE37 = 'transmed'                                                            \n",
       "TFORM37 = 'D       '                                                            \n",
       "TTYPE38 = 'transmax'                                                            \n",
       "TFORM38 = 'D       '                                                            \n",
       "TTYPE39 = 'mjdmin  '                                                            \n",
       "TFORM39 = 'K       '                                                            \n",
       "TTYPE40 = 'mjdmed  '                                                            \n",
       "TFORM40 = 'K       '                                                            \n",
       "TTYPE41 = 'mjdmax  '                                                            \n",
       "TFORM41 = 'K       '                                                            \n",
       "TTYPE42 = 'gfwhm   '                                                            \n",
       "TFORM42 = 'D       '                                                            \n",
       "TTYPE43 = 'rfwhm   '                                                            \n",
       "TFORM43 = 'D       '                                                            \n",
       "TTYPE44 = 'ifwhm   '                                                            \n",
       "TFORM44 = 'D       '                                                            \n",
       "TTYPE45 = 'zfwhm   '                                                            \n",
       "TFORM45 = 'D       '                                                            \n",
       "TTYPE46 = 'mngtarg1'                                                            \n",
       "TFORM46 = 'K       '                                                            \n",
       "TTYPE47 = 'mngtarg2'                                                            \n",
       "TFORM47 = 'K       '                                                            \n",
       "TTYPE48 = 'mngtarg3'                                                            \n",
       "TFORM48 = 'K       '                                                            \n",
       "TTYPE49 = 'catidnum'                                                            \n",
       "TFORM49 = 'K       '                                                            \n",
       "TTYPE50 = 'plttarg '                                                            \n",
       "TFORM50 = '19A     '                                                            \n",
       "TTYPE51 = 'manga_tileid'                                                        \n",
       "TFORM51 = 'K       '                                                            \n",
       "TTYPE52 = 'nsa_iauname'                                                         \n",
       "TFORM52 = '19A     '                                                            \n",
       "TTYPE53 = 'ifudesignsize'                                                       \n",
       "TFORM53 = 'K       '                                                            \n",
       "TTYPE54 = 'ifutargetsize'                                                       \n",
       "TFORM54 = 'K       '                                                            \n",
       "TTYPE55 = 'ifudesignwrongsize'                                                  \n",
       "TFORM55 = 'K       '                                                            \n",
       "TTYPE56 = 'z       '                                                            \n",
       "TFORM56 = 'D       '                                                            \n",
       "TTYPE57 = 'zmin    '                                                            \n",
       "TFORM57 = 'D       '                                                            \n",
       "TTYPE58 = 'zmax    '                                                            \n",
       "TFORM58 = 'D       '                                                            \n",
       "TTYPE59 = 'szmin   '                                                            \n",
       "TFORM59 = 'D       '                                                            \n",
       "TTYPE60 = 'szmax   '                                                            \n",
       "TFORM60 = 'D       '                                                            \n",
       "TTYPE61 = 'ezmin   '                                                            \n",
       "TFORM61 = 'D       '                                                            \n",
       "TTYPE62 = 'ezmax   '                                                            \n",
       "TFORM62 = 'D       '                                                            \n",
       "TTYPE63 = 'probs   '                                                            \n",
       "TFORM63 = 'D       '                                                            \n",
       "TTYPE64 = 'pweight '                                                            \n",
       "TFORM64 = 'D       '                                                            \n",
       "TTYPE65 = 'psweight'                                                            \n",
       "TFORM65 = 'D       '                                                            \n",
       "TTYPE66 = 'psrweight'                                                           \n",
       "TFORM66 = 'D       '                                                            \n",
       "TTYPE67 = 'sweight '                                                            \n",
       "TFORM67 = 'D       '                                                            \n",
       "TTYPE68 = 'srweight'                                                            \n",
       "TFORM68 = 'D       '                                                            \n",
       "TTYPE69 = 'eweight '                                                            \n",
       "TFORM69 = 'D       '                                                            \n",
       "TTYPE70 = 'esweight'                                                            \n",
       "TFORM70 = 'D       '                                                            \n",
       "TTYPE71 = 'esrweight'                                                           \n",
       "TFORM71 = 'D       '                                                            \n",
       "TTYPE72 = 'nsa_field'                                                           \n",
       "TFORM72 = 'K       '                                                            \n",
       "TTYPE73 = 'nsa_run '                                                            \n",
       "TFORM73 = 'K       '                                                            \n",
       "TTYPE74 = 'nsa_camcol'                                                          \n",
       "TFORM74 = 'K       '                                                            \n",
       "TTYPE75 = 'nsa_version'                                                         \n",
       "TFORM75 = '6A      '                                                            \n",
       "TTYPE76 = 'nsa_nsaid'                                                           \n",
       "TFORM76 = 'K       '                                                            \n",
       "TTYPE77 = 'nsa_nsaid_v1b'                                                       \n",
       "TFORM77 = 'K       '                                                            \n",
       "TTYPE78 = 'nsa_z   '                                                            \n",
       "TFORM78 = 'D       '                                                            \n",
       "TTYPE79 = 'nsa_zdist'                                                           \n",
       "TFORM79 = 'D       '                                                            \n",
       "TTYPE80 = 'nsa_sersic_absmag'                                                   \n",
       "TFORM80 = '7D      '                                                            \n",
       "TTYPE81 = 'nsa_elpetro_absmag'                                                  \n",
       "TFORM81 = '7D      '                                                            \n",
       "TTYPE82 = 'nsa_elpetro_amivar'                                                  \n",
       "TFORM82 = '7D      '                                                            \n",
       "TTYPE83 = 'nsa_sersic_mass'                                                     \n",
       "TFORM83 = 'D       '                                                            \n",
       "TTYPE84 = 'nsa_elpetro_mass'                                                    \n",
       "TFORM84 = 'D       '                                                            \n",
       "TTYPE85 = 'nsa_elpetro_ba'                                                      \n",
       "TFORM85 = 'D       '                                                            \n",
       "TTYPE86 = 'nsa_elpetro_phi'                                                     \n",
       "TFORM86 = 'D       '                                                            \n",
       "TTYPE87 = 'nsa_extinction'                                                      \n",
       "TFORM87 = '7D      '                                                            \n",
       "TTYPE88 = 'nsa_elpetro_th50_r'                                                  \n",
       "TFORM88 = 'D       '                                                            \n",
       "TTYPE89 = 'nsa_petro_th50'                                                      \n",
       "TFORM89 = 'D       '                                                            \n",
       "TTYPE90 = 'nsa_petro_flux'                                                      \n",
       "TFORM90 = '7D      '                                                            \n",
       "TTYPE91 = 'nsa_petro_flux_ivar'                                                 \n",
       "TFORM91 = '7D      '                                                            \n",
       "TTYPE92 = 'nsa_elpetro_flux'                                                    \n",
       "TFORM92 = '7D      '                                                            \n",
       "TTYPE93 = 'nsa_elpetro_flux_ivar'                                               \n",
       "TFORM93 = '7D      '                                                            \n",
       "TTYPE94 = 'nsa_sersic_ba'                                                       \n",
       "TFORM94 = 'D       '                                                            \n",
       "TTYPE95 = 'nsa_sersic_n'                                                        \n",
       "TFORM95 = 'D       '                                                            \n",
       "TTYPE96 = 'nsa_sersic_phi'                                                      \n",
       "TFORM96 = 'D       '                                                            \n",
       "TTYPE97 = 'nsa_sersic_th50'                                                     \n",
       "TFORM97 = 'D       '                                                            \n",
       "TTYPE98 = 'nsa_sersic_flux'                                                     \n",
       "TFORM98 = '7D      '                                                            \n",
       "TTYPE99 = 'nsa_sersic_flux_ivar'                                                \n",
       "TFORM99 = '7D      '                                                            \n",
       "CHECKSUM= 'Ci86Fi54Ci54Ci54'   / HDU checksum updated 2018-03-24T22:06:55       \n",
       "DATASUM = '3521176918'         / data unit checksum updated 2018-03-24T22:06:55 "
      ]
     },
     "execution_count": 34,
     "metadata": {},
     "output_type": "execute_result"
    }
   ],
   "source": [
    "drp_fits[1].header"
   ]
  },
  {
   "cell_type": "code",
   "execution_count": 42,
   "metadata": {
    "ExecuteTime": {
     "end_time": "2020-06-02T03:42:00.920518Z",
     "start_time": "2020-06-02T03:42:00.853534Z"
    }
   },
   "outputs": [],
   "source": [
    "# get data\n",
    "mgHI_plateifu = mgHI_fits[1].data['plateifu']\n",
    "mgHI_HI_mass = mgHI_fits[1].data['logMHI']\n",
    "mgHI_flux = mgHI_fits[1].data['FHI']\n",
    "mgHI_snr = mgHI_fits[1].data['snr']\n",
    "mgHI_rms = mgHI_fits[1].data['rms']\n",
    "mgHI_Wp20 = mgHI_fits[1].data['WP20']\n",
    "\n",
    "# alfalfa HI mass error\n",
    "al_err = alfalfa_data[\"siglogMH\"].values\n",
    "\n",
    "# def _dis_manga(plateifu):\n",
    "#     tmp_id = (drp_fits[1].data['plateifu']==plateifu)\n",
    "#     redshift = drp_fits[1].data['NSA_Z'][tmp_id][0]\n",
    "#     distance = cosmo.comoving_distance(z=redshift).value\n",
    "#     return distance\n",
    "# mgHI_dis = np.array([_dis_manga(plateifu) for plateifu in mgHI_plateifu])\n",
    "\n",
    "# calculate HI-MaNGA HI_mass error\n",
    "# mgHI_err = np.power(((1/mgHI_snr)**2),0.5) / np.log(10)\n",
    "mgHI_err = np.power((mgHI_rms*1e-3 * np.power(10*1.2*mgHI_Wp20,0.5) / mgHI_flux)**2+0.1**2,0.5) / np.log(10)"
   ]
  },
  {
   "cell_type": "code",
   "execution_count": 45,
   "metadata": {
    "ExecuteTime": {
     "end_time": "2020-06-02T03:46:29.705406Z",
     "start_time": "2020-06-02T03:46:29.546408Z"
    }
   },
   "outputs": [],
   "source": [
    "# MaNGA-HI 中的 sf 星系\n",
    "chek = np.array([len(sf_gal_plifu[sf_gal_plifu==plateifu]) for plateifu in mgHI_plateifu])\n",
    "mgHI_sf_plateifu = mgHI_plateifu[chek==1]\n",
    "\n",
    "# ALFALFA和MaNGA 匹配星系中的 sf 星系\n",
    "mgal_plateifu = mg_alfa_fits[1].data['plateifu']\n",
    "chek = np.array([len(sf_gal_plifu[sf_gal_plifu==plateifu]) for plateifu in mgal_plateifu])\n",
    "mgal_sf_plateifu = mgal_plateifu[chek==1]"
   ]
  },
  {
   "cell_type": "code",
   "execution_count": null,
   "metadata": {
    "ExecuteTime": {
     "start_time": "2020-06-03T08:03:50.164Z"
    }
   },
   "outputs": [],
   "source": [
    "def _gal_ra_dec(plateifu):\n",
    "    tmp_id = (drp_fits[1].data['plateifu']==plateifu)\n",
    "    ra = drp_fits[1].data['objra'][tmp_id][0]\n",
    "    dec = drp_fits[1].data['objdec'][tmp_id][0]\n",
    "    return ra,dec\n",
    "def _stellar_mass(plateifu):\n",
    "    tmp_id = (plateifu==drp_fits[1].data[\"PLATEIFU\"])\n",
    "    \n",
    "    ste_mass = drp_fits[1].data[\"NSA_ELPETRO_MASS\"][tmp_id][0]\n",
    "    #ste_mass = drp_fits[1].data[\"NSA_SERSIC_MASS\"][tmp_id]\n",
    "    return math.log10(ste_mass)  # change unit mass of sun to log10() mass of sun\n",
    "def _al_AGC(plateifu):\n",
    "    tmp_id = (plateifu==mg_alfa_fits[1].data['plateifu'])\n",
    "    AGC = mg_alfa_fits[1].data['AGC'][tmp_id]\n",
    "    return AGC\n",
    "# def _HI_mass_err(plateifu):\n",
    "#     if len(mgHI_sf_plateifu[plateifu==mgHI_sf_plateifu])==1:\n",
    "#         #err = mgHI_err[mgHI_plateifu==plateifu][0]\n",
    "#         err = -999\n",
    "#     elif len(mgal_sf_plateifu[plateifu==mgal_sf_plateifu])==1:\n",
    "#         err = al_err[_al_AGC(plateifu)==alfalfa_data['AGCNr'].values]\n",
    "#     else:\n",
    "#         err = -999\n",
    "#     return err\n",
    "def _mgal_HImass_err(plateifu):\n",
    "    if len(mgal_sf_plateifu[plateifu==mgal_sf_plateifu])==1:\n",
    "        err = al_err[_al_AGC(plateifu)==alfalfa_data['AGCNr'].values]\n",
    "    else:\n",
    "        err = -999\n",
    "    return err\n",
    "def _mgHI_HImass_err(plateifu):\n",
    "    if len(mgHI_sf_plateifu[plateifu==mgHI_sf_plateifu])==1:\n",
    "        err = mgHI_err[mgHI_plateifu==plateifu][0]\n",
    "    else:\n",
    "        err = -999\n",
    "    return err\n",
    "def _mgHI_mass(plateifu):\n",
    "    tmp_id = (plateifu==mgHI_fits[1].data['plateifu'])\n",
    "    if len(mgHI_fits[1].data['plateifu'][tmp_id])==0:\n",
    "        return -999\n",
    "    HI_mass = mgHI_fits[1].data['LOGMHI'][tmp_id][0]\n",
    "    if HI_mass==-999:\n",
    "        HI_mass_non = mgHI_fits[1].data['logHIlim200kms'][tmp_id][0]\n",
    "        return HI_mass_non\n",
    "    else:\n",
    "        return HI_mass\n",
    "def _mgal_mass(plateifu):\n",
    "    tmp_id = (plateifu==mg_alfa_fits[1].data['plateifu'])\n",
    "    if len(mg_alfa_fits[1].data['plateifu'][tmp_id])==0:\n",
    "        return -999\n",
    "    HI_mass = mg_alfa_fits[1].data['LOGMHI'][tmp_id][0]\n",
    "    if HI_mass==-999:\n",
    "        HI_mass_non = mg_alfa_fits[1].data['LOGHILIM200KMS'][tmp_id][0]\n",
    "        return HI_mass_non\n",
    "    else:\n",
    "        return HI_mass\n",
    "def _HI_mass(plateifu):\n",
    "    tmp_id1 = (plateifu==mgHI_sf_plateifu)\n",
    "    tmp_id2 = (plateifu==mgal_sf_plateifu)\n",
    "    #print(len(mgHI_sf_plateifu[tmp_id1]))\n",
    "    #print(len(mgal_sf_plateifu[tmp_id2]))\n",
    "    if len(mgHI_sf_plateifu[tmp_id1])==1:\n",
    "        return _mgHI_mass(plateifu)\n",
    "    elif len(mgal_sf_plateifu[tmp_id2])==1:\n",
    "        return _mgal_mass(plateifu)\n",
    "    else:\n",
    "        return -999\n",
    "    pass\n",
    "def _alm_galaxy(plateifu):\n",
    "    # ALM 判断条件\n",
    "    cri = -0.133\n",
    "    tmp_id = (manga_Z['plate-ifu'].values==plateifu)\n",
    "    dev_Z = manga_Z['metallicity_deviation'].values[tmp_id]\n",
    "    sur_density = manga_Z['dep_surface_mass_density'].values[tmp_id]\n",
    "    mass = manga_Z['stellar_mass_global'].values[tmp_id]\n",
    "    num_spaxels = len(dev_Z[(dev_Z <= cri)&(sur_density>7)&(mass>9)])\n",
    "    return num_spaxels\n",
    "# 得到单个星系的 ALM数量，sf数量，ALM/sf比值\n",
    "def _alm_o_sf_spaxels(plateifu):\n",
    "    tmp_id = (manga_Z['plate-ifu'].values==plateifu)\n",
    "    num_sf = len(manga_Z['plate-ifu'].values[tmp_id])\n",
    "    num_alm = _alm_galaxy(plateifu)\n",
    "    return num_alm, num_sf, num_alm / num_sf\n",
    "# 泊松误差\n",
    "def _possion_err_spaxel(plateifu):\n",
    "    alm_num,sf_num,almosf = _alm_o_sf_spaxels(plateifu)\n",
    "    err = math.sqrt(alm_num)/sf_num\n",
    "    return err\n",
    "# surface mass density\n",
    "def _surface_desnity(plateifu):\n",
    "    tmp_id = (manga_Z['plate-ifu'].values==plateifu)\n",
    "    density = manga_Z['surface_mass_density_VOR'].values[tmp_id][0]\n",
    "    return density\n",
    "\n",
    "alm_o_sf = np.array([_alm_o_sf_spaxels(plateifu)[2] for plateifu in sf_gal_plifu])\n",
    "alm_number = np.array([_alm_o_sf_spaxels(plateifu)[0] for plateifu in sf_gal_plifu])\n",
    "sf_number = np.array([_alm_o_sf_spaxels(plateifu)[1] for plateifu in sf_gal_plifu])\n",
    "possion_err = np.array([_possion_err_spaxel(plateifu) for plateifu in sf_gal_plifu])\n",
    "HI_mass_err = np.array([_mgal_HImass_err(plateifu) for plateifu in sf_gal_plifu])\n",
    "HI_mass = np.array([_HI_mass(plateifu) for plateifu in sf_gal_plifu])\n",
    "stellar_mass = np.array([_stellar_mass(plateifu) for plateifu in sf_gal_plifu])\n",
    "ra_dec = np.array([_gal_ra_dec(plateifu) for plateifu in sf_gal_plifu])\n",
    "mgal_sur_density = np.array([_surface_desnity(plateifu) for plateifu in sf_gal_plifu])\n",
    "# flat/flatten the array \n",
    "# HI_mass_err = np.concatenate(HI_mass_err).ravel()"
   ]
  },
  {
   "cell_type": "code",
   "execution_count": 166,
   "metadata": {
    "ExecuteTime": {
     "end_time": "2020-06-03T08:02:15.049226Z",
     "start_time": "2020-06-03T08:01:29.181418Z"
    }
   },
   "outputs": [],
   "source": [
    "def _surface_desnity(plateifu):\n",
    "    tmp_id = (manga_Z['plate-ifu'].values==plateifu)\n",
    "    density = manga_Z['surface_mass_density_VOR'].values[tmp_id][0]\n",
    "    return density\n",
    "mgal_sur_density = np.array([_surface_desnity(plateifu) for plateifu in sf_gal_plifu])"
   ]
  },
  {
   "cell_type": "code",
   "execution_count": 145,
   "metadata": {
    "ExecuteTime": {
     "end_time": "2020-06-03T07:48:02.743253Z",
     "start_time": "2020-06-03T07:48:02.711496Z"
    }
   },
   "outputs": [
    {
     "name": "stdout",
     "output_type": "stream",
     "text": [
      "(536,)\n",
      "(256,)\n",
      "(1547,)\n",
      "(1547,)\n",
      "(157,)\n",
      "(157,)\n",
      "(157,)\n",
      "(157,)\n",
      "(157,)\n"
     ]
    }
   ],
   "source": [
    "print(HI_mass[HI_mass!=-999].shape)\n",
    "print(HI_mass_err[HI_mass_err!=-999].shape)\n",
    "print(alm_o_sf[alm_o_sf>=0].shape)\n",
    "print(stellar_mass[stellar_mass>0].shape)\n",
    "\n",
    "'''get rid of bad data [alfalfa]'''\n",
    "tmp_id = copy((HI_mass_err!=-999)&(HI_mass!=-999)&(alm_number!=0))\n",
    "HI_mass_err = HI_mass_err[tmp_id]\n",
    "HI_mass = HI_mass[tmp_id]\n",
    "stellar_mass = stellar_mass[tmp_id]\n",
    "alm_o_sf = alm_o_sf[tmp_id]\n",
    "alm_number = alm_number[tmp_id]\n",
    "sf_number = sf_number[tmp_id]\n",
    "possion_err = possion_err[tmp_id]\n",
    "ra_dec = ra_dec[tmp_id]\n",
    "mgal_sur_density = mgal_sur_density[tmp_id]\n",
    "mgal_plateifu = sf_gal_plifu[tmp_id]\n",
    "\n",
    "print(HI_mass[HI_mass!=-999].shape)\n",
    "print(HI_mass_err[HI_mass_err!=-999].shape)\n",
    "print(alm_o_sf[alm_o_sf>=0].shape)\n",
    "print(stellar_mass[stellar_mass>0].shape)\n",
    "print(possion_err[possion_err>=0].shape)"
   ]
  },
  {
   "cell_type": "code",
   "execution_count": 165,
   "metadata": {
    "ExecuteTime": {
     "end_time": "2020-06-03T08:00:15.267323Z",
     "start_time": "2020-06-03T08:00:15.251330Z"
    }
   },
   "outputs": [
    {
     "data": {
      "text/plain": [
       "(102836,)"
      ]
     },
     "execution_count": 165,
     "metadata": {},
     "output_type": "execute_result"
    }
   ],
   "source": [
    "a = np.concatenate(mgal_sur_density)\n",
    "a.shape"
   ]
  },
  {
   "cell_type": "code",
   "execution_count": 162,
   "metadata": {
    "ExecuteTime": {
     "end_time": "2020-06-03T07:59:28.964437Z",
     "start_time": "2020-06-03T07:59:28.661058Z"
    }
   },
   "outputs": [
    {
     "ename": "ValueError",
     "evalue": "x and y must be the same size",
     "output_type": "error",
     "traceback": [
      "\u001b[0;31m---------------------------------------------------------------------------\u001b[0m",
      "\u001b[0;31mValueError\u001b[0m                                Traceback (most recent call last)",
      "\u001b[0;32m<ipython-input-162-bc3005c1b5ee>\u001b[0m in \u001b[0;36m<module>\u001b[0;34m\u001b[0m\n\u001b[1;32m     17\u001b[0m \u001b[0mz\u001b[0m \u001b[0;34m=\u001b[0m \u001b[0mmgal_g_r\u001b[0m\u001b[0;34m\u001b[0m\u001b[0;34m\u001b[0m\u001b[0m\n\u001b[1;32m     18\u001b[0m \u001b[0;31m# 开始画散点图\u001b[0m\u001b[0;34m\u001b[0m\u001b[0;34m\u001b[0m\u001b[0;34m\u001b[0m\u001b[0m\n\u001b[0;32m---> 19\u001b[0;31m \u001b[0msc\u001b[0m \u001b[0;34m=\u001b[0m \u001b[0mplt\u001b[0m\u001b[0;34m.\u001b[0m\u001b[0mscatter\u001b[0m\u001b[0;34m(\u001b[0m\u001b[0mx\u001b[0m\u001b[0;34m,\u001b[0m \u001b[0my\u001b[0m\u001b[0;34m,\u001b[0m\u001b[0mc\u001b[0m\u001b[0;34m=\u001b[0m\u001b[0mz\u001b[0m\u001b[0;34m,\u001b[0m \u001b[0mcmap\u001b[0m\u001b[0;34m=\u001b[0m\u001b[0mcm\u001b[0m\u001b[0;34m,\u001b[0m\u001b[0ms\u001b[0m\u001b[0;34m=\u001b[0m\u001b[0;36m5\u001b[0m\u001b[0;34m)\u001b[0m\u001b[0;31m#,vmin=8, vmax=8.9, s=5, )\u001b[0m\u001b[0;34m\u001b[0m\u001b[0;34m\u001b[0m\u001b[0m\n\u001b[0m\u001b[1;32m     20\u001b[0m \u001b[0;31m# # 开始画grid格子\u001b[0m\u001b[0;34m\u001b[0m\u001b[0;34m\u001b[0m\u001b[0;34m\u001b[0m\u001b[0m\n\u001b[1;32m     21\u001b[0m \u001b[0;31m# for i in range(7):\u001b[0m\u001b[0;34m\u001b[0m\u001b[0;34m\u001b[0m\u001b[0;34m\u001b[0m\u001b[0m\n",
      "\u001b[0;32m~/local/anaconda/lib/python3.7/site-packages/matplotlib/pyplot.py\u001b[0m in \u001b[0;36mscatter\u001b[0;34m(x, y, s, c, marker, cmap, norm, vmin, vmax, alpha, linewidths, verts, edgecolors, plotnonfinite, data, **kwargs)\u001b[0m\n\u001b[1;32m   2814\u001b[0m         \u001b[0mverts\u001b[0m\u001b[0;34m=\u001b[0m\u001b[0mverts\u001b[0m\u001b[0;34m,\u001b[0m \u001b[0medgecolors\u001b[0m\u001b[0;34m=\u001b[0m\u001b[0medgecolors\u001b[0m\u001b[0;34m,\u001b[0m\u001b[0;34m\u001b[0m\u001b[0;34m\u001b[0m\u001b[0m\n\u001b[1;32m   2815\u001b[0m         plotnonfinite=plotnonfinite, **({\"data\": data} if data is not\n\u001b[0;32m-> 2816\u001b[0;31m         None else {}), **kwargs)\n\u001b[0m\u001b[1;32m   2817\u001b[0m     \u001b[0msci\u001b[0m\u001b[0;34m(\u001b[0m\u001b[0m__ret\u001b[0m\u001b[0;34m)\u001b[0m\u001b[0;34m\u001b[0m\u001b[0;34m\u001b[0m\u001b[0m\n\u001b[1;32m   2818\u001b[0m     \u001b[0;32mreturn\u001b[0m \u001b[0m__ret\u001b[0m\u001b[0;34m\u001b[0m\u001b[0;34m\u001b[0m\u001b[0m\n",
      "\u001b[0;32m~/local/anaconda/lib/python3.7/site-packages/matplotlib/__init__.py\u001b[0m in \u001b[0;36minner\u001b[0;34m(ax, data, *args, **kwargs)\u001b[0m\n\u001b[1;32m   1563\u001b[0m     \u001b[0;32mdef\u001b[0m \u001b[0minner\u001b[0m\u001b[0;34m(\u001b[0m\u001b[0max\u001b[0m\u001b[0;34m,\u001b[0m \u001b[0;34m*\u001b[0m\u001b[0margs\u001b[0m\u001b[0;34m,\u001b[0m \u001b[0mdata\u001b[0m\u001b[0;34m=\u001b[0m\u001b[0;32mNone\u001b[0m\u001b[0;34m,\u001b[0m \u001b[0;34m**\u001b[0m\u001b[0mkwargs\u001b[0m\u001b[0;34m)\u001b[0m\u001b[0;34m:\u001b[0m\u001b[0;34m\u001b[0m\u001b[0;34m\u001b[0m\u001b[0m\n\u001b[1;32m   1564\u001b[0m         \u001b[0;32mif\u001b[0m \u001b[0mdata\u001b[0m \u001b[0;32mis\u001b[0m \u001b[0;32mNone\u001b[0m\u001b[0;34m:\u001b[0m\u001b[0;34m\u001b[0m\u001b[0;34m\u001b[0m\u001b[0m\n\u001b[0;32m-> 1565\u001b[0;31m             \u001b[0;32mreturn\u001b[0m \u001b[0mfunc\u001b[0m\u001b[0;34m(\u001b[0m\u001b[0max\u001b[0m\u001b[0;34m,\u001b[0m \u001b[0;34m*\u001b[0m\u001b[0mmap\u001b[0m\u001b[0;34m(\u001b[0m\u001b[0msanitize_sequence\u001b[0m\u001b[0;34m,\u001b[0m \u001b[0margs\u001b[0m\u001b[0;34m)\u001b[0m\u001b[0;34m,\u001b[0m \u001b[0;34m**\u001b[0m\u001b[0mkwargs\u001b[0m\u001b[0;34m)\u001b[0m\u001b[0;34m\u001b[0m\u001b[0;34m\u001b[0m\u001b[0m\n\u001b[0m\u001b[1;32m   1566\u001b[0m \u001b[0;34m\u001b[0m\u001b[0m\n\u001b[1;32m   1567\u001b[0m         \u001b[0mbound\u001b[0m \u001b[0;34m=\u001b[0m \u001b[0mnew_sig\u001b[0m\u001b[0;34m.\u001b[0m\u001b[0mbind\u001b[0m\u001b[0;34m(\u001b[0m\u001b[0max\u001b[0m\u001b[0;34m,\u001b[0m \u001b[0;34m*\u001b[0m\u001b[0margs\u001b[0m\u001b[0;34m,\u001b[0m \u001b[0;34m**\u001b[0m\u001b[0mkwargs\u001b[0m\u001b[0;34m)\u001b[0m\u001b[0;34m\u001b[0m\u001b[0;34m\u001b[0m\u001b[0m\n",
      "\u001b[0;32m~/local/anaconda/lib/python3.7/site-packages/matplotlib/cbook/deprecation.py\u001b[0m in \u001b[0;36mwrapper\u001b[0;34m(*args, **kwargs)\u001b[0m\n\u001b[1;32m    356\u001b[0m                 \u001b[0;34mf\"%(removal)s.  If any parameter follows {name!r}, they \"\u001b[0m\u001b[0;34m\u001b[0m\u001b[0;34m\u001b[0m\u001b[0m\n\u001b[1;32m    357\u001b[0m                 f\"should be pass as keyword, not positionally.\")\n\u001b[0;32m--> 358\u001b[0;31m         \u001b[0;32mreturn\u001b[0m \u001b[0mfunc\u001b[0m\u001b[0;34m(\u001b[0m\u001b[0;34m*\u001b[0m\u001b[0margs\u001b[0m\u001b[0;34m,\u001b[0m \u001b[0;34m**\u001b[0m\u001b[0mkwargs\u001b[0m\u001b[0;34m)\u001b[0m\u001b[0;34m\u001b[0m\u001b[0;34m\u001b[0m\u001b[0m\n\u001b[0m\u001b[1;32m    359\u001b[0m \u001b[0;34m\u001b[0m\u001b[0m\n\u001b[1;32m    360\u001b[0m     \u001b[0;32mreturn\u001b[0m \u001b[0mwrapper\u001b[0m\u001b[0;34m\u001b[0m\u001b[0;34m\u001b[0m\u001b[0m\n",
      "\u001b[0;32m~/local/anaconda/lib/python3.7/site-packages/matplotlib/axes/_axes.py\u001b[0m in \u001b[0;36mscatter\u001b[0;34m(self, x, y, s, c, marker, cmap, norm, vmin, vmax, alpha, linewidths, verts, edgecolors, plotnonfinite, **kwargs)\u001b[0m\n\u001b[1;32m   4378\u001b[0m         \u001b[0my\u001b[0m \u001b[0;34m=\u001b[0m \u001b[0mnp\u001b[0m\u001b[0;34m.\u001b[0m\u001b[0mma\u001b[0m\u001b[0;34m.\u001b[0m\u001b[0mravel\u001b[0m\u001b[0;34m(\u001b[0m\u001b[0my\u001b[0m\u001b[0;34m)\u001b[0m\u001b[0;34m\u001b[0m\u001b[0;34m\u001b[0m\u001b[0m\n\u001b[1;32m   4379\u001b[0m         \u001b[0;32mif\u001b[0m \u001b[0mx\u001b[0m\u001b[0;34m.\u001b[0m\u001b[0msize\u001b[0m \u001b[0;34m!=\u001b[0m \u001b[0my\u001b[0m\u001b[0;34m.\u001b[0m\u001b[0msize\u001b[0m\u001b[0;34m:\u001b[0m\u001b[0;34m\u001b[0m\u001b[0;34m\u001b[0m\u001b[0m\n\u001b[0;32m-> 4380\u001b[0;31m             \u001b[0;32mraise\u001b[0m \u001b[0mValueError\u001b[0m\u001b[0;34m(\u001b[0m\u001b[0;34m\"x and y must be the same size\"\u001b[0m\u001b[0;34m)\u001b[0m\u001b[0;34m\u001b[0m\u001b[0;34m\u001b[0m\u001b[0m\n\u001b[0m\u001b[1;32m   4381\u001b[0m \u001b[0;34m\u001b[0m\u001b[0m\n\u001b[1;32m   4382\u001b[0m         \u001b[0;32mif\u001b[0m \u001b[0ms\u001b[0m \u001b[0;32mis\u001b[0m \u001b[0;32mNone\u001b[0m\u001b[0;34m:\u001b[0m\u001b[0;34m\u001b[0m\u001b[0;34m\u001b[0m\u001b[0m\n",
      "\u001b[0;31mValueError\u001b[0m: x and y must be the same size"
     ]
    },
    {
     "data": {
      "image/png": "[encoded data removed]",
      "text/plain": [
       "<Figure size 576x432 with 1 Axes>"
      ]
     },
     "metadata": {},
     "output_type": "display_data"
    }
   ],
   "source": [
    "import math  # just for some specific calculate\n",
    "import numpy as np  # array\n",
    "import pandas as pd  # more powerful array\n",
    "import matplotlib as mpl\n",
    "import matplotlib.pyplot as plt  # plot\n",
    "# 检查数据是否正确\n",
    "'''做出pyqz计算得到金属丰度的分布图\n",
    "'''\n",
    "# 金属丰度分布图.\n",
    "# import matplotlib.pyplot as plt\n",
    "plt.figure(figsize=(8,6))\n",
    "# 设置colorbar颜色样式，可以在下面网站查询：\n",
    "# https://matplotlib.org/tutorials/colors/colormaps.html\n",
    "cm = plt.cm.get_cmap('nipy_spectral')\n",
    "x = stellar_mass\n",
    "y = np.concatenate(mgal_sur_density)\n",
    "z = mgal_g_r\n",
    "# 开始画散点图\n",
    "sc = plt.scatter(x, y,c=z, cmap=cm,s=5)#,vmin=8, vmax=8.9, s=5, )\n",
    "# # 开始画grid格子\n",
    "# for i in range(7):\n",
    "#     xx=locals()['line'+str(i+1)+'x']\n",
    "#     yy=locals()['line'+str(i+1)+'y']\n",
    "#     plt.plot(xx,yy,'o-',color='black',markerfacecolor='white')\n",
    "# 坐标轴范围调整\n",
    "plt.xlim(-1.9, 0.7)\n",
    "plt.ylim(-2.0, 0.8)\n",
    "# 坐标轴标题设置\n",
    "plt.xlabel('log [NII]/[OII]',fontsize=16)    # x轴标签\n",
    "plt.ylabel('log [OIII]/[OII]',fontsize=16)    # y轴标签\n",
    "plt.tick_params(which='both',direction='in')\n",
    "# colorbar调整\n",
    "cbar = plt.colorbar(sc)\n",
    "cbar.ax.tick_params(which='both',direction='in')\n",
    "cbar.set_label(\"12+log(O/H) (O2N2)\",fontsize=16,labelpad=8)\n",
    "plt.title('Metallicity',fontsize=16)\n",
    "plt.show()\n",
    "'''with extinction correction'''"
   ]
  },
  {
   "cell_type": "code",
   "execution_count": 50,
   "metadata": {
    "ExecuteTime": {
     "end_time": "2020-06-02T04:03:20.734994Z",
     "start_time": "2020-06-02T04:03:19.497005Z"
    }
   },
   "outputs": [
    {
     "data": {
      "image/png": "[encoded data removed]",
      "text/plain": [
       "<Figure size 576x576 with 1 Axes>"
      ]
     },
     "metadata": {},
     "output_type": "display_data"
    }
   ],
   "source": [
    "# variables prepared for plotting.\n",
    "x = np.power(10,HI_mass-stellar_mass)\n",
    "y = alm_o_sf\n",
    "x_err = (np.power(10,HI_mass+HI_mass_err) - np.power(10,HI_mass)) / np.power(10,stellar_mass)\n",
    "y_err = possion_err\n",
    "\n",
    "# plot\n",
    "plt.figure(figsize=(8,8))\n",
    "plt.errorbar(x,y,xerr=x_err,yerr=y_err,fmt='o',color='g',label=\"alfalfa\")#,fmt='o')\n",
    "# x = np.power(10,mgHI_HI_mass-mgHI_stellar_mass)\n",
    "# y = mgHI_alm_o_sf\n",
    "# x_err = np.power(10,mgHI_HI_mass_err-mgHI_stellar_mass)\n",
    "# y_err = mgHI_possion_err\n",
    "# plt.errorbar(x,y,xerr=x_err,yerr=y_err,fmt='o',color='orange',label=\"HI-MaNGA\")#,fmt='o')\n",
    "plt.xscale('log')\n",
    "plt.yscale('log')\n",
    "# plt.xlim(np.power(10,tmp_xlim))\n",
    "# plt.ylim(np.power(10,tmp_ylim))\n",
    "\n",
    "plt.tick_params(which='both',direction='in')\n",
    "plt.xticks(fontsize=10)\n",
    "plt.yticks(fontsize=10)\n",
    "plt.xlabel(\"$log_{10}(M_{HI}/M_{*})$\",fontsize=14)\n",
    "plt.ylabel(\"$log_{10}$(ALM/sf spaxels fraction)\",fontsize=14)\n",
    "plt.legend(loc=\"best\")\n",
    "plt.show()"
   ]
  },
  {
   "cell_type": "code",
   "execution_count": 51,
   "metadata": {
    "ExecuteTime": {
     "end_time": "2020-06-02T04:03:53.249862Z",
     "start_time": "2020-06-02T04:03:51.248242Z"
    }
   },
   "outputs": [],
   "source": [
    "mgal_ra = ra_dec[:,0]\n",
    "mgal_dec  = ra_dec[:,1]\n",
    "\n",
    "nyu_ra = nyu_fits0[1].data['RA']\n",
    "nyu_dec = nyu_fits0[1].data['DEC']\n",
    "\n",
    "\n",
    "\n",
    "coo_nyu = SkyCoord(nyu_ra*u.deg, nyu_dec*u.deg)\n",
    "coo_mgal = SkyCoord(mgal_ra*u.deg, mgal_dec*u.deg)\n",
    "\n",
    "idx_nyu, d2d_nyu, d3d_nyu = coo_mgal.match_to_catalog_sky(coo_nyu)\n",
    "\n",
    "def _g_r(nyu_id):\n",
    "    mag = nyu_fits0[1].data['ABSMAG'][nyu_id]  # ugrizJHK\n",
    "    g = mag[1]\n",
    "    r = mag[2]\n",
    "    return g-r\n",
    "mgal_g_r = np.array([_g_r(tmp_id) for tmp_id in idx_nyu])"
   ]
  },
  {
   "cell_type": "code",
   "execution_count": 53,
   "metadata": {
    "ExecuteTime": {
     "end_time": "2020-06-02T04:04:53.037477Z",
     "start_time": "2020-06-02T04:04:53.028514Z"
    }
   },
   "outputs": [],
   "source": [
    "def _exp_f_HI(g_r,M):\n",
    "    f_HI = -0.328 * math.log10(M) - 1.492*g_r + 3.662\n",
    "    return f_HI\n",
    "\n",
    "def _HIexcess(HI, stellar_mass, g_r):\n",
    "    f_HI = HI/stellar_mass\n",
    "    average_f_HI = _exp_f_HI(g_r,stellar_mass)\n",
    "    sigma_f = 0.272\n",
    "    HI_excess = (math.log10(f_HI) - average_f_HI) / sigma_f\n",
    "    return HI_excess\n"
   ]
  },
  {
   "cell_type": "code",
   "execution_count": 143,
   "metadata": {
    "ExecuteTime": {
     "end_time": "2020-06-03T07:45:30.456194Z",
     "start_time": "2020-06-03T07:45:30.234011Z"
    }
   },
   "outputs": [
    {
     "ename": "ValueError",
     "evalue": "x and y must be the same size",
     "output_type": "error",
     "traceback": [
      "\u001b[0;31m---------------------------------------------------------------------------\u001b[0m",
      "\u001b[0;31mValueError\u001b[0m                                Traceback (most recent call last)",
      "\u001b[0;32m<ipython-input-143-04ded779d70d>\u001b[0m in \u001b[0;36m<module>\u001b[0;34m\u001b[0m\n\u001b[1;32m      6\u001b[0m \u001b[0;34m\u001b[0m\u001b[0m\n\u001b[1;32m      7\u001b[0m \u001b[0mplt\u001b[0m\u001b[0;34m.\u001b[0m\u001b[0mfigure\u001b[0m\u001b[0;34m(\u001b[0m\u001b[0mfigsize\u001b[0m\u001b[0;34m=\u001b[0m\u001b[0;34m(\u001b[0m\u001b[0;36m8\u001b[0m\u001b[0;34m,\u001b[0m\u001b[0;36m6\u001b[0m\u001b[0;34m)\u001b[0m\u001b[0;34m)\u001b[0m\u001b[0;34m\u001b[0m\u001b[0;34m\u001b[0m\u001b[0m\n\u001b[0;32m----> 8\u001b[0;31m \u001b[0mplt\u001b[0m\u001b[0;34m.\u001b[0m\u001b[0mscatter\u001b[0m\u001b[0;34m(\u001b[0m\u001b[0mx\u001b[0m\u001b[0;34m,\u001b[0m\u001b[0my\u001b[0m\u001b[0;34m,\u001b[0m\u001b[0mc\u001b[0m\u001b[0;34m=\u001b[0m\u001b[0;34m'orange'\u001b[0m\u001b[0;34m)\u001b[0m\u001b[0;34m\u001b[0m\u001b[0;34m\u001b[0m\u001b[0m\n\u001b[0m\u001b[1;32m      9\u001b[0m \u001b[0mxmin\u001b[0m\u001b[0;34m,\u001b[0m\u001b[0mxmax\u001b[0m \u001b[0;34m=\u001b[0m \u001b[0mplt\u001b[0m\u001b[0;34m.\u001b[0m\u001b[0mxlim\u001b[0m\u001b[0;34m(\u001b[0m\u001b[0;34m)\u001b[0m\u001b[0;34m\u001b[0m\u001b[0;34m\u001b[0m\u001b[0m\n\u001b[1;32m     10\u001b[0m \u001b[0mnewx\u001b[0m \u001b[0;34m=\u001b[0m \u001b[0mnp\u001b[0m\u001b[0;34m.\u001b[0m\u001b[0mlinspace\u001b[0m\u001b[0;34m(\u001b[0m\u001b[0mxmin\u001b[0m\u001b[0;34m,\u001b[0m\u001b[0mxmax\u001b[0m\u001b[0;34m,\u001b[0m\u001b[0;36m20\u001b[0m\u001b[0;34m)\u001b[0m\u001b[0;34m\u001b[0m\u001b[0;34m\u001b[0m\u001b[0m\n",
      "\u001b[0;32m~/local/anaconda/lib/python3.7/site-packages/matplotlib/pyplot.py\u001b[0m in \u001b[0;36mscatter\u001b[0;34m(x, y, s, c, marker, cmap, norm, vmin, vmax, alpha, linewidths, verts, edgecolors, plotnonfinite, data, **kwargs)\u001b[0m\n\u001b[1;32m   2814\u001b[0m         \u001b[0mverts\u001b[0m\u001b[0;34m=\u001b[0m\u001b[0mverts\u001b[0m\u001b[0;34m,\u001b[0m \u001b[0medgecolors\u001b[0m\u001b[0;34m=\u001b[0m\u001b[0medgecolors\u001b[0m\u001b[0;34m,\u001b[0m\u001b[0;34m\u001b[0m\u001b[0;34m\u001b[0m\u001b[0m\n\u001b[1;32m   2815\u001b[0m         plotnonfinite=plotnonfinite, **({\"data\": data} if data is not\n\u001b[0;32m-> 2816\u001b[0;31m         None else {}), **kwargs)\n\u001b[0m\u001b[1;32m   2817\u001b[0m     \u001b[0msci\u001b[0m\u001b[0;34m(\u001b[0m\u001b[0m__ret\u001b[0m\u001b[0;34m)\u001b[0m\u001b[0;34m\u001b[0m\u001b[0;34m\u001b[0m\u001b[0m\n\u001b[1;32m   2818\u001b[0m     \u001b[0;32mreturn\u001b[0m \u001b[0m__ret\u001b[0m\u001b[0;34m\u001b[0m\u001b[0;34m\u001b[0m\u001b[0m\n",
      "\u001b[0;32m~/local/anaconda/lib/python3.7/site-packages/matplotlib/__init__.py\u001b[0m in \u001b[0;36minner\u001b[0;34m(ax, data, *args, **kwargs)\u001b[0m\n\u001b[1;32m   1563\u001b[0m     \u001b[0;32mdef\u001b[0m \u001b[0minner\u001b[0m\u001b[0;34m(\u001b[0m\u001b[0max\u001b[0m\u001b[0;34m,\u001b[0m \u001b[0;34m*\u001b[0m\u001b[0margs\u001b[0m\u001b[0;34m,\u001b[0m \u001b[0mdata\u001b[0m\u001b[0;34m=\u001b[0m\u001b[0;32mNone\u001b[0m\u001b[0;34m,\u001b[0m \u001b[0;34m**\u001b[0m\u001b[0mkwargs\u001b[0m\u001b[0;34m)\u001b[0m\u001b[0;34m:\u001b[0m\u001b[0;34m\u001b[0m\u001b[0;34m\u001b[0m\u001b[0m\n\u001b[1;32m   1564\u001b[0m         \u001b[0;32mif\u001b[0m \u001b[0mdata\u001b[0m \u001b[0;32mis\u001b[0m \u001b[0;32mNone\u001b[0m\u001b[0;34m:\u001b[0m\u001b[0;34m\u001b[0m\u001b[0;34m\u001b[0m\u001b[0m\n\u001b[0;32m-> 1565\u001b[0;31m             \u001b[0;32mreturn\u001b[0m \u001b[0mfunc\u001b[0m\u001b[0;34m(\u001b[0m\u001b[0max\u001b[0m\u001b[0;34m,\u001b[0m \u001b[0;34m*\u001b[0m\u001b[0mmap\u001b[0m\u001b[0;34m(\u001b[0m\u001b[0msanitize_sequence\u001b[0m\u001b[0;34m,\u001b[0m \u001b[0margs\u001b[0m\u001b[0;34m)\u001b[0m\u001b[0;34m,\u001b[0m \u001b[0;34m**\u001b[0m\u001b[0mkwargs\u001b[0m\u001b[0;34m)\u001b[0m\u001b[0;34m\u001b[0m\u001b[0;34m\u001b[0m\u001b[0m\n\u001b[0m\u001b[1;32m   1566\u001b[0m \u001b[0;34m\u001b[0m\u001b[0m\n\u001b[1;32m   1567\u001b[0m         \u001b[0mbound\u001b[0m \u001b[0;34m=\u001b[0m \u001b[0mnew_sig\u001b[0m\u001b[0;34m.\u001b[0m\u001b[0mbind\u001b[0m\u001b[0;34m(\u001b[0m\u001b[0max\u001b[0m\u001b[0;34m,\u001b[0m \u001b[0;34m*\u001b[0m\u001b[0margs\u001b[0m\u001b[0;34m,\u001b[0m \u001b[0;34m**\u001b[0m\u001b[0mkwargs\u001b[0m\u001b[0;34m)\u001b[0m\u001b[0;34m\u001b[0m\u001b[0;34m\u001b[0m\u001b[0m\n",
      "\u001b[0;32m~/local/anaconda/lib/python3.7/site-packages/matplotlib/cbook/deprecation.py\u001b[0m in \u001b[0;36mwrapper\u001b[0;34m(*args, **kwargs)\u001b[0m\n\u001b[1;32m    356\u001b[0m                 \u001b[0;34mf\"%(removal)s.  If any parameter follows {name!r}, they \"\u001b[0m\u001b[0;34m\u001b[0m\u001b[0;34m\u001b[0m\u001b[0m\n\u001b[1;32m    357\u001b[0m                 f\"should be pass as keyword, not positionally.\")\n\u001b[0;32m--> 358\u001b[0;31m         \u001b[0;32mreturn\u001b[0m \u001b[0mfunc\u001b[0m\u001b[0;34m(\u001b[0m\u001b[0;34m*\u001b[0m\u001b[0margs\u001b[0m\u001b[0;34m,\u001b[0m \u001b[0;34m**\u001b[0m\u001b[0mkwargs\u001b[0m\u001b[0;34m)\u001b[0m\u001b[0;34m\u001b[0m\u001b[0;34m\u001b[0m\u001b[0m\n\u001b[0m\u001b[1;32m    359\u001b[0m \u001b[0;34m\u001b[0m\u001b[0m\n\u001b[1;32m    360\u001b[0m     \u001b[0;32mreturn\u001b[0m \u001b[0mwrapper\u001b[0m\u001b[0;34m\u001b[0m\u001b[0;34m\u001b[0m\u001b[0m\n",
      "\u001b[0;32m~/local/anaconda/lib/python3.7/site-packages/matplotlib/axes/_axes.py\u001b[0m in \u001b[0;36mscatter\u001b[0;34m(self, x, y, s, c, marker, cmap, norm, vmin, vmax, alpha, linewidths, verts, edgecolors, plotnonfinite, **kwargs)\u001b[0m\n\u001b[1;32m   4378\u001b[0m         \u001b[0my\u001b[0m \u001b[0;34m=\u001b[0m \u001b[0mnp\u001b[0m\u001b[0;34m.\u001b[0m\u001b[0mma\u001b[0m\u001b[0;34m.\u001b[0m\u001b[0mravel\u001b[0m\u001b[0;34m(\u001b[0m\u001b[0my\u001b[0m\u001b[0;34m)\u001b[0m\u001b[0;34m\u001b[0m\u001b[0;34m\u001b[0m\u001b[0m\n\u001b[1;32m   4379\u001b[0m         \u001b[0;32mif\u001b[0m \u001b[0mx\u001b[0m\u001b[0;34m.\u001b[0m\u001b[0msize\u001b[0m \u001b[0;34m!=\u001b[0m \u001b[0my\u001b[0m\u001b[0;34m.\u001b[0m\u001b[0msize\u001b[0m\u001b[0;34m:\u001b[0m\u001b[0;34m\u001b[0m\u001b[0;34m\u001b[0m\u001b[0m\n\u001b[0;32m-> 4380\u001b[0;31m             \u001b[0;32mraise\u001b[0m \u001b[0mValueError\u001b[0m\u001b[0;34m(\u001b[0m\u001b[0;34m\"x and y must be the same size\"\u001b[0m\u001b[0;34m)\u001b[0m\u001b[0;34m\u001b[0m\u001b[0;34m\u001b[0m\u001b[0m\n\u001b[0m\u001b[1;32m   4381\u001b[0m \u001b[0;34m\u001b[0m\u001b[0m\n\u001b[1;32m   4382\u001b[0m         \u001b[0;32mif\u001b[0m \u001b[0ms\u001b[0m \u001b[0;32mis\u001b[0m \u001b[0;32mNone\u001b[0m\u001b[0;34m:\u001b[0m\u001b[0;34m\u001b[0m\u001b[0;34m\u001b[0m\u001b[0m\n",
      "\u001b[0;31mValueError\u001b[0m: x and y must be the same size"
     ]
    },
    {
     "data": {
      "image/png": "[encoded data removed]",
      "text/plain": [
       "<Figure size 576x432 with 1 Axes>"
      ]
     },
     "metadata": {},
     "output_type": "display_data"
    }
   ],
   "source": [
    "lg_f_HI = HI_mass - stellar_mass\n",
    "ave_f_HI = np.array([_exp_f_HI(g_r,M_x) for g_r,M_x in zip(mgal_g_r,np.power(10,stellar_mass))])\n",
    "\n",
    "x = ave_f_HI\n",
    "y = lg_f_HI\n",
    "\n",
    "plt.figure(figsize=(8,6))\n",
    "plt.scatter(x,y,c='orange')\n",
    "xmin,xmax = plt.xlim()\n",
    "newx = np.linspace(xmin,xmax,20)\n",
    "plt.plot(newx,newx,'--',c='red',linewidth=3)\n",
    "\n",
    "plt.xlabel(r\"$\\langle lg f_{HI}\\rangle$\")\n",
    "plt.ylabel(r\"$lg f_{HI}$\")\n",
    "plt.xlim(-1,0.45)\n",
    "plt.ylim(-1.5,0.82)\n",
    "plt.show()"
   ]
  },
  {
   "cell_type": "code",
   "execution_count": 141,
   "metadata": {
    "ExecuteTime": {
     "end_time": "2020-06-03T07:44:52.827347Z",
     "start_time": "2020-06-03T07:44:52.817473Z"
    }
   },
   "outputs": [
    {
     "data": {
      "text/plain": [
       "0.8138533973914068"
      ]
     },
     "execution_count": 141,
     "metadata": {},
     "output_type": "execute_result"
    }
   ],
   "source": [
    "y.max()"
   ]
  },
  {
   "cell_type": "code",
   "execution_count": 55,
   "metadata": {
    "ExecuteTime": {
     "end_time": "2020-06-02T04:08:27.202650Z",
     "start_time": "2020-06-02T04:08:26.981281Z"
    }
   },
   "outputs": [
    {
     "data": {
      "image/png": "[encoded data removed]",
      "text/plain": [
       "<Figure size 460.8x403.2 with 1 Axes>"
      ]
     },
     "metadata": {},
     "output_type": "display_data"
    }
   ],
   "source": [
    "mgHI_excess = np.array([_HIexcess(HI,M_x,g_r) \\\n",
    "                        for HI,M_x,g_r in zip(np.power(10,HI_mass),np.power(10,stellar_mass),mgal_g_r)])\n",
    "plt.hist(mgHI_excess)\n",
    "plt.show()"
   ]
  },
  {
   "cell_type": "code",
   "execution_count": 56,
   "metadata": {
    "ExecuteTime": {
     "end_time": "2020-06-02T04:10:48.345538Z",
     "start_time": "2020-06-02T04:10:47.622794Z"
    }
   },
   "outputs": [
    {
     "data": {
      "image/png": "[encoded data removed]",
      "text/plain": [
       "<Figure size 576x576 with 1 Axes>"
      ]
     },
     "metadata": {},
     "output_type": "display_data"
    }
   ],
   "source": [
    "# variables prepared for plotting.\n",
    "x = mgHI_excess  #np.power(10,HI_mass-stellar_mass)\n",
    "y = alm_o_sf\n",
    "x_err = 0  #(np.power(10,HI_mass+HI_mass_err) - np.power(10,HI_mass)) / np.power(10,stellar_mass)\n",
    "y_err = possion_err\n",
    "\n",
    "# plot\n",
    "plt.figure(figsize=(8,8))\n",
    "plt.errorbar(x,y,xerr=x_err,yerr=y_err,fmt='o',color='g',label=\"alfalfa\")#,fmt='o')\n",
    "# x = np.power(10,mgHI_HI_mass-mgHI_stellar_mass)\n",
    "# y = mgHI_alm_o_sf\n",
    "# x_err = np.power(10,mgHI_HI_mass_err-mgHI_stellar_mass)\n",
    "# y_err = mgHI_possion_err\n",
    "# plt.errorbar(x,y,xerr=x_err,yerr=y_err,fmt='o',color='orange',label=\"HI-MaNGA\")#,fmt='o')\n",
    "# plt.xscale('log')\n",
    "plt.yscale('log')\n",
    "# plt.xlim(np.power(10,tmp_xlim))\n",
    "# plt.ylim(np.power(10,tmp_ylim))\n",
    "\n",
    "plt.tick_params(which='both',direction='in')\n",
    "plt.xticks(fontsize=10)\n",
    "plt.yticks(fontsize=10)\n",
    "plt.xlabel(r\"HI excess $\\gamma$\",fontsize=14)\n",
    "plt.ylabel(\"$log_{10}$(ALM/sf spaxels fraction)\",fontsize=14)\n",
    "plt.legend(loc=\"best\")\n",
    "plt.show()"
   ]
  },
  {
   "cell_type": "code",
   "execution_count": 60,
   "metadata": {
    "ExecuteTime": {
     "end_time": "2020-06-02T04:15:03.292882Z",
     "start_time": "2020-06-02T04:15:03.284071Z"
    }
   },
   "outputs": [
    {
     "data": {
      "text/plain": [
       "(157,)"
      ]
     },
     "execution_count": 60,
     "metadata": {},
     "output_type": "execute_result"
    }
   ],
   "source": [
    "y.shape"
   ]
  },
  {
   "cell_type": "code",
   "execution_count": 64,
   "metadata": {
    "ExecuteTime": {
     "end_time": "2020-06-02T04:16:27.047249Z",
     "start_time": "2020-06-02T04:16:24.168752Z"
    }
   },
   "outputs": [
    {
     "data": {
      "image/png": "[encoded data removed]",
      "text/plain": [
       "<Figure size 432x432 with 3 Axes>"
      ]
     },
     "metadata": {},
     "output_type": "display_data"
    }
   ],
   "source": [
    "import seaborn as sns\n",
    "from scipy import stats\n",
    "\n",
    "# Plotting variable\n",
    "x = mgHI_excess  #np.power(10,HI_mass-stellar_mass)\n",
    "y = np.log10(alm_o_sf)\n",
    "# y_err = possion_err/alm_o_sf/np.log(10)\n",
    "# x = np.power(10,HI_mass-sf_stellar_mass)\n",
    "# y = alm_o_sf\n",
    "# y_err = possion_err\n",
    "\n",
    "# Plot!!!\n",
    "# la = (sns.jointplot(x,y,space=0,kind=\"reg\").plot_joint(sns.kdeplot, zorder=0, n_levels=6))\n",
    "# sns.set(style=\"ticks\", color_codes=False)\n",
    "la = (sns.JointGrid(x=x, y=y,space=0).plot_joint(sns.kdeplot, zorder=0, n_levels=6))\n",
    "la= la.plot(sns.regplot,sns.distplot)\n",
    "\n",
    "# la = sns.jointplot(np.log10(x),np.log10(y),space=0,kind=\"reg\", color='g',ci=68)\n",
    "\n",
    "# la = la.plot_joint(sns.kdeplot, zorder=0, n_levels=6)\n",
    "# la.plot_joint(sns.regplot,color='g', ci=68,label='68%')\n",
    "# plt.errorbar(x,y,yerr=y_err,fmt='o')#,fmt='o')\n",
    "# ax = sns.pointplot(x,y,dodge=True, join=False, ci=None)\n",
    "# print(ax.collections)\n",
    "# x_coords = []\n",
    "# y_coords = []\n",
    "# for point_pair in ax.collections:\n",
    "#     for tmp_x, tmp_y in point_pair.get_offsets():\n",
    "#         x_coords.append(tmp_x)\n",
    "#         y_coords.append(tmp_y)\n",
    "# ax.errorbar(x_coords, y_coords, yerr=y_err, fmt=' ', zorder=-1)\n",
    "\n",
    "# label\n",
    "la.set_axis_labels(r\"HI excess $\\gamma$\", '$log_{10}$(ALM/sf spaxels fraction)', fontsize=16)#,fontweight='bold')  \n",
    "# plt.tight_layout()\n",
    "# la.plot(sns.regplot, sns.distplot)\n",
    "# la.plot_joint(plt.scatter,color=\"g\", s=40, edgecolor=\"white\")\n",
    "# la.plot_joint(plt.plot,(0, 500), (0, 500), c=\".2\", ls=\"--\")\n",
    "# la.plot_marginals(sns.distplot, kde=False, color=\"g\")\n",
    "la.annotate(stats.pearsonr)\n",
    "# la.annotate(stats.spearmanr)\n",
    "\n",
    "plt.xticks(fontsize=12)\n",
    "plt.yticks(fontsize=12)\n",
    "# plt.tick_params(axis=\"x\",direction=\"in\",pad=3)\n",
    "# plt.tick_params(axis=\"y\",direction=\"in\",pad=3)\n",
    "plt.tick_params(which='both',direction='in')\n",
    "\n",
    "# plt.legend()\n",
    "# plt.xscale('log')\n",
    "# plt.yscale('log')\n",
    "\n",
    "tmp_xlim = plt.xlim()\n",
    "tmp_ylim = plt.ylim()\n",
    "\n",
    "plt.show()"
   ]
  },
  {
   "cell_type": "code",
   "execution_count": 74,
   "metadata": {
    "ExecuteTime": {
     "end_time": "2020-06-02T04:20:15.229965Z",
     "start_time": "2020-06-02T04:20:12.802262Z"
    }
   },
   "outputs": [
    {
     "data": {
      "text/plain": [
       "<Figure size 576x432 with 0 Axes>"
      ]
     },
     "metadata": {},
     "output_type": "display_data"
    },
    {
     "data": {
      "image/png": "[encoded data removed]",
      "text/plain": [
       "<Figure size 432x432 with 3 Axes>"
      ]
     },
     "metadata": {},
     "output_type": "display_data"
    }
   ],
   "source": [
    "x = mgHI_excess  #np.power(10,HI_mass-stellar_mass)\n",
    "y = np.log10(alm_o_sf)\n",
    "\n",
    "# 散点图\n",
    "plt.figure(figsize=(8,6))\n",
    "# la = sns.jointplot(x,y,space=0,color='g')\n",
    "la = sns.jointplot(x,y,space=0,kind=\"reg\", color='g',ci=68)\n",
    "\n",
    "# 等高线图\n",
    "la = la.plot_joint(sns.kdeplot, zorder=0, n_levels=6,cmap=\"jet\",linewidth=10)\n",
    "\n",
    "# details\n",
    "la.set_axis_labels(r\"HI excess $\\gamma$\", '$log_{10}$(ALM/sf)', fontsize=16)\n",
    "la.annotate(stats.pearsonr)\n",
    "plt.show()"
   ]
  }
 ],
 "metadata": {
  "kernelspec": {
   "display_name": "Python 3",
   "language": "python",
   "name": "python3"
  },
  "language_info": {
   "codemirror_mode": {
    "name": "ipython",
    "version": 3
   },
   "file_extension": ".py",
   "mimetype": "text/x-python",
   "name": "python",
   "nbconvert_exporter": "python",
   "pygments_lexer": "ipython3",
   "version": "3.7.3"
  },
  "toc": {
   "base_numbering": 1,
   "nav_menu": {},
   "number_sections": true,
   "sideBar": true,
   "skip_h1_title": true,
   "title_cell": "Table of Contents",
   "title_sidebar": "Contents",
   "toc_cell": false,
   "toc_position": {},
   "toc_section_display": true,
   "toc_window_display": false
  },
  "varInspector": {
   "cols": {
    "lenName": 16,
    "lenType": 16,
    "lenVar": 40
   },
   "kernels_config": {
    "python": {
     "delete_cmd_postfix": "",
     "delete_cmd_prefix": "del ",
     "library": "var_list.py",
     "varRefreshCmd": "print(var_dic_list())"
    },
    "r": {
     "delete_cmd_postfix": ") ",
     "delete_cmd_prefix": "rm(",
     "library": "var_list.r",
     "varRefreshCmd": "cat(var_dic_list()) "
    }
   },
   "position": {
    "height": "433.183px",
    "left": "880.241px",
    "right": "20px",
    "top": "120.981px",
    "width": "373.484px"
   },
   "types_to_exclude": [
    "module",
    "function",
    "builtin_function_or_method",
    "instance",
    "_Feature"
   ],
   "window_display": false
  }
 },
 "nbformat": 4,
 "nbformat_minor": 4
}
