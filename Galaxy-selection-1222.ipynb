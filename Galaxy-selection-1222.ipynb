{
 "cells": [
  {
   "cell_type": "markdown",
   "metadata": {},
   "source": [
    "### ---\n",
    "#### 最终结果数组\n",
    ">`fra_b_over_a(4675,3)【已按照manga与nsa_v101匹配，结果为4000+星系，使用的是tmp_num_ij数组(nsa_vs_manga)】`   \n",
    ">>0: 星系的fraDeV   \n",
    ">>1: 星系的b/a椭圆度   \n",
    ">>2: 星系筛选计数【=5即为挑选出的星系】  \n",
    "    \n",
    ">`num_sel_gal为最终筛选出的星系在原manga数组中的位置`\n",
    "  "
   ]
  },
  {
   "cell_type": "code",
   "execution_count": 1,
   "metadata": {},
   "outputs": [
    {
     "name": "stdout",
     "output_type": "stream",
     "text": [
      "INFO: No release version set. Setting default to DR15\n"
     ]
    },
    {
     "name": "stderr",
     "output_type": "stream",
     "text": [
      "WARNING: Could not memory map array with mode='readonly', falling back to mode='denywrite', which means that the array will be read-only [astropy.io.fits.file]\n"
     ]
    },
    {
     "name": "stdout",
     "output_type": "stream",
     "text": [
      "筛选fracDeV，得到late-type星系个数：  2238\n",
      "筛选fracDeV+初步b/a，得到late-type+不是很倾斜的星系个数：  2103\n",
      "不考虑nair catalog时： \n",
      "已从 manga 4675 个星系中找出  1400  个星系 \n",
      "距论文中的 1222 个星系还差   178 个\n",
      "\n",
      "替换nair_ba之前，b/a平均值 =  0.6989220308384543\n",
      "替换nair_ba之后，b/a平均值 =  0.6989220308384543\n",
      "\n",
      "考虑nair catalog时： \n",
      "已从 manga 4675 个星系中找出  1225  个星系 \n",
      "距论文中的 1222 个星系还差   3 个\n",
      "\n",
      "nair与manga重叠匹配到  562  个星系\n"
     ]
    }
   ],
   "source": [
    "import numpy as np\n",
    "import matplotlib as mpl\n",
    "import matplotlib.pyplot as plt\n",
    "from astropy.io import fits\n",
    "import copy\n",
    "from os.path import join\n",
    "import math\n",
    "import numpy as np\n",
    "from matplotlib.colors import ListedColormap\n",
    "from marvin.tools import Maps\n",
    "import marvin.utils.plot.map as mapplot\n",
    "\n",
    "new_ra_dec = np.loadtxt('/root/cosmos/data/nair_ra_dec_ba.txt')\n",
    "\n",
    "# 读取nsa与manga的匹配数组\n",
    "nsa_vs_manga = np.loadtxt(\"/root/.jupyter/cosmos/code_git/Metallicity-deviation/tmp_storage/nsa101_vs_manga.dat\")\n",
    "\n",
    "#read in the vac file\n",
    "vac0 = fits.open('/root/cosmos/galaxies-mzr/data/manga_firefly-v2_4_3-STELLARPOP.fits') \n",
    "basic_manga = copy.copy(vac0[1].data)\n",
    "\n",
    "# load the data of NASA-Sloan catalog v1 0 1\n",
    "nsa101 = fits.open('/root/cosmos/data/nsa_v1_0_1.fits') \n",
    "basic_nsa = nsa101[1].data\n",
    "nsa_ba = copy.copy(basic_nsa['PETRO_BA90'])\n",
    "nsa_mass1 = copy.copy(basic_nsa['ELPETRO_MASS'])    #Stellar mass from K-correction fit (use with caution) for elliptical Petrosian fluxes\n",
    "nsa_mass2 = copy.copy(basic_nsa['SERSIC_MASS'])    #Stellar mass from K-correction fit (use with caution) for Sersic fluxes\n",
    "\n",
    "# http://skyserver.sdss.org/dr15/en/tools/search/IQS.aspx\n",
    "# 衡量星系的年龄大小的量 fracDeV<0.7\n",
    "fracDeV = np.loadtxt('lalala_manga_fradeV.txt')\n",
    "\n",
    "# https://www.sdss.org/dr12/algorithms/classify/#photo_adaptive\n",
    "# http://skyserver.sdss.org/dr15/en/help/docs/QS_UserGuide.aspx#SAS\n",
    "# 筛选倾斜程度，椭圆的长轴短轴为a b\n",
    "# 计算出每个星系的a b\n",
    "# b/a>=0.3\n",
    "#q_u = np.loadtxt('manga_Q_U_4675.txt')\n",
    "#b_over_a = 2/((q_u[:,0]**2+q_u[:,1]**2)**0.5+1)-1\n",
    "\n",
    "\n",
    "#########################################\n",
    "# 去重\n",
    "tmp_num_ij = nsa_vs_manga    # 临时存储一下，防止改动\n",
    "#tmp_num_ij = tmp_num_ij[np.where((old_same_gal[:,0]==1) & (~np.isnan(nsa_ba)) & (tmp_num_ij[:,0]!=-999))]    # 筛选出未重复的星系编号 & 剔除无效数据nan\n",
    "tmp_num_ij = tmp_num_ij[np.where(~np.isnan(nsa_ba))]    # 剔除nsa_b/a无效数据nan\n",
    "tmp_num_ij = tmp_num_ij[np.where(tmp_num_ij[:,0]!=-999)]    # 将匹配到的有效位置提出，-999为初始值\n",
    "a,last_num = np.unique(tmp_num_ij[:,0],return_index=True)    # 第一列nsa数据去重\n",
    "tmp_num_ij = tmp_num_ij[last_num]\n",
    "#tmp_num_ij = tmp_num_ij[np.where(~np.isnan(nsa_ba))]    # \n",
    "#a,num_last_same_gal = np.unique(last_same_gal[np.where(old_same_gal[:,0]==1),0],return_index=True)    # 第一列sdss数据去重\n",
    "a,last_num = np.unique(tmp_num_ij[:,1],return_index=True)    # 第二列manga数据去重\n",
    "tmp_num_ij = tmp_num_ij[last_num]\n",
    "tmp_num_ij = tmp_num_ij.astype(np.int64)    #最后得到了最终版的nsa_vs_manga数组位置\n",
    "######################################\n",
    "\n",
    "b_over_a = nsa_ba[tmp_num_ij[:,0]]    # 根据数组位置提出nsa_b/a\n",
    "#nsa_mass = nsa_mass1[tmp_num_ij[:,0]]\n",
    "\n",
    "# 星系质量筛选\n",
    "# stellar mass > 10^9 太阳质量\n",
    "#glo_mass_id = basic_manga['PHOTOMETRIC_MASS'] > 10e8\n",
    "manga_mass = basic_manga['PHOTOMETRIC_MASS']\n",
    "manga_mass = manga_mass[tmp_num_ij[:,1]]    # 匹配数组维度\n",
    "#glo_mass_id = glo_mass_id[tmp_num_ij[:,1]]    # 匹配数组维度\n",
    "glo_mass_id = np.where(manga_mass>1e9)\n",
    "\n",
    "# 星系star-forming区域筛选\n",
    "# sfr spaxels >= 20\n",
    "#plfu_sfr = np.loadtxt(\"/root/.jupyter/cosmos/code_git/Metallicity-deviation/plfu_sfr_spaxel.dat\")\n",
    "plfu_sfr = np.loadtxt(\"/root/.jupyter/cosmos/code_git/Metallicity-deviation/tmp_storage/plate_ifu_spaxel_v2.0.dat\")\n",
    "plfu_sfr = plfu_sfr[tmp_num_ij[:,1]]    # 匹配数组维度\n",
    "sfr_id = np.where(plfu_sfr[:,2]>=20)\n",
    "\n",
    "fra_b_over_a = np.zeros([4675,3])\n",
    "fra_b_over_a[:,0] = fracDeV\n",
    "fra_b_over_a = fra_b_over_a[tmp_num_ij[:,1]]\n",
    "fra_b_over_a[:,1] = b_over_a\n",
    "manga_id = tmp_num_ij[:,1]\n",
    "\n",
    "# 开始筛选，在第三列进行判断计数\n",
    "fra_b_over_a[np.where(fra_b_over_a[:,0]<0.7),2] += 1    # fracDeV筛选\n",
    "sel_galaxy = np.where(fra_b_over_a[:,2]==1)\n",
    "print(\"筛选fracDeV，得到late-type星系个数： \",np.shape(sel_galaxy)[1])\n",
    "\n",
    "fra_b_over_a[np.where(fra_b_over_a[:,1]>=0.3),2] += 1    # b/a筛选\n",
    "sel_galaxy = np.where(fra_b_over_a[:,2]==2)\n",
    "print(\"筛选fracDeV+初步b/a，得到late-type+不是很倾斜的星系个数： \",np.shape(sel_galaxy)[1])\n",
    "\n",
    "fra_b_over_a[np.where(glo_mass_id),2] += 1    # 星系总质量筛选\n",
    "fra_b_over_a[sfr_id,2] += 1    # 星系形成区域筛选\n",
    "\n",
    "sel_galaxy = np.where(fra_b_over_a[:,2]==4)    # 四次筛选结果\n",
    "\n",
    "print(\"不考虑nair catalog时：\",\"\\n已从 manga 4675 个星系中找出 \",np.shape(sel_galaxy)[1],\" 个星系\",\"\\n距论文中的 1222 个星系还差  \",np.shape(sel_galaxy)[1]-1222,\"个\")\n",
    "print(\"\\n替换nair_ba之前，b/a平均值 = \",np.mean(fra_b_over_a[:,1]))\n",
    "\n",
    "\n",
    "#########################################################\n",
    "# 第五次筛选：manga与nair匹配的星系中，nair_b/a < manga_b/a\n",
    "\n",
    "# 读取manga vs nair 匹配数组\n",
    "last_same_gal = np.loadtxt(\"/root/.jupyter/cosmos/code_git/Metallicity-deviation/tmp_storage/manga_vs_nair.dat\")\n",
    "# 去重\n",
    "tmp_num_ij = last_same_gal    # 临时存储一下，防止改动\n",
    "tmp_num_ij = tmp_num_ij[np.where(tmp_num_ij[:,0]!=-999)]    # 筛选出未重复的星系编号\n",
    "#tmp_num_ij = tmp_num_ij[np.where(old_same_gal[:,0]==1)]    # 筛选出未重复的星系编号\n",
    "#a,num_last_same_gal = np.unique(last_same_gal[np.where(old_same_gal[:,0]==1),0],return_index=True)    # 第一列sdss数据去重\n",
    "a,last_num = np.unique(tmp_num_ij[:,1],return_index=True)    # 第二列nair数据去重，last_num为最后编号\n",
    "tmp_num_ij = tmp_num_ij[last_num]\n",
    "tmp_num_ij = tmp_num_ij.astype(np.int64)\n",
    "\n",
    "# manga数组编号为tmp_num_ij[:,0]\n",
    "# nair catalog 的b/a为nair_ba\n",
    "nair_ba = new_ra_dec[tmp_num_ij[:,1],2]    #nair catalog 中的b/a\n",
    "# 剔除999999坏数据\n",
    "tmp_num_ij = tmp_num_ij[np.where(nair_ba!=999999)]\n",
    "manga_vs_nair_id = tmp_num_ij    # 最终版的manga_vs_nair\n",
    "nair_ba = nair_ba[np.where(nair_ba!=999999)]    # nair catalog 的 b/a\n",
    "\n",
    "\n",
    "\n",
    "\n",
    "##################################################################################\n",
    "# nair_b/a中较小的值\n",
    "manga_vs_nair_id = manga_vs_nair_id[np.where(nair_ba<=0.71)]    # 数组位置进行同步筛选\n",
    "nair_ba = nair_ba[np.where(nair_ba<=0.71)]\n",
    "\n",
    "manga_ba = fra_b_over_a[:,1]    # 原始b/a，数据来源于nsa_v101\n",
    "#manga_id前面已赋值4561个星系，即所在的数组位置信息\n",
    "k=0\n",
    "# for 循环将manga_ba的值替换成nair中b/a较小的值\n",
    "for i in range(0,manga_ba.size):    # 循环nsa\n",
    "    for j in range(0,nair_ba.size):    # 循环nair\n",
    "        if (manga_id[i]==manga_vs_nair_id[j,0])&(manga_ba[i] > nair_ba[j]):\n",
    "        #if (manga_id[i]==manga_vs_nair_id[j,0]):\n",
    "            #manga_ba[i] = nair_ba[j]\n",
    "            k+=1\n",
    "            fra_b_over_a[i,2]+=66\n",
    "        #if manga_id[i]==manga_vs_nair_id[j,1]:\n",
    "            #fra_b_over_a[i,2]+=1\n",
    "\n",
    "fra_b_over_a[:,1] = manga_ba    # 替换完成\n",
    "fra_b_over_a[np.where(fra_b_over_a[:,1]>=0.3),2] += 1    # 加入nair的b/a之后的筛选\n",
    "sel_galaxy = np.where(fra_b_over_a[:,2]==5)    # 五次筛选结果\n",
    "num_sel_gal = manga_id[sel_galaxy]    # 筛选出的星系的manga数组位置\n",
    "########################################################################################\n",
    "##################################################################################\n",
    "# # nair_b/a中较小的值\n",
    "# manga_vs_nair_id = manga_vs_nair_id[np.where(nair_ba<=0.2)]    # 数组位置进行同步筛选\n",
    "# nair_ba = nair_ba[np.where(nair_ba<=0.2)]\n",
    "\n",
    "# manga_ba = fra_b_over_a[:,1]    # 原始b/a，数据来源于nsa_v101\n",
    "# #manga_id前面已赋值4561个星系，即所在的数组位置信息\n",
    "# k=0\n",
    "# # for 循环将manga_ba的值替换成nair中b/a较小的值\n",
    "# for i in range(0,manga_ba.size):    # 循环nsa\n",
    "#     for j in range(0,nair_ba.size):    # 循环nair\n",
    "#         if (manga_id[i]==manga_vs_nair_id[j,0])and(manga_ba[i] > nair_ba[j]):\n",
    "#         #if (manga_id[i]==manga_vs_nair_id[j,0]):\n",
    "#             #manga_ba[i] = 0\n",
    "#             k+=1\n",
    "#             manga_ba[i] = nair_ba[j]\n",
    "#         #if manga_id[i]==manga_vs_nair_id[j,1]:\n",
    "#             #fra_b_over_a[i,2]+=1\n",
    "\n",
    "# fra_b_over_a[:,1] = manga_ba    # 替换完成\n",
    "# fra_b_over_a[np.where(fra_b_over_a[:,1]>=0.3),2] += 1    # 加入nair的b/a之后的筛选\n",
    "# sel_galaxy = np.where(fra_b_over_a[:,2]==5)    # 五次筛选结果\n",
    "# ########################################################################################\n",
    "\n",
    "\n",
    "\n",
    "\n",
    "\n",
    "\n",
    "\n",
    "\n",
    "\n",
    "\n",
    "\n",
    "# ###################################################################\n",
    "# # 第六次筛选：nair_ba>=0.3，匹配星系在nair中小于某一值\n",
    "# # 先尝试0.3，论文中的条件为：中位数0.3，平均数0.31【对于整体14000样本而言】\n",
    "# # 通过循环，逐渐尝试nair_ba<x, 一直到某个x满足上述条件\n",
    "# # 之后再与manga进行匹配，从manga中剔除匹配到的倾斜较大的星系\n",
    "\n",
    "\n",
    "# # 读取manga vs nair 匹配数组\n",
    "# last_same_gal = np.loadtxt(\"/root/.jupyter/cosmos/code_git/Metallicity-deviation/tmp_storage/manga_vs_nair.dat\")\n",
    "# # 去重\n",
    "# tmp_num_ij = last_same_gal    # 临时存储一下，防止改动\n",
    "# tmp_num_ij = tmp_num_ij[np.where(old_same_gal[:,0]==1)]    # 筛选出未重复的星系编号\n",
    "# #a,num_last_same_gal = np.unique(last_same_gal[np.where(old_same_gal[:,0]==1),0],return_index=True)    # 第一列sdss数据去重\n",
    "# a,last_num = np.unique(tmp_num_ij[:,1],return_index=True)    # 第二列nair数据去重，last_num为最后编号\n",
    "# tmp_num_ij = tmp_num_ij[last_num]\n",
    "# tmp_num_ij = tmp_num_ij.astype(np.int64)\n",
    "# # manga数组编号为tmp_num_ij[:,0]\n",
    "# # nair catalog 的b/a为nair_ba\n",
    "# nair_ba = new_ra_dec[tmp_num_ij[:,1],2]    #nair catalog 中的b/a\n",
    "# # 剔除999999坏数据\n",
    "# tmp_num_ij = tmp_num_ij[np.where(nair_ba!=999999)]\n",
    "# nair_manga_id = tmp_num_ij    # 最终版的manga_vs_nair\n",
    "# nair_ba = nair_ba[np.where(nair_ba!=999999)]    # nair catalog 的 b/a\n",
    "\n",
    "# # nair_b/a中较小的值\n",
    "# nair_ba = nair_ba[np.where(nair_ba<1)]\n",
    "# nair_manga_id = nair_manga_id[np.where(nair_ba<1)]    # 数组位置进行同步筛选\n",
    "\n",
    "# manga_ba = fra_b_over_a[:,1]    # 原始b/a，数据来源于nsa_v101\n",
    "# #manga_id前面已赋值4561个星系，即所在的数组位置信息\n",
    "\n",
    "# # for 循环将manga_ba的值替换成nair中b/a较小的值\n",
    "# for i in range(0,manga_ba.size):    # 循环nsa\n",
    "#     for j in range(0,nair_ba.size):    # 循环nair\n",
    "#         if (manga_id[i]==nair_manga_id[j,1])&(manga_ba[i] > nair_ba[j]):\n",
    "#             manga_ba[i] = nair_ba[j]\n",
    "#             #fra_b_over_a[i,2]+=1\n",
    "            \n",
    "\n",
    "            \n",
    "# fra_b_over_a[:,1] = manga_ba    # 替换完成\n",
    "# fra_b_over_a[np.where(fra_b_over_a[:,1]>=0.3),2] += 1    # 加入nair的b/a之后的筛选\n",
    "# sel_galaxy = np.where(fra_b_over_a[:,2]==6)    # 六次筛选结果\n",
    "\n",
    "\n",
    "\n",
    "# # 第七次筛选：通过限定匹配星系在nair中大于某一值\n",
    "# # nair catalog 的b/a为nair_ba\n",
    "# nair_ba = new_ra_dec[tmp_num_ij[:,1],2]    #nair catalog 中的b/a\n",
    "# # 剔除999999坏数据\n",
    "# tmp_num_ij = tmp_num_ij[np.where(nair_ba!=999999)]\n",
    "# nair_manga_id = tmp_num_ij    # 最终版的manga_vs_nair\n",
    "# nair_ba = nair_ba[np.where(nair_ba!=999999)]    # nair catalog 的 b/a\n",
    "\n",
    "# # nair_b/a中较大的值\n",
    "# nair_ba = nair_ba[np.where(nair_ba>0.8)]\n",
    "# nair_manga_id = nair_manga_id[np.where(nair_ba>0.8)]    # 数组位置进行同步筛选\n",
    "\n",
    "# manga_ba = fra_b_over_a[:,1]    # 原始b/a，数据来源于nsa_v101\n",
    "# #manga_id前面已赋值4561个星系，即所在的数组位置信息\n",
    "\n",
    "# # for 循环将manga_ba的值替换成nair中b/a较小的值\n",
    "# for i in range(0,manga_ba.size):    # 循环nsa\n",
    "#     for j in range(0,nair_ba.size):    # 循环nair\n",
    "#         if manga_id[i]==nair_manga_id[j,1]:\n",
    "#             manga_ba[i] = nair_ba[j]\n",
    "#             #fra_b_over_a[i,2]+=1\n",
    "            \n",
    "\n",
    "            \n",
    "# fra_b_over_a[:,1] = manga_ba    # 替换完成\n",
    "# fra_b_over_a[np.where(fra_b_over_a[:,1]>=0.3),2] += 1    # 加入nair的b/a之后的筛选\n",
    "# sel_galaxy = np.where(fra_b_over_a[:,2]==6)    # 七次次筛选结果\n",
    "\n",
    "print(\"替换nair_ba之后，b/a平均值 = \",np.mean(fra_b_over_a[:,1]))\n",
    "print(\"\\n考虑nair catalog时：\",\"\\n已从 manga 4675 个星系中找出 \",np.shape(sel_galaxy)[1],\" 个星系\",\"\\n距论文中的 1222 个星系还差  \",np.shape(sel_galaxy)[1]-1222,\"个\")\n",
    "\n",
    "print(\"\\nnair与manga重叠匹配到 \",k,\" 个星系\")"
   ]
  },
  {
   "cell_type": "code",
   "execution_count": 5,
   "metadata": {},
   "outputs": [
    {
     "data": {
      "text/plain": [
       "0"
      ]
     },
     "execution_count": 5,
     "metadata": {},
     "output_type": "execute_result"
    }
   ],
   "source": [
    "np.min(num_sel_gal)"
   ]
  },
  {
   "cell_type": "code",
   "execution_count": 10,
   "metadata": {},
   "outputs": [
    {
     "name": "stdout",
     "output_type": "stream",
     "text": [
      "(1, 2313)\n",
      "4560\n",
      "0\n"
     ]
    }
   ],
   "source": [
    "# 替换nair_ba之前，b/a平均值 =  0.6989220308384543\n",
    "# 替换nair_ba之后，b/a平均值 =  0.6822121999611119\n",
    "\n",
    "# 考虑nair catalog时： \n",
    "# 已从 manga 4675 个星系中找出  1477  个星系 \n",
    "# 距论文中的 1222 个星系还差   255 个\n",
    "\n",
    "# nair与manga重叠匹配到  1096  个星系\n",
    "\n",
    "\n",
    "a = sfr_id\n",
    "print(np.shape(a))\n",
    "print(np.max(a))\n",
    "print(np.min(a))"
   ]
  },
  {
   "cell_type": "code",
   "execution_count": 19,
   "metadata": {},
   "outputs": [
    {
     "name": "stdout",
     "output_type": "stream",
     "text": [
      "before:  (1, 2007)\n",
      "after:  (1, 2006)\n",
      "before:  2302.61235675137\n",
      "after:  2303.073778664008\n"
     ]
    }
   ],
   "source": [
    "plfu_sfr0 = np.loadtxt(\"/root/.jupyter/cosmos/code_git/Metallicity-deviation/plfu_sfr_spaxel.dat\")\n",
    "plfu_sfr1 = np.loadtxt(\"/root/.jupyter/cosmos/code_git/Metallicity-deviation/tmp_storage/plate_ifu_spaxel.dat\")\n",
    "\n",
    "#plfu_sfr = plfu_sfr[tmp_num_ij[:,1]]    # 匹配数组维度\n",
    "sfr_id0 = np.where(plfu_sfr0[:,2]>=100)\n",
    "sfr_id1 = np.where(plfu_sfr1[:,2]>=100)\n",
    "\n",
    "print(\"before: \",np.shape(sfr_id0))\n",
    "print(\"after: \",np.shape(sfr_id1))\n",
    "\n",
    "print(\"before: \",np.mean(sfr_id0))\n",
    "print(\"after: \",np.mean(sfr_id1))"
   ]
  },
  {
   "cell_type": "code",
   "execution_count": 31,
   "metadata": {},
   "outputs": [
    {
     "name": "stdout",
     "output_type": "stream",
     "text": [
      "(4561, 2)\n",
      "22286\n",
      "639152\n",
      "0\n",
      "4674\n"
     ]
    }
   ],
   "source": [
    "print(tmp_num_ij.shape)\n",
    "print(np.min(tmp_num_ij[:,0]))\n",
    "print(np.max(tmp_num_ij[:,0]))\n",
    "print(np.min(tmp_num_ij[:,1]))\n",
    "print(np.max(tmp_num_ij[:,1]))"
   ]
  },
  {
   "cell_type": "code",
   "execution_count": 80,
   "metadata": {},
   "outputs": [
    {
     "name": "stdout",
     "output_type": "stream",
     "text": [
      "30837477000.0\n",
      "(4561,)\n",
      "\n",
      " 30837770000.0\n",
      "(4561,)\n"
     ]
    },
    {
     "data": {
      "image/png": "[encoded data removed]",
      "text/plain": [
       "<Figure size 504x504 with 1 Axes>"
      ]
     },
     "metadata": {
      "needs_background": "light"
     },
     "output_type": "display_data"
    },
    {
     "data": {
      "image/png": "[encoded data removed]",
      "text/plain": [
       "<Figure size 504x504 with 1 Axes>"
      ]
     },
     "metadata": {
      "needs_background": "light"
     },
     "output_type": "display_data"
    },
    {
     "data": {
      "image/png": "[encoded data removed]",
      "text/plain": [
       "<Figure size 504x504 with 1 Axes>"
      ]
     },
     "metadata": {
      "needs_background": "light"
     },
     "output_type": "display_data"
    }
   ],
   "source": [
    "manga_mass = basic_manga['PHOTOMETRIC_MASS']\n",
    "manga_mass = manga_mass[tmp_num_ij[:,1]]    # 匹配数组维度\n",
    "\n",
    "plt.figure(figsize=(7,7))\n",
    "#hist, xbins, cax = plt.hist(manga_mass,bins=50)\n",
    "plt.hist(manga_mass,bins=50);\n",
    "plt.axvline(np.mean(manga_mass),color='r',linestyle='-.');\n",
    "\n",
    "nsa_mass1 = copy.copy(basic_nsa['ELPETRO_MASS'])    #Stellar mass from K-correction fit (use with caution) for elliptical Petrosian fluxes\n",
    "nsa_mass2 = copy.copy(basic_nsa['SERSIC_MASS'])    #Stellar mass from K-correction fit (use with caution) for Sersic fluxes\n",
    "nsa_mass1 = nsa_mass1[tmp_num_ij[:,0]]\n",
    "nsa_mass2 = nsa_mass2[tmp_num_ij[:,0]]  \n",
    "\n",
    "plt.figure(figsize=(7,7))\n",
    "plt.hist(nsa_mass1,bins=50,alpha=0.8);\n",
    "plt.axvline(np.mean(nsa_mass1),color='r',linestyle='-.');\n",
    "# plt.hist(nair_ba,bins=delta_bins);\n",
    "# plt.hist(old_ba,bins=delta_bins,alpha=0.8);\n",
    "\n",
    "plt.figure(figsize=(7,7))\n",
    "plt.hist(nsa_mass2,bins=50,alpha=0.8);\n",
    "plt.axvline(np.mean(nsa_mass2),color='r',linestyle='-.');\n",
    "\n",
    "print(np.mean(manga_mass))\n",
    "print(np.shape(manga_mass))\n",
    "\n",
    "print(\"\\n\",np.mean(nsa_mass1))\n",
    "print(np.shape(nsa_mass1))"
   ]
  },
  {
   "cell_type": "code",
   "execution_count": 82,
   "metadata": {},
   "outputs": [
    {
     "data": {
      "text/plain": [
       "(0, 200000000000.0)"
      ]
     },
     "execution_count": 82,
     "metadata": {},
     "output_type": "execute_result"
    },
    {
     "data": {
      "image/png": "[encoded data removed]",
      "text/plain": [
       "<Figure size 504x504 with 1 Axes>"
      ]
     },
     "metadata": {
      "needs_background": "light"
     },
     "output_type": "display_data"
    }
   ],
   "source": [
    "plt.figure(figsize=(7,7))\n",
    "xx=np.linspace(0,2e11,10)\n",
    "plt.plot(xx,xx,color = 'r')\n",
    "plt.hist2d(manga_mass,nsa_mass1,bins=(50,50));\n",
    "plt.xlabel(\"manga_mass\",fontsize = 18)\n",
    "plt.ylabel(\"nsa_mass1\",fontsize = 18)\n",
    "plt.title(\"nsa_mass1 vs. manga_mass\",fontsize = 18)\n",
    "plt.xlim(0, 2e11)\n",
    "plt.ylim(0, 2e11)"
   ]
  },
  {
   "cell_type": "code",
   "execution_count": 15,
   "metadata": {},
   "outputs": [
    {
     "name": "stderr",
     "output_type": "stream",
     "text": [
      "/root/anaconda3/lib/python3.7/site-packages/ipykernel_launcher.py:19: ResourceWarning: unclosed file <_io.FileIO name='/root/cosmos/galaxies-mzr/data/manga_firefly-v2_4_3-STELLARPOP.fits' mode='rb' closefd=True>\n",
      "/root/anaconda3/lib/python3.7/site-packages/ipykernel_launcher.py:23: ResourceWarning: unclosed file <_io.FileIO name='/root/cosmos/data/nsa_v1_0_1.fits' mode='rb' closefd=True>\n"
     ]
    }
   ],
   "source": [
    "import numpy as np\n",
    "import matplotlib as mpl\n",
    "import matplotlib.pyplot as plt\n",
    "from astropy.io import fits\n",
    "import copy\n",
    "from os.path import join\n",
    "import math\n",
    "import numpy as np\n",
    "from matplotlib.colors import ListedColormap\n",
    "from marvin.tools import Maps\n",
    "import marvin.utils.plot.map as mapplot\n",
    "\n",
    "new_ra_dec = np.loadtxt('/root/cosmos/data/nair_ra_dec_ba.txt')\n",
    "\n",
    "# 读取nsa与manga的匹配数组\n",
    "nsa_vs_manga = np.loadtxt(\"/root/.jupyter/cosmos/code_git/Metallicity-deviation/tmp_storage/nsa101_vs_manga.dat\")\n",
    "\n",
    "#read in the vac file\n",
    "vac0 = fits.open('/root/cosmos/galaxies-mzr/data/manga_firefly-v2_4_3-STELLARPOP.fits') \n",
    "basic_manga = copy.copy(vac0[1].data)\n",
    "\n",
    "# load the data of NASA-Sloan catalog v1 0 1\n",
    "nsa101 = fits.open('/root/cosmos/data/nsa_v1_0_1.fits') \n",
    "basic_nsa = nsa101[1].data\n",
    "nsa_ba = copy.copy(basic_nsa['PETRO_BA90'])\n",
    "nsa_mass1 = copy.copy(basic_nsa['ELPETRO_MASS'])    #Stellar mass from K-correction fit (use with caution) for elliptical Petrosian fluxes\n",
    "nsa_mass2 = copy.copy(basic_nsa['SERSIC_MASS'])    #Stellar mass from K-correction fit (use with caution) for Sersic fluxes\n",
    "\n",
    "# http://skyserver.sdss.org/dr15/en/tools/search/IQS.aspx\n",
    "# 衡量星系的年龄大小的量 fracDeV<0.7\n",
    "fracDeV = np.loadtxt('lalala_manga_fradeV.txt')\n",
    "\n",
    "# https://www.sdss.org/dr12/algorithms/classify/#photo_adaptive\n",
    "# http://skyserver.sdss.org/dr15/en/help/docs/QS_UserGuide.aspx#SAS\n",
    "# 筛选倾斜程度，椭圆的长轴短轴为a b\n",
    "# 计算出每个星系的a b\n",
    "# b/a>=0.3\n",
    "#q_u = np.loadtxt('manga_Q_U_4675.txt')\n",
    "#b_over_a = 2/((q_u[:,0]**2+q_u[:,1]**2)**0.5+1)-1\n",
    "\n",
    "\n",
    "#########################################\n",
    "# 去重\n",
    "tmp_num_ij = nsa_vs_manga    # 临时存储一下，防止改动\n",
    "#tmp_num_ij = tmp_num_ij[np.where((old_same_gal[:,0]==1) & (~np.isnan(nsa_ba)) & (tmp_num_ij[:,0]!=-999))]    # 筛选出未重复的星系编号 & 剔除无效数据nan\n",
    "tmp_num_ij = tmp_num_ij[np.where(~np.isnan(nsa_ba))]    # 剔除nsa_b/a无效数据nan\n",
    "tmp_num_ij = tmp_num_ij[np.where(tmp_num_ij[:,0]!=-999)]    # 将匹配到的有效位置提出，-999为初始值\n",
    "a,last_num = np.unique(tmp_num_ij[:,0],return_index=True)    # 第一列nsa数据去重\n",
    "tmp_num_ij = tmp_num_ij[last_num]\n",
    "#tmp_num_ij = tmp_num_ij[np.where(~np.isnan(nsa_ba))]    # \n",
    "#a,num_last_same_gal = np.unique(last_same_gal[np.where(old_same_gal[:,0]==1),0],return_index=True)    # 第一列sdss数据去重\n",
    "a,last_num = np.unique(tmp_num_ij[:,1],return_index=True)    # 第二列manga数据去重\n",
    "tmp_num_ij = tmp_num_ij[last_num]\n",
    "tmp_num_ij = tmp_num_ij.astype(np.int64)    #最后得到了最终版的nsa_vs_manga数组位置\n",
    "######################################\n",
    "nsa_vs_manga = tmp_num_ij\n",
    "\n",
    "\n",
    "\n",
    "manga_vs_nair = np.loadtxt(\"/root/.jupyter/cosmos/code_git/Metallicity-deviation/tmp_storage/manga_vs_nair.dat\")\n",
    "manga_vs_nair = manga_vs_nair.astype(np.int64) \n",
    "\n",
    "\n",
    "# 去重\n",
    "manga_vs_nair = manga_vs_nair[np.where(manga_vs_nair[:,0]!=-999)]\n",
    "a,last_num = np.unique(manga_vs_nair[:,1],return_index=True)    # 第二列nair数据去重\n",
    "manga_vs_nair = manga_vs_nair[last_num]\n",
    "nair_ra_dec_ba = np.loadtxt('/root/cosmos/data/nair_ra_dec_ba.txt')\n",
    "\n",
    "plt_nsa_nair = np.zeros([nsa_vs_manga[:,0].size,2])-999\n",
    "for i in range(0,nsa_vs_manga[:,0].size):    \n",
    "    for j in range(0,manga_vs_nair[:,0].size):    \n",
    "        if (nsa_vs_manga[i,1]==manga_vs_nair[j,0])and(nair_ra_dec_ba[manga_vs_nair[j,1],2]<=1):\n",
    "            plt_nsa_nair[i,0] = nsa_vs_manga[i,0]\n",
    "            plt_nsa_nair[i,1] = manga_vs_nair[j,1]"
   ]
  },
  {
   "cell_type": "code",
   "execution_count": 16,
   "metadata": {},
   "outputs": [
    {
     "name": "stdout",
     "output_type": "stream",
     "text": [
      "manga和nair匹配到  1096  个星系\n"
     ]
    },
    {
     "data": {
      "text/plain": [
       "(0, 1)"
      ]
     },
     "execution_count": 16,
     "metadata": {},
     "output_type": "execute_result"
    },
    {
     "data": {
      "image/png": "[encoded data removed]",
      "text/plain": [
       "<Figure size 504x504 with 1 Axes>"
      ]
     },
     "metadata": {
      "needs_background": "light"
     },
     "output_type": "display_data"
    }
   ],
   "source": [
    "plt_nsa_nair = plt_nsa_nair[np.where(plt_nsa_nair[:,0]!=-999)]    # 去除无效数据\n",
    "plt_nsa_nair = plt_nsa_nair.astype(np.int64)  \n",
    "\n",
    "\n",
    "\n",
    "\n",
    "\n",
    "\n",
    "manga_ba = nsa_ba[plt_nsa_nair[:,0]]\n",
    "nair_ba = nair_ra_dec_ba[plt_nsa_nair[:,1],2]\n",
    "print(\"manga和nair匹配到 \",manga_ba.size,\" 个星系\")\n",
    "\n",
    "plt.figure(figsize=(7,7))\n",
    "xx=np.linspace(0,1,10)\n",
    "plt.plot(xx,xx,color = 'r')\n",
    "plt.hist2d(manga_ba,nair_ba,bins=(50,50));\n",
    "plt.xlabel(\"manga_ba\",fontsize = 18)\n",
    "plt.ylabel(\"nair_ba\",fontsize = 18)\n",
    "plt.title(\"nair_ba vs. manga_ba\",fontsize = 18)\n",
    "plt.xlim(0, 1)\n",
    "plt.ylim(0, 1)"
   ]
  },
  {
   "cell_type": "code",
   "execution_count": 20,
   "metadata": {},
   "outputs": [
    {
     "name": "stdout",
     "output_type": "stream",
     "text": [
      "0.7196693\n",
      "0.650131386861314\n"
     ]
    }
   ],
   "source": [
    "print(np.mean(manga_ba))\n",
    "print(np.mean(nair_ba))"
   ]
  },
  {
   "cell_type": "code",
   "execution_count": 5,
   "metadata": {},
   "outputs": [
    {
     "data": {
      "text/plain": [
       "-999.0"
      ]
     },
     "execution_count": 5,
     "metadata": {},
     "output_type": "execute_result"
    }
   ],
   "source": [
    "manga_vs_nair = np.loadtxt(\"/root/.jupyter/cosmos/code_git/Metallicity-deviation/tmp_storage/manga_vs_nair.dat\")\n",
    "np.min(manga_vs_nair)"
   ]
  },
  {
   "cell_type": "code",
   "execution_count": 40,
   "metadata": {},
   "outputs": [
    {
     "name": "stdout",
     "output_type": "stream",
     "text": [
      "不考虑nair catalog时： \n",
      "已从 manga 4675 个星系中找出  1612  个星系 \n",
      "距论文中的 1222 个星系还差   390 个\n",
      "\n",
      "替换nair_ba之前，b/a平均值 =  0.6989220308384543\n",
      "替换nair_ba之后，b/a平均值 =  0.6912061108969408\n",
      "\n",
      "考虑nair catalog时： \n",
      "已从 manga 4675 个星系中找出  1601  个星系 \n",
      "距论文中的 1222 个星系还差   379 个\n"
     ]
    }
   ],
   "source": [
    "# 开始筛选，在第三列进行判断计数\n",
    "fra_b_over_a[np.where(fra_b_over_a[:,0]<0.7),2] += 1    # fracDeV筛选\n",
    "fra_b_over_a[np.where(fra_b_over_a[:,1]>=0.3),2] += 1    # b/a筛选\n",
    "fra_b_over_a[np.where(glo_mass_id),2] += 1    # 星系总质量筛选\n",
    "fra_b_over_a[sfr_id,2] += 1    # 星系形成区域筛选\n",
    "\n",
    "sel_galaxy = np.where(fra_b_over_a[:,2]==4)    # 四次筛选结果\n",
    "\n",
    "print(\"不考虑nair catalog时：\",\"\\n已从 manga 4675 个星系中找出 \",np.shape(sel_galaxy)[1],\" 个星系\",\"\\n距论文中的 1222 个星系还差  \",np.shape(sel_galaxy)[1]-1222,\"个\")\n",
    "print(\"\\n替换nair_ba之前，b/a平均值 = \",np.mean(fra_b_over_a[:,1]))\n",
    "\n",
    "\n",
    "#########################################################\n",
    "# 第五次筛选：manga与nair匹配的星系中，nair_b/a < manga_b/a\n",
    "\n",
    "# 读取manga vs nair 匹配数组\n",
    "last_same_gal = np.loadtxt(\"/root/.jupyter/cosmos/code_git/Metallicity-deviation/tmp_storage/manga_vs_nair.dat\")\n",
    "# 去重\n",
    "tmp_num_ij = last_same_gal    # 临时存储一下，防止改动\n",
    "tmp_num_ij = tmp_num_ij[np.where(tmp_num_ij[:,0]!=-999)]    # 筛选出未重复的星系编号\n",
    "#tmp_num_ij = tmp_num_ij[np.where(old_same_gal[:,0]==1)]    # 筛选出未重复的星系编号\n",
    "#a,num_last_same_gal = np.unique(last_same_gal[np.where(old_same_gal[:,0]==1),0],return_index=True)    # 第一列sdss数据去重\n",
    "a,last_num = np.unique(tmp_num_ij[:,1],return_index=True)    # 第二列nair数据去重，last_num为最后编号\n",
    "tmp_num_ij = tmp_num_ij[last_num]\n",
    "tmp_num_ij = tmp_num_ij.astype(np.int64)\n",
    "# manga数组编号为tmp_num_ij[:,0]\n",
    "# nair catalog 的b/a为nair_ba\n",
    "nair_ba = new_ra_dec[tmp_num_ij[:,1],2]    #nair catalog 中的b/a\n",
    "# 剔除999999坏数据\n",
    "tmp_num_ij = tmp_num_ij[np.where(nair_ba!=999999)]\n",
    "nair_manga_id = tmp_num_ij    # 最终版的manga_vs_nair\n",
    "nair_ba = nair_ba[np.where(nair_ba!=999999)]    # nair catalog 的 b/a\n",
    "\n",
    "# nair_b/a中较小的值\n",
    "nair_manga_id = nair_manga_id[np.where(nair_ba<=1)]    # 数组位置进行同步筛选\n",
    "nair_ba = nair_ba[np.where(nair_ba<=1)]\n",
    "\n",
    "\n",
    "manga_ba = fra_b_over_a[:,1]    # 原始b/a，数据来源于nsa_v101\n",
    "#manga_id前面已赋值4561个星系，即所在的数组位置信息\n",
    "\n",
    "# for 循环将manga_ba的值替换成nair中b/a较小的值\n",
    "for i in range(0,manga_ba.size):    # 循环nsa\n",
    "    for j in range(0,nair_ba.size):    # 循环nair\n",
    "        if (manga_id[i]==nair_manga_id[j,1])and(manga_ba[i] > nair_ba[j]):\n",
    "            #manga_ba[i] = 0\n",
    "            manga_ba[i] = nair_ba[j]\n",
    "        #if manga_id[i]==nair_manga_id[j,1]:\n",
    "            #fra_b_over_a[i,2]+=1\n",
    "\n",
    "fra_b_over_a[:,1] = manga_ba    # 替换完成\n",
    "fra_b_over_a[np.where(fra_b_over_a[:,1]>=0.3),2] += 1    # 加入nair的b/a之后的筛选\n",
    "sel_galaxy = np.where(fra_b_over_a[:,2]==5)    # 五次筛选结果\n",
    "\n",
    "# ###################################################################\n",
    "# # 第六次筛选：nair_ba>=0.3，匹配星系在nair中小于某一值\n",
    "# # 先尝试0.3，论文中的条件为：中位数0.3，平均数0.31【对于整体14000样本而言】\n",
    "# # 通过循环，逐渐尝试nair_ba<x, 一直到某个x满足上述条件\n",
    "# # 之后再与manga进行匹配，从manga中剔除匹配到的倾斜较大的星系\n",
    "\n",
    "\n",
    "# # 读取manga vs nair 匹配数组\n",
    "# last_same_gal = np.loadtxt(\"/root/.jupyter/cosmos/code_git/Metallicity-deviation/tmp_storage/manga_vs_nair.dat\")\n",
    "# # 去重\n",
    "# tmp_num_ij = last_same_gal    # 临时存储一下，防止改动\n",
    "# tmp_num_ij = tmp_num_ij[np.where(old_same_gal[:,0]==1)]    # 筛选出未重复的星系编号\n",
    "# #a,num_last_same_gal = np.unique(last_same_gal[np.where(old_same_gal[:,0]==1),0],return_index=True)    # 第一列sdss数据去重\n",
    "# a,last_num = np.unique(tmp_num_ij[:,1],return_index=True)    # 第二列nair数据去重，last_num为最后编号\n",
    "# tmp_num_ij = tmp_num_ij[last_num]\n",
    "# tmp_num_ij = tmp_num_ij.astype(np.int64)\n",
    "# # manga数组编号为tmp_num_ij[:,0]\n",
    "# # nair catalog 的b/a为nair_ba\n",
    "# nair_ba = new_ra_dec[tmp_num_ij[:,1],2]    #nair catalog 中的b/a\n",
    "# # 剔除999999坏数据\n",
    "# tmp_num_ij = tmp_num_ij[np.where(nair_ba!=999999)]\n",
    "# nair_manga_id = tmp_num_ij    # 最终版的manga_vs_nair\n",
    "# nair_ba = nair_ba[np.where(nair_ba!=999999)]    # nair catalog 的 b/a\n",
    "\n",
    "# # nair_b/a中较小的值\n",
    "# nair_ba = nair_ba[np.where(nair_ba<1)]\n",
    "# nair_manga_id = nair_manga_id[np.where(nair_ba<1)]    # 数组位置进行同步筛选\n",
    "\n",
    "# manga_ba = fra_b_over_a[:,1]    # 原始b/a，数据来源于nsa_v101\n",
    "# #manga_id前面已赋值4561个星系，即所在的数组位置信息\n",
    "\n",
    "# # for 循环将manga_ba的值替换成nair中b/a较小的值\n",
    "# for i in range(0,manga_ba.size):    # 循环nsa\n",
    "#     for j in range(0,nair_ba.size):    # 循环nair\n",
    "#         if (manga_id[i]==nair_manga_id[j,1])&(manga_ba[i] > nair_ba[j]):\n",
    "#             manga_ba[i] = nair_ba[j]\n",
    "#             #fra_b_over_a[i,2]+=1\n",
    "            \n",
    "\n",
    "            \n",
    "# fra_b_over_a[:,1] = manga_ba    # 替换完成\n",
    "# fra_b_over_a[np.where(fra_b_over_a[:,1]>=0.3),2] += 1    # 加入nair的b/a之后的筛选\n",
    "# sel_galaxy = np.where(fra_b_over_a[:,2]==6)    # 六次筛选结果\n",
    "\n",
    "\n",
    "\n",
    "# # 第七次筛选：通过限定匹配星系在nair中大于某一值\n",
    "# # nair catalog 的b/a为nair_ba\n",
    "# nair_ba = new_ra_dec[tmp_num_ij[:,1],2]    #nair catalog 中的b/a\n",
    "# # 剔除999999坏数据\n",
    "# tmp_num_ij = tmp_num_ij[np.where(nair_ba!=999999)]\n",
    "# nair_manga_id = tmp_num_ij    # 最终版的manga_vs_nair\n",
    "# nair_ba = nair_ba[np.where(nair_ba!=999999)]    # nair catalog 的 b/a\n",
    "\n",
    "# # nair_b/a中较大的值\n",
    "# nair_ba = nair_ba[np.where(nair_ba>0.8)]\n",
    "# nair_manga_id = nair_manga_id[np.where(nair_ba>0.8)]    # 数组位置进行同步筛选\n",
    "\n",
    "# manga_ba = fra_b_over_a[:,1]    # 原始b/a，数据来源于nsa_v101\n",
    "# #manga_id前面已赋值4561个星系，即所在的数组位置信息\n",
    "\n",
    "# # for 循环将manga_ba的值替换成nair中b/a较小的值\n",
    "# for i in range(0,manga_ba.size):    # 循环nsa\n",
    "#     for j in range(0,nair_ba.size):    # 循环nair\n",
    "#         if manga_id[i]==nair_manga_id[j,1]:\n",
    "#             manga_ba[i] = nair_ba[j]\n",
    "#             #fra_b_over_a[i,2]+=1\n",
    "            \n",
    "\n",
    "            \n",
    "# fra_b_over_a[:,1] = manga_ba    # 替换完成\n",
    "# fra_b_over_a[np.where(fra_b_over_a[:,1]>=0.3),2] += 1    # 加入nair的b/a之后的筛选\n",
    "# sel_galaxy = np.where(fra_b_over_a[:,2]==6)    # 七次次筛选结果\n",
    "\n",
    "print(\"替换nair_ba之后，b/a平均值 = \",np.mean(fra_b_over_a[:,1]))\n",
    "print(\"\\n考虑nair catalog时：\",\"\\n已从 manga 4675 个星系中找出 \",np.shape(sel_galaxy)[1],\" 个星系\",\"\\n距论文中的 1222 个星系还差  \",np.shape(sel_galaxy)[1]-1222,\"个\")"
   ]
  },
  {
   "cell_type": "code",
   "execution_count": 21,
   "metadata": {},
   "outputs": [
    {
     "name": "stdout",
     "output_type": "stream",
     "text": [
      "(4561,)\n",
      "0.0\n"
     ]
    },
    {
     "ename": "IndexError",
     "evalue": "too many indices for array",
     "output_type": "error",
     "traceback": [
      "\u001b[0;31m---------------------------------------------------------------------------\u001b[0m",
      "\u001b[0;31mIndexError\u001b[0m                                Traceback (most recent call last)",
      "\u001b[0;32m<ipython-input-21-a907bc01dfde>\u001b[0m in \u001b[0;36m<module>\u001b[0;34m\u001b[0m\n\u001b[1;32m      4\u001b[0m \u001b[0mprint\u001b[0m\u001b[0;34m(\u001b[0m\u001b[0mlast_same_gal\u001b[0m\u001b[0;34m.\u001b[0m\u001b[0mshape\u001b[0m\u001b[0;34m)\u001b[0m\u001b[0;34m\u001b[0m\u001b[0;34m\u001b[0m\u001b[0m\n\u001b[1;32m      5\u001b[0m \u001b[0mprint\u001b[0m\u001b[0;34m(\u001b[0m\u001b[0mnp\u001b[0m\u001b[0;34m.\u001b[0m\u001b[0mmin\u001b[0m\u001b[0;34m(\u001b[0m\u001b[0mlast_same_gal\u001b[0m\u001b[0;34m)\u001b[0m\u001b[0;34m)\u001b[0m\u001b[0;34m\u001b[0m\u001b[0;34m\u001b[0m\u001b[0m\n\u001b[0;32m----> 6\u001b[0;31m \u001b[0mprint\u001b[0m\u001b[0;34m(\u001b[0m\u001b[0mnp\u001b[0m\u001b[0;34m.\u001b[0m\u001b[0mmax\u001b[0m\u001b[0;34m(\u001b[0m\u001b[0mlast_same_gal\u001b[0m\u001b[0;34m[\u001b[0m\u001b[0;34m:\u001b[0m\u001b[0;34m,\u001b[0m\u001b[0;36m0\u001b[0m\u001b[0;34m]\u001b[0m\u001b[0;34m)\u001b[0m\u001b[0;34m)\u001b[0m\u001b[0;34m\u001b[0m\u001b[0;34m\u001b[0m\u001b[0m\n\u001b[0m\u001b[1;32m      7\u001b[0m \u001b[0mprint\u001b[0m\u001b[0;34m(\u001b[0m\u001b[0mnp\u001b[0m\u001b[0;34m.\u001b[0m\u001b[0mmax\u001b[0m\u001b[0;34m(\u001b[0m\u001b[0mlast_same_gal\u001b[0m\u001b[0;34m[\u001b[0m\u001b[0;34m:\u001b[0m\u001b[0;34m,\u001b[0m\u001b[0;36m1\u001b[0m\u001b[0;34m]\u001b[0m\u001b[0;34m)\u001b[0m\u001b[0;34m)\u001b[0m\u001b[0;34m\u001b[0m\u001b[0;34m\u001b[0m\u001b[0m\n\u001b[1;32m      8\u001b[0m \u001b[0mprint\u001b[0m\u001b[0;34m(\u001b[0m\u001b[0mnp\u001b[0m\u001b[0;34m.\u001b[0m\u001b[0mshape\u001b[0m\u001b[0;34m(\u001b[0m\u001b[0mnp\u001b[0m\u001b[0;34m.\u001b[0m\u001b[0mwhere\u001b[0m\u001b[0;34m(\u001b[0m\u001b[0mlast_same_gal\u001b[0m\u001b[0;34m[\u001b[0m\u001b[0;34m:\u001b[0m\u001b[0;34m,\u001b[0m\u001b[0;36m0\u001b[0m\u001b[0;34m]\u001b[0m\u001b[0;34m==\u001b[0m\u001b[0;34m-\u001b[0m\u001b[0;36m999\u001b[0m\u001b[0;34m)\u001b[0m\u001b[0;34m)\u001b[0m\u001b[0;34m)\u001b[0m\u001b[0;34m\u001b[0m\u001b[0;34m\u001b[0m\u001b[0m\n",
      "\u001b[0;31mIndexError\u001b[0m: too many indices for array"
     ]
    }
   ],
   "source": [
    "last_same_gal = np.loadtxt(\"/root/.jupyter/cosmos/code_git/Metallicity-deviation/tmp_storage/manga_vs_nair.dat\")\n",
    "\n",
    "last_same_gal = plfu_sfr[:,2]\n",
    "print(last_same_gal.shape)\n",
    "print(np.min(last_same_gal))\n",
    "print(np.max(last_same_gal[:,0]))\n",
    "print(np.max(last_same_gal[:,1]))\n",
    "print(np.shape(np.where(last_same_gal[:,0]==-999)))\n",
    "print(np.shape(np.where(last_same_gal[:,1]==-999)))"
   ]
  },
  {
   "cell_type": "code",
   "execution_count": 28,
   "metadata": {},
   "outputs": [
    {
     "data": {
      "text/plain": [
       "array([[ 8486.,  9101.,   182.],\n",
       "       [ 8601.,  3702.,     0.],\n",
       "       [ 8319., 12701.,     0.],\n",
       "       [ 8933.,  6104.,     0.],\n",
       "       [ 8154., 12705.,  1308.]])"
      ]
     },
     "execution_count": 28,
     "metadata": {},
     "output_type": "execute_result"
    }
   ],
   "source": [
    "plfu_sfr = np.loadtxt(\"/root/.jupyter/cosmos/code_git/Metallicity-deviation/plfu_sfr_spaxel.dat\")\n",
    "plfu_sfr[55:60]"
   ]
  }
 ],
 "metadata": {
  "kernelspec": {
   "display_name": "Python 3",
   "language": "python",
   "name": "python3"
  },
  "language_info": {
   "codemirror_mode": {
    "name": "ipython",
    "version": 3
   },
   "file_extension": ".py",
   "mimetype": "text/x-python",
   "name": "python",
   "nbconvert_exporter": "python",
   "pygments_lexer": "ipython3",
   "version": "3.7.3"
  },
  "latex_envs": {
   "LaTeX_envs_menu_present": true,
   "autoclose": false,
   "autocomplete": true,
   "bibliofile": "biblio.bib",
   "cite_by": "apalike",
   "current_citInitial": 1,
   "eqLabelWithNumbers": true,
   "eqNumInitial": 1,
   "hotkeys": {
    "equation": "Ctrl-E",
    "itemize": "Ctrl-I"
   },
   "labels_anchors": false,
   "latex_user_defs": false,
   "report_style_numbering": false,
   "user_envs_cfg": false
  },
  "toc": {
   "base_numbering": 1,
   "nav_menu": {},
   "number_sections": true,
   "sideBar": true,
   "skip_h1_title": false,
   "title_cell": "Table of Contents",
   "title_sidebar": "Contents",
   "toc_cell": false,
   "toc_position": {},
   "toc_section_display": true,
   "toc_window_display": true
  }
 },
 "nbformat": 4,
 "nbformat_minor": 2
}
