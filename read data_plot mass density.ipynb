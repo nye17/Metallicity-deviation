{
 "cells": [
  {
   "cell_type": "markdown",
   "metadata": {},
   "source": [
    "##  view the infomation of fits file we use"
   ]
  },
  {
   "cell_type": "code",
   "execution_count": 1,
   "metadata": {},
   "outputs": [
    {
     "name": "stdout",
     "output_type": "stream",
     "text": [
      "Filename: /root/cosmos/galaxies-mzr/data/manga_firefly-v2_4_3-STELLARPOP.fits\n",
      "No.    Name      Ver    Type      Cards   Dimensions   Format\n",
      "  0  PRIMARY       1 PrimaryHDU       4   ()      \n",
      "  1  GALAXY_INFO    1 BinTableHDU     31   4675R x 11C   [20A, 20A, I, 20A, E, E, E, E, 20A, 20A, 20A]   \n",
      "  2  GLOBAL_PARAMETERS    1 BinTableHDU     41   4675R x 16C   [E, E, E, E, E, E, E, E, E, E, E, E, E, E, E, E]   \n",
      "  3  GRADIENT_PARAMETERS    1 BinTableHDU     41   4675R x 16C   [E, E, E, E, E, E, E, E, E, E, E, E, E, E, E, E]   \n",
      "  4  SPATIAL_INFO    1 ImageHDU         9   (4, 2800, 4675)   float32   \n",
      "  5  SPATIAL_BINID    1 ImageHDU         9   (76, 76, 4675)   int16   \n",
      "  6  LW_AGE_VORONOI    1 ImageHDU         9   (2, 2800, 4675)   float32   \n",
      "  7  MW_AGE_VORONOI    1 ImageHDU         9   (2, 2800, 4675)   float32   \n",
      "  8  LW_Z_VORONOI    1 ImageHDU         9   (2, 2800, 4675)   float32   \n",
      "  9  MW_Z_VORONOI    1 ImageHDU         9   (2, 2800, 4675)   float32   \n",
      " 10  E(B_V)_VORONOI    1 ImageHDU         8   (2800, 4675)   float32   \n",
      " 11  STELLAR_MASS_VORONOI    1 ImageHDU         9   (2, 2800, 4675)   float32   \n",
      " 12  STELLAR_MASS_REMNANT    1 ImageHDU         9   (4, 2800, 4675)   float32   \n",
      " 13  SURFACE_MASS_DENSITY_VORONOI    1 ImageHDU         9   (2, 2800, 4675)   float32   \n",
      " 14  STAR_FORMATION_HISTORY    1 ImageHDU        10   (3, 8, 2800, 4675)   float32   \n",
      " 15  SIGNAL_NOISE_VORONOI    1 ImageHDU         8   (2800, 4675)   float32   \n"
     ]
    }
   ],
   "source": [
    "from astropy.io import fits\n",
    "\n",
    "vac0 = fits.open('/root/cosmos/galaxies-mzr/data/manga_firefly-v2_4_3-STELLARPOP.fits') \n",
    "vac0.info()    # 查看fits文件信息"
   ]
  },
  {
   "cell_type": "markdown",
   "metadata": {},
   "source": [
    "> ##  1. read data from the file    \n",
    "> ##  2. calculate the metallicity using the formula from the paper   \n",
    "> ##  3. use Marvin to calculate the mask   \n",
    "> ##  4. plot the unmasked surface mass density   \n",
    "> ##  5. plot the masked surface mass density   \n",
    "> ## PS. only need to change the parameter of the plate_ifu and prop"
   ]
  },
  {
   "cell_type": "code",
   "execution_count": 2,
   "metadata": {},
   "outputs": [
    {
     "name": "stderr",
     "output_type": "stream",
     "text": [
      "WARNING: Could not memory map array with mode='readonly', falling back to mode='denywrite', which means that the array will be read-only [astropy.io.fits.file]\n"
     ]
    },
    {
     "name": "stdout",
     "output_type": "stream",
     "text": [
      "INFO: No release version set. Setting default to DR15\n"
     ]
    },
    {
     "name": "stderr",
     "output_type": "stream",
     "text": [
      "/root/anaconda3/lib/python3.7/site-packages/marvin/tools/quantities/map.py:400: RuntimeWarning: divide by zero encountered in true_divide\n",
      "  return 1. / ((1. / ivar1 + 1. / ivar2))\n",
      "/root/anaconda3/lib/python3.7/site-packages/marvin/tools/quantities/map.py:424: RuntimeWarning: divide by zero encountered in power\n",
      "  return np.log10(np.e) * ivar**-0.5 / value\n"
     ]
    },
    {
     "data": {
      "text/plain": [
       "<Figure size 850x1000 with 8 Axes>"
      ]
     },
     "metadata": {},
     "output_type": "display_data"
    }
   ],
   "source": [
    "import numpy as np\n",
    "import matplotlib as mpl\n",
    "import matplotlib.pyplot as plt\n",
    "from astropy.io import fits\n",
    "import copy\n",
    "\n",
    "#read in the vac file\n",
    "vac0 = fits.open('/root/cosmos/galaxies-mzr/data/manga_firefly-v2_4_3-STELLARPOP.fits') \n",
    "vac = copy.copy(vac0)    # 去除只读属性\n",
    "\n",
    "#plate and ifu ID of the galaxy\n",
    "# such as 9883-3701\n",
    "plate = 9883\n",
    "ifu = 3701\n",
    "\n",
    "#choose the quantity to make the map, could be changed to other properties for which the extension names are listed in the data model  \n",
    "prop = 'SURFACE_MASS_DENSITY_VORONOI'    # property 特性，根据上面的info来填写即可\n",
    "#SURFACE_MASS_DENSITY_VORONOI\n",
    "\n",
    "binid = vac[5].data\n",
    "basic = vac[1].data\n",
    "galid = (basic['plate']==plate)&(basic['ifudsgn']==str(ifu))    # 星系编号 galaxy ID\n",
    "mass = vac[prop].data[galid,:,0][0]    # 获取质量密度数据\n",
    "bin1d = vac[4].data[galid,:,0][0]    # 获取一维的bin数据\n",
    "\n",
    "# 导入Marvin的mask\n",
    "import numpy as np\n",
    "from matplotlib.colors import ListedColormap\n",
    "from marvin.tools import Maps\n",
    "import marvin.utils.plot.map as mapplot\n",
    "\n",
    "# 获取数据\n",
    "new_maps = Maps(''.join([str(plate),'-',str(ifu)]))    # 通过Marvin导入星系数据\n",
    "ha = new_maps.emline_gflux_ha_6564    # 获取Hα\n",
    "nii = new_maps.emline_gflux_nii_6585    # 获取Nii\n",
    "oii7 = new_maps.emline_gflux_oii_3727    # 获取O\n",
    "oii9 = new_maps.emline_gflux_oii_3729    # 获取O\n",
    "\n",
    "# 计算金属丰度\n",
    "RR = (oii7+oii9) / nii    # Oii/Nii\n",
    "# 论文中的关系式【LJ Kewley, MA Dopita 2002】【https://arxiv.org/pdf/astro-ph/0206495】\n",
    "logRR = np.log10(1.26602*RR+0.167977*RR*RR+1.54020)\n",
    "oh =  logRR + 8.93\n",
    "# 计算mask\n",
    "masks_bpt, __, __ = new_maps.get_bpt()    # 使用bpt图筛选star-forming区域\n",
    "masks_bpt['sf']['global']\n",
    "#RR.pixmask.schema    # 查看mask的种类列表\n",
    "mask_non_sf = ~masks_bpt['sf']['global'] * RR.pixmask.labels_to_value('DONOTUSE')\n",
    "mask_bad_data = RR.pixmask.get_mask(['NOCOV', 'UNRELIABLE', 'DONOTUSE'])\n",
    "min_snr = 3.\n",
    "mask_nii_low_snr = (np.abs(nii.value * np.sqrt(nii.ivar)) < min_snr)\n",
    "mask_oii7_low_snr = (np.abs(ha.value * np.sqrt(oii7.ivar)) < min_snr)\n",
    "mask_oii9_low_snr = (np.abs(ha.value * np.sqrt(oii9.ivar)) < min_snr)\n",
    "new_mask = mask_non_sf | mask_bad_data | mask_nii_low_snr | mask_oii7_low_snr | mask_oii9_low_snr\n"
   ]
  },
  {
   "cell_type": "code",
   "execution_count": 3,
   "metadata": {},
   "outputs": [
    {
     "data": {
      "image/png": "[encoded data removed]",
      "text/plain": [
       "<Figure size 432x288 with 2 Axes>"
      ]
     },
     "metadata": {
      "needs_background": "light"
     },
     "output_type": "display_data"
    }
   ],
   "source": [
    "# 画图\n",
    "image_sz = np.shape(new_mask)[0]    # 图像边长\n",
    "maps = np.zeros((image_sz,image_sz))-9999    # 初始化画图数组\n",
    "for i in range(image_sz):\n",
    "    for j in range(image_sz):\n",
    "        idbin = (bin1d==binid[galid,i,j])    # 搜索二维bin的值在一维bin数组中的 位置\n",
    "        if len(bin1d[idbin])==1:    # 挑选出 一维2800的bin和二维76*76的bin相同的数值\n",
    "            maps[i,j] = mass[idbin]\n",
    "\n",
    "# 加mask\n",
    "masked_array = np.ma.array(maps,mask=new_mask)\n",
    "\n",
    "fig, ax = plt.subplots()\n",
    "p = ax.imshow(masked_array , origin='lower',vmin=5.5,vmax=8.5)\n",
    "ax.set_xlabel('spaxel',fontsize=16)\n",
    "ax.set_ylabel('spaxel',fontsize=16)\n",
    "cb = fig.colorbar(p)\n",
    "cb.set_label(prop[0:len(prop)-8],fontsize=18,labelpad=10)\n",
    "#plt.xlim((0,53))    # x轴坐标范围\n",
    "#plt.ylim((0,53))    # y轴坐标范围"
   ]
  },
  {
   "cell_type": "code",
   "execution_count": 4,
   "metadata": {},
   "outputs": [
    {
     "data": {
      "image/png": "[encoded data removed]",
      "text/plain": [
       "<Figure size 432x288 with 2 Axes>"
      ]
     },
     "metadata": {
      "needs_background": "light"
     },
     "output_type": "display_data"
    }
   ],
   "source": [
    "# 不加mask,只去除无效数据\n",
    "masked_array = np.ma.array(maps,mask=(maps<-666))\n",
    "\n",
    "fig, ax = plt.subplots()\n",
    "p = ax.imshow(masked_array , origin='lower',vmin=5.5,vmax=8.5)\n",
    "ax.set_xlabel('spaxel',fontsize=16)\n",
    "ax.set_ylabel('spaxel',fontsize=16)\n",
    "cb = fig.colorbar(p)\n",
    "cb.set_label(prop[0:len(prop)-8],fontsize=18,labelpad=10)\n",
    "#plt.xlim((0,53))    # x轴坐标范围\n",
    "#plt.ylim((0,53))    # y轴坐标范围"
   ]
  },
  {
   "cell_type": "code",
   "execution_count": null,
   "metadata": {},
   "outputs": [],
   "source": []
  }
 ],
 "metadata": {
  "kernelspec": {
   "display_name": "Python 3",
   "language": "python",
   "name": "python3"
  },
  "language_info": {
   "codemirror_mode": {
    "name": "ipython",
    "version": 3
   },
   "file_extension": ".py",
   "mimetype": "text/x-python",
   "name": "python",
   "nbconvert_exporter": "python",
   "pygments_lexer": "ipython3",
   "version": "3.7.1"
  }
 },
 "nbformat": 4,
 "nbformat_minor": 2
}
